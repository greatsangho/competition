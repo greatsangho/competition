{
 "cells": [
  {
   "cell_type": "markdown",
   "metadata": {},
   "source": [
    "# 암환자 유전체 데이터 기반 암종 분류 AI 모델 개발\n",
    "\n",
    "\n",
    "- '2024 생명연구자원 AI활용 경진대회'는 바이오 데이터를 기반으로 한 AI 기술의 문제 해결 능력을 탐구하는 것을 목표로 합니다. <br>이 대회는 바이오 분야에서 AI 활용의 저변을 확대하고, 복잡한 바이오 데이터를 효율적으로 분석 및 해석할 수 있는 AI 알고리즘 개발에 초점을 맞추고 있습니다. <br><br>\n",
    "- 본 대회의 구체적인 과제는 암환자 유전체 데이터의 변이 정보를 활용하여 암종을 분류하는 AI 모델을 개발하는 것입니다. <br>참가자들은 제공된 학습 데이터셋(암환자 유전체 변이 정보)을 사용하여 특정 변이 정보를 바탕으로 암종을 정확하게 분류할 수 있는 AI 알고리즘을 개발해야 합니다. <br><br>\n",
    "- 이 대회의 궁극적인 목적은 바이오 데이터의 활용도를 높이고, 바이오 분야에서 AI 기술의 적용 가능성을 극대화하며, 인공지능 기술이 실제 바이오 의료 문제 해결에 어떻게 기여할 수 있는지 탐구하는 것입니다."
   ]
  },
  {
   "cell_type": "markdown",
   "metadata": {},
   "source": [
    "# Import library"
   ]
  },
  {
   "cell_type": "code",
   "execution_count": 3,
   "metadata": {},
   "outputs": [],
   "source": [
    "import pandas as pd\n",
    "from sklearn.preprocessing import LabelEncoder, OrdinalEncoder\n",
    "import xgboost as xgb"
   ]
  },
  {
   "cell_type": "markdown",
   "metadata": {},
   "source": [
    "# Load Data"
   ]
  },
  {
   "cell_type": "code",
   "execution_count": 4,
   "metadata": {},
   "outputs": [],
   "source": [
    "train = pd.read_csv(r\"C:\\Users\\USER\\python\\데이콘\\train.csv\")\n",
    "test = pd.read_csv(r\"C:\\Users\\USER\\python\\데이콘\\test.csv\")"
   ]
  },
  {
   "cell_type": "markdown",
   "metadata": {},
   "source": [
    "# Data Preprocessing"
   ]
  },
  {
   "cell_type": "code",
   "execution_count": 5,
   "metadata": {},
   "outputs": [
    {
     "name": "stdout",
     "output_type": "stream",
     "text": [
      "원래 레이블: ACC, 변환된 숫자: 0\n",
      "원래 레이블: BLCA, 변환된 숫자: 1\n",
      "원래 레이블: BRCA, 변환된 숫자: 2\n",
      "원래 레이블: CESC, 변환된 숫자: 3\n",
      "원래 레이블: COAD, 변환된 숫자: 4\n",
      "원래 레이블: DLBC, 변환된 숫자: 5\n",
      "원래 레이블: GBMLGG, 변환된 숫자: 6\n",
      "원래 레이블: HNSC, 변환된 숫자: 7\n",
      "원래 레이블: KIPAN, 변환된 숫자: 8\n",
      "원래 레이블: KIRC, 변환된 숫자: 9\n",
      "원래 레이블: LAML, 변환된 숫자: 10\n",
      "원래 레이블: LGG, 변환된 숫자: 11\n",
      "원래 레이블: LIHC, 변환된 숫자: 12\n",
      "원래 레이블: LUAD, 변환된 숫자: 13\n",
      "원래 레이블: LUSC, 변환된 숫자: 14\n",
      "원래 레이블: OV, 변환된 숫자: 15\n",
      "원래 레이블: PAAD, 변환된 숫자: 16\n",
      "원래 레이블: PCPG, 변환된 숫자: 17\n",
      "원래 레이블: PRAD, 변환된 숫자: 18\n",
      "원래 레이블: SARC, 변환된 숫자: 19\n",
      "원래 레이블: SKCM, 변환된 숫자: 20\n",
      "원래 레이블: STES, 변환된 숫자: 21\n",
      "원래 레이블: TGCT, 변환된 숫자: 22\n",
      "원래 레이블: THCA, 변환된 숫자: 23\n",
      "원래 레이블: THYM, 변환된 숫자: 24\n",
      "원래 레이블: UCEC, 변환된 숫자: 25\n"
     ]
    }
   ],
   "source": [
    "# SUBCLASS 가 범주형이기 때문에 LabelEncoder 사용\n",
    "le_subclass = LabelEncoder()\n",
    "train['SUBCLASS'] = le_subclass.fit_transform(train['SUBCLASS'])\n",
    "\n",
    "# 변환된 레이블 확인\n",
    "for i, label in enumerate(le_subclass.classes_):\n",
    "    print(f\"원래 레이블: {label}, 변환된 숫자: {i}\")"
   ]
  },
  {
   "cell_type": "code",
   "execution_count": null,
   "metadata": {},
   "outputs": [],
   "source": []
  },
  {
   "cell_type": "code",
   "execution_count": 6,
   "metadata": {},
   "outputs": [],
   "source": [
    "import pandas as pd\n",
    "import re\n",
    "\n",
    "# 아미노산 코드와 그들의 성질을 매핑\n",
    "amino_acid_properties = {\n",
    "    'A': 'nonpolar',    # Alanine\n",
    "    'R': 'positive',    # Arginine\n",
    "    'N': 'polar',       # Asparagine\n",
    "    'D': 'negative',    # Aspartic Acid\n",
    "    'C': 'polar',       # Cysteine\n",
    "    'Q': 'polar',       # Glutamine\n",
    "    'E': 'negative',    # Glutamic Acid\n",
    "    'G': 'nonpolar',    # Glycine\n",
    "    'H': 'positive',    # Histidine\n",
    "    'I': 'nonpolar',    # Isoleucine\n",
    "    'L': 'nonpolar',    # Leucine\n",
    "    'K': 'positive',    # Lysine\n",
    "    'M': 'nonpolar',    # Methionine\n",
    "    'F': 'aromatic',    # Phenylalanine\n",
    "    'P': 'nonpolar',    # Proline\n",
    "    'S': 'polar',       # Serine\n",
    "    'T': 'polar',       # Threonine\n",
    "    'W': 'aromatic',    # Tryptophan\n",
    "    'Y': 'aromatic',    # Tyrosine\n",
    "    'V': 'nonpolar',    # Valine\n",
    "}\n",
    "\n",
    "# 변이 유형을 분류하는 함수 정의\n",
    "def classify_mutation(mutation):\n",
    "    # 결측치 처리\n",
    "    if pd.isnull(mutation):\n",
    "        return None  # 또는 특정 코드로 지정 가능\n",
    "\n",
    "    mutation = str(mutation).strip()\n",
    "\n",
    "    # WT 체크\n",
    "    if mutation == 'WT':\n",
    "        return 0  # WT (Wild Type)\n",
    "\n",
    "    # 프레임시프트 돌연변이 체크 ('fs' 포함)\n",
    "    if 'fs' in mutation:\n",
    "        return 5  # 프레임시프트 돌연변이\n",
    "\n",
    "    # 중단 돌연변이 체크 ('*' 포함)\n",
    "    if '*' in mutation:\n",
    "        return 4  # 중단 돌연변이\n",
    "\n",
    "    # 돌연변이 패턴 매칭 (예: 'R496Q', 'L1700L')\n",
    "    match = re.match(r'^([A-Z])(\\d+)([A-Z])$', mutation)\n",
    "    if match:\n",
    "        from_aa = match.group(1)  # 원래 아미노산\n",
    "        position = match.group(2) # 위치 (사용하지 않음)\n",
    "        to_aa = match.group(3)    # 변이된 아미노산\n",
    "\n",
    "        # 침묵 돌연변이 체크 (아미노산이 동일한 경우)\n",
    "        if from_aa == to_aa:\n",
    "            return 1  # 침묵 돌연변이\n",
    "\n",
    "        # 아미노산 성질 가져오기\n",
    "        from_property = amino_acid_properties.get(from_aa)\n",
    "        to_property = amino_acid_properties.get(to_aa)\n",
    "\n",
    "        # 아미노산 코드가 유효한지 확인\n",
    "        if from_property is None or to_property is None:\n",
    "            return 6  # 알 수 없는 아미노산 코드\n",
    "\n",
    "        # 보존적 돌연변이 체크 (아미노산 성질이 동일한 경우)\n",
    "        if from_property == to_property:\n",
    "            return 2  # 보존적 돌연변이\n",
    "        else:\n",
    "            return 3  # 비보존적 돌연변이\n",
    "    else:\n",
    "        # 패턴 매칭 실패한 경우\n",
    "        return 6  # 매칭 실패한 경우 6 반환\n",
    "\n",
    "# 다중 치환을 처리하는 함수 정의\n",
    "def classify_multiple_mutations(mutation_string):\n",
    "    # 결측치 처리\n",
    "    if pd.isnull(mutation_string):\n",
    "        return None  # 또는 특정 코드로 지정 가능\n",
    "\n",
    "    # 변이 문자열을 공백으로 분리\n",
    "    mutations = str(mutation_string).strip().split()\n",
    "\n",
    "    labels = []\n",
    "    for mutation in mutations:\n",
    "        label = classify_mutation(mutation)\n",
    "        if label is not None:\n",
    "            labels.append(label)\n",
    "    if labels:\n",
    "        # 가장 높은 값을 반환\n",
    "        return max(labels)\n",
    "    else:\n",
    "        return None  # 또는 특정 코드로 지정 가능\n"
   ]
  },
  {
   "cell_type": "code",
   "execution_count": null,
   "metadata": {},
   "outputs": [],
   "source": []
  },
  {
   "cell_type": "code",
   "execution_count": 7,
   "metadata": {},
   "outputs": [
    {
     "name": "stdout",
     "output_type": "stream",
     "text": [
      "           ID  SUBCLASS  A2M  AAAS  AADAT  AARS1  ABAT  ABCA1  ABCA2  ABCA3  \\\n",
      "0  TRAIN_0000         8    0     0      0      0     0      0      0      0   \n",
      "1  TRAIN_0001        19    0     0      0      0     0      0      0      0   \n",
      "2  TRAIN_0002        20    1     0      0      0     0      0      0      0   \n",
      "3  TRAIN_0003         9    0     0      0      0     0      0      0      0   \n",
      "4  TRAIN_0004         6    0     0      0      0     0      0      0      0   \n",
      "\n",
      "   ...  ZNF292  ZNF365  ZNF639  ZNF707  ZNFX1  ZNRF4  ZPBP  ZW10  ZWINT  ZYX  \n",
      "0  ...       0       0       0       0      0      0     0     0      0    0  \n",
      "1  ...       0       0       0       0      0      0     0     0      0    0  \n",
      "2  ...       0       0       0       0      0      0     0     0      0    0  \n",
      "3  ...       0       0       0       0      0      0     0     0      0    0  \n",
      "4  ...       0       0       0       0      0      0     0     0      0    0  \n",
      "\n",
      "[5 rows x 4386 columns]\n"
     ]
    }
   ],
   "source": [
    "# 제외할 열 목록 (예시로 'ID'와 'SUBCLASS'를 제외)\n",
    "exclude_cols = ['ID', 'SUBCLASS']\n",
    "\n",
    "# 변이 데이터가 있는 열 목록\n",
    "mutation_cols = [col for col in train.columns if col not in exclude_cols]\n",
    "\n",
    "# 각 열에 함수 적용\n",
    "for col in mutation_cols:\n",
    "    train[col] = train[col].apply(classify_multiple_mutations)\n",
    "\n",
    "# 결과 출력 (일부 열만 표시)\n",
    "print(train.head())"
   ]
  },
  {
   "cell_type": "code",
   "execution_count": 9,
   "metadata": {},
   "outputs": [
    {
     "name": "stdout",
     "output_type": "stream",
     "text": [
      "            ID  SUBCLASS  A2M  AAAS  AADAT  AARS1  ABAT  ABCA1  ABCA2  ABCA3  \\\n",
      "0   TRAIN_0000         8    0     0      0      0     0      0      0      0   \n",
      "1   TRAIN_0001        19    0     0      0      0     0      0      0      0   \n",
      "2   TRAIN_0002        20    1     0      0      0     0      0      0      0   \n",
      "3   TRAIN_0003         9    0     0      0      0     0      0      0      0   \n",
      "4   TRAIN_0004         6    0     0      0      0     0      0      0      0   \n",
      "5   TRAIN_0005        21    0     0      2      0     0      0      0      0   \n",
      "6   TRAIN_0006         2    0     0      0      0     0      0      0      0   \n",
      "7   TRAIN_0007        23    0     0      0      0     0      0      0      0   \n",
      "8   TRAIN_0008        12    0     0      0      0     0      0      0      0   \n",
      "9   TRAIN_0009        21    0     0      0      0     0      0      0      0   \n",
      "10  TRAIN_0010        21    0     0      0      0     0      0      0      0   \n",
      "11  TRAIN_0011         7    0     0      0      0     0      0      0      0   \n",
      "12  TRAIN_0012         9    0     0      0      0     0      0      0      0   \n",
      "13  TRAIN_0013        16    0     0      0      0     0      0      0      0   \n",
      "14  TRAIN_0014        20    0     0      0      0     0      3      0      0   \n",
      "15  TRAIN_0015        15    0     0      0      0     0      0      0      0   \n",
      "16  TRAIN_0016         8    0     0      0      0     0      0      0      0   \n",
      "17  TRAIN_0017         8    0     0      0      0     0      0      0      0   \n",
      "18  TRAIN_0018         2    0     0      0      0     0      0      0      0   \n",
      "\n",
      "    ...  ZNF292  ZNF365  ZNF639  ZNF707  ZNFX1  ZNRF4  ZPBP  ZW10  ZWINT  ZYX  \n",
      "0   ...       0       0       0       0      0      0     0     0      0    0  \n",
      "1   ...       0       0       0       0      0      0     0     0      0    0  \n",
      "2   ...       0       0       0       0      0      0     0     0      0    0  \n",
      "3   ...       0       0       0       0      0      0     0     0      0    0  \n",
      "4   ...       0       0       0       0      0      0     0     0      0    0  \n",
      "5   ...       0       0       0       1      0      0     0     0      0    0  \n",
      "6   ...       0       0       0       0      0      0     0     0      0    0  \n",
      "7   ...       0       0       0       0      0      0     0     0      0    0  \n",
      "8   ...       0       0       0       0      0      0     0     0      0    0  \n",
      "9   ...       0       0       0       0      0      0     0     0      0    0  \n",
      "10  ...       0       0       0       0      0      0     0     0      0    0  \n",
      "11  ...       0       0       0       0      3      1     0     0      0    0  \n",
      "12  ...       0       0       0       0      5      0     0     0      0    0  \n",
      "13  ...       0       0       0       0      0      0     0     0      0    0  \n",
      "14  ...       0       0       0       0      0      0     0     0      0    0  \n",
      "15  ...       0       0       0       0      0      0     0     0      0    0  \n",
      "16  ...       0       0       0       0      0      0     0     0      0    0  \n",
      "17  ...       0       0       0       0      0      0     0     0      0    0  \n",
      "18  ...       0       0       0       0      0      0     0     0      0    0  \n",
      "\n",
      "[19 rows x 4386 columns]\n"
     ]
    }
   ],
   "source": [
    "print(train.head(19))"
   ]
  },
  {
   "cell_type": "code",
   "execution_count": 10,
   "metadata": {},
   "outputs": [
    {
     "name": "stdout",
     "output_type": "stream",
     "text": [
      "          ID  A2M  AAAS  AADAT  AARS1  ABAT  ABCA1  ABCA2  ABCA3  ABCA4  ...  \\\n",
      "0  TEST_0000    0     0      0      0     0      0      0      0      0  ...   \n",
      "1  TEST_0001    0     0      0      0     0      3      0      0      0  ...   \n",
      "2  TEST_0002    0     0      0      0     0      0      0      0      0  ...   \n",
      "3  TEST_0003    0     0      0      0     0      0      0      0      0  ...   \n",
      "4  TEST_0004    0     0      0      0     0      0      0      0      0  ...   \n",
      "\n",
      "   ZNF292  ZNF365  ZNF639  ZNF707  ZNFX1  ZNRF4  ZPBP  ZW10  ZWINT  ZYX  \n",
      "0       0       0       0       0      0      0     0     0      0    0  \n",
      "1       0       0       0       0      0      5     0     0      0    0  \n",
      "2       0       0       0       0      0      0     0     0      0    0  \n",
      "3       0       0       0       0      0      0     0     0      0    0  \n",
      "4       0       0       0       0      0      0     0     0      0    0  \n",
      "\n",
      "[5 rows x 4385 columns]\n"
     ]
    }
   ],
   "source": [
    "# 제외할 열 목록 (예시로 'ID'와 'SUBCLASS'를 제외)\n",
    "exclude_cols = ['ID', 'SUBCLASS']\n",
    "\n",
    "# 변이 데이터가 있는 열 목록\n",
    "mutation_cols = [col for col in train.columns if col not in exclude_cols]\n",
    "\n",
    "# 각 열에 함수 적용\n",
    "for col in mutation_cols:\n",
    "    test[col] = test[col].apply(classify_multiple_mutations)\n",
    "\n",
    "# 결과 출력 (일부 열만 표시)\n",
    "print(test.head())"
   ]
  },
  {
   "cell_type": "markdown",
   "metadata": {},
   "source": [
    "# Model Define and Train"
   ]
  },
  {
   "cell_type": "code",
   "execution_count": 18,
   "metadata": {},
   "outputs": [
    {
     "name": "stderr",
     "output_type": "stream",
     "text": [
      "c:\\Users\\USER\\miniconda3\\envs\\machine\\Lib\\site-packages\\xgboost\\core.py:158: UserWarning: [18:19:55] WARNING: C:\\buildkite-agent\\builds\\buildkite-windows-cpu-autoscaling-group-i-0015a694724fa8361-1\\xgboost\\xgboost-ci-windows\\src\\learner.cc:740: \n",
      "Parameters: { \"use_label_encoder\" } are not used.\n",
      "\n",
      "  warnings.warn(smsg, UserWarning)\n"
     ]
    },
    {
     "name": "stdout",
     "output_type": "stream",
     "text": [
      "Train Accuracy: 81.83%\n",
      "Test Accuracy: 33.12%\n"
     ]
    }
   ],
   "source": [
    "import pandas as pd\n",
    "from sklearn.model_selection import train_test_split\n",
    "from sklearn.metrics import accuracy_score\n",
    "import xgboost as xgb\n",
    "\n",
    "# 1. 데이터 준비\n",
    "# 타겟: 'SUBCLASS', 특징: 'SUBCLASS'와 'ID'를 제외한 나머지 열\n",
    "X = train.drop(columns=['SUBCLASS', 'ID'])  # 특징 데이터 (SUBCLASS를 제외한 모든 열)\n",
    "y = train['SUBCLASS']  # 타겟 데이터 (SUBCLASS)\n",
    "\n",
    "# 2. 학습 세트와 테스트 세트로 데이터 나누기\n",
    "X_train, X_test, y_train, y_test = train_test_split(X, y, test_size=0.2, stratify=y, random_state=42)\n",
    "\n",
    "# 3. XGBoost 모델 생성\n",
    "model = xgb.XGBClassifier(objective='multi:softmax', num_class=len(y.unique()), random_state=42, use_label_encoder=False)\n",
    "\n",
    "# 4. 모델 학습\n",
    "model.fit(X_train, y_train)\n",
    "\n",
    "# 5. 예측\n",
    "y_train_pred = model.predict(X_train)\n",
    "y_test_pred = model.predict(X_test)\n",
    "\n",
    "# 6. 정확도 계산\n",
    "train_accuracy = accuracy_score(y_train, y_train_pred)\n",
    "test_accuracy = accuracy_score(y_test, y_test_pred)\n",
    "\n",
    "# 7. 결과 출력\n",
    "print(f\"Train Accuracy: {train_accuracy * 100:.2f}%\")\n",
    "print(f\"Test Accuracy: {test_accuracy * 100:.2f}%\")"
   ]
  },
  {
   "cell_type": "markdown",
   "metadata": {},
   "source": [
    "# Inference"
   ]
  },
  {
   "cell_type": "code",
   "execution_count": 21,
   "metadata": {},
   "outputs": [],
   "source": [
    "test = test.drop(columns=['ID'])\n",
    "# X_encoded = test_X.copy()\n",
    "# X_encoded[categorical_columns] = ordinal_encoder.transform(test_X[categorical_columns])"
   ]
  },
  {
   "cell_type": "code",
   "execution_count": 22,
   "metadata": {},
   "outputs": [],
   "source": [
    "predictions = model.predict(test)"
   ]
  },
  {
   "cell_type": "code",
   "execution_count": 23,
   "metadata": {},
   "outputs": [],
   "source": [
    "original_labels = le_subclass.inverse_transform(predictions)"
   ]
  },
  {
   "cell_type": "markdown",
   "metadata": {},
   "source": [
    "# Submisson"
   ]
  },
  {
   "cell_type": "code",
   "execution_count": 24,
   "metadata": {},
   "outputs": [],
   "source": [
    "submisson = pd.read_csv(\"./sample_submission.csv\")"
   ]
  },
  {
   "cell_type": "code",
   "execution_count": 25,
   "metadata": {},
   "outputs": [],
   "source": [
    "submisson[\"SUBCLASS\"] = original_labels"
   ]
  },
  {
   "cell_type": "code",
   "execution_count": 26,
   "metadata": {},
   "outputs": [],
   "source": [
    "submisson.to_csv('./baseline_submission.csv', encoding='UTF-8-sig', index=False)"
   ]
  }
 ],
 "metadata": {
  "kernelspec": {
   "display_name": "machine",
   "language": "python",
   "name": "python3"
  },
  "language_info": {
   "codemirror_mode": {
    "name": "ipython",
    "version": 3
   },
   "file_extension": ".py",
   "mimetype": "text/x-python",
   "name": "python",
   "nbconvert_exporter": "python",
   "pygments_lexer": "ipython3",
   "version": "3.12.5"
  }
 },
 "nbformat": 4,
 "nbformat_minor": 2
}
