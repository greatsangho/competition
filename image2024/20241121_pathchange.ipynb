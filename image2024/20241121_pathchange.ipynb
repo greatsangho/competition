{
 "cells": [
  {
   "cell_type": "code",
   "execution_count": 4,
   "id": "121dae21-2069-4d19-bb48-9505e5c3bdc5",
   "metadata": {},
   "outputs": [
    {
     "name": "stdout",
     "output_type": "stream",
     "text": [
      "Current directory: /\n",
      "Current directory: /\n",
      "Files in parent directory: []\n"
     ]
    }
   ],
   "source": [
    "import os\n",
    "import subprocess\n",
    "\n",
    "# 시작 디렉토리 확인\n",
    "print(\"Start directory:\", os.getcwd())\n",
    "\n",
    "# 상위 디렉터리로 이동\n",
    "os.chdir(\"..\")\n",
    "os.chdir(\"..\")\n",
    "\n",
    "# 현재 작업 디렉토리 확인\n",
    "print(\"Current directory:\", os.getcwd())\n",
    "\n",
    "# 'test' 디렉토리가 없으면 생성\n",
    "if not os.path.exists('test'):\n",
    "    # 'test' 디렉토리 생성\n",
    "    os.makedirs('test')\n",
    "    print(f\"'test' directory created at: {os.getcwd()}/test\")\n",
    "\n",
    "    # chmod -R 777 명령어 실행\n",
    "    try:\n",
    "        subprocess.run(['chmod', '-R', '777', 'test'], check=True)\n",
    "        print(f\"Permissions for 'test' directory set to 777.\")\n",
    "    except subprocess.CalledProcessError as e:\n",
    "        print(f\"Failed to set permissions for 'test' directory: {e}\")\n",
    "else:\n",
    "    print(f\"'test' directory already exists at: {os.getcwd()}/test\")\n",
    "\n",
    "# 'test' 디렉토리로 이동\n",
    "os.chdir(\"test\")\n",
    "\n",
    "# 파일 목록 출력\n",
    "print(\"Files in 'test' directory:\", os.listdir())"
   ]
  },
  {
   "cell_type": "code",
   "execution_count": 5,
   "id": "9219ec59-286d-429c-af9e-f0e906d8d23a",
   "metadata": {},
   "outputs": [
    {
     "name": "stdout",
     "output_type": "stream",
     "text": [
      "\u001b[33mWARNING: Value for scheme.headers does not match. Please report this to <https://github.com/pypa/pip/issues/9617>\n",
      "distutils: /opt/conda/include/python3.8/UNKNOWN\n",
      "sysconfig: /opt/conda/include/python3.8\u001b[0m\n",
      "\u001b[33mWARNING: Additional context:\n",
      "user = False\n",
      "home = None\n",
      "root = None\n",
      "prefix = None\u001b[0m\n",
      "\u001b[33mWARNING: Value for scheme.headers does not match. Please report this to <https://github.com/pypa/pip/issues/9617>\n",
      "distutils: /opt/conda/include/python3.8/UNKNOWN\n",
      "sysconfig: /opt/conda/include/python3.8\u001b[0m\n",
      "\u001b[33mWARNING: Additional context:\n",
      "user = False\n",
      "home = None\n",
      "root = None\n",
      "prefix = None\u001b[0m\n"
     ]
    }
   ],
   "source": [
    "!pip install -q gdown\n",
    "# https://drive.google.com/file/d/1niPQxUVZdUx81bN0YLhD4LIY9cHf13xl/view?usp=drive_link"
   ]
  },
  {
   "cell_type": "code",
   "execution_count": null,
   "id": "11ef4457-8d86-442f-8583-7ed8f38090da",
   "metadata": {},
   "outputs": [],
   "source": [
    "# !wget https://huggingface.co/datasets/EISLab-Hwlee/dacon-image-restore/resolve/main/open.zip"
   ]
  },
  {
   "cell_type": "code",
   "execution_count": 7,
   "id": "c7e1ba57-7719-4cce-a9b3-a5438733e640",
   "metadata": {},
   "outputs": [
    {
     "name": "stderr",
     "output_type": "stream",
     "text": [
      "Downloading...\n",
      "From (original): https://drive.google.com/uc?id=1o7t5c9gLG_hjaKcVvZib7OuwVMrYkosE\n",
      "From (redirected): https://drive.google.com/uc?id=1o7t5c9gLG_hjaKcVvZib7OuwVMrYkosE&confirm=t&uuid=4bb52e75-16f0-450e-a9cc-6863f2746716\n",
      "To: /test/open.tar.xz\n",
      "100%|██████████| 14.4G/14.4G [03:40<00:00, 65.2MB/s] \n"
     ]
    },
    {
     "data": {
      "text/plain": [
       "'open.tar.xz'"
      ]
     },
     "execution_count": 7,
     "metadata": {},
     "output_type": "execute_result"
    }
   ],
   "source": [
    "import gdown\n",
    "# https://drive.google.com/file/d/1o7t5c9gLG_hjaKcVvZib7OuwVMrYkosE/view?usp=drive_link\n",
    "id = '1o7t5c9gLG_hjaKcVvZib7OuwVMrYkosE'\n",
    "gdown.download(f'https://drive.google.com/uc?id={id}', 'open.tar.xz', quiet=False)"
   ]
  },
  {
   "cell_type": "code",
   "execution_count": 8,
   "id": "dbda68db-c28d-4986-88c9-466d92bf5b98",
   "metadata": {},
   "outputs": [],
   "source": [
    "import tarfile\n",
    "\n",
    "# .tar.xz 파일 추출 함수\n",
    "def extract_tar_xz(tar_xz_file, destination_folder):\n",
    "    with tarfile.open(tar_xz_file, mode='r:xz') as tar:\n",
    "        tar.extractall(path=destination_folder)\n",
    "\n",
    "# 사용 예시\n",
    "extract_tar_xz('open.tar.xz', './')\n",
    "print(\"Files in 'test' directory:\", os.listdir())"
   ]
  },
  {
   "cell_type": "code",
   "execution_count": 10,
   "id": "5a7351c8-9ef2-4bea-866f-066382848fe5",
   "metadata": {},
   "outputs": [],
   "source": [
    "import os\n",
    "os.rename('open (2)', 'open')"
   ]
  },
  {
   "cell_type": "code",
   "execution_count": 11,
   "id": "bd5b547d-4da1-4c74-8996-79aacb17b82b",
   "metadata": {},
   "outputs": [],
   "source": [
    "import os\n",
    "\n",
    "# 생성할 폴더 경로\n",
    "folder_path = './saved_models'\n",
    "\n",
    "# 폴더 생성\n",
    "os.makedirs(folder_path, exist_ok=True)"
   ]
  },
  {
   "cell_type": "code",
   "execution_count": 12,
   "id": "68cfe14c-fcf8-470c-aa34-ec14a5188628",
   "metadata": {},
   "outputs": [],
   "source": [
    "import os\n",
    "\n",
    "# 생성할 폴더 경로\n",
    "folder_path = './submission'\n",
    "\n",
    "# 폴더 생성\n",
    "os.makedirs(folder_path, exist_ok=True)"
   ]
  },
  {
   "cell_type": "code",
   "execution_count": 15,
   "id": "19d1631c-2792-4be1-a2d3-f9e15cff102d",
   "metadata": {},
   "outputs": [],
   "source": [
    "import os\n",
    "\n",
    "# 생성할 폴더 경로\n",
    "folder_path = './gray'\n",
    "\n",
    "# 폴더 생성\n",
    "os.makedirs(folder_path, exist_ok=True)"
   ]
  },
  {
   "cell_type": "code",
   "execution_count": 16,
   "id": "fe208d4e-c323-4d17-84c4-5e8fd8d8f8b9",
   "metadata": {},
   "outputs": [],
   "source": [
    "# import os\n",
    "\n",
    "# # 파일 삭제\n",
    "# file_path = './sum.zip'\n",
    "# os.remove(file_path)"
   ]
  },
  {
   "cell_type": "code",
   "execution_count": 17,
   "id": "ed1d0f8f-28f6-4cde-843b-3348dcf6b9c3",
   "metadata": {},
   "outputs": [
    {
     "name": "stdout",
     "output_type": "stream",
     "text": [
      "Files in 'test' directory: ['open.tar.xz', 'open', 'saved_models', 'submission', 'gray']\n"
     ]
    }
   ],
   "source": [
    "print(\"Files in 'test' directory:\", os.listdir())"
   ]
  },
  {
   "cell_type": "code",
   "execution_count": null,
   "id": "c5e96889-6e48-444a-befa-a821e4633fd3",
   "metadata": {},
   "outputs": [],
   "source": []
  }
 ],
 "metadata": {
  "kernelspec": {
   "display_name": "Python 3",
   "language": "python",
   "name": "python3"
  },
  "language_info": {
   "codemirror_mode": {
    "name": "ipython",
    "version": 3
   },
   "file_extension": ".py",
   "mimetype": "text/x-python",
   "name": "python",
   "nbconvert_exporter": "python",
   "pygments_lexer": "ipython3",
   "version": "3.8.8"
  }
 },
 "nbformat": 4,
 "nbformat_minor": 5
}
