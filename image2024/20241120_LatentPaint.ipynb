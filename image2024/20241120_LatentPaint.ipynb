{
 "cells": [
  {
   "cell_type": "markdown",
   "metadata": {},
   "source": [
    "# Import"
   ]
  },
  {
   "cell_type": "code",
   "execution_count": 10,
   "metadata": {},
   "outputs": [
    {
     "name": "stdout",
     "output_type": "stream",
     "text": [
      "Requirement already satisfied: opencv-python in /home/sangho/miniconda3/envs/ml2/lib/python3.10/site-packages (4.10.0.84)\n",
      "Requirement already satisfied: numpy>=1.21.2 in /home/sangho/miniconda3/envs/ml2/lib/python3.10/site-packages (from opencv-python) (1.23.1)\n"
     ]
    }
   ],
   "source": [
    "!pip install opencv-python"
   ]
  },
  {
   "cell_type": "code",
   "execution_count": 6,
   "metadata": {},
   "outputs": [],
   "source": [
    "import random\n",
    "import numpy as np\n",
    "import os\n",
    "\n",
    "import torch\n",
    "import torch_directml\n",
    "from PIL import Image\n",
    "import torchvision.transforms as transforms\n",
    "from torch.utils.data import Dataset, DataLoader\n",
    "import torch.nn as nn\n",
    "import torch.optim as optim\n",
    "import cv2\n",
    "\n",
    "import zipfile"
   ]
  },
  {
   "cell_type": "code",
   "execution_count": 7,
   "metadata": {},
   "outputs": [
    {
     "name": "stdout",
     "output_type": "stream",
     "text": [
      "Using device: cpu\n"
     ]
    }
   ],
   "source": [
    "device = torch.device(\"cuda:0\" if torch.cuda.is_available() else \"cpu\")\n",
    "# device = torch_directml.device()\n",
    "print(\"Using device:\", device)"
   ]
  },
  {
   "cell_type": "markdown",
   "metadata": {},
   "source": [
    "# Hyperparameter Setting"
   ]
  },
  {
   "cell_type": "code",
   "execution_count": 8,
   "metadata": {},
   "outputs": [],
   "source": [
    "CFG = {\n",
    "    'EPOCHS':10,\n",
    "    'LEARNING_RATE':3e-4,\n",
    "    'BATCH_SIZE':16,\n",
    "    'SEED':42\n",
    "}"
   ]
  },
  {
   "cell_type": "markdown",
   "metadata": {},
   "source": [
    "# Fixed RandomSeed"
   ]
  },
  {
   "cell_type": "code",
   "execution_count": 9,
   "metadata": {},
   "outputs": [],
   "source": [
    "def seed_everything(seed):\n",
    "    random.seed(seed)\n",
    "    os.environ['PYTHONHASHSEED'] = str(seed)\n",
    "    np.random.seed(seed)\n",
    "    torch.manual_seed(seed)\n",
    "    torch.cuda.manual_seed(seed)\n",
    "    torch.backends.cudnn.deterministic = True\n",
    "    torch.backends.cudnn.benchmark = True\n",
    "\n",
    "seed_everything(CFG['SEED']) # Seed 고정"
   ]
  },
  {
   "cell_type": "markdown",
   "metadata": {},
   "source": [
    "# CustomDataset"
   ]
  },
  {
   "cell_type": "code",
   "execution_count": 10,
   "metadata": {},
   "outputs": [],
   "source": [
    "# #저장된 이미지 쌍을 동시에 로드 \n",
    "\n",
    "# class CustomDataset(Dataset):\n",
    "#     def __init__(self, damage_dir, origin_dir, transform=None):\n",
    "#         self.damage_dir = damage_dir\n",
    "#         self.origin_dir = origin_dir\n",
    "#         self.transform = transform\n",
    "#         self.damage_files = sorted(os.listdir(damage_dir))\n",
    "#         self.origin_files = sorted(os.listdir(origin_dir))\n",
    "\n",
    "#         assert len(self.damage_files) == len(self.origin_files), \"The number of images in gray and color folders must match\"\n",
    "\n",
    "#     def __len__(self):\n",
    "#         return len(self.damage_files)\n",
    "\n",
    "#     def __getitem__(self, idx):\n",
    "#         damage_img_name = self.damage_files[idx]\n",
    "#         origin_img_name = self.origin_files[idx]\n",
    "\n",
    "#         damage_img_path = os.path.join(self.damage_dir, damage_img_name)\n",
    "#         origin_img_path = os.path.join(self.origin_dir, origin_img_name)\n",
    "\n",
    "#         damage_img = Image.open(damage_img_path).convert(\"RGB\")\n",
    "#         origin_img = Image.open(origin_img_path).convert(\"RGB\")\n",
    "\n",
    "#         if self.transform:\n",
    "#             damage_img = self.transform(damage_img)\n",
    "#             origin_img = self.transform(origin_img)\n",
    "\n",
    "#         return {'A': damage_img, 'B': origin_img}\n",
    "\n"
   ]
  },
  {
   "cell_type": "markdown",
   "metadata": {},
   "source": [
    "# Data Load"
   ]
  },
  {
   "cell_type": "code",
   "execution_count": 11,
   "metadata": {},
   "outputs": [],
   "source": [
    "# # 경로 설정\n",
    "# origin_dir = './open/train_gt'  # 원본 이미지 폴더 경로\n",
    "# damage_dir = './open/train_input'  # 손상된 이미지 폴더 경로\n",
    "# test_dir = './open/test_input'     # test 이미지 폴더 경로\n",
    "\n",
    "# # 데이터 전처리 설정\n",
    "# transform = transforms.Compose([\n",
    "#     transforms.Resize((256, 256)),\n",
    "#     transforms.ToTensor(),\n",
    "#     transforms.Normalize([0.5], [0.5])\n",
    "# ])\n",
    "\n",
    "# # 데이터셋 및 DataLoader 생성\n",
    "# dataset = CustomDataset(damage_dir=damage_dir, origin_dir=origin_dir, transform=transform)\n",
    "# dataloader = DataLoader(dataset, batch_size=CFG['BATCH_SIZE'], shuffle=True, num_workers=1)"
   ]
  },
  {
   "cell_type": "markdown",
   "metadata": {},
   "source": [
    "# Model Define"
   ]
  },
  {
   "cell_type": "code",
   "execution_count": 12,
   "metadata": {},
   "outputs": [],
   "source": [
    "# U-Net 기반의 Generator\n",
    "class UNetGenerator(nn.Module):\n",
    "    def __init__(self, in_channels=3, out_channels=3):\n",
    "        super(UNetGenerator, self).__init__()\n",
    "\n",
    "        def down_block(in_feat, out_feat, normalize=True):\n",
    "            layers = [nn.Conv2d(in_feat, out_feat, kernel_size=4, stride=2, padding=1)]\n",
    "            if normalize:\n",
    "                layers.append(nn.BatchNorm2d(out_feat))\n",
    "            layers.append(nn.LeakyReLU(0.2, inplace=True))\n",
    "            return nn.Sequential(*layers)\n",
    "\n",
    "        def up_block(in_feat, out_feat, dropout=0.0):\n",
    "            layers = [nn.ConvTranspose2d(in_feat, out_feat, kernel_size=4, stride=2, padding=1),\n",
    "                      nn.BatchNorm2d(out_feat),\n",
    "                      nn.ReLU(inplace=True)] \n",
    "            if dropout:\n",
    "                layers.append(nn.Dropout(dropout))\n",
    "            return nn.Sequential(*layers)\n",
    "\n",
    "        self.down1 = down_block(in_channels, 64, normalize=False)\n",
    "        self.down2 = down_block(64, 128)\n",
    "        self.down3 = down_block(128, 256)\n",
    "        self.down4 = down_block(256, 512)\n",
    "        self.down5 = down_block(512, 512)\n",
    "        self.down6 = down_block(512, 512)\n",
    "        self.down7 = down_block(512, 512)\n",
    "        self.down8 = down_block(512, 512, normalize=False)\n",
    "\n",
    "        self.up1 = up_block(512, 512, dropout=0.5)\n",
    "        self.up2 = up_block(1024, 512, dropout=0.5)\n",
    "        self.up3 = up_block(1024, 512, dropout=0.5)\n",
    "        self.up4 = up_block(1024, 512)\n",
    "        self.up5 = up_block(1024, 256)\n",
    "        self.up6 = up_block(512, 128)\n",
    "        self.up7 = up_block(256, 64)\n",
    "        self.up8 = nn.Sequential(\n",
    "            nn.ConvTranspose2d(128, out_channels, kernel_size=4, stride=2, padding=1),\n",
    "            nn.Tanh()\n",
    "        )\n",
    "\n",
    "    def forward(self, x):\n",
    "        d1 = self.down1(x)\n",
    "        d2 = self.down2(d1)\n",
    "        d3 = self.down3(d2)\n",
    "        d4 = self.down4(d3)\n",
    "        d5 = self.down5(d4)\n",
    "        d6 = self.down6(d5)\n",
    "        d7 = self.down7(d6)\n",
    "        d8 = self.down8(d7)\n",
    "\n",
    "        u1 = self.up1(d8)\n",
    "        u2 = self.up2(torch.cat([u1, d7], 1))\n",
    "        u3 = self.up3(torch.cat([u2, d6], 1))\n",
    "        u4 = self.up4(torch.cat([u3, d5], 1))\n",
    "        u5 = self.up5(torch.cat([u4, d4], 1))\n",
    "        u6 = self.up6(torch.cat([u5, d3], 1))\n",
    "        u7 = self.up7(torch.cat([u6, d2], 1))\n",
    "        u8 = self.up8(torch.cat([u7, d1], 1))\n",
    "\n",
    "        return u8\n",
    "\n",
    "# PatchGAN 기반의 Discriminator\n",
    "class PatchGANDiscriminator(nn.Module):\n",
    "    def __init__(self, in_channels=3):\n",
    "        super(PatchGANDiscriminator, self).__init__()\n",
    "\n",
    "        def discriminator_block(in_filters, out_filters, normalization=True):\n",
    "            layers = [nn.Conv2d(in_filters, out_filters, kernel_size=4, stride=2, padding=1)]\n",
    "            if normalization:\n",
    "                layers.append(nn.BatchNorm2d(out_filters))\n",
    "            layers.append(nn.LeakyReLU(0.2, inplace=True))\n",
    "            return nn.Sequential(*layers)\n",
    "\n",
    "        self.model = nn.Sequential(\n",
    "            discriminator_block(in_channels * 2, 64, normalization=False),\n",
    "            discriminator_block(64, 128),\n",
    "            discriminator_block(128, 256),\n",
    "            discriminator_block(256, 512),\n",
    "            nn.Conv2d(512, 1, kernel_size=4, padding=1)\n",
    "        )\n",
    "\n",
    "    def forward(self, img_A, img_B):\n",
    "        img_input = torch.cat((img_A, img_B), 1)\n",
    "        return self.model(img_input)\n",
    "\n",
    "# 가중치 초기화 함수\n",
    "def weights_init_normal(m):\n",
    "    classname = m.__class__.__name__\n",
    "    if classname.find('Conv') != -1:\n",
    "        torch.nn.init.normal_(m.weight.data, 0.0, 0.02)\n",
    "    elif classname.find('BatchNorm2d') != -1:\n",
    "        torch.nn.init.normal_(m.weight.data, 1.0, 0.02)\n",
    "        torch.nn.init.constant_(m.bias.data, 0.0)"
   ]
  },
  {
   "cell_type": "markdown",
   "metadata": {},
   "source": [
    "# Train"
   ]
  },
  {
   "cell_type": "code",
   "execution_count": 13,
   "metadata": {},
   "outputs": [],
   "source": [
    "import torch\n",
    "import torch.nn as nn\n",
    "import torch.optim as optim\n",
    "from torchvision import transforms\n",
    "from torch.utils.data import DataLoader, Dataset\n",
    "from PIL import Image\n",
    "import os\n",
    "\n",
    "# Custom dataset for loading grayscale masked images and original color images\n",
    "class MaskedImageDataset(Dataset):\n",
    "    def __init__(self, masked_dir, original_dir, transform=None):\n",
    "        self.masked_dir = masked_dir\n",
    "        self.original_dir = original_dir\n",
    "        self.masked_images = os.listdir(masked_dir)\n",
    "        self.original_images = os.listdir(original_dir)\n",
    "        self.transform = transform\n",
    "\n",
    "    def __len__(self):\n",
    "        return len(self.masked_images)\n",
    "\n",
    "    def __getitem__(self, idx):\n",
    "        masked_image_path = os.path.join(self.masked_dir, self.masked_images[idx])\n",
    "        original_image_path = os.path.join(self.original_dir, self.original_images[idx])\n",
    "\n",
    "        masked_image = Image.open(masked_image_path).convert('L')  # Load as grayscale\n",
    "        original_image = Image.open(original_image_path).convert('RGB')  # Load as color\n",
    "\n",
    "        if self.transform:\n",
    "            masked_image = self.transform(masked_image)\n",
    "            original_image = self.transform(original_image)\n",
    "\n",
    "        return masked_image, original_image\n",
    "\n",
    "# Define the LatentPaint module (as described in the LatentPaint paper)\n",
    "class LatentPaint(nn.Module):\n",
    "    def __init__(self, latent_dim):\n",
    "        super(LatentPaint, self).__init__()\n",
    "        self.latent_dim = latent_dim\n",
    "        # Explicit Propagation parameters\n",
    "        self.gamma = nn.MaxPool2d(kernel_size=2)\n",
    "        self.phi = nn.Sequential(\n",
    "            nn.Linear(latent_dim, latent_dim),\n",
    "            nn.ReLU(),\n",
    "            nn.Linear(latent_dim, latent_dim)\n",
    "        )\n",
    "        \n",
    "    def forward(self, h_infr, h_cond, mask):\n",
    "        # Step 1: Downsample mask to match latent space dimensions\n",
    "        D_m = F.interpolate(mask, size=h_infr.shape[2:], mode='bilinear', align_corners=False)\n",
    "        \n",
    "        # Step 2: Latent Space Conditioning\n",
    "        h_star = h_infr * (1 - D_m) + h_cond * D_m\n",
    "        \n",
    "        # Step 3: Explicit Propagation\n",
    "        gamma_mask = self.gamma(D_m)\n",
    "        phi_output = self.phi(torch.cat([gamma_mask.flatten(1), h_cond.flatten(1)], dim=-1))\n",
    "        h_hat = phi_output.view_as(h_star)\n",
    "        \n",
    "        return h_hat\n",
    "\n",
    "# Define the U-Net with LatentPaint for inpainting tasks\n",
    "class UNetWithLatentPaint(nn.Module):\n",
    "    def __init__(self, unet_model, latent_dim):\n",
    "        super(UNetWithLatentPaint, self).__init__()\n",
    "        self.unet = unet_model\n",
    "        self.latent_paint1 = LatentPaint(latent_dim)\n",
    "        self.latent_paint2 = LatentPaint(latent_dim)\n",
    "\n",
    "    def forward(self, x, mask):\n",
    "        # Forward pass through the U-Net model\n",
    "        h_infr_1 = self.unet.encoder(x)\n",
    "        \n",
    "        # Apply LatentPaint after first encoder block\n",
    "        h_cond_1 = self.unet.encoder(mask)  # Conditioned on the masked image\n",
    "        h_painted_1 = self.latent_paint1(h_infr_1, h_cond_1, mask)\n",
    "        \n",
    "        # Continue through the U-Net model\n",
    "        h_infr_2 = self.unet.middle_block(h_painted_1)\n",
    "        \n",
    "        # Apply LatentPaint after middle block\n",
    "        h_cond_2 = self.unet.middle_block(mask)\n",
    "        h_painted_2 = self.latent_paint2(h_infr_2, h_cond_2, mask)\n",
    "        \n",
    "        # Final output through the decoder\n",
    "        output = self.unet.decoder(h_painted_2)\n",
    "        \n",
    "        return output\n",
    "\n",
    "# Example training loop for the inpainting task using LatentPaint\n",
    "\n",
    "def train_model(model, dataloader, criterion, optimizer, num_epochs=25):\n",
    "    for epoch in range(num_epochs):\n",
    "        running_loss = 0.0\n",
    "        \n",
    "        for inputs, targets in dataloader:\n",
    "            inputs = inputs.to(device)  # Masked grayscale images (input)\n",
    "            targets = targets.to(device)  # Original color images (target)\n",
    "\n",
    "            optimizer.zero_grad()\n",
    "\n",
    "            outputs = model(inputs)  # Forward pass through the model\n",
    "            \n",
    "            loss = criterion(outputs, targets)  # Compute loss between output and target\n",
    "            \n",
    "            loss.backward()  # Backpropagation\n",
    "            optimizer.step()  # Update weights\n",
    "            \n",
    "            running_loss += loss.item()\n",
    "\n",
    "        print(f'Epoch [{epoch+1}/{num_epochs}], Loss: {running_loss/len(dataloader)}')\n",
    "\n",
    "    print(\"Training complete.\")\n",
    "\n",
    "# Hyperparameters and setup\n",
    "latent_dim = 256  # Example latent dimension size\n",
    "unet_model = UNetGenerator()  # Load or define your U-Net model here\n",
    "\n",
    "# Prepare dataset and dataloader\n",
    "transform = transforms.Compose([\n",
    "    transforms.Resize((512, 512)),\n",
    "    transforms.ToTensor()\n",
    "])\n",
    "\n",
    "masked_dir = './open/train_input'\n",
    "original_dir = './open/train_gt'\n",
    "\n",
    "dataset = MaskedImageDataset(masked_dir=masked_dir, original_dir=original_dir, transform=transform)\n",
    "dataloader = DataLoader(dataset, batch_size=4, shuffle=True)\n",
    "\n",
    "# Initialize model and optimizer\n",
    "model_with_latentpaint = UNetWithLatentPaint(unet_model=unet_model, latent_dim=latent_dim).to(device)\n",
    "criterion = nn.MSELoss()  # Mean Squared Error loss for pixel-wise comparison between predicted and target images.\n",
    "optimizer = optim.Adam(model_with_latentpaint.parameters(), lr=0.001)"
   ]
  },
  {
   "cell_type": "code",
   "execution_count": 14,
   "metadata": {},
   "outputs": [
    {
     "ename": "TypeError",
     "evalue": "UNetWithLatentPaint.forward() missing 1 required positional argument: 'mask'",
     "output_type": "error",
     "traceback": [
      "\u001b[0;31m---------------------------------------------------------------------------\u001b[0m",
      "\u001b[0;31mTypeError\u001b[0m                                 Traceback (most recent call last)",
      "Cell \u001b[0;32mIn[14], line 2\u001b[0m\n\u001b[1;32m      1\u001b[0m \u001b[38;5;66;03m# Train the model\u001b[39;00m\n\u001b[0;32m----> 2\u001b[0m \u001b[43mtrain_model\u001b[49m\u001b[43m(\u001b[49m\u001b[43mmodel_with_latentpaint\u001b[49m\u001b[43m,\u001b[49m\u001b[43m \u001b[49m\u001b[43mdataloader\u001b[49m\u001b[38;5;241;43m=\u001b[39;49m\u001b[43mdataloader\u001b[49m\u001b[43m,\u001b[49m\u001b[43m \u001b[49m\u001b[43mcriterion\u001b[49m\u001b[38;5;241;43m=\u001b[39;49m\u001b[43mcriterion\u001b[49m\u001b[43m,\u001b[49m\u001b[43m \u001b[49m\u001b[43moptimizer\u001b[49m\u001b[38;5;241;43m=\u001b[39;49m\u001b[43moptimizer\u001b[49m\u001b[43m)\u001b[49m\n",
      "Cell \u001b[0;32mIn[13], line 101\u001b[0m, in \u001b[0;36mtrain_model\u001b[0;34m(model, dataloader, criterion, optimizer, num_epochs)\u001b[0m\n\u001b[1;32m     97\u001b[0m targets \u001b[38;5;241m=\u001b[39m targets\u001b[38;5;241m.\u001b[39mto(device)  \u001b[38;5;66;03m# Original color images (target)\u001b[39;00m\n\u001b[1;32m     99\u001b[0m optimizer\u001b[38;5;241m.\u001b[39mzero_grad()\n\u001b[0;32m--> 101\u001b[0m outputs \u001b[38;5;241m=\u001b[39m \u001b[43mmodel\u001b[49m\u001b[43m(\u001b[49m\u001b[43minputs\u001b[49m\u001b[43m)\u001b[49m  \u001b[38;5;66;03m# Forward pass through the model\u001b[39;00m\n\u001b[1;32m    103\u001b[0m loss \u001b[38;5;241m=\u001b[39m criterion(outputs, targets)  \u001b[38;5;66;03m# Compute loss between output and target\u001b[39;00m\n\u001b[1;32m    105\u001b[0m loss\u001b[38;5;241m.\u001b[39mbackward()  \u001b[38;5;66;03m# Backpropagation\u001b[39;00m\n",
      "File \u001b[0;32m~/miniconda3/envs/ml2/lib/python3.10/site-packages/torch/nn/modules/module.py:1532\u001b[0m, in \u001b[0;36mModule._wrapped_call_impl\u001b[0;34m(self, *args, **kwargs)\u001b[0m\n\u001b[1;32m   1530\u001b[0m     \u001b[38;5;28;01mreturn\u001b[39;00m \u001b[38;5;28mself\u001b[39m\u001b[38;5;241m.\u001b[39m_compiled_call_impl(\u001b[38;5;241m*\u001b[39margs, \u001b[38;5;241m*\u001b[39m\u001b[38;5;241m*\u001b[39mkwargs)  \u001b[38;5;66;03m# type: ignore[misc]\u001b[39;00m\n\u001b[1;32m   1531\u001b[0m \u001b[38;5;28;01melse\u001b[39;00m:\n\u001b[0;32m-> 1532\u001b[0m     \u001b[38;5;28;01mreturn\u001b[39;00m \u001b[38;5;28;43mself\u001b[39;49m\u001b[38;5;241;43m.\u001b[39;49m\u001b[43m_call_impl\u001b[49m\u001b[43m(\u001b[49m\u001b[38;5;241;43m*\u001b[39;49m\u001b[43margs\u001b[49m\u001b[43m,\u001b[49m\u001b[43m \u001b[49m\u001b[38;5;241;43m*\u001b[39;49m\u001b[38;5;241;43m*\u001b[39;49m\u001b[43mkwargs\u001b[49m\u001b[43m)\u001b[49m\n",
      "File \u001b[0;32m~/miniconda3/envs/ml2/lib/python3.10/site-packages/torch/nn/modules/module.py:1541\u001b[0m, in \u001b[0;36mModule._call_impl\u001b[0;34m(self, *args, **kwargs)\u001b[0m\n\u001b[1;32m   1536\u001b[0m \u001b[38;5;66;03m# If we don't have any hooks, we want to skip the rest of the logic in\u001b[39;00m\n\u001b[1;32m   1537\u001b[0m \u001b[38;5;66;03m# this function, and just call forward.\u001b[39;00m\n\u001b[1;32m   1538\u001b[0m \u001b[38;5;28;01mif\u001b[39;00m \u001b[38;5;129;01mnot\u001b[39;00m (\u001b[38;5;28mself\u001b[39m\u001b[38;5;241m.\u001b[39m_backward_hooks \u001b[38;5;129;01mor\u001b[39;00m \u001b[38;5;28mself\u001b[39m\u001b[38;5;241m.\u001b[39m_backward_pre_hooks \u001b[38;5;129;01mor\u001b[39;00m \u001b[38;5;28mself\u001b[39m\u001b[38;5;241m.\u001b[39m_forward_hooks \u001b[38;5;129;01mor\u001b[39;00m \u001b[38;5;28mself\u001b[39m\u001b[38;5;241m.\u001b[39m_forward_pre_hooks\n\u001b[1;32m   1539\u001b[0m         \u001b[38;5;129;01mor\u001b[39;00m _global_backward_pre_hooks \u001b[38;5;129;01mor\u001b[39;00m _global_backward_hooks\n\u001b[1;32m   1540\u001b[0m         \u001b[38;5;129;01mor\u001b[39;00m _global_forward_hooks \u001b[38;5;129;01mor\u001b[39;00m _global_forward_pre_hooks):\n\u001b[0;32m-> 1541\u001b[0m     \u001b[38;5;28;01mreturn\u001b[39;00m \u001b[43mforward_call\u001b[49m\u001b[43m(\u001b[49m\u001b[38;5;241;43m*\u001b[39;49m\u001b[43margs\u001b[49m\u001b[43m,\u001b[49m\u001b[43m \u001b[49m\u001b[38;5;241;43m*\u001b[39;49m\u001b[38;5;241;43m*\u001b[39;49m\u001b[43mkwargs\u001b[49m\u001b[43m)\u001b[49m\n\u001b[1;32m   1543\u001b[0m \u001b[38;5;28;01mtry\u001b[39;00m:\n\u001b[1;32m   1544\u001b[0m     result \u001b[38;5;241m=\u001b[39m \u001b[38;5;28;01mNone\u001b[39;00m\n",
      "\u001b[0;31mTypeError\u001b[0m: UNetWithLatentPaint.forward() missing 1 required positional argument: 'mask'"
     ]
    }
   ],
   "source": [
    "# Train the model\n",
    "train_model(model_with_latentpaint, dataloader=dataloader, criterion=criterion, optimizer=optimizer)"
   ]
  },
  {
   "cell_type": "code",
   "execution_count": null,
   "metadata": {},
   "outputs": [
    {
     "ename": "NameError",
     "evalue": "name 'model_with_latentpaint' is not defined",
     "output_type": "error",
     "traceback": [
      "\u001b[0;31m---------------------------------------------------------------------------\u001b[0m",
      "\u001b[0;31mNameError\u001b[0m                                 Traceback (most recent call last)",
      "Cell \u001b[0;32mIn[5], line 2\u001b[0m\n\u001b[1;32m      1\u001b[0m \u001b[38;5;66;03m# 모델 가중치 저장\u001b[39;00m\n\u001b[0;32m----> 2\u001b[0m torch\u001b[38;5;241m.\u001b[39msave(\u001b[43mmodel_with_latentpaint\u001b[49m\u001b[38;5;241m.\u001b[39mstate_dict(), \u001b[38;5;124m\"\u001b[39m\u001b[38;5;124mbest_model.pth\u001b[39m\u001b[38;5;124m\"\u001b[39m)\n",
      "\u001b[0;31mNameError\u001b[0m: name 'model_with_latentpaint' is not defined"
     ]
    }
   ],
   "source": [
    "# 모델 가중치 저장\n",
    "torch.save(model_with_latentpaint.state_dict(), \"best_model.pth\")"
   ]
  },
  {
   "cell_type": "code",
   "execution_count": null,
   "metadata": {},
   "outputs": [],
   "source": [
    "# 모델 가중치 불러오기\n",
    "model_with_latentpaint.load_state_dict(torch.load(\"best_model.pth\"))"
   ]
  },
  {
   "cell_type": "markdown",
   "metadata": {},
   "source": [
    "# Inference"
   ]
  },
  {
   "cell_type": "code",
   "execution_count": null,
   "metadata": {},
   "outputs": [],
   "source": [
    "# 모델의 가중치를 불러오는 함수\n",
    "def load_model(model, checkpoint_path):\n",
    "    checkpoint = torch.load(checkpoint_path)\n",
    "    model.load_state_dict(checkpoint['model_state_dict'])\n",
    "    return model\n",
    "\n",
    "# 이미지를 로드 및 전처리하는 함수\n",
    "def load_image(image_path, transform):\n",
    "    image = Image.open(image_path).convert(\"RGB\")\n",
    "    image = transform(image)\n",
    "    image = image.unsqueeze(0)  # 배치 차원을 추가합니다.\n",
    "    return image\n",
    "model_save_dir = './'\n",
    "\n",
    "# 모델 경로 설정\n",
    "generator_path = os.path.join(model_save_dir, \"best_model.pth\")\n",
    "\n",
    "# 모델 로드 및 설정 (여기서는 UNetWithLatentPaint 모델을 사용한다고 가정)\n",
    "# model = UNetWithLatentPaint(unet_model, latent_dim).to(device)  # unet_model, latent_dim은 미리 정의 필요\n",
    "# model = load_model(model, generator_path)\n",
    "model = model_with_latentpaint.to(device)\n",
    "model.eval()\n",
    "\n",
    "# 테스트 데이터 디렉토리 설정\n",
    "test_dir = \"./open/test_input\"  # 테스트 데이터 디렉토리 경로\n",
    "submission_dir = \"./open/submission\"\n",
    "os.makedirs(submission_dir, exist_ok=True)\n",
    "\n",
    "# 파일 리스트 불러오기\n",
    "test_images = sorted(os.listdir(test_dir))\n",
    "\n",
    "# 모든 테스트 이미지에 대해 추론 수행\n",
    "for image_name in test_images:\n",
    "    test_image_path = os.path.join(test_dir, image_name)\n",
    "\n",
    "    # 손상된 테스트 이미지 로드 및 전처리\n",
    "    test_image = load_image(test_image_path, transform).to(device)\n",
    "\n",
    "    with torch.no_grad():\n",
    "        # 모델로 예측\n",
    "        pred_image = model(test_image, mask=test_image)  # 여기서 mask는 이미지와 동일하게 설정 (흑백 마스킹된 이미지가 있다고 가정)\n",
    "        pred_image = pred_image.cpu().squeeze(0)  # 배치 차원 제거\n",
    "        pred_image = pred_image * 0.5 + 0.5  # 역정규화\n",
    "        pred_image = pred_image.numpy().transpose(1, 2, 0)  # HWC로 변경\n",
    "        pred_image = (pred_image * 255).astype('uint8')  # 0-255 범위로 변환\n",
    "        \n",
    "        # 예측된 이미지를 실제 이미지와 같은 512x512로 리사이즈\n",
    "        pred_image_resized = cv2.resize(pred_image, (512, 512), interpolation=cv2.INTER_LINEAR)\n",
    "\n",
    "    # 결과 이미지 저장\n",
    "    output_path = os.path.join(submission_dir, image_name)\n",
    "    cv2.imwrite(output_path, cv2.cvtColor(pred_image_resized, cv2.COLOR_RGB2BGR))    \n",
    "\n",
    "print(f\"Saved all images\")"
   ]
  },
  {
   "cell_type": "code",
   "execution_count": null,
   "metadata": {},
   "outputs": [
    {
     "name": "stdout",
     "output_type": "stream",
     "text": [
      "Saved all images\n"
     ]
    }
   ],
   "source": [
    "# 저장할 디렉토리 설정\n",
    "submission_dir = \"./open/submission\"\n",
    "os.makedirs(submission_dir, exist_ok=True)\n",
    "\n",
    "# 이미지 로드 및 전처리\n",
    "def load_image(image_path):\n",
    "    image = Image.open(image_path).convert(\"RGB\")\n",
    "    image = transform(image)\n",
    "    image = image.unsqueeze(0)  # 배치 차원을 추가합니다.\n",
    "    return image\n",
    "\n",
    "# 모델 경로 설정\n",
    "generator_path = os.path.join(model_save_dir, \"best_generator.pth\")\n",
    "\n",
    "# 모델 로드 및 설정\n",
    "model = UNetGenerator().to(device)\n",
    "model.load_state_dict(torch.load(generator_path))\n",
    "model.eval()\n",
    "\n",
    "# 파일 리스트 불러오기\n",
    "test_images = sorted(os.listdir(test_dir))\n",
    "\n",
    "# 모든 테스트 이미지에 대해 추론 수행\n",
    "for image_name in test_images:\n",
    "    test_image_path = os.path.join(test_dir, image_name)\n",
    "\n",
    "    # 손상된 테스트 이미지 로드 및 전처리\n",
    "    test_image = load_image(test_image_path).to(device)\n",
    "\n",
    "    with torch.no_grad():\n",
    "        # 모델로 예측\n",
    "        pred_image = model(test_image)\n",
    "        pred_image = pred_image.cpu().squeeze(0)  # 배치 차원 제거\n",
    "        pred_image = pred_image * 0.5 + 0.5  # 역정규화\n",
    "        pred_image = pred_image.numpy().transpose(1, 2, 0)  # HWC로 변경\n",
    "        pred_image = (pred_image * 255).astype('uint8')  # 0-255 범위로 변환\n",
    "        \n",
    "        # 예측된 이미지를 실제 이미지와 같은 512x512로 리사이즈\n",
    "        pred_image_resized = cv2.resize(pred_image, (512, 512), interpolation=cv2.INTER_LINEAR)\n",
    "\n",
    "    # 결과 이미지 저장\n",
    "    output_path = os.path.join(submission_dir, image_name)\n",
    "    cv2.imwrite(output_path, cv2.cvtColor(pred_image_resized, cv2.COLOR_RGB2BGR))    \n",
    "    \n",
    "print(f\"Saved all images\")"
   ]
  },
  {
   "cell_type": "markdown",
   "metadata": {},
   "source": [
    "# Submission"
   ]
  },
  {
   "cell_type": "code",
   "execution_count": 20,
   "metadata": {},
   "outputs": [
    {
     "name": "stdout",
     "output_type": "stream",
     "text": [
      "All images saved in submission.zip\n"
     ]
    }
   ],
   "source": [
    "# 저장된 결과 이미지를 ZIP 파일로 압축\n",
    "zip_filename = \"submission.zip\"\n",
    "with zipfile.ZipFile(zip_filename, 'w') as submission_zip:\n",
    "    for image_name in test_images:\n",
    "        image_path = os.path.join(submission_dir, image_name)\n",
    "        submission_zip.write(image_path, arcname=image_name)\n",
    "\n",
    "print(f\"All images saved in {zip_filename}\")"
   ]
  },
  {
   "cell_type": "code",
   "execution_count": null,
   "metadata": {},
   "outputs": [],
   "source": []
  }
 ],
 "metadata": {
  "kernelspec": {
   "display_name": "ml2",
   "language": "python",
   "name": "python3"
  },
  "language_info": {
   "codemirror_mode": {
    "name": "ipython",
    "version": 3
   },
   "file_extension": ".py",
   "mimetype": "text/x-python",
   "name": "python",
   "nbconvert_exporter": "python",
   "pygments_lexer": "ipython3",
   "version": "3.10.15"
  }
 },
 "nbformat": 4,
 "nbformat_minor": 2
}
