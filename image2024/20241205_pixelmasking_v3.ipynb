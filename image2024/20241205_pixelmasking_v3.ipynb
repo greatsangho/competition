{
 "cells": [
  {
   "cell_type": "markdown",
   "metadata": {},
   "source": [
    "주변 기준 판단 코드"
   ]
  },
  {
   "cell_type": "markdown",
   "metadata": {},
   "source": [
    "Test"
   ]
  },
  {
   "cell_type": "code",
   "execution_count": 1,
   "metadata": {},
   "outputs": [],
   "source": [
    "import numpy as np\n",
    "from PIL import Image\n",
    "from collections import deque\n",
    "from glob import glob\n",
    "from tqdm import tqdm\n",
    "\n",
    "# Function to identify contiguous pixels and convert to array\n",
    "def contiguous_pixels_to_array(img_array):\n",
    "    visited = np.zeros_like(img_array, dtype=bool)\n",
    "    arrays = []\n",
    "    directions = [(1, 0), (-1, 0), (0, 1), (0, -1)]\n",
    "    \n",
    "    def bfs(x, y, val):\n",
    "        queue = deque([(x, y)])\n",
    "        current_array = []\n",
    "        while queue:\n",
    "            cx, cy = queue.pop()\n",
    "            if cx < 0 or cx >= img_array.shape[0] or cy < 0 or cy >= img_array.shape[1]:\n",
    "                continue\n",
    "            if visited[cx, cy] or img_array[cx, cy] != val:\n",
    "                continue\n",
    "            \n",
    "            visited[cx, cy] = True\n",
    "            current_array.append((cx, cy))\n",
    "            for dx, dy in directions:\n",
    "                nx, ny = cx + dx, cy + dy\n",
    "                queue.append((nx, ny))\n",
    "        return current_array\n",
    "\n",
    "    for i in range(img_array.shape[0]):\n",
    "        for j in range(img_array.shape[1]):\n",
    "            if not visited[i, j]:\n",
    "                current_array = bfs(i, j, img_array[i, j])\n",
    "                if len(current_array) > 0:\n",
    "                    arrays.append(current_array)\n",
    "\n",
    "    return arrays\n",
    "\n",
    "# Filter out contiguous regions that are less than min_size pixels long\n",
    "def filter_large_regions(contiguous_arrays, min_size):\n",
    "    return [region for region in contiguous_arrays if len(region) >= min_size]"
   ]
  },
  {
   "cell_type": "code",
   "execution_count": null,
   "metadata": {},
   "outputs": [
    {
     "name": "stderr",
     "output_type": "stream",
     "text": [
      "100%|██████████| 1/1 [00:00<00:00,  1.90it/s]\n"
     ]
    }
   ],
   "source": [
    "img_list = sorted(glob('./open/test_input/TEST_006.png')) # 6,16,36,44,\n",
    "for Testimage in tqdm(img_list):\n",
    "    # Load image\n",
    "    img = Image.open(Testimage)\n",
    "\n",
    "    # Convert image to grayscale\n",
    "    img_gray = img.convert('L')\n",
    "\n",
    "    # Convert grayscale image to numpy array\n",
    "    img_array = np.array(img_gray)\n",
    "\n",
    "    # Get arrays of contiguous pixels\n",
    "    contiguous_arrays = contiguous_pixels_to_array(img_array)\n",
    "\n",
    "    # Attempt to filter regions with decreasing min_size until some are found\n",
    "    min_sizes = [1800, 750]\n",
    "    good_regions = []\n",
    "    for min_size in min_sizes:\n",
    "        good_regions = filter_large_regions(contiguous_arrays, min_size)\n",
    "        if good_regions:\n",
    "            break\n",
    "\n",
    "    # Create a binary image where contiguous regions of sufficient length are set to 1\n",
    "    binary_image = np.zeros_like(img_array, dtype=np.uint8)\n",
    "    \n",
    "    for region in good_regions:\n",
    "        for x, y in region:\n",
    "            binary_image[x, y] = 1\n",
    "\n",
    "    # Convert binary image to a PIL image\n",
    "    binary_img = Image.fromarray((binary_image * 255).astype(np.uint8))\n",
    "\n",
    "    # Save the binary image as a PNG file\n",
    "    binary_img.save(f'./MASK_{Testimage.split(\"/\")[-1]}')"
   ]
  },
  {
   "cell_type": "markdown",
   "metadata": {},
   "source": [
    "Output"
   ]
  },
  {
   "cell_type": "code",
   "execution_count": 6,
   "metadata": {},
   "outputs": [
    {
     "name": "stderr",
     "output_type": "stream",
     "text": [
      "100%|██████████| 1/1 [00:00<00:00,  1.73it/s]\n"
     ]
    }
   ],
   "source": [
    "import numpy as np\n",
    "from PIL import Image\n",
    "from collections import deque\n",
    "from glob import glob\n",
    "from tqdm import tqdm\n",
    "from scipy.ndimage import binary_dilation\n",
    "\n",
    "# Function to identify contiguous pixels and convert to array\n",
    "def contiguous_pixels_to_array(img_array):\n",
    "    visited = np.zeros_like(img_array, dtype=bool)\n",
    "    arrays = []\n",
    "    directions = [(1, 0), (-1, 0), (0, 1), (0, -1)]\n",
    "    \n",
    "    def bfs(x, y, val):\n",
    "        queue = deque([(x, y)])\n",
    "        current_array = []\n",
    "        while queue:\n",
    "            cx, cy = queue.pop()\n",
    "            if cx < 0 or cx >= img_array.shape[0] or cy < 0 or cy >= img_array.shape[1]:\n",
    "                continue\n",
    "            if visited[cx, cy] or img_array[cx, cy] != val:\n",
    "                continue\n",
    "            \n",
    "            visited[cx, cy] = True\n",
    "            current_array.append((cx, cy))\n",
    "            for dx, dy in directions:\n",
    "                nx, ny = cx + dx, cy + dy\n",
    "                queue.append((nx, ny))\n",
    "        return current_array\n",
    "\n",
    "    for i in range(img_array.shape[0]):\n",
    "        for j in range(img_array.shape[1]):\n",
    "            if not visited[i, j]:\n",
    "                current_array = bfs(i, j, img_array[i, j])\n",
    "                if len(current_array) > 0:\n",
    "                    arrays.append(current_array)\n",
    "\n",
    "    return arrays\n",
    "\n",
    "# Filter out contiguous regions that are less than min_size pixels long\n",
    "def filter_large_regions(contiguous_arrays, min_size):\n",
    "    return [region for region in contiguous_arrays if len(region) >= min_size]\n",
    "\n",
    "img_list = sorted(glob('./open/test_input/*006.png')) # 6,16,36,44,\n",
    "for Testimage in tqdm(img_list):\n",
    "    # Load image\n",
    "    img = Image.open(Testimage)\n",
    "\n",
    "    # Convert image to grayscale\n",
    "    img_gray = img.convert('L')\n",
    "\n",
    "    # Convert grayscale image to numpy array\n",
    "    img_array = np.array(img_gray)\n",
    "\n",
    "    # Get arrays of contiguous pixels\n",
    "    contiguous_arrays = contiguous_pixels_to_array(img_array)\n",
    "\n",
    "    # Attempt to filter regions with decreasing min_size until some are found\n",
    "    min_sizes = [1800, 750]\n",
    "    good_regions = []\n",
    "    for min_size in min_sizes:\n",
    "        good_regions = filter_large_regions(contiguous_arrays, min_size)\n",
    "        if good_regions:\n",
    "            break\n",
    "\n",
    "    # Create a binary image where contiguous regions of sufficient length are set to 1\n",
    "    binary_image = np.zeros_like(img_array, dtype=np.uint8)\n",
    "    \n",
    "    for region in good_regions:\n",
    "        for x, y in region:\n",
    "            binary_image[x, y] = 1\n",
    "\n",
    "    # Expand the regions by 10 pixels using binary dilation\n",
    "    structure_element = np.ones((30, 30))  # Create a structuring element of size 21x21 (10 pixels on each side)\n",
    "    expanded_binary_image = binary_dilation(binary_image, structure=structure_element).astype(np.uint8)\n",
    "\n",
    "    # Convert expanded binary image to a PIL image\n",
    "    expanded_binary_img = Image.fromarray((expanded_binary_image * 255).astype(np.uint8))\n",
    "\n",
    "    # Save the expanded binary image as a PNG file\n",
    "    expanded_binary_img.save(f'./EXPANDED_MASK_{Testimage.split(\"/\")[-1]}')"
   ]
  },
  {
   "cell_type": "code",
   "execution_count": 7,
   "metadata": {},
   "outputs": [
    {
     "name": "stderr",
     "output_type": "stream",
     "text": [
      "100%|██████████| 100/100 [01:08<00:00,  1.46it/s]\n"
     ]
    }
   ],
   "source": [
    "import numpy as np\n",
    "from PIL import Image\n",
    "from collections import deque\n",
    "from glob import glob\n",
    "from tqdm import tqdm\n",
    "from scipy.ndimage import binary_dilation\n",
    "\n",
    "# Function to identify contiguous pixels and convert to array\n",
    "def contiguous_pixels_to_array(img_array):\n",
    "    visited = np.zeros_like(img_array, dtype=bool)\n",
    "    arrays = []\n",
    "    directions = [(1, 0), (-1, 0), (0, 1), (0, -1)]\n",
    "    \n",
    "    def bfs(x, y, val):\n",
    "        queue = deque([(x, y)])\n",
    "        current_array = []\n",
    "        while queue:\n",
    "            cx, cy = queue.pop()\n",
    "            if cx < 0 or cx >= img_array.shape[0] or cy < 0 or cy >= img_array.shape[1]:\n",
    "                continue\n",
    "            if visited[cx, cy] or img_array[cx, cy] != val:\n",
    "                continue\n",
    "            \n",
    "            visited[cx, cy] = True\n",
    "            current_array.append((cx, cy))\n",
    "            for dx, dy in directions:\n",
    "                nx, ny = cx + dx, cy + dy\n",
    "                queue.append((nx, ny))\n",
    "        return current_array\n",
    "\n",
    "    for i in range(img_array.shape[0]):\n",
    "        for j in range(img_array.shape[1]):\n",
    "            if not visited[i, j]:\n",
    "                current_array = bfs(i, j, img_array[i, j])\n",
    "                if len(current_array) > 0:\n",
    "                    arrays.append(current_array)\n",
    "\n",
    "    return arrays\n",
    "\n",
    "# Filter out contiguous regions that are less than min_size pixels long\n",
    "def filter_large_regions(contiguous_arrays, min_size):\n",
    "    return [region for region in contiguous_arrays if len(region) >= min_size]\n",
    "\n",
    "img_list = sorted(glob('./open/test_input/*.png')) # 6,16,36,44,\n",
    "for Testimage in tqdm(img_list):\n",
    "    # Load image\n",
    "    img = Image.open(Testimage)\n",
    "\n",
    "    # Convert image to grayscale\n",
    "    img_gray = img.convert('L')\n",
    "\n",
    "    # Convert grayscale image to numpy array\n",
    "    img_array = np.array(img_gray)\n",
    "\n",
    "    # Get arrays of contiguous pixels\n",
    "    contiguous_arrays = contiguous_pixels_to_array(img_array)\n",
    "\n",
    "    # Attempt to filter regions with decreasing min_size until some are found\n",
    "    min_sizes = [1800, 750]\n",
    "    good_regions = []\n",
    "    for min_size in min_sizes:\n",
    "        good_regions = filter_large_regions(contiguous_arrays, min_size)\n",
    "        if good_regions:\n",
    "            break\n",
    "\n",
    "    # Create a binary image where contiguous regions of sufficient length are set to 1\n",
    "    binary_image = np.zeros_like(img_array, dtype=np.uint8)\n",
    "    \n",
    "    for region in good_regions:\n",
    "        for x, y in region:\n",
    "            binary_image[x, y] = 1\n",
    "\n",
    "    # Expand the regions by 10 pixels using binary dilation\n",
    "    structure_element = np.ones((30, 30))  # Create a structuring element of size 21x21 (10 pixels on each side)\n",
    "    expanded_binary_image = binary_dilation(binary_image, structure=structure_element).astype(np.uint8)\n",
    "\n",
    "    # Convert expanded binary image to a PIL image\n",
    "    expanded_binary_img = Image.fromarray((expanded_binary_image * 255).astype(np.uint8))\n",
    "\n",
    "    # Save the expanded binary image as a PNG file\n",
    "    expanded_binary_img.save(f'./exp_masked/EXPANDED_MASK_{Testimage.split(\"/\")[-1]}')"
   ]
  },
  {
   "cell_type": "code",
   "execution_count": 8,
   "metadata": {},
   "outputs": [
    {
     "data": {
      "text/plain": [
       "'/home/sangho/ML/competition/image2024/exp_masked.zip'"
      ]
     },
     "execution_count": 8,
     "metadata": {},
     "output_type": "execute_result"
    }
   ],
   "source": [
    "import shutil\n",
    "# Compress the directory 'dir_name' into a zip file 'output_filename.zip'\n",
    "shutil.make_archive('exp_masked', 'zip', './exp_masked')"
   ]
  },
  {
   "cell_type": "code",
   "execution_count": null,
   "metadata": {},
   "outputs": [],
   "source": []
  }
 ],
 "metadata": {
  "kernelspec": {
   "display_name": "ml3",
   "language": "python",
   "name": "python3"
  },
  "language_info": {
   "codemirror_mode": {
    "name": "ipython",
    "version": 3
   },
   "file_extension": ".py",
   "mimetype": "text/x-python",
   "name": "python",
   "nbconvert_exporter": "python",
   "pygments_lexer": "ipython3",
   "version": "3.10.15"
  }
 },
 "nbformat": 4,
 "nbformat_minor": 2
}
