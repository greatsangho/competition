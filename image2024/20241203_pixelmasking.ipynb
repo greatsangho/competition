{
 "cells": [
  {
   "cell_type": "markdown",
   "metadata": {},
   "source": [
    "주변 기준 판단 코드"
   ]
  },
  {
   "cell_type": "code",
   "execution_count": 1,
   "metadata": {},
   "outputs": [],
   "source": [
    "import numpy as np\n",
    "from PIL import Image\n",
    "from collections import deque\n",
    "from glob import glob\n",
    "from tqdm import tqdm\n",
    "\n",
    "# Function to identify contiguous pixels and convert to array\n",
    "def contiguous_pixels_to_array(img_array):\n",
    "    visited = np.zeros_like(img_array, dtype=bool)\n",
    "    arrays = []\n",
    "    directions = [(1, 0), (-1, 0), (0, 1), (0, -1)]\n",
    "    \n",
    "    def bfs(x, y, val):\n",
    "        queue = deque([(x, y)])\n",
    "        current_array = []\n",
    "        while queue:\n",
    "            cx, cy = queue.pop()\n",
    "            if cx < 0 or cx >= img_array.shape[0] or cy < 0 or cy >= img_array.shape[1]:\n",
    "                continue\n",
    "            if visited[cx, cy] or img_array[cx, cy] != val:\n",
    "                continue\n",
    "            \n",
    "            visited[cx, cy] = True\n",
    "            current_array.append((cx, cy))\n",
    "            for dx, dy in directions:\n",
    "                nx, ny = cx + dx, cy + dy\n",
    "                queue.append((nx, ny))\n",
    "        return current_array\n",
    "\n",
    "    for i in range(img_array.shape[0]):\n",
    "        for j in range(img_array.shape[1]):\n",
    "            if not visited[i, j]:\n",
    "                current_array = bfs(i, j, img_array[i, j])\n",
    "                if len(current_array) > 0:\n",
    "                    arrays.append(current_array)\n",
    "\n",
    "    return arrays\n",
    "\n",
    "# Filter out contiguous regions that are less than 10 pixels long\n",
    "def filter_large_regions(contiguous_arrays, min_size=750): # 750\n",
    "    return [region for region in contiguous_arrays if len(region) >= min_size]\n"
   ]
  },
  {
   "cell_type": "markdown",
   "metadata": {},
   "source": [
    "TEST"
   ]
  },
  {
   "cell_type": "code",
   "execution_count": null,
   "metadata": {},
   "outputs": [
    {
     "name": "stderr",
     "output_type": "stream",
     "text": [
      " 61%|██████    | 61/100 [00:00<00:00, 107.70it/s]\n"
     ]
    }
   ],
   "source": [
    "img_list = sorted(glob('./open/test_input/*.png'))\n",
    "for Testimage in tqdm(img_list):\n",
    "    if Testimage.split(\"/\")[-1].split(\".\")[0] == 'TEST_061':\n",
    "        # Load image\n",
    "        img = Image.open(Testimage)\n",
    "        # 37, 47, \n",
    "\n",
    "        # Convert image to grayscale\n",
    "        img_gray = img.convert('L')\n",
    "\n",
    "        # Convert grayscale image to numpy array\n",
    "        img_array = np.array(img_gray)\n",
    "\n",
    "        # Get arrays of contiguous pixels\n",
    "        contiguous_arrays = contiguous_pixels_to_array(img_array)\n",
    "\n",
    "        good_regions = filter_large_regions(contiguous_arrays)\n",
    "\n",
    "        # Create a binary image where contiguous regions of length 10 or more are set to 1\n",
    "        binary_image = np.zeros_like(img_array, dtype=np.uint8)\n",
    "\n",
    "        for region in good_regions:\n",
    "            for x, y in region:\n",
    "                binary_image[x, y] = 1\n",
    "        # 마스크 반대로!\n",
    "        invert_bin = 1 - binary_image\n",
    "        # Convert binary image to a PIL image\n",
    "        binary_img = Image.fromarray((invert_bin * 255).astype(np.uint8))\n",
    "\n",
    "        # Save the binary image as a PNG file\n",
    "        binary_img.save(f'./MASK_{Testimage.split(\"/\")[-1]}')\n",
    "        break"
   ]
  },
  {
   "cell_type": "markdown",
   "metadata": {},
   "source": [
    "OUTPUT"
   ]
  },
  {
   "cell_type": "code",
   "execution_count": 6,
   "metadata": {},
   "outputs": [
    {
     "name": "stderr",
     "output_type": "stream",
     "text": [
      "100%|██████████| 100/100 [00:55<00:00,  1.79it/s]\n"
     ]
    }
   ],
   "source": [
    "img_list = sorted(glob('./open/test_input/*.png'))\n",
    "for Testimage in tqdm(img_list):\n",
    "# Load image\n",
    "    img = Image.open(Testimage)\n",
    "    # 37, 47, \n",
    "\n",
    "    # Convert image to grayscale\n",
    "    img_gray = img.convert('L')\n",
    "\n",
    "    # Convert grayscale image to numpy array\n",
    "    img_array = np.array(img_gray)\n",
    "\n",
    "    # Get arrays of contiguous pixels\n",
    "    contiguous_arrays = contiguous_pixels_to_array(img_array)\n",
    "\n",
    "    good_regions = filter_large_regions(contiguous_arrays)\n",
    "\n",
    "    # Create a binary image where contiguous regions of length 10 or more are set to 1\n",
    "    binary_image = np.zeros_like(img_array, dtype=np.uint8)\n",
    "\n",
    "    for region in good_regions:\n",
    "        for x, y in region:\n",
    "            binary_image[x, y] = 1\n",
    "    invert_bin = 1 - binary_image\n",
    "    # Convert binary image to a PIL image\n",
    "    binary_img = Image.fromarray((invert_bin * 255).astype(np.uint8))\n",
    "\n",
    "    # Save the binary image as a PNG file\n",
    "    binary_img.save(f'./masked/MASK_{Testimage.split(\"/\")[-1]}')"
   ]
  },
  {
   "cell_type": "code",
   "execution_count": 4,
   "metadata": {},
   "outputs": [
    {
     "name": "stdout",
     "output_type": "stream",
     "text": [
      " 20241114_model1.ipynb\n",
      " 20241120_LatentPaint.ipynb\n",
      " 20241120_RAM.ipynb\n",
      " 20241120_model2.ipynb\n",
      " 20241121_pathchange.ipynb\n",
      " 20241121_pathchange.ipynb:Zone.Identifier\n",
      " 20241122_doublemodel.ipynb\n",
      " 20241122_doublemodel.ipynb:Zone.Identifier\n",
      " 20241203_pixelmasking.ipynb\n",
      " LaMa_inpainting_ipynb의_다른_사본.ipynb\n",
      " LaMa_inpainting_local.ipynb\n",
      " baseline.ipynb\n",
      " baseline.ipynb:Zone.Identifier\n",
      " big-lama\n",
      " big-lama.zip\n",
      " contiguous_regions.png\n",
      " data_for_prediction\n",
      " lama\n",
      " masked\n",
      " model\n",
      " open\n",
      "'public_0.50486) 2 stage U-net 학습 템플릿.ipynb'\n",
      " submission.zip\n",
      " train-yolov8-instance-segmentation-on-custom-dataset.ipynb\n",
      " train-yolov8-instance-segmentation-on-custom-dataset.ipynb:Zone.Identifier\n",
      "'평가_Metric 함수 (전체 SSIM, 손실 영역 SSIM, 색상 유사도).ipynb'\n"
     ]
    }
   ],
   "source": [
    "!ls"
   ]
  },
  {
   "cell_type": "code",
   "execution_count": null,
   "metadata": {},
   "outputs": [],
   "source": []
  }
 ],
 "metadata": {
  "kernelspec": {
   "display_name": "ml3",
   "language": "python",
   "name": "python3"
  },
  "language_info": {
   "codemirror_mode": {
    "name": "ipython",
    "version": 3
   },
   "file_extension": ".py",
   "mimetype": "text/x-python",
   "name": "python",
   "nbconvert_exporter": "python",
   "pygments_lexer": "ipython3",
   "version": "3.10.15"
  }
 },
 "nbformat": 4,
 "nbformat_minor": 2
}
