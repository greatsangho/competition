{
 "cells": [
  {
   "cell_type": "code",
   "execution_count": null,
   "id": "474365c6-7d4b-4bc0-8ac3-34174e578a2c",
   "metadata": {},
   "outputs": [],
   "source": [
    "import cv2\n",
    "import numpy as np\n",
    "from skimage.metrics import structural_similarity as ssim\n",
    "\n",
    "def ssim_score(true, pred):\n",
    "    # 전체 RGB 이미지를 사용해 SSIM 계산 (channel_axis=-1)\n",
    "    ssim_value = ssim(true, pred, channel_axis=-1, data_range=pred.max() - pred.min())\n",
    "    return ssim_value\n",
    "\n",
    "def masked_ssim_score(true, pred, mask):\n",
    "    # 손실 영역의 좌표에서만 RGB 채널별 픽셀 값 추출\n",
    "    true_masked_pixels = true[mask > 0]\n",
    "    pred_masked_pixels = pred[mask > 0]\n",
    "    \n",
    "    # 손실 영역 픽셀만으로 SSIM 계산 (채널축 사용)\n",
    "    ssim_value = ssim(\n",
    "        true_masked_pixels, \n",
    "        pred_masked_pixels, \n",
    "        channel_axis=-1, \n",
    "        data_range=pred.max() - pred.min()\n",
    "    )\n",
    "    return ssim_value\n",
    "\n",
    "def histogram_similarity(true, pred):\n",
    "    # BGR 이미지를 HSV로 변환\n",
    "    true_hsv = cv2.cvtColor(true, cv2.COLOR_BGR2HSV)\n",
    "    pred_hsv = cv2.cvtColor(pred, cv2.COLOR_BGR2HSV)\n",
    "\n",
    "    # H 채널에서 히스토그램 계산 및 정규화\n",
    "    hist_true = cv2.calcHist([true_hsv], [0], None, [180], [0, 180])\n",
    "    hist_pred = cv2.calcHist([pred_hsv], [0], None, [180], [0, 180])\n",
    "    hist_true = cv2.normalize(hist_true, hist_true).flatten()\n",
    "    hist_pred = cv2.normalize(hist_pred, hist_pred).flatten()\n",
    "\n",
    "    # 히스토그램 간 유사도 계산 (상관 계수 사용)\n",
    "    similarity = cv2.compareHist(hist_true, hist_pred, cv2.HISTCMP_CORREL)\n",
    "    return similarity"
   ]
  }
 ],
 "metadata": {
  "kernelspec": {
   "display_name": "Python 3 (ipykernel)",
   "language": "python",
   "name": "python3"
  },
  "language_info": {
   "codemirror_mode": {
    "name": "ipython",
    "version": 3
   },
   "file_extension": ".py",
   "mimetype": "text/x-python",
   "name": "python",
   "nbconvert_exporter": "python",
   "pygments_lexer": "ipython3",
   "version": "3.8.3"
  }
 },
 "nbformat": 4,
 "nbformat_minor": 5
}
