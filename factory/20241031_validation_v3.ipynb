{
 "cells": [
  {
   "cell_type": "markdown",
   "metadata": {},
   "source": [
    "1. furnance와 molten_volume 둘다 없는 것 'D'로 나머지 furnance 'C' -> 'D' 모두 드랍 (O)\n",
    "2. 이상치 처리 \n",
    "    - lof, iso 유지 (O)\n",
    "    - 이상치 처리 방식 추가\n",
    "        1. IQR 방식\n",
    "            - IQR의 계수를 10까지 늘렸을 떄,\n",
    "                - 데이터 수 : 92014 -> 46650\n",
    "                - 불합격 데이터 비율 : 4.36% -> 1.04% (fail 데이터가 4000여개 중 3500여개 사라짐)\n",
    "            - 10 이상으로 늘려도 값은 같았음\n",
    "            - 결론 : 적용하지 않는 것이 좋겠음\n",
    "        2. Percentile\n",
    "3. 불균형 처리\n",
    "    - ADASYN 추가\n",
    "    - (선택) mold_code 기준 많은 code만 제거 (8722, 8412 -> 20000, 8917->30000)\n",
    "4. PCA"
   ]
  },
  {
   "cell_type": "markdown",
   "metadata": {},
   "source": [
    "# Data Load"
   ]
  },
  {
   "cell_type": "code",
   "execution_count": 11,
   "metadata": {},
   "outputs": [
    {
     "name": "stdout",
     "output_type": "stream",
     "text": [
      "==================== [Data Process Start] ==================== \n",
      "\n",
      "[process Log] Loading Raw Data...\n",
      "[process Log] Done\n",
      "\n",
      "[process Log] Processing Nan Value...\n",
      "[process Log] Done\n",
      "\n",
      "[process Log] Encoding Categorical Features...\n",
      "[process Log] Done\n",
      "\n",
      "[process Log] Removing Outliers (IsoForest)...\n",
      "[Outlier-Remover Log] With Outliers Shape : (92014, 23)\n",
      "[Outlier-Remover Log] Without Outliers Shape : (91323, 23)\n",
      "[process Log] Done\n",
      "\n",
      "[process Log] T-Testing...\n",
      "[process Log] Done\n",
      "\n",
      "[process Log] Data Scaling (MinMaxScaler)...\n",
      "[process Log] Done\n",
      "\n",
      "[process Log] Train Test Spliting...\n",
      "[process Log] Done\n",
      "\n",
      "[process Log] Data Resampling...\n",
      "[process Log] Done\n",
      "\n",
      "train : [1 0]\n",
      "test : [1 0]\n",
      "======================= [Done] =======================\n"
     ]
    }
   ],
   "source": [
    "from kamp.preprocess import KampDataLoader\n",
    "\n",
    "DATA_PATH = './data/경진대회용 주조 공정최적화 데이터셋.csv'\n",
    "\n",
    "data_loader = KampDataLoader(\n",
    "    path = DATA_PATH,\n",
    "\n",
    "    outlier_method='iso',\n",
    "    iso_outlier_rate=0.0075, # 0.0075\n",
    "\n",
    "    p_threshold=0.05,\n",
    "    get_useful_p_data=True,\n",
    "                             \n",
    "    do_resample=False,\n",
    "    downsampled_pass_rate=1.0,\n",
    "    upsampled_total_fail_rate=0.40\n",
    ")\n",
    "\n",
    "data_loader.process()\n",
    "\n",
    "data = data_loader.load()\n",
    "\n",
    "x_train = data['train_data']\n",
    "y_train = data['train_label']\n",
    "x_test = data['test_data']\n",
    "y_test=  data['test_label']"
   ]
  },
  {
   "cell_type": "markdown",
   "metadata": {},
   "source": [
    "# Modeling"
   ]
  },
  {
   "cell_type": "code",
   "execution_count": 12,
   "metadata": {},
   "outputs": [],
   "source": [
    "from sklearn.model_selection import StratifiedShuffleSplit\n",
    "from lightgbm import LGBMClassifier\n",
    "from sklearn.metrics import f1_score, classification_report, confusion_matrix\n",
    "import pandas as pd\n",
    "import seaborn as sns\n",
    "import matplotlib.pyplot as plt\n",
    "\n",
    "strat_folder = StratifiedShuffleSplit(\n",
    "    n_splits=10,\n",
    "    random_state=42,\n",
    "    test_size=0.2\n",
    ")"
   ]
  },
  {
   "cell_type": "code",
   "execution_count": 13,
   "metadata": {},
   "outputs": [],
   "source": [
    "def modelTest(model):\n",
    "    fold_f1_score = []\n",
    "    n_iter = 0\n",
    "    idx_list = []\n",
    "\n",
    "    for train_idx, val_idx in strat_folder.split(x_train, y_train):\n",
    "        train_data, val_data = x_train.iloc[train_idx], x_train.iloc[val_idx]\n",
    "        train_label, val_label = y_train.iloc[train_idx], y_train.iloc[val_idx]\n",
    "\n",
    "        model.fit(train_data, train_label)\n",
    "\n",
    "        val_pred = model.predict(val_data)\n",
    "        val_f1_score = f1_score(val_label, val_pred)\n",
    "        val_report = classification_report(val_label, val_pred)\n",
    "\n",
    "        n_iter += 1\n",
    "        fold_f1_score.append([n_iter, val_f1_score])\n",
    "        idx_list.append([train_idx, val_idx])\n",
    "\n",
    "        print(f\"StratifiedShuffleSplit {n_iter} 검증 데이터 f1 score : {val_report}\")\n",
    "\n",
    "    fold_f1_score.sort(key=lambda x : x[1], reverse=True)\n",
    "    print(pd.DataFrame(fold_f1_score, columns=['Fold', 'F1']))\n",
    "\n",
    "    best_fold_train_idx = idx_list[fold_f1_score[0][0]-1][0]\n",
    "    best_fold_val_idx = idx_list[fold_f1_score[0][0]-1][1]\n",
    "    model.fit(x_train.iloc[best_fold_train_idx], y_train.iloc[best_fold_train_idx])\n",
    "\n",
    "    plt.figure(figsize=(15,5))\n",
    "\n",
    "    # validation\n",
    "    plt.subplot(1,2,1)\n",
    "    pred = model.predict(x_train.iloc[best_fold_val_idx])\n",
    "    cm = confusion_matrix(y_train[best_fold_val_idx], pred)\n",
    "    sns.heatmap(cm, annot=True, fmt='.0f')\n",
    "\n",
    "    # test\n",
    "    plt.subplot(1,2,2)\n",
    "    pred = model.predict(x_test)\n",
    "    cm = confusion_matrix(y_test, pred)\n",
    "    sns.heatmap(cm, annot=True, fmt='.0f')\n",
    "    plt.show()\n",
    "\n",
    "    print(classification_report(y_test, pred))\n",
    "    print(f'test f1_score : {f1_score(y_test, pred)}')"
   ]
  },
  {
   "cell_type": "markdown",
   "metadata": {},
   "source": [
    "# LGBM"
   ]
  },
  {
   "cell_type": "code",
   "execution_count": 14,
   "metadata": {},
   "outputs": [
    {
     "name": "stdout",
     "output_type": "stream",
     "text": [
      "[LightGBM] [Info] Number of positive: 22527, number of negative: 56318\n",
      "[LightGBM] [Info] Auto-choosing col-wise multi-threading, the overhead of testing was 0.004026 seconds.\n",
      "You can set `force_col_wise=true` to remove the overhead.\n",
      "[LightGBM] [Info] Total Bins 3574\n",
      "[LightGBM] [Info] Number of data points in the train set: 78845, number of used features: 19\n",
      "[LightGBM] [Info] [binary:BoostFromScore]: pavg=0.285712 -> initscore=-0.916300\n",
      "[LightGBM] [Info] Start training from score -0.916300\n",
      "StratifiedShuffleSplit 1 검증 데이터 f1 score :               precision    recall  f1-score   support\n",
      "\n",
      "         0.0       1.00      1.00      1.00     14080\n",
      "         1.0       0.99      0.99      0.99      5632\n",
      "\n",
      "    accuracy                           1.00     19712\n",
      "   macro avg       1.00      0.99      0.99     19712\n",
      "weighted avg       1.00      1.00      1.00     19712\n",
      "\n",
      "[LightGBM] [Info] Number of positive: 22527, number of negative: 56318\n",
      "[LightGBM] [Info] Auto-choosing col-wise multi-threading, the overhead of testing was 0.003991 seconds.\n",
      "You can set `force_col_wise=true` to remove the overhead.\n",
      "[LightGBM] [Info] Total Bins 3574\n",
      "[LightGBM] [Info] Number of data points in the train set: 78845, number of used features: 19\n",
      "[LightGBM] [Info] [binary:BoostFromScore]: pavg=0.285712 -> initscore=-0.916300\n",
      "[LightGBM] [Info] Start training from score -0.916300\n",
      "StratifiedShuffleSplit 2 검증 데이터 f1 score :               precision    recall  f1-score   support\n",
      "\n",
      "         0.0       1.00      1.00      1.00     14080\n",
      "         1.0       0.99      0.99      0.99      5632\n",
      "\n",
      "    accuracy                           1.00     19712\n",
      "   macro avg       1.00      1.00      1.00     19712\n",
      "weighted avg       1.00      1.00      1.00     19712\n",
      "\n",
      "[LightGBM] [Info] Number of positive: 22527, number of negative: 56318\n",
      "[LightGBM] [Info] Auto-choosing col-wise multi-threading, the overhead of testing was 0.003807 seconds.\n",
      "You can set `force_col_wise=true` to remove the overhead.\n",
      "[LightGBM] [Info] Total Bins 3573\n",
      "[LightGBM] [Info] Number of data points in the train set: 78845, number of used features: 19\n",
      "[LightGBM] [Info] [binary:BoostFromScore]: pavg=0.285712 -> initscore=-0.916300\n",
      "[LightGBM] [Info] Start training from score -0.916300\n",
      "StratifiedShuffleSplit 3 검증 데이터 f1 score :               precision    recall  f1-score   support\n",
      "\n",
      "         0.0       1.00      1.00      1.00     14080\n",
      "         1.0       0.99      1.00      0.99      5632\n",
      "\n",
      "    accuracy                           1.00     19712\n",
      "   macro avg       1.00      1.00      1.00     19712\n",
      "weighted avg       1.00      1.00      1.00     19712\n",
      "\n",
      "[LightGBM] [Info] Number of positive: 22527, number of negative: 56318\n",
      "[LightGBM] [Info] Auto-choosing col-wise multi-threading, the overhead of testing was 0.003497 seconds.\n",
      "You can set `force_col_wise=true` to remove the overhead.\n",
      "[LightGBM] [Info] Total Bins 3573\n",
      "[LightGBM] [Info] Number of data points in the train set: 78845, number of used features: 19\n",
      "[LightGBM] [Info] [binary:BoostFromScore]: pavg=0.285712 -> initscore=-0.916300\n",
      "[LightGBM] [Info] Start training from score -0.916300\n",
      "StratifiedShuffleSplit 4 검증 데이터 f1 score :               precision    recall  f1-score   support\n",
      "\n",
      "         0.0       1.00      1.00      1.00     14080\n",
      "         1.0       0.99      0.99      0.99      5632\n",
      "\n",
      "    accuracy                           1.00     19712\n",
      "   macro avg       1.00      1.00      1.00     19712\n",
      "weighted avg       1.00      1.00      1.00     19712\n",
      "\n",
      "[LightGBM] [Info] Number of positive: 22527, number of negative: 56318\n",
      "[LightGBM] [Info] Auto-choosing col-wise multi-threading, the overhead of testing was 0.003542 seconds.\n",
      "You can set `force_col_wise=true` to remove the overhead.\n",
      "[LightGBM] [Info] Total Bins 3573\n",
      "[LightGBM] [Info] Number of data points in the train set: 78845, number of used features: 19\n",
      "[LightGBM] [Info] [binary:BoostFromScore]: pavg=0.285712 -> initscore=-0.916300\n",
      "[LightGBM] [Info] Start training from score -0.916300\n",
      "StratifiedShuffleSplit 5 검증 데이터 f1 score :               precision    recall  f1-score   support\n",
      "\n",
      "         0.0       1.00      1.00      1.00     14080\n",
      "         1.0       0.99      0.99      0.99      5632\n",
      "\n",
      "    accuracy                           1.00     19712\n",
      "   macro avg       1.00      1.00      1.00     19712\n",
      "weighted avg       1.00      1.00      1.00     19712\n",
      "\n",
      "[LightGBM] [Info] Number of positive: 22527, number of negative: 56318\n",
      "[LightGBM] [Info] Auto-choosing col-wise multi-threading, the overhead of testing was 0.004651 seconds.\n",
      "You can set `force_col_wise=true` to remove the overhead.\n",
      "[LightGBM] [Info] Total Bins 3573\n",
      "[LightGBM] [Info] Number of data points in the train set: 78845, number of used features: 19\n",
      "[LightGBM] [Info] [binary:BoostFromScore]: pavg=0.285712 -> initscore=-0.916300\n",
      "[LightGBM] [Info] Start training from score -0.916300\n",
      "StratifiedShuffleSplit 6 검증 데이터 f1 score :               precision    recall  f1-score   support\n",
      "\n",
      "         0.0       1.00      1.00      1.00     14080\n",
      "         1.0       0.99      0.99      0.99      5632\n",
      "\n",
      "    accuracy                           1.00     19712\n",
      "   macro avg       1.00      1.00      1.00     19712\n",
      "weighted avg       1.00      1.00      1.00     19712\n",
      "\n",
      "[LightGBM] [Info] Number of positive: 22527, number of negative: 56318\n",
      "[LightGBM] [Info] Auto-choosing col-wise multi-threading, the overhead of testing was 0.004333 seconds.\n",
      "You can set `force_col_wise=true` to remove the overhead.\n",
      "[LightGBM] [Info] Total Bins 3574\n",
      "[LightGBM] [Info] Number of data points in the train set: 78845, number of used features: 19\n",
      "[LightGBM] [Info] [binary:BoostFromScore]: pavg=0.285712 -> initscore=-0.916300\n",
      "[LightGBM] [Info] Start training from score -0.916300\n",
      "StratifiedShuffleSplit 7 검증 데이터 f1 score :               precision    recall  f1-score   support\n",
      "\n",
      "         0.0       1.00      1.00      1.00     14080\n",
      "         1.0       0.99      0.99      0.99      5632\n",
      "\n",
      "    accuracy                           1.00     19712\n",
      "   macro avg       1.00      1.00      1.00     19712\n",
      "weighted avg       1.00      1.00      1.00     19712\n",
      "\n",
      "[LightGBM] [Info] Number of positive: 22527, number of negative: 56318\n",
      "[LightGBM] [Info] Auto-choosing col-wise multi-threading, the overhead of testing was 0.003870 seconds.\n",
      "You can set `force_col_wise=true` to remove the overhead.\n",
      "[LightGBM] [Info] Total Bins 3571\n",
      "[LightGBM] [Info] Number of data points in the train set: 78845, number of used features: 19\n",
      "[LightGBM] [Info] [binary:BoostFromScore]: pavg=0.285712 -> initscore=-0.916300\n",
      "[LightGBM] [Info] Start training from score -0.916300\n",
      "StratifiedShuffleSplit 8 검증 데이터 f1 score :               precision    recall  f1-score   support\n",
      "\n",
      "         0.0       1.00      1.00      1.00     14080\n",
      "         1.0       0.99      0.99      0.99      5632\n",
      "\n",
      "    accuracy                           1.00     19712\n",
      "   macro avg       1.00      1.00      1.00     19712\n",
      "weighted avg       1.00      1.00      1.00     19712\n",
      "\n",
      "[LightGBM] [Info] Number of positive: 22527, number of negative: 56318\n",
      "[LightGBM] [Info] Auto-choosing col-wise multi-threading, the overhead of testing was 0.003803 seconds.\n",
      "You can set `force_col_wise=true` to remove the overhead.\n",
      "[LightGBM] [Info] Total Bins 3572\n",
      "[LightGBM] [Info] Number of data points in the train set: 78845, number of used features: 19\n",
      "[LightGBM] [Info] [binary:BoostFromScore]: pavg=0.285712 -> initscore=-0.916300\n",
      "[LightGBM] [Info] Start training from score -0.916300\n",
      "StratifiedShuffleSplit 9 검증 데이터 f1 score :               precision    recall  f1-score   support\n",
      "\n",
      "         0.0       1.00      1.00      1.00     14080\n",
      "         1.0       0.99      0.99      0.99      5632\n",
      "\n",
      "    accuracy                           1.00     19712\n",
      "   macro avg       0.99      0.99      0.99     19712\n",
      "weighted avg       1.00      1.00      1.00     19712\n",
      "\n",
      "[LightGBM] [Info] Number of positive: 22527, number of negative: 56318\n",
      "[LightGBM] [Info] Auto-choosing col-wise multi-threading, the overhead of testing was 0.003701 seconds.\n",
      "You can set `force_col_wise=true` to remove the overhead.\n",
      "[LightGBM] [Info] Total Bins 3572\n",
      "[LightGBM] [Info] Number of data points in the train set: 78845, number of used features: 19\n",
      "[LightGBM] [Info] [binary:BoostFromScore]: pavg=0.285712 -> initscore=-0.916300\n",
      "[LightGBM] [Info] Start training from score -0.916300\n",
      "StratifiedShuffleSplit 10 검증 데이터 f1 score :               precision    recall  f1-score   support\n",
      "\n",
      "         0.0       1.00      1.00      1.00     14080\n",
      "         1.0       0.99      0.99      0.99      5632\n",
      "\n",
      "    accuracy                           1.00     19712\n",
      "   macro avg       0.99      0.99      0.99     19712\n",
      "weighted avg       1.00      1.00      1.00     19712\n",
      "\n",
      "   Fold        F1\n",
      "0     3  0.994322\n",
      "1     5  0.993961\n",
      "2     4  0.993869\n",
      "3     7  0.993779\n",
      "4     6  0.993689\n",
      "5     8  0.993689\n",
      "6     2  0.993253\n",
      "7     1  0.992807\n",
      "8    10  0.992271\n",
      "9     9  0.991479\n",
      "[LightGBM] [Info] Number of positive: 22527, number of negative: 56318\n",
      "[LightGBM] [Info] Auto-choosing col-wise multi-threading, the overhead of testing was 0.003604 seconds.\n",
      "You can set `force_col_wise=true` to remove the overhead.\n",
      "[LightGBM] [Info] Total Bins 3573\n",
      "[LightGBM] [Info] Number of data points in the train set: 78845, number of used features: 19\n",
      "[LightGBM] [Info] [binary:BoostFromScore]: pavg=0.285712 -> initscore=-0.916300\n",
      "[LightGBM] [Info] Start training from score -0.916300\n"
     ]
    },
    {
     "data": {
      "image/png": "[encoded data removed]",
      "text/plain": [
       "<Figure size 1500x500 with 4 Axes>"
      ]
     },
     "metadata": {},
     "output_type": "display_data"
    },
    {
     "name": "stdout",
     "output_type": "stream",
     "text": [
      "              precision    recall  f1-score   support\n",
      "\n",
      "         0.0       1.00      1.00      1.00     17600\n",
      "         1.0       0.96      0.94      0.95       665\n",
      "\n",
      "    accuracy                           1.00     18265\n",
      "   macro avg       0.98      0.97      0.97     18265\n",
      "weighted avg       1.00      1.00      1.00     18265\n",
      "\n",
      "test f1_score : 0.9483282674772037\n"
     ]
    }
   ],
   "source": [
    "model = LGBMClassifier(random_state=42)\n",
    "modelTest(model)"
   ]
  },
  {
   "cell_type": "markdown",
   "metadata": {},
   "source": [
    "# XGBoost"
   ]
  },
  {
   "cell_type": "code",
   "execution_count": 15,
   "metadata": {},
   "outputs": [
    {
     "name": "stdout",
     "output_type": "stream",
     "text": [
      "StratifiedShuffleSplit 1 검증 데이터 f1 score :               precision    recall  f1-score   support\n",
      "\n",
      "         0.0       1.00      1.00      1.00     14080\n",
      "         1.0       0.99      0.99      0.99      5632\n",
      "\n",
      "    accuracy                           1.00     19712\n",
      "   macro avg       1.00      1.00      1.00     19712\n",
      "weighted avg       1.00      1.00      1.00     19712\n",
      "\n",
      "StratifiedShuffleSplit 2 검증 데이터 f1 score :               precision    recall  f1-score   support\n",
      "\n",
      "         0.0       1.00      1.00      1.00     14080\n",
      "         1.0       0.99      0.99      0.99      5632\n",
      "\n",
      "    accuracy                           1.00     19712\n",
      "   macro avg       1.00      1.00      1.00     19712\n",
      "weighted avg       1.00      1.00      1.00     19712\n",
      "\n",
      "StratifiedShuffleSplit 3 검증 데이터 f1 score :               precision    recall  f1-score   support\n",
      "\n",
      "         0.0       1.00      1.00      1.00     14080\n",
      "         1.0       0.99      1.00      0.99      5632\n",
      "\n",
      "    accuracy                           1.00     19712\n",
      "   macro avg       1.00      1.00      1.00     19712\n",
      "weighted avg       1.00      1.00      1.00     19712\n",
      "\n",
      "StratifiedShuffleSplit 4 검증 데이터 f1 score :               precision    recall  f1-score   support\n",
      "\n",
      "         0.0       1.00      1.00      1.00     14080\n",
      "         1.0       0.99      0.99      0.99      5632\n",
      "\n",
      "    accuracy                           1.00     19712\n",
      "   macro avg       1.00      1.00      1.00     19712\n",
      "weighted avg       1.00      1.00      1.00     19712\n",
      "\n",
      "StratifiedShuffleSplit 5 검증 데이터 f1 score :               precision    recall  f1-score   support\n",
      "\n",
      "         0.0       1.00      1.00      1.00     14080\n",
      "         1.0       0.99      0.99      0.99      5632\n",
      "\n",
      "    accuracy                           1.00     19712\n",
      "   macro avg       1.00      1.00      1.00     19712\n",
      "weighted avg       1.00      1.00      1.00     19712\n",
      "\n",
      "StratifiedShuffleSplit 6 검증 데이터 f1 score :               precision    recall  f1-score   support\n",
      "\n",
      "         0.0       1.00      1.00      1.00     14080\n",
      "         1.0       0.99      1.00      0.99      5632\n",
      "\n",
      "    accuracy                           1.00     19712\n",
      "   macro avg       1.00      1.00      1.00     19712\n",
      "weighted avg       1.00      1.00      1.00     19712\n",
      "\n",
      "StratifiedShuffleSplit 7 검증 데이터 f1 score :               precision    recall  f1-score   support\n",
      "\n",
      "         0.0       1.00      1.00      1.00     14080\n",
      "         1.0       1.00      0.99      1.00      5632\n",
      "\n",
      "    accuracy                           1.00     19712\n",
      "   macro avg       1.00      1.00      1.00     19712\n",
      "weighted avg       1.00      1.00      1.00     19712\n",
      "\n",
      "StratifiedShuffleSplit 8 검증 데이터 f1 score :               precision    recall  f1-score   support\n",
      "\n",
      "         0.0       1.00      1.00      1.00     14080\n",
      "         1.0       0.99      0.99      0.99      5632\n",
      "\n",
      "    accuracy                           1.00     19712\n",
      "   macro avg       1.00      1.00      1.00     19712\n",
      "weighted avg       1.00      1.00      1.00     19712\n",
      "\n",
      "StratifiedShuffleSplit 9 검증 데이터 f1 score :               precision    recall  f1-score   support\n",
      "\n",
      "         0.0       1.00      1.00      1.00     14080\n",
      "         1.0       0.99      0.99      0.99      5632\n",
      "\n",
      "    accuracy                           1.00     19712\n",
      "   macro avg       0.99      1.00      0.99     19712\n",
      "weighted avg       1.00      1.00      1.00     19712\n",
      "\n",
      "StratifiedShuffleSplit 10 검증 데이터 f1 score :               precision    recall  f1-score   support\n",
      "\n",
      "         0.0       1.00      1.00      1.00     14080\n",
      "         1.0       0.99      0.99      0.99      5632\n",
      "\n",
      "    accuracy                           1.00     19712\n",
      "   macro avg       1.00      1.00      1.00     19712\n",
      "weighted avg       1.00      1.00      1.00     19712\n",
      "\n",
      "   Fold        F1\n",
      "0     7  0.995027\n",
      "1     5  0.994763\n",
      "2     6  0.994681\n",
      "3     3  0.994412\n",
      "4     2  0.994231\n",
      "5     1  0.994144\n",
      "6    10  0.993873\n",
      "7     4  0.993337\n",
      "8     8  0.993160\n",
      "9     9  0.992463\n"
     ]
    },
    {
     "data": {
      "image/png": "[encoded data removed]",
      "text/plain": [
       "<Figure size 1500x500 with 4 Axes>"
      ]
     },
     "metadata": {},
     "output_type": "display_data"
    },
    {
     "name": "stdout",
     "output_type": "stream",
     "text": [
      "              precision    recall  f1-score   support\n",
      "\n",
      "         0.0       1.00      1.00      1.00     17600\n",
      "         1.0       0.96      0.94      0.95       665\n",
      "\n",
      "    accuracy                           1.00     18265\n",
      "   macro avg       0.98      0.97      0.97     18265\n",
      "weighted avg       1.00      1.00      1.00     18265\n",
      "\n",
      "test f1_score : 0.9513677811550152\n"
     ]
    }
   ],
   "source": [
    "from xgboost import XGBClassifier\n",
    "model = XGBClassifier(random_state=42)\n",
    "modelTest(model)"
   ]
  },
  {
   "cell_type": "markdown",
   "metadata": {},
   "source": [
    "# Conv1D"
   ]
  },
  {
   "cell_type": "code",
   "execution_count": null,
   "metadata": {},
   "outputs": [],
   "source": [
    "# !pip install tensorflow"
   ]
  },
  {
   "cell_type": "code",
   "execution_count": 17,
   "metadata": {},
   "outputs": [],
   "source": [
    "from tensorflow.keras.models import Sequential\n",
    "from tensorflow.keras.layers import Dense, Conv1D, GlobalMaxPooling1D, Embedding\n",
    "from tensorflow.keras.optimizers import Adam\n",
    "\n",
    "def create_cnn_model(input_shape):\n",
    "    model = Sequential()\n",
    "    model.add(Conv1D(filters=64, kernel_size=3, activation='relu', input_shape=input_shape))\n",
    "    model.add(GlobalMaxPooling1D())\n",
    "    model.add(Dense(50, activation='relu'))\n",
    "    model.add(Dense(1, activation='sigmoid'))  # 이진 분류의 경우 sigmoid 사용\n",
    "    model.compile(optimizer=Adam(), loss='binary_crossentropy', metrics=['accuracy'])\n",
    "    return model"
   ]
  },
  {
   "cell_type": "code",
   "execution_count": 18,
   "metadata": {},
   "outputs": [],
   "source": [
    "# x_train과 x_test의 차원을 CNN에 맞게 변환 (예: (samples, timesteps, features))\n",
    "x_train_cnn = x_train.values.reshape((x_train.shape[0], x_train.shape[1], 1))\n",
    "x_test_cnn = x_test.values.reshape((x_test.shape[0], x_test.shape[1], 1))"
   ]
  },
  {
   "cell_type": "code",
   "execution_count": 19,
   "metadata": {},
   "outputs": [],
   "source": [
    "from sklearn.metrics import f1_score, classification_report, confusion_matrix\n",
    "import seaborn as sns\n",
    "import matplotlib.pyplot as plt\n",
    "import pandas as pd\n",
    "\n",
    "def modelTest_CNN():\n",
    "    fold_f1_score = []\n",
    "    n_iter = 0\n",
    "    idx_list = []\n",
    "\n",
    "    input_shape = (x_train_cnn.shape[1], x_train_cnn.shape[2])  # CNN 모델 입력 크기 정의\n",
    "\n",
    "    for train_idx, val_idx in strat_folder.split(x_train_cnn, y_train):\n",
    "        train_data, val_data = x_train_cnn[train_idx], x_train_cnn[val_idx]\n",
    "        train_label, val_label = y_train.iloc[train_idx], y_train.iloc[val_idx]\n",
    "\n",
    "        # CNN 모델 생성 및 학습\n",
    "        model = create_cnn_model(input_shape)\n",
    "        model.fit(train_data, train_label, epochs=10, batch_size=32, verbose=0)\n",
    "\n",
    "        val_pred = (model.predict(val_data) > 0.5).astype(\"int32\")  # 이진 분류일 때 예측값을 이진으로 변환\n",
    "        val_f1_score = f1_score(val_label, val_pred)\n",
    "        val_report = classification_report(val_label, val_pred)\n",
    "\n",
    "        n_iter += 1\n",
    "        fold_f1_score.append([n_iter, val_f1_score])\n",
    "        idx_list.append([train_idx, val_idx])\n",
    "\n",
    "        print(f\"StratifiedShuffleSplit {n_iter} 검증 데이터 f1 score : {val_report}\")\n",
    "\n",
    "    fold_f1_score.sort(key=lambda x : x[1], reverse=True)\n",
    "    print(pd.DataFrame(fold_f1_score, columns=['Fold', 'F1']))\n",
    "\n",
    "    best_fold_train_idx = idx_list[fold_f1_score[0][0]-1][0]\n",
    "    best_fold_val_idx = idx_list[fold_f1_score[0][0]-1][1]\n",
    "\n",
    "    # 최적의 fold에서 다시 학습 (train set 전체로 학습)\n",
    "    model.fit(x_train_cnn[best_fold_train_idx], y_train.iloc[best_fold_train_idx], epochs=10)\n",
    "\n",
    "    plt.figure(figsize=(15,5))\n",
    "\n",
    "    # validation confusion matrix\n",
    "    plt.subplot(1,2,1)\n",
    "    pred_val = (model.predict(x_train_cnn[best_fold_val_idx]) > 0.5).astype(\"int32\")\n",
    "    cm_val = confusion_matrix(y_train.iloc[best_fold_val_idx], pred_val)\n",
    "    sns.heatmap(cm_val, annot=True, fmt='.0f')\n",
    "\n",
    "    # test confusion matrix\n",
    "    plt.subplot(1,2,2)\n",
    "    pred_test = (model.predict(x_test_cnn) > 0.5).astype(\"int32\")\n",
    "    cm_test = confusion_matrix(y_test, pred_test)\n",
    "    sns.heatmap(cm_test, annot=True, fmt='.0f')\n",
    "    plt.show()\n",
    "\n",
    "    print(classification_report(y_test, pred_test))\n",
    "    print(f'test f1_score : {f1_score(y_test, pred_test)}')"
   ]
  },
  {
   "cell_type": "code",
   "execution_count": 20,
   "metadata": {},
   "outputs": [
    {
     "name": "stderr",
     "output_type": "stream",
     "text": [
      "c:\\Users\\greatsangho\\AppData\\Local\\miniconda3\\envs\\ag\\lib\\site-packages\\keras\\src\\layers\\convolutional\\base_conv.py:107: UserWarning: Do not pass an `input_shape`/`input_dim` argument to a layer. When using Sequential models, prefer using an `Input(shape)` object as the first layer in the model instead.\n",
      "  super().__init__(activity_regularizer=activity_regularizer, **kwargs)\n"
     ]
    },
    {
     "name": "stdout",
     "output_type": "stream",
     "text": [
      "\u001b[1m616/616\u001b[0m \u001b[32m━━━━━━━━━━━━━━━━━━━━\u001b[0m\u001b[37m\u001b[0m \u001b[1m1s\u001b[0m 1ms/step\n",
      "StratifiedShuffleSplit 1 검증 데이터 f1 score :               precision    recall  f1-score   support\n",
      "\n",
      "         0.0       0.95      0.99      0.97     14080\n",
      "         1.0       0.97      0.88      0.92      5632\n",
      "\n",
      "    accuracy                           0.96     19712\n",
      "   macro avg       0.96      0.94      0.95     19712\n",
      "weighted avg       0.96      0.96      0.96     19712\n",
      "\n"
     ]
    },
    {
     "name": "stderr",
     "output_type": "stream",
     "text": [
      "c:\\Users\\greatsangho\\AppData\\Local\\miniconda3\\envs\\ag\\lib\\site-packages\\keras\\src\\layers\\convolutional\\base_conv.py:107: UserWarning: Do not pass an `input_shape`/`input_dim` argument to a layer. When using Sequential models, prefer using an `Input(shape)` object as the first layer in the model instead.\n",
      "  super().__init__(activity_regularizer=activity_regularizer, **kwargs)\n"
     ]
    },
    {
     "name": "stdout",
     "output_type": "stream",
     "text": [
      "\u001b[1m616/616\u001b[0m \u001b[32m━━━━━━━━━━━━━━━━━━━━\u001b[0m\u001b[37m\u001b[0m \u001b[1m1s\u001b[0m 1ms/step\n",
      "StratifiedShuffleSplit 2 검증 데이터 f1 score :               precision    recall  f1-score   support\n",
      "\n",
      "         0.0       0.96      0.99      0.97     14080\n",
      "         1.0       0.96      0.89      0.93      5632\n",
      "\n",
      "    accuracy                           0.96     19712\n",
      "   macro avg       0.96      0.94      0.95     19712\n",
      "weighted avg       0.96      0.96      0.96     19712\n",
      "\n"
     ]
    },
    {
     "name": "stderr",
     "output_type": "stream",
     "text": [
      "c:\\Users\\greatsangho\\AppData\\Local\\miniconda3\\envs\\ag\\lib\\site-packages\\keras\\src\\layers\\convolutional\\base_conv.py:107: UserWarning: Do not pass an `input_shape`/`input_dim` argument to a layer. When using Sequential models, prefer using an `Input(shape)` object as the first layer in the model instead.\n",
      "  super().__init__(activity_regularizer=activity_regularizer, **kwargs)\n"
     ]
    },
    {
     "name": "stdout",
     "output_type": "stream",
     "text": [
      "\u001b[1m616/616\u001b[0m \u001b[32m━━━━━━━━━━━━━━━━━━━━\u001b[0m\u001b[37m\u001b[0m \u001b[1m1s\u001b[0m 1ms/step\n",
      "StratifiedShuffleSplit 3 검증 데이터 f1 score :               precision    recall  f1-score   support\n",
      "\n",
      "         0.0       0.95      0.99      0.97     14080\n",
      "         1.0       0.99      0.88      0.93      5632\n",
      "\n",
      "    accuracy                           0.96     19712\n",
      "   macro avg       0.97      0.94      0.95     19712\n",
      "weighted avg       0.96      0.96      0.96     19712\n",
      "\n"
     ]
    },
    {
     "name": "stderr",
     "output_type": "stream",
     "text": [
      "c:\\Users\\greatsangho\\AppData\\Local\\miniconda3\\envs\\ag\\lib\\site-packages\\keras\\src\\layers\\convolutional\\base_conv.py:107: UserWarning: Do not pass an `input_shape`/`input_dim` argument to a layer. When using Sequential models, prefer using an `Input(shape)` object as the first layer in the model instead.\n",
      "  super().__init__(activity_regularizer=activity_regularizer, **kwargs)\n"
     ]
    },
    {
     "name": "stdout",
     "output_type": "stream",
     "text": [
      "\u001b[1m616/616\u001b[0m \u001b[32m━━━━━━━━━━━━━━━━━━━━\u001b[0m\u001b[37m\u001b[0m \u001b[1m1s\u001b[0m 1ms/step\n",
      "StratifiedShuffleSplit 4 검증 데이터 f1 score :               precision    recall  f1-score   support\n",
      "\n",
      "         0.0       0.94      0.99      0.96     14080\n",
      "         1.0       0.98      0.84      0.90      5632\n",
      "\n",
      "    accuracy                           0.95     19712\n",
      "   macro avg       0.96      0.91      0.93     19712\n",
      "weighted avg       0.95      0.95      0.95     19712\n",
      "\n"
     ]
    },
    {
     "name": "stderr",
     "output_type": "stream",
     "text": [
      "c:\\Users\\greatsangho\\AppData\\Local\\miniconda3\\envs\\ag\\lib\\site-packages\\keras\\src\\layers\\convolutional\\base_conv.py:107: UserWarning: Do not pass an `input_shape`/`input_dim` argument to a layer. When using Sequential models, prefer using an `Input(shape)` object as the first layer in the model instead.\n",
      "  super().__init__(activity_regularizer=activity_regularizer, **kwargs)\n"
     ]
    },
    {
     "name": "stdout",
     "output_type": "stream",
     "text": [
      "\u001b[1m616/616\u001b[0m \u001b[32m━━━━━━━━━━━━━━━━━━━━\u001b[0m\u001b[37m\u001b[0m \u001b[1m1s\u001b[0m 1ms/step\n",
      "StratifiedShuffleSplit 5 검증 데이터 f1 score :               precision    recall  f1-score   support\n",
      "\n",
      "         0.0       0.97      0.98      0.97     14080\n",
      "         1.0       0.95      0.91      0.93      5632\n",
      "\n",
      "    accuracy                           0.96     19712\n",
      "   macro avg       0.96      0.95      0.95     19712\n",
      "weighted avg       0.96      0.96      0.96     19712\n",
      "\n"
     ]
    },
    {
     "name": "stderr",
     "output_type": "stream",
     "text": [
      "c:\\Users\\greatsangho\\AppData\\Local\\miniconda3\\envs\\ag\\lib\\site-packages\\keras\\src\\layers\\convolutional\\base_conv.py:107: UserWarning: Do not pass an `input_shape`/`input_dim` argument to a layer. When using Sequential models, prefer using an `Input(shape)` object as the first layer in the model instead.\n",
      "  super().__init__(activity_regularizer=activity_regularizer, **kwargs)\n"
     ]
    },
    {
     "name": "stdout",
     "output_type": "stream",
     "text": [
      "\u001b[1m616/616\u001b[0m \u001b[32m━━━━━━━━━━━━━━━━━━━━\u001b[0m\u001b[37m\u001b[0m \u001b[1m1s\u001b[0m 1ms/step  \n",
      "StratifiedShuffleSplit 6 검증 데이터 f1 score :               precision    recall  f1-score   support\n",
      "\n",
      "         0.0       0.95      0.99      0.97     14080\n",
      "         1.0       0.97      0.88      0.92      5632\n",
      "\n",
      "    accuracy                           0.96     19712\n",
      "   macro avg       0.96      0.93      0.95     19712\n",
      "weighted avg       0.96      0.96      0.96     19712\n",
      "\n"
     ]
    },
    {
     "name": "stderr",
     "output_type": "stream",
     "text": [
      "c:\\Users\\greatsangho\\AppData\\Local\\miniconda3\\envs\\ag\\lib\\site-packages\\keras\\src\\layers\\convolutional\\base_conv.py:107: UserWarning: Do not pass an `input_shape`/`input_dim` argument to a layer. When using Sequential models, prefer using an `Input(shape)` object as the first layer in the model instead.\n",
      "  super().__init__(activity_regularizer=activity_regularizer, **kwargs)\n"
     ]
    },
    {
     "name": "stdout",
     "output_type": "stream",
     "text": [
      "\u001b[1m616/616\u001b[0m \u001b[32m━━━━━━━━━━━━━━━━━━━━\u001b[0m\u001b[37m\u001b[0m \u001b[1m1s\u001b[0m 1ms/step\n",
      "StratifiedShuffleSplit 7 검증 데이터 f1 score :               precision    recall  f1-score   support\n",
      "\n",
      "         0.0       0.96      0.97      0.97     14080\n",
      "         1.0       0.93      0.91      0.92      5632\n",
      "\n",
      "    accuracy                           0.95     19712\n",
      "   macro avg       0.95      0.94      0.94     19712\n",
      "weighted avg       0.95      0.95      0.95     19712\n",
      "\n"
     ]
    },
    {
     "name": "stderr",
     "output_type": "stream",
     "text": [
      "c:\\Users\\greatsangho\\AppData\\Local\\miniconda3\\envs\\ag\\lib\\site-packages\\keras\\src\\layers\\convolutional\\base_conv.py:107: UserWarning: Do not pass an `input_shape`/`input_dim` argument to a layer. When using Sequential models, prefer using an `Input(shape)` object as the first layer in the model instead.\n",
      "  super().__init__(activity_regularizer=activity_regularizer, **kwargs)\n"
     ]
    },
    {
     "name": "stdout",
     "output_type": "stream",
     "text": [
      "\u001b[1m616/616\u001b[0m \u001b[32m━━━━━━━━━━━━━━━━━━━━\u001b[0m\u001b[37m\u001b[0m \u001b[1m1s\u001b[0m 1ms/step\n",
      "StratifiedShuffleSplit 8 검증 데이터 f1 score :               precision    recall  f1-score   support\n",
      "\n",
      "         0.0       0.96      0.98      0.97     14080\n",
      "         1.0       0.95      0.90      0.92      5632\n",
      "\n",
      "    accuracy                           0.96     19712\n",
      "   macro avg       0.95      0.94      0.95     19712\n",
      "weighted avg       0.96      0.96      0.96     19712\n",
      "\n"
     ]
    },
    {
     "name": "stderr",
     "output_type": "stream",
     "text": [
      "c:\\Users\\greatsangho\\AppData\\Local\\miniconda3\\envs\\ag\\lib\\site-packages\\keras\\src\\layers\\convolutional\\base_conv.py:107: UserWarning: Do not pass an `input_shape`/`input_dim` argument to a layer. When using Sequential models, prefer using an `Input(shape)` object as the first layer in the model instead.\n",
      "  super().__init__(activity_regularizer=activity_regularizer, **kwargs)\n"
     ]
    },
    {
     "name": "stdout",
     "output_type": "stream",
     "text": [
      "\u001b[1m616/616\u001b[0m \u001b[32m━━━━━━━━━━━━━━━━━━━━\u001b[0m\u001b[37m\u001b[0m \u001b[1m1s\u001b[0m 1ms/step\n",
      "StratifiedShuffleSplit 9 검증 데이터 f1 score :               precision    recall  f1-score   support\n",
      "\n",
      "         0.0       0.96      0.97      0.96     14080\n",
      "         1.0       0.93      0.89      0.91      5632\n",
      "\n",
      "    accuracy                           0.95     19712\n",
      "   macro avg       0.94      0.93      0.94     19712\n",
      "weighted avg       0.95      0.95      0.95     19712\n",
      "\n"
     ]
    },
    {
     "name": "stderr",
     "output_type": "stream",
     "text": [
      "c:\\Users\\greatsangho\\AppData\\Local\\miniconda3\\envs\\ag\\lib\\site-packages\\keras\\src\\layers\\convolutional\\base_conv.py:107: UserWarning: Do not pass an `input_shape`/`input_dim` argument to a layer. When using Sequential models, prefer using an `Input(shape)` object as the first layer in the model instead.\n",
      "  super().__init__(activity_regularizer=activity_regularizer, **kwargs)\n"
     ]
    },
    {
     "name": "stdout",
     "output_type": "stream",
     "text": [
      "\u001b[1m616/616\u001b[0m \u001b[32m━━━━━━━━━━━━━━━━━━━━\u001b[0m\u001b[37m\u001b[0m \u001b[1m1s\u001b[0m 1ms/step\n",
      "StratifiedShuffleSplit 10 검증 데이터 f1 score :               precision    recall  f1-score   support\n",
      "\n",
      "         0.0       0.94      0.99      0.97     14080\n",
      "         1.0       0.98      0.86      0.91      5632\n",
      "\n",
      "    accuracy                           0.95     19712\n",
      "   macro avg       0.96      0.92      0.94     19712\n",
      "weighted avg       0.96      0.95      0.95     19712\n",
      "\n",
      "   Fold        F1\n",
      "0     5  0.928281\n",
      "1     3  0.927907\n",
      "2     2  0.925731\n",
      "3     6  0.923320\n",
      "4     1  0.922905\n",
      "5     8  0.921533\n",
      "6     7  0.917791\n",
      "7    10  0.914042\n",
      "8     9  0.907951\n",
      "9     4  0.901675\n",
      "Epoch 1/10\n",
      "\u001b[1m2464/2464\u001b[0m \u001b[32m━━━━━━━━━━━━━━━━━━━━\u001b[0m\u001b[37m\u001b[0m \u001b[1m5s\u001b[0m 2ms/step - accuracy: 0.9528 - loss: 0.1520\n",
      "Epoch 2/10\n",
      "\u001b[1m2464/2464\u001b[0m \u001b[32m━━━━━━━━━━━━━━━━━━━━\u001b[0m\u001b[37m\u001b[0m \u001b[1m5s\u001b[0m 2ms/step - accuracy: 0.9547 - loss: 0.1495\n",
      "Epoch 3/10\n",
      "\u001b[1m2464/2464\u001b[0m \u001b[32m━━━━━━━━━━━━━━━━━━━━\u001b[0m\u001b[37m\u001b[0m \u001b[1m5s\u001b[0m 2ms/step - accuracy: 0.9558 - loss: 0.1444\n",
      "Epoch 4/10\n",
      "\u001b[1m2464/2464\u001b[0m \u001b[32m━━━━━━━━━━━━━━━━━━━━\u001b[0m\u001b[37m\u001b[0m \u001b[1m5s\u001b[0m 2ms/step - accuracy: 0.9577 - loss: 0.1404\n",
      "Epoch 5/10\n",
      "\u001b[1m2464/2464\u001b[0m \u001b[32m━━━━━━━━━━━━━━━━━━━━\u001b[0m\u001b[37m\u001b[0m \u001b[1m5s\u001b[0m 2ms/step - accuracy: 0.9585 - loss: 0.1382\n",
      "Epoch 6/10\n",
      "\u001b[1m2464/2464\u001b[0m \u001b[32m━━━━━━━━━━━━━━━━━━━━\u001b[0m\u001b[37m\u001b[0m \u001b[1m5s\u001b[0m 2ms/step - accuracy: 0.9594 - loss: 0.1359\n",
      "Epoch 7/10\n",
      "\u001b[1m2464/2464\u001b[0m \u001b[32m━━━━━━━━━━━━━━━━━━━━\u001b[0m\u001b[37m\u001b[0m \u001b[1m5s\u001b[0m 2ms/step - accuracy: 0.9605 - loss: 0.1316\n",
      "Epoch 8/10\n",
      "\u001b[1m2464/2464\u001b[0m \u001b[32m━━━━━━━━━━━━━━━━━━━━\u001b[0m\u001b[37m\u001b[0m \u001b[1m5s\u001b[0m 2ms/step - accuracy: 0.9604 - loss: 0.1327\n",
      "Epoch 9/10\n",
      "\u001b[1m2464/2464\u001b[0m \u001b[32m━━━━━━━━━━━━━━━━━━━━\u001b[0m\u001b[37m\u001b[0m \u001b[1m5s\u001b[0m 2ms/step - accuracy: 0.9586 - loss: 0.1358\n",
      "Epoch 10/10\n",
      "\u001b[1m2464/2464\u001b[0m \u001b[32m━━━━━━━━━━━━━━━━━━━━\u001b[0m\u001b[37m\u001b[0m \u001b[1m5s\u001b[0m 2ms/step - accuracy: 0.9613 - loss: 0.1305\n",
      "\u001b[1m616/616\u001b[0m \u001b[32m━━━━━━━━━━━━━━━━━━━━\u001b[0m\u001b[37m\u001b[0m \u001b[1m1s\u001b[0m 1ms/step\n",
      "\u001b[1m571/571\u001b[0m \u001b[32m━━━━━━━━━━━━━━━━━━━━\u001b[0m\u001b[37m\u001b[0m \u001b[1m1s\u001b[0m 1ms/step\n"
     ]
    },
    {
     "data": {
      "image/png": "[encoded data removed]",
      "text/plain": [
       "<Figure size 1500x500 with 4 Axes>"
      ]
     },
     "metadata": {},
     "output_type": "display_data"
    },
    {
     "name": "stdout",
     "output_type": "stream",
     "text": [
      "              precision    recall  f1-score   support\n",
      "\n",
      "         0.0       0.99      0.99      0.99     17600\n",
      "         1.0       0.84      0.86      0.85       665\n",
      "\n",
      "    accuracy                           0.99     18265\n",
      "   macro avg       0.92      0.93      0.92     18265\n",
      "weighted avg       0.99      0.99      0.99     18265\n",
      "\n",
      "test f1_score : 0.8510007412898444\n"
     ]
    }
   ],
   "source": [
    "modelTest_CNN()"
   ]
  },
  {
   "cell_type": "markdown",
   "metadata": {},
   "source": [
    "# 트랜스포머"
   ]
  },
  {
   "cell_type": "code",
   "execution_count": 21,
   "metadata": {},
   "outputs": [
    {
     "name": "stdout",
     "output_type": "stream",
     "text": [
      "Requirement already satisfied: transformers in c:\\users\\greatsangho\\appdata\\local\\miniconda3\\envs\\ag\\lib\\site-packages (4.38.2)\n",
      "Requirement already satisfied: filelock in c:\\users\\greatsangho\\appdata\\local\\miniconda3\\envs\\ag\\lib\\site-packages (from transformers) (3.16.1)\n",
      "Requirement already satisfied: huggingface-hub<1.0,>=0.19.3 in c:\\users\\greatsangho\\appdata\\local\\miniconda3\\envs\\ag\\lib\\site-packages (from transformers) (0.25.2)\n",
      "Requirement already satisfied: numpy>=1.17 in c:\\users\\greatsangho\\appdata\\local\\miniconda3\\envs\\ag\\lib\\site-packages (from transformers) (1.26.4)\n",
      "Requirement already satisfied: packaging>=20.0 in c:\\users\\greatsangho\\appdata\\local\\miniconda3\\envs\\ag\\lib\\site-packages (from transformers) (24.1)\n",
      "Requirement already satisfied: pyyaml>=5.1 in c:\\users\\greatsangho\\appdata\\local\\miniconda3\\envs\\ag\\lib\\site-packages (from transformers) (6.0.2)\n",
      "Requirement already satisfied: regex!=2019.12.17 in c:\\users\\greatsangho\\appdata\\local\\miniconda3\\envs\\ag\\lib\\site-packages (from transformers) (2024.9.11)\n",
      "Requirement already satisfied: requests in c:\\users\\greatsangho\\appdata\\local\\miniconda3\\envs\\ag\\lib\\site-packages (from transformers) (2.32.3)\n",
      "Requirement already satisfied: tokenizers<0.19,>=0.14 in c:\\users\\greatsangho\\appdata\\local\\miniconda3\\envs\\ag\\lib\\site-packages (from transformers) (0.15.2)\n",
      "Requirement already satisfied: safetensors>=0.4.1 in c:\\users\\greatsangho\\appdata\\local\\miniconda3\\envs\\ag\\lib\\site-packages (from transformers) (0.4.5)\n",
      "Requirement already satisfied: tqdm>=4.27 in c:\\users\\greatsangho\\appdata\\local\\miniconda3\\envs\\ag\\lib\\site-packages (from transformers) (4.66.5)\n",
      "Requirement already satisfied: fsspec>=2023.5.0 in c:\\users\\greatsangho\\appdata\\local\\miniconda3\\envs\\ag\\lib\\site-packages (from huggingface-hub<1.0,>=0.19.3->transformers) (2024.9.0)\n",
      "Requirement already satisfied: typing-extensions>=3.7.4.3 in c:\\users\\greatsangho\\appdata\\local\\miniconda3\\envs\\ag\\lib\\site-packages (from huggingface-hub<1.0,>=0.19.3->transformers) (4.12.2)\n",
      "Requirement already satisfied: colorama in c:\\users\\greatsangho\\appdata\\local\\miniconda3\\envs\\ag\\lib\\site-packages (from tqdm>=4.27->transformers) (0.4.6)\n",
      "Requirement already satisfied: charset-normalizer<4,>=2 in c:\\users\\greatsangho\\appdata\\local\\miniconda3\\envs\\ag\\lib\\site-packages (from requests->transformers) (3.4.0)\n",
      "Requirement already satisfied: idna<4,>=2.5 in c:\\users\\greatsangho\\appdata\\local\\miniconda3\\envs\\ag\\lib\\site-packages (from requests->transformers) (3.10)\n",
      "Requirement already satisfied: urllib3<3,>=1.21.1 in c:\\users\\greatsangho\\appdata\\local\\miniconda3\\envs\\ag\\lib\\site-packages (from requests->transformers) (2.2.3)\n",
      "Requirement already satisfied: certifi>=2017.4.17 in c:\\users\\greatsangho\\appdata\\local\\miniconda3\\envs\\ag\\lib\\site-packages (from requests->transformers) (2024.8.30)\n"
     ]
    }
   ],
   "source": [
    "!pip install transformers\n",
    "# pip install torch"
   ]
  },
  {
   "cell_type": "code",
   "execution_count": null,
   "metadata": {},
   "outputs": [],
   "source": []
  }
 ],
 "metadata": {
  "kernelspec": {
   "display_name": "ag",
   "language": "python",
   "name": "python3"
  },
  "language_info": {
   "codemirror_mode": {
    "name": "ipython",
    "version": 3
   },
   "file_extension": ".py",
   "mimetype": "text/x-python",
   "name": "python",
   "nbconvert_exporter": "python",
   "pygments_lexer": "ipython3",
   "version": "3.10.14"
  }
 },
 "nbformat": 4,
 "nbformat_minor": 2
}
