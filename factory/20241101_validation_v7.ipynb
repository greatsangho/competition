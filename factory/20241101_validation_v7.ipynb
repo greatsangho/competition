{
 "cells": [
  {
   "cell_type": "markdown",
   "metadata": {},
   "source": [
    "1. furnance와 molten_volume 둘다 없는 것 'D'로 나머지 furnance 'C' -> 'D' 모두 드랍 (O)\n",
    "2. 이상치 처리 \n",
    "    - lof, iso 유지 (O)\n",
    "    - 이상치 처리 방식 추가\n",
    "        1. IQR 방식\n",
    "            - IQR의 계수를 10까지 늘렸을 떄,\n",
    "                - 데이터 수 : 92014 -> 46650\n",
    "                - 불합격 데이터 비율 : 4.36% -> 1.04% (fail 데이터가 4000여개 중 3500여개 사라짐)\n",
    "            - 10 이상으로 늘려도 값은 같았음\n",
    "            - 결론 : 적용하지 않는 것이 좋겠음\n",
    "        2. Percentile\n",
    "3. 불균형 처리\n",
    "    - ADASYN 추가\n",
    "    - (선택) mold_code 기준 많은 code만 제거 (8722, 8412 -> 20000, 8917->30000)\n",
    "4. PCA"
   ]
  },
  {
   "cell_type": "markdown",
   "metadata": {},
   "source": [
    "# Data Load"
   ]
  },
  {
   "cell_type": "code",
   "execution_count": 1,
   "metadata": {},
   "outputs": [],
   "source": [
    "# pip install imblearn"
   ]
  },
  {
   "cell_type": "code",
   "execution_count": 9,
   "metadata": {},
   "outputs": [
    {
     "name": "stdout",
     "output_type": "stream",
     "text": [
      "==================== [Data Process Start] ==================== \n",
      "\n",
      "[Process Log] Loading Raw Data...\n",
      "[Process Log] Done\n",
      "\n",
      "[Process Log] Processing Nan Value...\n",
      "[Process Log] Done\n",
      "\n",
      "[Process Log] Encoding Categorical Features...\n",
      "[Process Log] Done\n",
      "\n",
      "[Process Log] Removing Outliers (IsoForest)...\n"
     ]
    },
    {
     "name": "stderr",
     "output_type": "stream",
     "text": [
      "/home/sangho/ML/competition/factory/kamp/preprocess.py:68: SettingWithCopyWarning: \n",
      "A value is trying to be set on a copy of a slice from a DataFrame.\n",
      "Try using .loc[row_indexer,col_indexer] = value instead\n",
      "\n",
      "See the caveats in the documentation: https://pandas.pydata.org/pandas-docs/stable/user_guide/indexing.html#returning-a-view-versus-a-copy\n",
      "  data.loc[:,feature] = data.loc[:, feature].fillna(fill_val)\n"
     ]
    },
    {
     "name": "stdout",
     "output_type": "stream",
     "text": [
      "[Outlier-Remover Log] With Outliers Shape : (89753, 23)\n",
      "[Outlier-Remover Log] Without Outliers Shape : (89079, 23)\n",
      "[Process Log] Done\n",
      "\n",
      "[Process Log] T-Testing...\n",
      "[Process Log] Done\n",
      "\n",
      "[Process Log] Data Scaling (MinMaxScaler)...\n",
      "[Process Log] Done\n",
      "\n",
      "[Process Log] Train Test Spliting...\n",
      "[Process Log] Done\n",
      "\n",
      "======================= [Done] =======================\n"
     ]
    }
   ],
   "source": [
    "from kamp.preprocess import KampDataLoader\n",
    "\n",
    "DATA_PATH = './data/경진대회용 주조 공정최적화 데이터셋.csv'\n",
    "\n",
    "data_loader = KampDataLoader(\n",
    "    path = DATA_PATH,\n",
    "\n",
    "    outlier_method='iso',\n",
    "    iso_outlier_rate=0.0075, # 0.0075\n",
    "\n",
    "    p_threshold=0.05,\n",
    "    get_useful_p_data=True,\n",
    "\n",
    "    scale_include_cat = True,\n",
    "    do_count_trend = False,\n",
    "    drop_count = False,\n",
    "\n",
    "    do_resample=False,\n",
    "    downsampled_pass_rate=1.0,\n",
    "    upsampled_fail_rate_about_pass=0.40\n",
    ")\n",
    "\n",
    "data_loader.process()\n",
    "\n",
    "data = data_loader.load()\n",
    "\n",
    "x_train = data['train_data']\n",
    "y_train = data['train_label']\n",
    "x_test = data['test_data']\n",
    "y_test=  data['test_label']"
   ]
  },
  {
   "cell_type": "markdown",
   "metadata": {},
   "source": [
    "# CSV 저장"
   ]
  },
  {
   "cell_type": "code",
   "execution_count": 10,
   "metadata": {},
   "outputs": [],
   "source": [
    "import pandas as pd\n",
    "df_train = pd.DataFrame()\n",
    "df_train = pd.DataFrame(x_train)\n",
    "df_train['passorfail'] = pd.DataFrame(y_train)\n",
    "df_test = pd.DataFrame()\n",
    "df_test = pd.DataFrame(x_test)\n",
    "df_test['passorfail'] = pd.DataFrame(y_test)\n",
    "df_train.to_csv('train_resample.csv', index=True)\n",
    "df_test.to_csv('test_resample.csv', index=True)"
   ]
  },
  {
   "cell_type": "code",
   "execution_count": 11,
   "metadata": {},
   "outputs": [
    {
     "data": {
      "text/html": [
       "<div>\n",
       "<style scoped>\n",
       "    .dataframe tbody tr th:only-of-type {\n",
       "        vertical-align: middle;\n",
       "    }\n",
       "\n",
       "    .dataframe tbody tr th {\n",
       "        vertical-align: top;\n",
       "    }\n",
       "\n",
       "    .dataframe thead th {\n",
       "        text-align: right;\n",
       "    }\n",
       "</style>\n",
       "<table border=\"1\" class=\"dataframe\">\n",
       "  <thead>\n",
       "    <tr style=\"text-align: right;\">\n",
       "      <th></th>\n",
       "      <th>count</th>\n",
       "      <th>working</th>\n",
       "      <th>facility_operation_cycleTime</th>\n",
       "      <th>production_cycletime</th>\n",
       "      <th>low_section_speed</th>\n",
       "      <th>high_section_speed</th>\n",
       "      <th>cast_pressure</th>\n",
       "      <th>biscuit_thickness</th>\n",
       "      <th>upper_mold_temp1</th>\n",
       "      <th>upper_mold_temp2</th>\n",
       "      <th>lower_mold_temp1</th>\n",
       "      <th>lower_mold_temp2</th>\n",
       "      <th>sleeve_temperature</th>\n",
       "      <th>EMS_operation_time</th>\n",
       "      <th>tryshot_signal</th>\n",
       "      <th>mold_code</th>\n",
       "      <th>heating_furnace</th>\n",
       "    </tr>\n",
       "  </thead>\n",
       "  <tbody>\n",
       "    <tr>\n",
       "      <th>0</th>\n",
       "      <td>0.576577</td>\n",
       "      <td>1.0</td>\n",
       "      <td>0.118557</td>\n",
       "      <td>0.278008</td>\n",
       "      <td>0.733333</td>\n",
       "      <td>0.28866</td>\n",
       "      <td>0.927273</td>\n",
       "      <td>0.120853</td>\n",
       "      <td>0.091737</td>\n",
       "      <td>0.037099</td>\n",
       "      <td>0.464183</td>\n",
       "      <td>0.159664</td>\n",
       "      <td>0.051336</td>\n",
       "      <td>0.00</td>\n",
       "      <td>0.0</td>\n",
       "      <td>0.500000</td>\n",
       "      <td>0.0</td>\n",
       "    </tr>\n",
       "    <tr>\n",
       "      <th>1</th>\n",
       "      <td>0.291291</td>\n",
       "      <td>1.0</td>\n",
       "      <td>0.131443</td>\n",
       "      <td>0.253112</td>\n",
       "      <td>0.733333</td>\n",
       "      <td>0.28866</td>\n",
       "      <td>0.922727</td>\n",
       "      <td>0.120853</td>\n",
       "      <td>0.149860</td>\n",
       "      <td>0.039477</td>\n",
       "      <td>0.544413</td>\n",
       "      <td>0.130952</td>\n",
       "      <td>0.404360</td>\n",
       "      <td>0.92</td>\n",
       "      <td>0.0</td>\n",
       "      <td>0.333333</td>\n",
       "      <td>0.0</td>\n",
       "    </tr>\n",
       "    <tr>\n",
       "      <th>2</th>\n",
       "      <td>0.243243</td>\n",
       "      <td>1.0</td>\n",
       "      <td>0.123711</td>\n",
       "      <td>0.246888</td>\n",
       "      <td>0.733333</td>\n",
       "      <td>0.28866</td>\n",
       "      <td>0.922727</td>\n",
       "      <td>0.132701</td>\n",
       "      <td>0.057423</td>\n",
       "      <td>0.033532</td>\n",
       "      <td>0.593123</td>\n",
       "      <td>0.086835</td>\n",
       "      <td>0.325598</td>\n",
       "      <td>0.92</td>\n",
       "      <td>0.0</td>\n",
       "      <td>1.000000</td>\n",
       "      <td>0.0</td>\n",
       "    </tr>\n",
       "    <tr>\n",
       "      <th>3</th>\n",
       "      <td>0.819820</td>\n",
       "      <td>1.0</td>\n",
       "      <td>0.126289</td>\n",
       "      <td>0.275934</td>\n",
       "      <td>0.733333</td>\n",
       "      <td>0.28866</td>\n",
       "      <td>0.918182</td>\n",
       "      <td>0.118483</td>\n",
       "      <td>0.123950</td>\n",
       "      <td>0.038526</td>\n",
       "      <td>0.710602</td>\n",
       "      <td>0.114846</td>\n",
       "      <td>0.271449</td>\n",
       "      <td>0.92</td>\n",
       "      <td>0.0</td>\n",
       "      <td>1.000000</td>\n",
       "      <td>1.0</td>\n",
       "    </tr>\n",
       "    <tr>\n",
       "      <th>4</th>\n",
       "      <td>0.759760</td>\n",
       "      <td>1.0</td>\n",
       "      <td>0.123711</td>\n",
       "      <td>0.244813</td>\n",
       "      <td>0.733333</td>\n",
       "      <td>0.28866</td>\n",
       "      <td>0.918182</td>\n",
       "      <td>0.125592</td>\n",
       "      <td>0.060224</td>\n",
       "      <td>0.037812</td>\n",
       "      <td>0.673352</td>\n",
       "      <td>0.089636</td>\n",
       "      <td>0.316456</td>\n",
       "      <td>0.92</td>\n",
       "      <td>0.0</td>\n",
       "      <td>1.000000</td>\n",
       "      <td>0.5</td>\n",
       "    </tr>\n",
       "  </tbody>\n",
       "</table>\n",
       "</div>"
      ],
      "text/plain": [
       "      count  working  facility_operation_cycleTime  production_cycletime  \\\n",
       "0  0.576577      1.0                      0.118557              0.278008   \n",
       "1  0.291291      1.0                      0.131443              0.253112   \n",
       "2  0.243243      1.0                      0.123711              0.246888   \n",
       "3  0.819820      1.0                      0.126289              0.275934   \n",
       "4  0.759760      1.0                      0.123711              0.244813   \n",
       "\n",
       "   low_section_speed  high_section_speed  cast_pressure  biscuit_thickness  \\\n",
       "0           0.733333             0.28866       0.927273           0.120853   \n",
       "1           0.733333             0.28866       0.922727           0.120853   \n",
       "2           0.733333             0.28866       0.922727           0.132701   \n",
       "3           0.733333             0.28866       0.918182           0.118483   \n",
       "4           0.733333             0.28866       0.918182           0.125592   \n",
       "\n",
       "   upper_mold_temp1  upper_mold_temp2  lower_mold_temp1  lower_mold_temp2  \\\n",
       "0          0.091737          0.037099          0.464183          0.159664   \n",
       "1          0.149860          0.039477          0.544413          0.130952   \n",
       "2          0.057423          0.033532          0.593123          0.086835   \n",
       "3          0.123950          0.038526          0.710602          0.114846   \n",
       "4          0.060224          0.037812          0.673352          0.089636   \n",
       "\n",
       "   sleeve_temperature  EMS_operation_time  tryshot_signal  mold_code  \\\n",
       "0            0.051336                0.00             0.0   0.500000   \n",
       "1            0.404360                0.92             0.0   0.333333   \n",
       "2            0.325598                0.92             0.0   1.000000   \n",
       "3            0.271449                0.92             0.0   1.000000   \n",
       "4            0.316456                0.92             0.0   1.000000   \n",
       "\n",
       "   heating_furnace  \n",
       "0              0.0  \n",
       "1              0.0  \n",
       "2              0.0  \n",
       "3              1.0  \n",
       "4              0.5  "
      ]
     },
     "execution_count": 11,
     "metadata": {},
     "output_type": "execute_result"
    }
   ],
   "source": [
    "import pandas as pd\n",
    "x_train = pd.read_csv('train_resample.csv').drop(columns=['passorfail','Unnamed: 0'])\n",
    "y_train =pd.read_csv('train_resample.csv')['passorfail']\n",
    "x_test = pd.read_csv('test_resample.csv').drop(columns=['passorfail','Unnamed: 0'])\n",
    "y_test = pd.read_csv('test_resample.csv')['passorfail']\n",
    "x_test.head()"
   ]
  },
  {
   "cell_type": "markdown",
   "metadata": {},
   "source": [
    "# Modeling"
   ]
  },
  {
   "cell_type": "code",
   "execution_count": 5,
   "metadata": {},
   "outputs": [],
   "source": [
    "from sklearn.model_selection import StratifiedShuffleSplit\n",
    "from lightgbm import LGBMClassifier\n",
    "from sklearn.metrics import f1_score, classification_report, confusion_matrix\n",
    "import pandas as pd\n",
    "import seaborn as sns\n",
    "import matplotlib.pyplot as plt\n",
    "\n",
    "strat_folder = StratifiedShuffleSplit(\n",
    "    n_splits=10,\n",
    "    random_state=42,\n",
    "    test_size=0.2\n",
    ")"
   ]
  },
  {
   "cell_type": "code",
   "execution_count": 6,
   "metadata": {},
   "outputs": [],
   "source": [
    "def modelTest(model):\n",
    "    fold_f1_score = []\n",
    "    n_iter = 0\n",
    "    idx_list = []\n",
    "\n",
    "    for train_idx, val_idx in strat_folder.split(x_train, y_train):\n",
    "        train_data, val_data = x_train.iloc[train_idx], x_train.iloc[val_idx]\n",
    "        train_label, val_label = y_train.iloc[train_idx], y_train.iloc[val_idx]\n",
    "\n",
    "        model.fit(train_data, train_label)\n",
    "\n",
    "        val_pred = model.predict(val_data)\n",
    "        val_f1_score = f1_score(val_label, val_pred)\n",
    "        val_report = classification_report(val_label, val_pred)\n",
    "\n",
    "        n_iter += 1\n",
    "        fold_f1_score.append([n_iter, val_f1_score])\n",
    "        idx_list.append([train_idx, val_idx])\n",
    "\n",
    "        print(f\"StratifiedShuffleSplit {n_iter} 검증 데이터 f1 score : {val_report}\")\n",
    "\n",
    "    fold_f1_score.sort(key=lambda x : x[1], reverse=True)\n",
    "    print(pd.DataFrame(fold_f1_score, columns=['Fold', 'F1']))\n",
    "\n",
    "    best_fold_train_idx = idx_list[fold_f1_score[0][0]-1][0]\n",
    "    best_fold_val_idx = idx_list[fold_f1_score[0][0]-1][1]\n",
    "    model.fit(x_train.iloc[best_fold_train_idx], y_train.iloc[best_fold_train_idx])\n",
    "\n",
    "    plt.figure(figsize=(15,5))\n",
    "\n",
    "    # validation\n",
    "    plt.subplot(1,2,1)\n",
    "    pred = model.predict(x_train.iloc[best_fold_val_idx])\n",
    "    cm = confusion_matrix(y_train[best_fold_val_idx], pred)\n",
    "    sns.heatmap(cm, annot=True, fmt='.0f')\n",
    "\n",
    "    # test\n",
    "    plt.subplot(1,2,2)\n",
    "    pred = model.predict(x_test)\n",
    "    cm = confusion_matrix(y_test, pred)\n",
    "    sns.heatmap(cm, annot=True, fmt='.0f')\n",
    "    plt.show()\n",
    "\n",
    "    print(classification_report(y_test, pred))\n",
    "    print(f'test f1_score : {f1_score(y_test, pred)}')"
   ]
  },
  {
   "cell_type": "markdown",
   "metadata": {},
   "source": [
    "# LGBM"
   ]
  },
  {
   "cell_type": "code",
   "execution_count": 7,
   "metadata": {},
   "outputs": [
    {
     "name": "stdout",
     "output_type": "stream",
     "text": [
      "[LightGBM] [Info] Number of positive: 2098, number of negative: 54912\n",
      "[LightGBM] [Info] Auto-choosing row-wise multi-threading, the overhead of testing was 0.001903 seconds.\n",
      "You can set `force_row_wise=true` to remove the overhead.\n",
      "And if memory is not enough, you can set `force_col_wise=true`.\n",
      "[LightGBM] [Info] Total Bins 2069\n",
      "[LightGBM] [Info] Number of data points in the train set: 57010, number of used features: 16\n",
      "[LightGBM] [Info] [binary:BoostFromScore]: pavg=0.036801 -> initscore=-3.264747\n",
      "[LightGBM] [Info] Start training from score -3.264747\n",
      "StratifiedShuffleSplit 1 검증 데이터 f1 score :               precision    recall  f1-score   support\n",
      "\n",
      "         0.0       1.00      1.00      1.00     13728\n",
      "         1.0       0.97      0.93      0.95       525\n",
      "\n",
      "    accuracy                           1.00     14253\n",
      "   macro avg       0.98      0.97      0.97     14253\n",
      "weighted avg       1.00      1.00      1.00     14253\n",
      "\n",
      "[LightGBM] [Info] Number of positive: 2098, number of negative: 54912\n",
      "[LightGBM] [Info] Auto-choosing row-wise multi-threading, the overhead of testing was 0.001173 seconds.\n",
      "You can set `force_row_wise=true` to remove the overhead.\n",
      "And if memory is not enough, you can set `force_col_wise=true`.\n",
      "[LightGBM] [Info] Total Bins 2069\n",
      "[LightGBM] [Info] Number of data points in the train set: 57010, number of used features: 16\n",
      "[LightGBM] [Info] [binary:BoostFromScore]: pavg=0.036801 -> initscore=-3.264747\n",
      "[LightGBM] [Info] Start training from score -3.264747\n",
      "StratifiedShuffleSplit 2 검증 데이터 f1 score :               precision    recall  f1-score   support\n",
      "\n",
      "         0.0       1.00      1.00      1.00     13728\n",
      "         1.0       0.96      0.92      0.94       525\n",
      "\n",
      "    accuracy                           1.00     14253\n",
      "   macro avg       0.98      0.96      0.97     14253\n",
      "weighted avg       1.00      1.00      1.00     14253\n",
      "\n",
      "[LightGBM] [Info] Number of positive: 2098, number of negative: 54912\n",
      "[LightGBM] [Info] Auto-choosing row-wise multi-threading, the overhead of testing was 0.001138 seconds.\n",
      "You can set `force_row_wise=true` to remove the overhead.\n",
      "And if memory is not enough, you can set `force_col_wise=true`.\n",
      "[LightGBM] [Info] Total Bins 2082\n",
      "[LightGBM] [Info] Number of data points in the train set: 57010, number of used features: 16\n",
      "[LightGBM] [Info] [binary:BoostFromScore]: pavg=0.036801 -> initscore=-3.264747\n",
      "[LightGBM] [Info] Start training from score -3.264747\n",
      "StratifiedShuffleSplit 3 검증 데이터 f1 score :               precision    recall  f1-score   support\n",
      "\n",
      "         0.0       1.00      1.00      1.00     13728\n",
      "         1.0       0.96      0.93      0.95       525\n",
      "\n",
      "    accuracy                           1.00     14253\n",
      "   macro avg       0.98      0.96      0.97     14253\n",
      "weighted avg       1.00      1.00      1.00     14253\n",
      "\n",
      "[LightGBM] [Info] Number of positive: 2098, number of negative: 54912\n",
      "[LightGBM] [Info] Auto-choosing row-wise multi-threading, the overhead of testing was 0.001126 seconds.\n",
      "You can set `force_row_wise=true` to remove the overhead.\n",
      "And if memory is not enough, you can set `force_col_wise=true`.\n",
      "[LightGBM] [Info] Total Bins 2073\n",
      "[LightGBM] [Info] Number of data points in the train set: 57010, number of used features: 16\n",
      "[LightGBM] [Info] [binary:BoostFromScore]: pavg=0.036801 -> initscore=-3.264747\n",
      "[LightGBM] [Info] Start training from score -3.264747\n",
      "StratifiedShuffleSplit 4 검증 데이터 f1 score :               precision    recall  f1-score   support\n",
      "\n",
      "         0.0       1.00      1.00      1.00     13728\n",
      "         1.0       0.97      0.93      0.95       525\n",
      "\n",
      "    accuracy                           1.00     14253\n",
      "   macro avg       0.98      0.96      0.97     14253\n",
      "weighted avg       1.00      1.00      1.00     14253\n",
      "\n",
      "[LightGBM] [Info] Number of positive: 2098, number of negative: 54912\n",
      "[LightGBM] [Info] Auto-choosing row-wise multi-threading, the overhead of testing was 0.001184 seconds.\n",
      "You can set `force_row_wise=true` to remove the overhead.\n",
      "And if memory is not enough, you can set `force_col_wise=true`.\n",
      "[LightGBM] [Info] Total Bins 2075\n",
      "[LightGBM] [Info] Number of data points in the train set: 57010, number of used features: 16\n",
      "[LightGBM] [Info] [binary:BoostFromScore]: pavg=0.036801 -> initscore=-3.264747\n",
      "[LightGBM] [Info] Start training from score -3.264747\n",
      "StratifiedShuffleSplit 5 검증 데이터 f1 score :               precision    recall  f1-score   support\n",
      "\n",
      "         0.0       1.00      1.00      1.00     13728\n",
      "         1.0       0.97      0.93      0.95       525\n",
      "\n",
      "    accuracy                           1.00     14253\n",
      "   macro avg       0.98      0.97      0.97     14253\n",
      "weighted avg       1.00      1.00      1.00     14253\n",
      "\n",
      "[LightGBM] [Info] Number of positive: 2098, number of negative: 54912\n",
      "[LightGBM] [Info] Auto-choosing row-wise multi-threading, the overhead of testing was 0.001066 seconds.\n",
      "You can set `force_row_wise=true` to remove the overhead.\n",
      "And if memory is not enough, you can set `force_col_wise=true`.\n",
      "[LightGBM] [Info] Total Bins 2078\n",
      "[LightGBM] [Info] Number of data points in the train set: 57010, number of used features: 16\n",
      "[LightGBM] [Info] [binary:BoostFromScore]: pavg=0.036801 -> initscore=-3.264747\n",
      "[LightGBM] [Info] Start training from score -3.264747\n",
      "StratifiedShuffleSplit 6 검증 데이터 f1 score :               precision    recall  f1-score   support\n",
      "\n",
      "         0.0       1.00      1.00      1.00     13728\n",
      "         1.0       0.95      0.92      0.94       525\n",
      "\n",
      "    accuracy                           1.00     14253\n",
      "   macro avg       0.98      0.96      0.97     14253\n",
      "weighted avg       1.00      1.00      1.00     14253\n",
      "\n",
      "[LightGBM] [Info] Number of positive: 2098, number of negative: 54912\n",
      "[LightGBM] [Info] Auto-choosing row-wise multi-threading, the overhead of testing was 0.001158 seconds.\n",
      "You can set `force_row_wise=true` to remove the overhead.\n",
      "And if memory is not enough, you can set `force_col_wise=true`.\n",
      "[LightGBM] [Info] Total Bins 2074\n",
      "[LightGBM] [Info] Number of data points in the train set: 57010, number of used features: 16\n",
      "[LightGBM] [Info] [binary:BoostFromScore]: pavg=0.036801 -> initscore=-3.264747\n",
      "[LightGBM] [Info] Start training from score -3.264747\n",
      "StratifiedShuffleSplit 7 검증 데이터 f1 score :               precision    recall  f1-score   support\n",
      "\n",
      "         0.0       1.00      1.00      1.00     13728\n",
      "         1.0       0.98      0.93      0.95       525\n",
      "\n",
      "    accuracy                           1.00     14253\n",
      "   macro avg       0.99      0.96      0.98     14253\n",
      "weighted avg       1.00      1.00      1.00     14253\n",
      "\n",
      "[LightGBM] [Info] Number of positive: 2098, number of negative: 54912\n",
      "[LightGBM] [Info] Auto-choosing col-wise multi-threading, the overhead of testing was 0.001489 seconds.\n",
      "You can set `force_col_wise=true` to remove the overhead.\n",
      "[LightGBM] [Info] Total Bins 2079\n",
      "[LightGBM] [Info] Number of data points in the train set: 57010, number of used features: 16\n",
      "[LightGBM] [Info] [binary:BoostFromScore]: pavg=0.036801 -> initscore=-3.264747\n",
      "[LightGBM] [Info] Start training from score -3.264747\n",
      "StratifiedShuffleSplit 8 검증 데이터 f1 score :               precision    recall  f1-score   support\n",
      "\n",
      "         0.0       1.00      1.00      1.00     13728\n",
      "         1.0       0.96      0.93      0.95       525\n",
      "\n",
      "    accuracy                           1.00     14253\n",
      "   macro avg       0.98      0.97      0.97     14253\n",
      "weighted avg       1.00      1.00      1.00     14253\n",
      "\n",
      "[LightGBM] [Info] Number of positive: 2098, number of negative: 54912\n",
      "[LightGBM] [Info] Auto-choosing row-wise multi-threading, the overhead of testing was 0.001042 seconds.\n",
      "You can set `force_row_wise=true` to remove the overhead.\n",
      "And if memory is not enough, you can set `force_col_wise=true`.\n",
      "[LightGBM] [Info] Total Bins 2067\n",
      "[LightGBM] [Info] Number of data points in the train set: 57010, number of used features: 16\n",
      "[LightGBM] [Info] [binary:BoostFromScore]: pavg=0.036801 -> initscore=-3.264747\n",
      "[LightGBM] [Info] Start training from score -3.264747\n",
      "StratifiedShuffleSplit 9 검증 데이터 f1 score :               precision    recall  f1-score   support\n",
      "\n",
      "         0.0       1.00      1.00      1.00     13728\n",
      "         1.0       0.96      0.95      0.95       525\n",
      "\n",
      "    accuracy                           1.00     14253\n",
      "   macro avg       0.98      0.97      0.97     14253\n",
      "weighted avg       1.00      1.00      1.00     14253\n",
      "\n",
      "[LightGBM] [Info] Number of positive: 2098, number of negative: 54912\n",
      "[LightGBM] [Info] Auto-choosing row-wise multi-threading, the overhead of testing was 0.000980 seconds.\n",
      "You can set `force_row_wise=true` to remove the overhead.\n",
      "And if memory is not enough, you can set `force_col_wise=true`.\n",
      "[LightGBM] [Info] Total Bins 2078\n",
      "[LightGBM] [Info] Number of data points in the train set: 57010, number of used features: 16\n",
      "[LightGBM] [Info] [binary:BoostFromScore]: pavg=0.036801 -> initscore=-3.264747\n",
      "[LightGBM] [Info] Start training from score -3.264747\n",
      "StratifiedShuffleSplit 10 검증 데이터 f1 score :               precision    recall  f1-score   support\n",
      "\n",
      "         0.0       1.00      1.00      1.00     13728\n",
      "         1.0       0.97      0.93      0.95       525\n",
      "\n",
      "    accuracy                           1.00     14253\n",
      "   macro avg       0.99      0.97      0.98     14253\n",
      "weighted avg       1.00      1.00      1.00     14253\n",
      "\n",
      "   Fold        F1\n",
      "0     7  0.952941\n",
      "1    10  0.952288\n",
      "2     9  0.951196\n",
      "3     1  0.950533\n",
      "4     5  0.950533\n",
      "5     4  0.949318\n",
      "6     8  0.948693\n",
      "7     3  0.945736\n",
      "8     2  0.940834\n",
      "9     6  0.939013\n",
      "[LightGBM] [Info] Number of positive: 2098, number of negative: 54912\n",
      "[LightGBM] [Info] Auto-choosing row-wise multi-threading, the overhead of testing was 0.001016 seconds.\n",
      "You can set `force_row_wise=true` to remove the overhead.\n",
      "And if memory is not enough, you can set `force_col_wise=true`.\n",
      "[LightGBM] [Info] Total Bins 2074\n",
      "[LightGBM] [Info] Number of data points in the train set: 57010, number of used features: 16\n",
      "[LightGBM] [Info] [binary:BoostFromScore]: pavg=0.036801 -> initscore=-3.264747\n",
      "[LightGBM] [Info] Start training from score -3.264747\n"
     ]
    },
    {
     "data": {
      "image/png": "[encoded data removed]",
      "text/plain": [
       "<Figure size 1500x500 with 4 Axes>"
      ]
     },
     "metadata": {},
     "output_type": "display_data"
    },
    {
     "name": "stdout",
     "output_type": "stream",
     "text": [
      "              precision    recall  f1-score   support\n",
      "\n",
      "         0.0       1.00      1.00      1.00     17160\n",
      "         1.0       0.97      0.94      0.95       656\n",
      "\n",
      "    accuracy                           1.00     17816\n",
      "   macro avg       0.98      0.97      0.98     17816\n",
      "weighted avg       1.00      1.00      1.00     17816\n",
      "\n",
      "test f1_score : 0.9536321483771252\n"
     ]
    }
   ],
   "source": [
    "model = LGBMClassifier(random_state=42)\n",
    "modelTest(model)"
   ]
  },
  {
   "cell_type": "markdown",
   "metadata": {},
   "source": [
    "# XGBoost"
   ]
  },
  {
   "cell_type": "code",
   "execution_count": 8,
   "metadata": {},
   "outputs": [
    {
     "name": "stdout",
     "output_type": "stream",
     "text": [
      "StratifiedShuffleSplit 1 검증 데이터 f1 score :               precision    recall  f1-score   support\n",
      "\n",
      "         0.0       1.00      1.00      1.00     13728\n",
      "         1.0       0.97      0.92      0.94       525\n",
      "\n",
      "    accuracy                           1.00     14253\n",
      "   macro avg       0.98      0.96      0.97     14253\n",
      "weighted avg       1.00      1.00      1.00     14253\n",
      "\n",
      "StratifiedShuffleSplit 2 검증 데이터 f1 score :               precision    recall  f1-score   support\n",
      "\n",
      "         0.0       1.00      1.00      1.00     13728\n",
      "         1.0       0.95      0.91      0.93       525\n",
      "\n",
      "    accuracy                           0.99     14253\n",
      "   macro avg       0.97      0.95      0.96     14253\n",
      "weighted avg       0.99      0.99      0.99     14253\n",
      "\n",
      "StratifiedShuffleSplit 3 검증 데이터 f1 score :               precision    recall  f1-score   support\n",
      "\n",
      "         0.0       1.00      1.00      1.00     13728\n",
      "         1.0       0.97      0.92      0.94       525\n",
      "\n",
      "    accuracy                           1.00     14253\n",
      "   macro avg       0.98      0.96      0.97     14253\n",
      "weighted avg       1.00      1.00      1.00     14253\n",
      "\n",
      "StratifiedShuffleSplit 4 검증 데이터 f1 score :               precision    recall  f1-score   support\n",
      "\n",
      "         0.0       1.00      1.00      1.00     13728\n",
      "         1.0       0.96      0.93      0.95       525\n",
      "\n",
      "    accuracy                           1.00     14253\n",
      "   macro avg       0.98      0.96      0.97     14253\n",
      "weighted avg       1.00      1.00      1.00     14253\n",
      "\n",
      "StratifiedShuffleSplit 5 검증 데이터 f1 score :               precision    recall  f1-score   support\n",
      "\n",
      "         0.0       1.00      1.00      1.00     13728\n",
      "         1.0       0.97      0.92      0.94       525\n",
      "\n",
      "    accuracy                           1.00     14253\n",
      "   macro avg       0.98      0.96      0.97     14253\n",
      "weighted avg       1.00      1.00      1.00     14253\n",
      "\n",
      "StratifiedShuffleSplit 6 검증 데이터 f1 score :               precision    recall  f1-score   support\n",
      "\n",
      "         0.0       1.00      1.00      1.00     13728\n",
      "         1.0       0.96      0.91      0.93       525\n",
      "\n",
      "    accuracy                           1.00     14253\n",
      "   macro avg       0.98      0.95      0.97     14253\n",
      "weighted avg       1.00      1.00      1.00     14253\n",
      "\n",
      "StratifiedShuffleSplit 7 검증 데이터 f1 score :               precision    recall  f1-score   support\n",
      "\n",
      "         0.0       1.00      1.00      1.00     13728\n",
      "         1.0       0.98      0.92      0.95       525\n",
      "\n",
      "    accuracy                           1.00     14253\n",
      "   macro avg       0.99      0.96      0.97     14253\n",
      "weighted avg       1.00      1.00      1.00     14253\n",
      "\n",
      "StratifiedShuffleSplit 8 검증 데이터 f1 score :               precision    recall  f1-score   support\n",
      "\n",
      "         0.0       1.00      1.00      1.00     13728\n",
      "         1.0       0.97      0.92      0.95       525\n",
      "\n",
      "    accuracy                           1.00     14253\n",
      "   macro avg       0.98      0.96      0.97     14253\n",
      "weighted avg       1.00      1.00      1.00     14253\n",
      "\n",
      "StratifiedShuffleSplit 9 검증 데이터 f1 score :               precision    recall  f1-score   support\n",
      "\n",
      "         0.0       1.00      1.00      1.00     13728\n",
      "         1.0       0.96      0.94      0.95       525\n",
      "\n",
      "    accuracy                           1.00     14253\n",
      "   macro avg       0.98      0.97      0.97     14253\n",
      "weighted avg       1.00      1.00      1.00     14253\n",
      "\n",
      "StratifiedShuffleSplit 10 검증 데이터 f1 score :               precision    recall  f1-score   support\n",
      "\n",
      "         0.0       1.00      1.00      1.00     13728\n",
      "         1.0       0.97      0.91      0.94       525\n",
      "\n",
      "    accuracy                           1.00     14253\n",
      "   macro avg       0.98      0.96      0.97     14253\n",
      "weighted avg       1.00      1.00      1.00     14253\n",
      "\n",
      "   Fold        F1\n",
      "0     9  0.950914\n",
      "1     7  0.949020\n",
      "2     8  0.946237\n",
      "3     4  0.945841\n",
      "4     1  0.943359\n",
      "5     5  0.943249\n",
      "6     3  0.942214\n",
      "7    10  0.940137\n",
      "8     6  0.933464\n",
      "9     2  0.926070\n"
     ]
    },
    {
     "data": {
      "image/png": "[encoded data removed]",
      "text/plain": [
       "<Figure size 1500x500 with 4 Axes>"
      ]
     },
     "metadata": {},
     "output_type": "display_data"
    },
    {
     "name": "stdout",
     "output_type": "stream",
     "text": [
      "              precision    recall  f1-score   support\n",
      "\n",
      "         0.0       1.00      1.00      1.00     17160\n",
      "         1.0       0.96      0.92      0.94       656\n",
      "\n",
      "    accuracy                           1.00     17816\n",
      "   macro avg       0.98      0.96      0.97     17816\n",
      "weighted avg       1.00      1.00      1.00     17816\n",
      "\n",
      "test f1_score : 0.942457231726283\n"
     ]
    }
   ],
   "source": [
    "from xgboost import XGBClassifier\n",
    "model = XGBClassifier(random_state=42)\n",
    "modelTest(model)"
   ]
  },
  {
   "cell_type": "markdown",
   "metadata": {},
   "source": [
    "# Conv1D"
   ]
  },
  {
   "cell_type": "code",
   "execution_count": 9,
   "metadata": {},
   "outputs": [],
   "source": [
    "# !pip install tensorflow"
   ]
  },
  {
   "cell_type": "code",
   "execution_count": 1,
   "metadata": {},
   "outputs": [],
   "source": [
    "import pandas as pd\n",
    "x_train = pd.read_csv('train_resample.csv').drop(columns=['passorfail','Unnamed: 0'])\n",
    "y_train =pd.read_csv('train_resample.csv')['passorfail']\n",
    "x_test = pd.read_csv('test_resample.csv').drop(columns=['passorfail','Unnamed: 0'])\n",
    "y_test = pd.read_csv('test_resample.csv')['passorfail']"
   ]
  },
  {
   "cell_type": "code",
   "execution_count": null,
   "metadata": {},
   "outputs": [
    {
     "name": "stderr",
     "output_type": "stream",
     "text": [
      "2024-10-31 20:25:14.502083: I tensorflow/core/platform/cpu_feature_guard.cc:193] This TensorFlow binary is optimized with oneAPI Deep Neural Network Library (oneDNN) to use the following CPU instructions in performance-critical operations:  AVX2 AVX_VNNI FMA\n",
      "To enable them in other operations, rebuild TensorFlow with the appropriate compiler flags.\n",
      "2024-10-31 20:25:14.571784: I tensorflow/core/util/util.cc:169] oneDNN custom operations are on. You may see slightly different numerical results due to floating-point round-off errors from different computation orders. To turn them off, set the environment variable `TF_ENABLE_ONEDNN_OPTS=0`.\n",
      "2024-10-31 20:25:15.742730: I tensorflow/c/logging.cc:34] Successfully opened dynamic library libdirectml.d6f03b303ac3c4f2eeb8ca631688c9757b361310.so\n",
      "2024-10-31 20:25:15.742813: I tensorflow/c/logging.cc:34] Successfully opened dynamic library libdxcore.so\n",
      "2024-10-31 20:25:15.747159: I tensorflow/c/logging.cc:34] Successfully opened dynamic library libd3d12.so\n",
      "2024-10-31 20:25:16.024231: I tensorflow/c/logging.cc:34] DirectML device enumeration: found 1 compatible adapters.\n"
     ]
    }
   ],
   "source": [
    "from tensorflow.keras.models import Sequential\n",
    "from tensorflow.keras.layers import Dense, Conv1D, GlobalMaxPooling1D, Embedding\n",
    "from tensorflow.keras.optimizers import Adam\n",
    "\n",
    "def create_cnn_model(input_shape):\n",
    "    model = Sequential()\n",
    "    model.add(Conv1D(filters=64, kernel_size=3, activation='relu', input_shape=input_shape))\n",
    "    model.add(GlobalMaxPooling1D())\n",
    "    model.add(Dense(50, activation='relu'))\n",
    "    model.add(Dense(1, activation='sigmoid'))  # 이진 분류의 경우 sigmoid 사용\n",
    "    model.compile(optimizer=Adam(), loss='binary_crossentropy', metrics=['accuracy'])\n",
    "    return model\n",
    "def build_resnet_1d(input_shape):\n",
    "    inputs = Input(shape=input_shape)\n",
    "    \n",
    "    # Initial Conv Layer\n",
    "    x = Conv1D(filters=64, kernel_size=7, padding='same', strides=2)(inputs)\n",
    "    x = BatchNormalization()(x)\n",
    "    x = ReLU()(x)\n",
    "    \n",
    "    # Residual Blocks\n",
    "    x = residual_block(x, filters=64)\n",
    "    x = residual_block(x, filters=128)\n",
    "    \n",
    "    # Global Average Pooling\n",
    "    x = GlobalAveragePooling1D()(x)\n",
    "    \n",
    "    # Fully Connected Layer for Binary Classification\n",
    "    outputs = Dense(1, activation='sigmoid')(x)\n",
    "    \n",
    "    model = Model(inputs=inputs, outputs=outputs)\n",
    "    \n",
    "    # Compile the model\n",
    "    model.compile(optimizer='adam', loss='binary_crossentropy', metrics=['accuracy'])"
   ]
  },
  {
   "cell_type": "code",
   "execution_count": 3,
   "metadata": {},
   "outputs": [],
   "source": [
    "# x_train과 x_test의 차원을 CNN에 맞게 변환 (예: (samples, timesteps, features))\n",
    "x_train_cnn = x_train.values.reshape((x_train.shape[0], x_train.shape[1], 1))\n",
    "x_test_cnn = x_test.values.reshape((x_test.shape[0], x_test.shape[1], 1))"
   ]
  },
  {
   "cell_type": "code",
   "execution_count": 4,
   "metadata": {},
   "outputs": [],
   "source": [
    "from sklearn.metrics import f1_score, classification_report, confusion_matrix\n",
    "import seaborn as sns\n",
    "import matplotlib.pyplot as plt\n",
    "import pandas as pd\n",
    "\n",
    "def modelTest_CNN():\n",
    "    fold_f1_score = []\n",
    "    n_iter = 0\n",
    "    idx_list = []\n",
    "\n",
    "    input_shape = (x_train_cnn.shape[1], x_train_cnn.shape[2])  # CNN 모델 입력 크기 정의\n",
    "\n",
    "    for train_idx, val_idx in strat_folder.split(x_train_cnn, y_train):\n",
    "        train_data, val_data = x_train_cnn[train_idx], x_train_cnn[val_idx]\n",
    "        train_label, val_label = y_train.iloc[train_idx], y_train.iloc[val_idx]\n",
    "\n",
    "        # CNN 모델 생성 및 학습\n",
    "        model = create_cnn_model(input_shape)\n",
    "        model.fit(train_data, train_label, epochs=10, batch_size=32, verbose=1)\n",
    "\n",
    "        val_pred = (model.predict(val_data) > 0.5).astype(\"int32\")  # 이진 분류일 때 예측값을 이진으로 변환\n",
    "        val_f1_score = f1_score(val_label, val_pred)\n",
    "        val_report = classification_report(val_label, val_pred)\n",
    "\n",
    "        n_iter += 1\n",
    "        fold_f1_score.append([n_iter, val_f1_score])\n",
    "        idx_list.append([train_idx, val_idx])\n",
    "\n",
    "        print(f\"StratifiedShuffleSplit {n_iter} 검증 데이터 f1 score : {val_report}\")\n",
    "        break # 너무 오래 걸리고 비슷해서 1번만 시행\n",
    "\n",
    "    fold_f1_score.sort(key=lambda x : x[1], reverse=True)\n",
    "    print(pd.DataFrame(fold_f1_score, columns=['Fold', 'F1']))\n",
    "\n",
    "    best_fold_train_idx = idx_list[fold_f1_score[0][0]-1][0]\n",
    "    best_fold_val_idx = idx_list[fold_f1_score[0][0]-1][1]\n",
    "\n",
    "    # 최적의 fold에서 다시 학습 (train set 전체로 학습)\n",
    "    model.fit(x_train_cnn[best_fold_train_idx], y_train.iloc[best_fold_train_idx], epochs=10)\n",
    "\n",
    "    plt.figure(figsize=(15,5))\n",
    "\n",
    "    # validation confusion matrix\n",
    "    plt.subplot(1,2,1)\n",
    "    pred_val = (model.predict(x_train_cnn[best_fold_val_idx]) > 0.5).astype(\"int32\")\n",
    "    cm_val = confusion_matrix(y_train.iloc[best_fold_val_idx], pred_val)\n",
    "    sns.heatmap(cm_val, annot=True, fmt='.0f')\n",
    "\n",
    "    # test confusion matrix\n",
    "    plt.subplot(1,2,2)\n",
    "    pred_test = (model.predict(x_test_cnn) > 0.5).astype(\"int32\")\n",
    "    cm_test = confusion_matrix(y_test, pred_test)\n",
    "    sns.heatmap(cm_test, annot=True, fmt='.0f')\n",
    "    plt.show()\n",
    "\n",
    "    print(classification_report(y_test, pred_test))\n",
    "    print(f'test f1_score : {f1_score(y_test, pred_test)}')"
   ]
  },
  {
   "cell_type": "code",
   "execution_count": 5,
   "metadata": {},
   "outputs": [
    {
     "data": {
      "text/plain": [
       "((98557, 19), (18265, 19))"
      ]
     },
     "execution_count": 5,
     "metadata": {},
     "output_type": "execute_result"
    }
   ],
   "source": [
    "x_train.shape, x_test.shape"
   ]
  },
  {
   "cell_type": "code",
   "execution_count": 8,
   "metadata": {},
   "outputs": [
    {
     "name": "stdout",
     "output_type": "stream",
     "text": [
      "Epoch 1/10\n"
     ]
    },
    {
     "name": "stderr",
     "output_type": "stream",
     "text": [
      "2024-10-31 20:25:44.760313: I tensorflow/core/platform/cpu_feature_guard.cc:193] This TensorFlow binary is optimized with oneAPI Deep Neural Network Library (oneDNN) to use the following CPU instructions in performance-critical operations:  AVX2 AVX_VNNI FMA\n",
      "To enable them in other operations, rebuild TensorFlow with the appropriate compiler flags.\n",
      "2024-10-31 20:25:44.762902: I tensorflow/c/logging.cc:34] DirectML: creating device on adapter 0 (Intel(R) Iris(R) Xe Graphics)\n",
      "2024-10-31 20:25:44.786651: I tensorflow/core/common_runtime/pluggable_device/pluggable_device_factory.cc:306] Could not identify NUMA node of platform GPU ID 0, defaulting to 0. Your kernel may not have been built with NUMA support.\n",
      "2024-10-31 20:25:44.786687: W tensorflow/core/common_runtime/pluggable_device/pluggable_device_bfc_allocator.cc:28] Overriding allow_growth setting because force_memory_growth was requested by the device.\n",
      "2024-10-31 20:25:44.786707: I tensorflow/core/common_runtime/pluggable_device/pluggable_device_factory.cc:272] Created TensorFlow device (/job:localhost/replica:0/task:0/device:GPU:0 with 14506 MB memory) -> physical PluggableDevice (device: 0, name: DML, pci bus id: <undefined>)\n",
      "2024-10-31 20:25:45.186553: I tensorflow/core/grappler/optimizers/custom_graph_optimizer_registry.cc:114] Plugin optimizer for device_type GPU is enabled.\n",
      "2024-10-31 20:25:45.236903: I tensorflow/core/common_runtime/pluggable_device/pluggable_device_factory.cc:306] Could not identify NUMA node of platform GPU ID 0, defaulting to 0. Your kernel may not have been built with NUMA support.\n",
      "2024-10-31 20:25:45.236948: I tensorflow/core/common_runtime/pluggable_device/pluggable_device_factory.cc:272] Created TensorFlow device (/job:localhost/replica:0/task:0/device:GPU:0 with 14506 MB memory) -> physical PluggableDevice (device: 0, name: DML, pci bus id: <undefined>)\n"
     ]
    },
    {
     "name": "stdout",
     "output_type": "stream",
     "text": [
      "2464/2464 [==============================] - 30s 10ms/step - loss: 0.3782 - accuracy: 0.8538\n",
      "Epoch 2/10\n",
      "2464/2464 [==============================] - 23s 10ms/step - loss: 0.2615 - accuracy: 0.9127\n",
      "Epoch 3/10\n",
      "2464/2464 [==============================] - 23s 9ms/step - loss: 0.2347 - accuracy: 0.9223\n",
      "Epoch 4/10\n",
      "2464/2464 [==============================] - 25s 10ms/step - loss: 0.2249 - accuracy: 0.9250\n",
      "Epoch 5/10\n",
      "2464/2464 [==============================] - 24s 10ms/step - loss: 0.2115 - accuracy: 0.9299\n",
      "Epoch 6/10\n",
      "2464/2464 [==============================] - 20s 8ms/step - loss: 0.1987 - accuracy: 0.9354\n",
      "Epoch 7/10\n",
      "2464/2464 [==============================] - 24s 10ms/step - loss: 0.1755 - accuracy: 0.9445\n",
      "Epoch 8/10\n",
      "2464/2464 [==============================] - 19s 8ms/step - loss: 0.1609 - accuracy: 0.9504\n",
      "Epoch 9/10\n",
      "2464/2464 [==============================] - 20s 8ms/step - loss: 0.1543 - accuracy: 0.9534\n",
      "Epoch 10/10\n",
      "2464/2464 [==============================] - 23s 9ms/step - loss: 0.1499 - accuracy: 0.9555\n",
      " 65/616 [==>...........................] - ETA: 1s"
     ]
    },
    {
     "name": "stderr",
     "output_type": "stream",
     "text": [
      "2024-10-31 20:29:36.756220: I tensorflow/core/grappler/optimizers/custom_graph_optimizer_registry.cc:114] Plugin optimizer for device_type GPU is enabled.\n"
     ]
    },
    {
     "name": "stdout",
     "output_type": "stream",
     "text": [
      "616/616 [==============================] - 2s 2ms/step\n"
     ]
    },
    {
     "name": "stderr",
     "output_type": "stream",
     "text": [
      "2024-10-31 20:29:38.230003: I tensorflow/core/common_runtime/pluggable_device/pluggable_device_factory.cc:306] Could not identify NUMA node of platform GPU ID 0, defaulting to 0. Your kernel may not have been built with NUMA support.\n",
      "2024-10-31 20:29:38.230054: I tensorflow/core/common_runtime/pluggable_device/pluggable_device_factory.cc:272] Created TensorFlow device (/job:localhost/replica:0/task:0/device:GPU:0 with 14506 MB memory) -> physical PluggableDevice (device: 0, name: DML, pci bus id: <undefined>)\n",
      "2024-10-31 20:29:38.343712: I tensorflow/core/common_runtime/pluggable_device/pluggable_device_factory.cc:306] Could not identify NUMA node of platform GPU ID 0, defaulting to 0. Your kernel may not have been built with NUMA support.\n",
      "2024-10-31 20:29:38.343783: I tensorflow/core/common_runtime/pluggable_device/pluggable_device_factory.cc:272] Created TensorFlow device (/job:localhost/replica:0/task:0/device:GPU:0 with 14506 MB memory) -> physical PluggableDevice (device: 0, name: DML, pci bus id: <undefined>)\n",
      "2024-10-31 20:29:38.348963: I tensorflow/core/common_runtime/pluggable_device/pluggable_device_factory.cc:306] Could not identify NUMA node of platform GPU ID 0, defaulting to 0. Your kernel may not have been built with NUMA support.\n",
      "2024-10-31 20:29:38.349014: I tensorflow/core/common_runtime/pluggable_device/pluggable_device_factory.cc:272] Created TensorFlow device (/job:localhost/replica:0/task:0/device:GPU:0 with 14506 MB memory) -> physical PluggableDevice (device: 0, name: DML, pci bus id: <undefined>)\n"
     ]
    },
    {
     "name": "stdout",
     "output_type": "stream",
     "text": [
      "StratifiedShuffleSplit 1 검증 데이터 f1 score :               precision    recall  f1-score   support\n",
      "\n",
      "         0.0       0.95      0.99      0.97     14080\n",
      "         1.0       0.98      0.88      0.93      5632\n",
      "\n",
      "    accuracy                           0.96     19712\n",
      "   macro avg       0.96      0.94      0.95     19712\n",
      "weighted avg       0.96      0.96      0.96     19712\n",
      "\n",
      "   Fold        F1\n",
      "0     1  0.925905\n",
      "Epoch 1/10\n",
      "2464/2464 [==============================] - 23s 9ms/step - loss: 0.1444 - accuracy: 0.9576\n",
      "Epoch 2/10\n",
      "2464/2464 [==============================] - 30s 12ms/step - loss: 0.1427 - accuracy: 0.9580\n",
      "Epoch 3/10\n",
      "2464/2464 [==============================] - 24s 10ms/step - loss: 0.1423 - accuracy: 0.9580\n",
      "Epoch 4/10\n",
      "2464/2464 [==============================] - 22s 9ms/step - loss: 0.1406 - accuracy: 0.9590\n",
      "Epoch 5/10\n",
      "2464/2464 [==============================] - 25s 10ms/step - loss: 0.1388 - accuracy: 0.9594\n",
      "Epoch 6/10\n",
      "2464/2464 [==============================] - 25s 10ms/step - loss: 0.1375 - accuracy: 0.9594\n",
      "Epoch 7/10\n",
      "2464/2464 [==============================] - 24s 10ms/step - loss: 0.1333 - accuracy: 0.9611\n",
      "Epoch 8/10\n",
      "2464/2464 [==============================] - 26s 11ms/step - loss: 0.1337 - accuracy: 0.9605\n",
      "Epoch 9/10\n",
      "2464/2464 [==============================] - 24s 10ms/step - loss: 0.1333 - accuracy: 0.9605\n",
      "Epoch 10/10\n",
      "2464/2464 [==============================] - 24s 10ms/step - loss: 0.1330 - accuracy: 0.9604\n",
      "616/616 [==============================] - 2s 2ms/step\n",
      " 60/571 [==>...........................] - ETA: 1s"
     ]
    },
    {
     "name": "stderr",
     "output_type": "stream",
     "text": [
      "2024-10-31 20:33:48.960148: I tensorflow/core/grappler/optimizers/custom_graph_optimizer_registry.cc:114] Plugin optimizer for device_type GPU is enabled.\n"
     ]
    },
    {
     "name": "stdout",
     "output_type": "stream",
     "text": [
      "571/571 [==============================] - 2s 4ms/step\n"
     ]
    },
    {
     "name": "stderr",
     "output_type": "stream",
     "text": [
      "2024-10-31 20:33:51.177896: I tensorflow/core/common_runtime/pluggable_device/pluggable_device_factory.cc:306] Could not identify NUMA node of platform GPU ID 0, defaulting to 0. Your kernel may not have been built with NUMA support.\n",
      "2024-10-31 20:33:51.177959: I tensorflow/core/common_runtime/pluggable_device/pluggable_device_factory.cc:272] Created TensorFlow device (/job:localhost/replica:0/task:0/device:GPU:0 with 14506 MB memory) -> physical PluggableDevice (device: 0, name: DML, pci bus id: <undefined>)\n"
     ]
    },
    {
     "data": {
      "image/png": "[encoded data removed]",
      "text/plain": [
       "<Figure size 1500x500 with 4 Axes>"
      ]
     },
     "metadata": {},
     "output_type": "display_data"
    },
    {
     "name": "stdout",
     "output_type": "stream",
     "text": [
      "              precision    recall  f1-score   support\n",
      "\n",
      "         0.0       1.00      0.98      0.99     17600\n",
      "         1.0       0.64      0.90      0.75       665\n",
      "\n",
      "    accuracy                           0.98     18265\n",
      "   macro avg       0.82      0.94      0.87     18265\n",
      "weighted avg       0.98      0.98      0.98     18265\n",
      "\n",
      "test f1_score : 0.7493765586034914\n"
     ]
    }
   ],
   "source": [
    "modelTest_CNN()"
   ]
  },
  {
   "cell_type": "markdown",
   "metadata": {},
   "source": [
    "ResNet 모델"
   ]
  },
  {
   "cell_type": "code",
   "execution_count": 10,
   "metadata": {},
   "outputs": [
    {
     "ename": "ValueError",
     "evalue": "Inputs have incompatible shapes. Received shapes (10, 128) and (10, 64)",
     "output_type": "error",
     "traceback": [
      "\u001b[0;31m---------------------------------------------------------------------------\u001b[0m",
      "\u001b[0;31mValueError\u001b[0m                                Traceback (most recent call last)",
      "Cell \u001b[0;32mIn[10], line 54\u001b[0m\n\u001b[1;32m     51\u001b[0m \u001b[38;5;66;03m# 입력 데이터의 shape을 맞춰줍니다. (예: (samples, timesteps=19, features=1))\u001b[39;00m\n\u001b[1;32m     52\u001b[0m \u001b[38;5;66;03m# input_shape = (19, 1)\u001b[39;00m\n\u001b[1;32m     53\u001b[0m input_shape \u001b[38;5;241m=\u001b[39m (x_train_cnn\u001b[38;5;241m.\u001b[39mshape[\u001b[38;5;241m1\u001b[39m], x_train_cnn\u001b[38;5;241m.\u001b[39mshape[\u001b[38;5;241m2\u001b[39m])\n\u001b[0;32m---> 54\u001b[0m model \u001b[38;5;241m=\u001b[39m \u001b[43mbuild_resnet_1d\u001b[49m\u001b[43m(\u001b[49m\u001b[43minput_shape\u001b[49m\u001b[43m)\u001b[49m\n\u001b[1;32m     56\u001b[0m \u001b[38;5;66;03m# 데이터 차원 맞추기 (timesteps 추가: 19개의 feature를 가진 데이터를 처리하기 위해 3차원으로 변환)\u001b[39;00m\n\u001b[1;32m     57\u001b[0m x_train_reshaped \u001b[38;5;241m=\u001b[39m x_train\u001b[38;5;241m.\u001b[39mvalues\u001b[38;5;241m.\u001b[39mreshape((x_train\u001b[38;5;241m.\u001b[39mshape[\u001b[38;5;241m0\u001b[39m], x_train\u001b[38;5;241m.\u001b[39mshape[\u001b[38;5;241m1\u001b[39m], \u001b[38;5;241m1\u001b[39m))\n",
      "Cell \u001b[0;32mIn[10], line 36\u001b[0m, in \u001b[0;36mbuild_resnet_1d\u001b[0;34m(input_shape)\u001b[0m\n\u001b[1;32m     34\u001b[0m \u001b[38;5;66;03m# Residual Blocks\u001b[39;00m\n\u001b[1;32m     35\u001b[0m x \u001b[38;5;241m=\u001b[39m residual_block(x, filters\u001b[38;5;241m=\u001b[39m\u001b[38;5;241m64\u001b[39m)\n\u001b[0;32m---> 36\u001b[0m x \u001b[38;5;241m=\u001b[39m \u001b[43mresidual_block\u001b[49m\u001b[43m(\u001b[49m\u001b[43mx\u001b[49m\u001b[43m,\u001b[49m\u001b[43m \u001b[49m\u001b[43mfilters\u001b[49m\u001b[38;5;241;43m=\u001b[39;49m\u001b[38;5;241;43m128\u001b[39;49m\u001b[43m)\u001b[49m\n\u001b[1;32m     38\u001b[0m \u001b[38;5;66;03m# Global Average Pooling\u001b[39;00m\n\u001b[1;32m     39\u001b[0m x \u001b[38;5;241m=\u001b[39m GlobalAveragePooling1D()(x)\n",
      "Cell \u001b[0;32mIn[10], line 20\u001b[0m, in \u001b[0;36mresidual_block\u001b[0;34m(x, filters, kernel_size)\u001b[0m\n\u001b[1;32m     17\u001b[0m x \u001b[38;5;241m=\u001b[39m BatchNormalization()(x)\n\u001b[1;32m     19\u001b[0m \u001b[38;5;66;03m# Add the shortcut (residual connection)\u001b[39;00m\n\u001b[0;32m---> 20\u001b[0m x \u001b[38;5;241m=\u001b[39m \u001b[43mAdd\u001b[49m\u001b[43m(\u001b[49m\u001b[43m)\u001b[49m\u001b[43m(\u001b[49m\u001b[43m[\u001b[49m\u001b[43mx\u001b[49m\u001b[43m,\u001b[49m\u001b[43m \u001b[49m\u001b[43mshortcut\u001b[49m\u001b[43m]\u001b[49m\u001b[43m)\u001b[49m\n\u001b[1;32m     21\u001b[0m x \u001b[38;5;241m=\u001b[39m ReLU()(x)\n\u001b[1;32m     23\u001b[0m \u001b[38;5;28;01mreturn\u001b[39;00m x\n",
      "File \u001b[0;32m~/miniconda3/envs/ml2/lib/python3.9/site-packages/keras/utils/traceback_utils.py:70\u001b[0m, in \u001b[0;36mfilter_traceback.<locals>.error_handler\u001b[0;34m(*args, **kwargs)\u001b[0m\n\u001b[1;32m     67\u001b[0m     filtered_tb \u001b[38;5;241m=\u001b[39m _process_traceback_frames(e\u001b[38;5;241m.\u001b[39m__traceback__)\n\u001b[1;32m     68\u001b[0m     \u001b[38;5;66;03m# To get the full stack trace, call:\u001b[39;00m\n\u001b[1;32m     69\u001b[0m     \u001b[38;5;66;03m# `tf.debugging.disable_traceback_filtering()`\u001b[39;00m\n\u001b[0;32m---> 70\u001b[0m     \u001b[38;5;28;01mraise\u001b[39;00m e\u001b[38;5;241m.\u001b[39mwith_traceback(filtered_tb) \u001b[38;5;28;01mfrom\u001b[39;00m \u001b[38;5;28;01mNone\u001b[39;00m\n\u001b[1;32m     71\u001b[0m \u001b[38;5;28;01mfinally\u001b[39;00m:\n\u001b[1;32m     72\u001b[0m     \u001b[38;5;28;01mdel\u001b[39;00m filtered_tb\n",
      "File \u001b[0;32m~/miniconda3/envs/ml2/lib/python3.9/site-packages/keras/layers/merging/base_merge.py:74\u001b[0m, in \u001b[0;36m_Merge._compute_elemwise_op_output_shape\u001b[0;34m(self, shape1, shape2)\u001b[0m\n\u001b[1;32m     72\u001b[0m     \u001b[38;5;28;01melse\u001b[39;00m:\n\u001b[1;32m     73\u001b[0m         \u001b[38;5;28;01mif\u001b[39;00m i \u001b[38;5;241m!=\u001b[39m j:\n\u001b[0;32m---> 74\u001b[0m             \u001b[38;5;28;01mraise\u001b[39;00m \u001b[38;5;167;01mValueError\u001b[39;00m(\n\u001b[1;32m     75\u001b[0m                 \u001b[38;5;124m\"\u001b[39m\u001b[38;5;124mInputs have incompatible shapes. \u001b[39m\u001b[38;5;124m\"\u001b[39m\n\u001b[1;32m     76\u001b[0m                 \u001b[38;5;124mf\u001b[39m\u001b[38;5;124m\"\u001b[39m\u001b[38;5;124mReceived shapes \u001b[39m\u001b[38;5;132;01m{\u001b[39;00mshape1\u001b[38;5;132;01m}\u001b[39;00m\u001b[38;5;124m and \u001b[39m\u001b[38;5;132;01m{\u001b[39;00mshape2\u001b[38;5;132;01m}\u001b[39;00m\u001b[38;5;124m\"\u001b[39m\n\u001b[1;32m     77\u001b[0m             )\n\u001b[1;32m     78\u001b[0m         output_shape\u001b[38;5;241m.\u001b[39mappend(i)\n\u001b[1;32m     79\u001b[0m \u001b[38;5;28;01mreturn\u001b[39;00m \u001b[38;5;28mtuple\u001b[39m(output_shape)\n",
      "\u001b[0;31mValueError\u001b[0m: Inputs have incompatible shapes. Received shapes (10, 128) and (10, 64)"
     ]
    }
   ],
   "source": [
    "import tensorflow as tf\n",
    "from tensorflow.keras.layers import Conv1D, BatchNormalization, ReLU, Add, GlobalAveragePooling1D, Dense\n",
    "from tensorflow.keras.models import Model\n",
    "from tensorflow.keras import Input\n",
    "from sklearn.metrics import confusion_matrix, classification_report\n",
    "import seaborn as sns\n",
    "import matplotlib.pyplot as plt\n",
    "\n",
    "# ResNet 블록 정의 (이전과 동일)\n",
    "def residual_block(x, filters, kernel_size=3):\n",
    "    shortcut = x\n",
    "    x = Conv1D(filters=filters, kernel_size=kernel_size, padding='same')(x)\n",
    "    x = BatchNormalization()(x)\n",
    "    x = ReLU()(x)\n",
    "    \n",
    "    x = Conv1D(filters=filters, kernel_size=kernel_size, padding='same')(x)\n",
    "    x = BatchNormalization()(x)\n",
    "    \n",
    "    # Add the shortcut (residual connection)\n",
    "    x = Add()([x, shortcut])\n",
    "    x = ReLU()(x)\n",
    "    \n",
    "    return x\n",
    "\n",
    "# ResNet 모델 정의 (이전과 동일)\n",
    "def build_resnet_1d(input_shape):\n",
    "    inputs = Input(shape=input_shape)\n",
    "    \n",
    "    # Initial Conv Layer\n",
    "    x = Conv1D(filters=64, kernel_size=7, padding='same', strides=2)(inputs)\n",
    "    x = BatchNormalization()(x)\n",
    "    x = ReLU()(x)\n",
    "    \n",
    "    # Residual Blocks\n",
    "    x = residual_block(x, filters=64)\n",
    "    x = residual_block(x, filters=128)\n",
    "    \n",
    "    # Global Average Pooling\n",
    "    x = GlobalAveragePooling1D()(x)\n",
    "    \n",
    "    # Fully Connected Layer for Binary Classification\n",
    "    outputs = Dense(1, activation='sigmoid')(x)\n",
    "    \n",
    "    model = Model(inputs=inputs, outputs=outputs)\n",
    "    \n",
    "    # Compile the model\n",
    "    model.compile(optimizer='adam', loss='binary_crossentropy', metrics=['accuracy'])\n",
    "    \n",
    "    return model\n",
    "\n",
    "# 입력 데이터의 shape을 맞춰줍니다. (예: (samples, timesteps=19, features=1))\n",
    "# input_shape = (19, 1)\n",
    "input_shape = (x_train_cnn.shape[1], x_train_cnn.shape[2])\n",
    "model = build_resnet_1d(input_shape)\n",
    "\n",
    "# 데이터 차원 맞추기 (timesteps 추가: 19개의 feature를 가진 데이터를 처리하기 위해 3차원으로 변환)\n",
    "x_train_reshaped = x_train.values.reshape((x_train.shape[0], x_train.shape[1], 1))\n",
    "x_test_reshaped = x_test.values.reshape((x_test.shape[0], x_test.shape[1], 1))\n",
    "\n",
    "# 모델 학습\n",
    "model.fit(x_train_reshaped, y_train, epochs=10, batch_size=32)\n",
    "\n",
    "# Train 데이터에 대한 예측 및 평가\n",
    "train_pred = (model.predict(x_train_reshaped) > 0.5).astype(\"int32\")\n",
    "print(\"Train Data Classification Report:\")\n",
    "print(classification_report(y_train, train_pred))\n",
    "\n",
    "# Confusion Matrix 시각화 (Train 데이터)\n",
    "train_cm = confusion_matrix(y_train, train_pred)\n",
    "plt.figure(figsize=(10,5))\n",
    "plt.subplot(1,2,1)  # 2개의 subplot 중 첫 번째에 그리기\n",
    "sns.heatmap(train_cm, annot=True, fmt='.0f')\n",
    "plt.title('Confusion Matrix for Train Set')\n",
    "\n",
    "# Test 데이터에 대한 예측 및 평가\n",
    "test_pred = (model.predict(x_test_reshaped) > 0.5).astype(\"int32\")\n",
    "print(\"Test Data Classification Report:\")\n",
    "print(classification_report(y_test, test_pred))\n",
    "\n",
    "# Confusion Matrix 시각화 (Test 데이터)\n",
    "test_cm = confusion_matrix(y_test, test_pred)\n",
    "plt.subplot(1,2,2)  # 2개의 subplot 중 두 번째에 그리기\n",
    "sns.heatmap(test_cm, annot=True, fmt='.0f')\n",
    "plt.title('Confusion Matrix for Test Set')\n",
    "\n",
    "plt.show()"
   ]
  },
  {
   "cell_type": "markdown",
   "metadata": {},
   "source": [
    "# 트랜스포머"
   ]
  },
  {
   "cell_type": "code",
   "execution_count": 17,
   "metadata": {},
   "outputs": [],
   "source": [
    "# !pip install transformers\n",
    "# pip install torch"
   ]
  },
  {
   "cell_type": "code",
   "execution_count": 19,
   "metadata": {},
   "outputs": [],
   "source": [
    "import pandas as pd\n",
    "from sklearn.model_selection import train_test_split\n",
    "from sklearn.preprocessing import LabelEncoder\n",
    "\n",
    "# Load data\n",
    "train_df = pd.read_csv('train_resample.csv')\n",
    "train_df = train_df.drop('Unnamed: 0',axis=1)\n",
    "test_df = pd.read_csv('test_resample.csv')\n",
    "test_df = test_df.drop('Unnamed: 0',axis=1)\n",
    "\n",
    "# Encode labels (passorfail column)\n",
    "label_encoder = LabelEncoder()\n",
    "train_df['passorfail'] = label_encoder.fit_transform(train_df['passorfail'])\n",
    "test_df['passorfail'] = label_encoder.fit_transform(test_df['passorfail'])\n",
    "\n",
    "# Convert all values in the DataFrame to strings\n",
    "train_df = train_df.astype(str)\n",
    "test_df = test_df.astype(str)\n",
    "\n",
    "# Split data into features and labels\n",
    "x_train = train_df.drop(columns=['passorfail'])\n",
    "y_train = train_df['passorfail']\n",
    "x_test = test_df.drop(columns=['passorfail'])\n",
    "y_test = test_df['passorfail']\n",
    "\n",
    "train_strings = x_train.apply(lambda row: ' '.join(row.astype(str)), axis=1)\n",
    "train_list = train_strings.tolist()\n",
    "test_strings = x_train.apply(lambda row: ' '.join(row.astype(str)), axis=1)\n",
    "test_list = test_strings.tolist()\n",
    "\n",
    "y_train = list(y_train)\n",
    "y_test = list(y_test)"
   ]
  },
  {
   "cell_type": "code",
   "execution_count": 20,
   "metadata": {},
   "outputs": [
    {
     "data": {
      "text/plain": [
       "'0.6456456456456456 1 0.1185567010309278 0.2432989690721649 0.7266666666666667 0.2860824742268041 0.9136363636363636 0.0853080568720379 0.1218487394957983 0.0344827586206896 0.5558739255014327 0.0973389355742296 0.0176369547880498 0.3509142053445851 0.9525101763907732 1 1.0 1 1'"
      ]
     },
     "execution_count": 20,
     "metadata": {},
     "output_type": "execute_result"
    }
   ],
   "source": [
    "len(train_list[0])\n",
    "train_list[7]"
   ]
  },
  {
   "cell_type": "code",
   "execution_count": 21,
   "metadata": {},
   "outputs": [
    {
     "data": {
      "application/vnd.jupyter.widget-view+json": {
       "model_id": "dda911604a4148d595680e14652baae1",
       "version_major": 2,
       "version_minor": 0
      },
      "text/plain": [
       "Downloading tokenizer_config.json:   0%|          | 0.00/48.0 [00:00<?, ?B/s]"
      ]
     },
     "metadata": {},
     "output_type": "display_data"
    },
    {
     "data": {
      "application/vnd.jupyter.widget-view+json": {
       "model_id": "c8ed73ee080047288c94617318a1d6a4",
       "version_major": 2,
       "version_minor": 0
      },
      "text/plain": [
       "Downloading vocab.txt:   0%|          | 0.00/232k [00:00<?, ?B/s]"
      ]
     },
     "metadata": {},
     "output_type": "display_data"
    },
    {
     "data": {
      "application/vnd.jupyter.widget-view+json": {
       "model_id": "35ee5393ea054ebbb4c13f3b92ec8ba9",
       "version_major": 2,
       "version_minor": 0
      },
      "text/plain": [
       "Downloading tokenizer.json:   0%|          | 0.00/466k [00:00<?, ?B/s]"
      ]
     },
     "metadata": {},
     "output_type": "display_data"
    },
    {
     "data": {
      "application/vnd.jupyter.widget-view+json": {
       "model_id": "ad1973daf5c649c9992ec8b972e862f9",
       "version_major": 2,
       "version_minor": 0
      },
      "text/plain": [
       "Downloading config.json:   0%|          | 0.00/570 [00:00<?, ?B/s]"
      ]
     },
     "metadata": {},
     "output_type": "display_data"
    }
   ],
   "source": [
    "from transformers import BertTokenizer\n",
    "\n",
    "# Initialize BERT tokenizer\n",
    "tokenizer = BertTokenizer.from_pretrained('bert-base-uncased')\n",
    "\n",
    "# Tokenize and encode sequences in the training set\n",
    "train_encodings = tokenizer(train_list, truncation=True, padding=True, max_length=512)\n",
    "test_encodings = tokenizer(test_list, truncation=True, padding=True, max_length=512)"
   ]
  },
  {
   "cell_type": "code",
   "execution_count": 22,
   "metadata": {},
   "outputs": [],
   "source": [
    "import torch\n",
    "\n",
    "class CustomDataset(torch.utils.data.Dataset):\n",
    "    def __init__(self, encodings, labels):\n",
    "        self.encodings = encodings\n",
    "        self.labels = labels\n",
    "\n",
    "    def __getitem__(self, idx):\n",
    "        item = {key: torch.tensor(val[idx]) for key, val in self.encodings.items()}\n",
    "        item['labels'] = torch.tensor(self.labels[idx])\n",
    "        return item\n",
    "\n",
    "    def __len__(self):\n",
    "        return len(self.labels)\n",
    "\n",
    "# Create datasets\n",
    "train_dataset = CustomDataset(train_encodings, y_train)\n",
    "test_dataset = CustomDataset(test_encodings, y_test)"
   ]
  },
  {
   "cell_type": "code",
   "execution_count": 23,
   "metadata": {},
   "outputs": [
    {
     "ename": "RuntimeError",
     "evalue": "Failed to import transformers.models.bert.modeling_bert because of the following error (look up to see its traceback):\nFailed to import transformers.generation.utils because of the following error (look up to see its traceback):\ncannot import name 'split_torch_state_dict_into_shards' from 'huggingface_hub' (/home/sangho/miniconda3/envs/ml2/lib/python3.9/site-packages/huggingface_hub/__init__.py)",
     "output_type": "error",
     "traceback": [
      "\u001b[0;31m---------------------------------------------------------------------------\u001b[0m",
      "\u001b[0;31mImportError\u001b[0m                               Traceback (most recent call last)",
      "File \u001b[0;32m~/miniconda3/envs/ml2/lib/python3.9/site-packages/transformers/utils/import_utils.py:1282\u001b[0m, in \u001b[0;36m_LazyModule._get_module\u001b[0;34m(self, module_name)\u001b[0m\n\u001b[1;32m   1281\u001b[0m \u001b[38;5;28;01mtry\u001b[39;00m:\n\u001b[0;32m-> 1282\u001b[0m     \u001b[38;5;28;01mreturn\u001b[39;00m \u001b[43mimportlib\u001b[49m\u001b[38;5;241;43m.\u001b[39;49m\u001b[43mimport_module\u001b[49m\u001b[43m(\u001b[49m\u001b[38;5;124;43m\"\u001b[39;49m\u001b[38;5;124;43m.\u001b[39;49m\u001b[38;5;124;43m\"\u001b[39;49m\u001b[43m \u001b[49m\u001b[38;5;241;43m+\u001b[39;49m\u001b[43m \u001b[49m\u001b[43mmodule_name\u001b[49m\u001b[43m,\u001b[49m\u001b[43m \u001b[49m\u001b[38;5;28;43mself\u001b[39;49m\u001b[38;5;241;43m.\u001b[39;49m\u001b[38;5;18;43m__name__\u001b[39;49m\u001b[43m)\u001b[49m\n\u001b[1;32m   1283\u001b[0m \u001b[38;5;28;01mexcept\u001b[39;00m \u001b[38;5;167;01mException\u001b[39;00m \u001b[38;5;28;01mas\u001b[39;00m e:\n",
      "File \u001b[0;32m~/miniconda3/envs/ml2/lib/python3.9/importlib/__init__.py:127\u001b[0m, in \u001b[0;36mimport_module\u001b[0;34m(name, package)\u001b[0m\n\u001b[1;32m    126\u001b[0m         level \u001b[38;5;241m+\u001b[39m\u001b[38;5;241m=\u001b[39m \u001b[38;5;241m1\u001b[39m\n\u001b[0;32m--> 127\u001b[0m \u001b[38;5;28;01mreturn\u001b[39;00m \u001b[43m_bootstrap\u001b[49m\u001b[38;5;241;43m.\u001b[39;49m\u001b[43m_gcd_import\u001b[49m\u001b[43m(\u001b[49m\u001b[43mname\u001b[49m\u001b[43m[\u001b[49m\u001b[43mlevel\u001b[49m\u001b[43m:\u001b[49m\u001b[43m]\u001b[49m\u001b[43m,\u001b[49m\u001b[43m \u001b[49m\u001b[43mpackage\u001b[49m\u001b[43m,\u001b[49m\u001b[43m \u001b[49m\u001b[43mlevel\u001b[49m\u001b[43m)\u001b[49m\n",
      "File \u001b[0;32m<frozen importlib._bootstrap>:1030\u001b[0m, in \u001b[0;36m_gcd_import\u001b[0;34m(name, package, level)\u001b[0m\n",
      "File \u001b[0;32m<frozen importlib._bootstrap>:1007\u001b[0m, in \u001b[0;36m_find_and_load\u001b[0;34m(name, import_)\u001b[0m\n",
      "File \u001b[0;32m<frozen importlib._bootstrap>:986\u001b[0m, in \u001b[0;36m_find_and_load_unlocked\u001b[0;34m(name, import_)\u001b[0m\n",
      "File \u001b[0;32m<frozen importlib._bootstrap>:680\u001b[0m, in \u001b[0;36m_load_unlocked\u001b[0;34m(spec)\u001b[0m\n",
      "File \u001b[0;32m<frozen importlib._bootstrap_external>:850\u001b[0m, in \u001b[0;36mexec_module\u001b[0;34m(self, module)\u001b[0m\n",
      "File \u001b[0;32m<frozen importlib._bootstrap>:228\u001b[0m, in \u001b[0;36m_call_with_frames_removed\u001b[0;34m(f, *args, **kwds)\u001b[0m\n",
      "File \u001b[0;32m~/miniconda3/envs/ml2/lib/python3.9/site-packages/transformers/generation/utils.py:84\u001b[0m\n\u001b[1;32m     83\u001b[0m \u001b[38;5;28;01mif\u001b[39;00m is_accelerate_available():\n\u001b[0;32m---> 84\u001b[0m     \u001b[38;5;28;01mfrom\u001b[39;00m \u001b[38;5;21;01maccelerate\u001b[39;00m\u001b[38;5;21;01m.\u001b[39;00m\u001b[38;5;21;01mhooks\u001b[39;00m \u001b[38;5;28;01mimport\u001b[39;00m AlignDevicesHook, add_hook_to_module\n\u001b[1;32m     87\u001b[0m \u001b[38;5;129m@dataclass\u001b[39m\n\u001b[1;32m     88\u001b[0m \u001b[38;5;28;01mclass\u001b[39;00m \u001b[38;5;21;01mGreedySearchDecoderOnlyOutput\u001b[39;00m(ModelOutput):\n",
      "File \u001b[0;32m~/miniconda3/envs/ml2/lib/python3.9/site-packages/accelerate/__init__.py:16\u001b[0m\n\u001b[1;32m     14\u001b[0m __version__ \u001b[38;5;241m=\u001b[39m \u001b[38;5;124m\"\u001b[39m\u001b[38;5;124m0.32.1\u001b[39m\u001b[38;5;124m\"\u001b[39m\n\u001b[0;32m---> 16\u001b[0m \u001b[38;5;28;01mfrom\u001b[39;00m \u001b[38;5;21;01m.\u001b[39;00m\u001b[38;5;21;01maccelerator\u001b[39;00m \u001b[38;5;28;01mimport\u001b[39;00m Accelerator\n\u001b[1;32m     17\u001b[0m \u001b[38;5;28;01mfrom\u001b[39;00m \u001b[38;5;21;01m.\u001b[39;00m\u001b[38;5;21;01mbig_modeling\u001b[39;00m \u001b[38;5;28;01mimport\u001b[39;00m (\n\u001b[1;32m     18\u001b[0m     cpu_offload,\n\u001b[1;32m     19\u001b[0m     cpu_offload_with_hook,\n\u001b[0;32m   (...)\u001b[0m\n\u001b[1;32m     24\u001b[0m     load_checkpoint_and_dispatch,\n\u001b[1;32m     25\u001b[0m )\n",
      "File \u001b[0;32m~/miniconda3/envs/ml2/lib/python3.9/site-packages/accelerate/accelerator.py:34\u001b[0m\n\u001b[1;32m     33\u001b[0m \u001b[38;5;28;01mimport\u001b[39;00m \u001b[38;5;21;01mtorch\u001b[39;00m\u001b[38;5;21;01m.\u001b[39;00m\u001b[38;5;21;01mutils\u001b[39;00m\u001b[38;5;21;01m.\u001b[39;00m\u001b[38;5;21;01mhooks\u001b[39;00m \u001b[38;5;28;01mas\u001b[39;00m \u001b[38;5;21;01mhooks\u001b[39;00m\n\u001b[0;32m---> 34\u001b[0m \u001b[38;5;28;01mfrom\u001b[39;00m \u001b[38;5;21;01mhuggingface_hub\u001b[39;00m \u001b[38;5;28;01mimport\u001b[39;00m split_torch_state_dict_into_shards\n\u001b[1;32m     36\u001b[0m \u001b[38;5;28;01mfrom\u001b[39;00m \u001b[38;5;21;01m.\u001b[39;00m\u001b[38;5;21;01mcheckpointing\u001b[39;00m \u001b[38;5;28;01mimport\u001b[39;00m load_accelerator_state, load_custom_state, save_accelerator_state, save_custom_state\n",
      "\u001b[0;31mImportError\u001b[0m: cannot import name 'split_torch_state_dict_into_shards' from 'huggingface_hub' (/home/sangho/miniconda3/envs/ml2/lib/python3.9/site-packages/huggingface_hub/__init__.py)",
      "\nThe above exception was the direct cause of the following exception:\n",
      "\u001b[0;31mRuntimeError\u001b[0m                              Traceback (most recent call last)",
      "File \u001b[0;32m~/miniconda3/envs/ml2/lib/python3.9/site-packages/transformers/utils/import_utils.py:1282\u001b[0m, in \u001b[0;36m_LazyModule._get_module\u001b[0;34m(self, module_name)\u001b[0m\n\u001b[1;32m   1281\u001b[0m \u001b[38;5;28;01mtry\u001b[39;00m:\n\u001b[0;32m-> 1282\u001b[0m     \u001b[38;5;28;01mreturn\u001b[39;00m \u001b[43mimportlib\u001b[49m\u001b[38;5;241;43m.\u001b[39;49m\u001b[43mimport_module\u001b[49m\u001b[43m(\u001b[49m\u001b[38;5;124;43m\"\u001b[39;49m\u001b[38;5;124;43m.\u001b[39;49m\u001b[38;5;124;43m\"\u001b[39;49m\u001b[43m \u001b[49m\u001b[38;5;241;43m+\u001b[39;49m\u001b[43m \u001b[49m\u001b[43mmodule_name\u001b[49m\u001b[43m,\u001b[49m\u001b[43m \u001b[49m\u001b[38;5;28;43mself\u001b[39;49m\u001b[38;5;241;43m.\u001b[39;49m\u001b[38;5;18;43m__name__\u001b[39;49m\u001b[43m)\u001b[49m\n\u001b[1;32m   1283\u001b[0m \u001b[38;5;28;01mexcept\u001b[39;00m \u001b[38;5;167;01mException\u001b[39;00m \u001b[38;5;28;01mas\u001b[39;00m e:\n",
      "File \u001b[0;32m~/miniconda3/envs/ml2/lib/python3.9/importlib/__init__.py:127\u001b[0m, in \u001b[0;36mimport_module\u001b[0;34m(name, package)\u001b[0m\n\u001b[1;32m    126\u001b[0m         level \u001b[38;5;241m+\u001b[39m\u001b[38;5;241m=\u001b[39m \u001b[38;5;241m1\u001b[39m\n\u001b[0;32m--> 127\u001b[0m \u001b[38;5;28;01mreturn\u001b[39;00m \u001b[43m_bootstrap\u001b[49m\u001b[38;5;241;43m.\u001b[39;49m\u001b[43m_gcd_import\u001b[49m\u001b[43m(\u001b[49m\u001b[43mname\u001b[49m\u001b[43m[\u001b[49m\u001b[43mlevel\u001b[49m\u001b[43m:\u001b[49m\u001b[43m]\u001b[49m\u001b[43m,\u001b[49m\u001b[43m \u001b[49m\u001b[43mpackage\u001b[49m\u001b[43m,\u001b[49m\u001b[43m \u001b[49m\u001b[43mlevel\u001b[49m\u001b[43m)\u001b[49m\n",
      "File \u001b[0;32m<frozen importlib._bootstrap>:1030\u001b[0m, in \u001b[0;36m_gcd_import\u001b[0;34m(name, package, level)\u001b[0m\n",
      "File \u001b[0;32m<frozen importlib._bootstrap>:1007\u001b[0m, in \u001b[0;36m_find_and_load\u001b[0;34m(name, import_)\u001b[0m\n",
      "File \u001b[0;32m<frozen importlib._bootstrap>:986\u001b[0m, in \u001b[0;36m_find_and_load_unlocked\u001b[0;34m(name, import_)\u001b[0m\n",
      "File \u001b[0;32m<frozen importlib._bootstrap>:680\u001b[0m, in \u001b[0;36m_load_unlocked\u001b[0;34m(spec)\u001b[0m\n",
      "File \u001b[0;32m<frozen importlib._bootstrap_external>:850\u001b[0m, in \u001b[0;36mexec_module\u001b[0;34m(self, module)\u001b[0m\n",
      "File \u001b[0;32m<frozen importlib._bootstrap>:228\u001b[0m, in \u001b[0;36m_call_with_frames_removed\u001b[0;34m(f, *args, **kwds)\u001b[0m\n",
      "File \u001b[0;32m~/miniconda3/envs/ml2/lib/python3.9/site-packages/transformers/models/bert/modeling_bert.py:42\u001b[0m\n\u001b[1;32m     31\u001b[0m \u001b[38;5;28;01mfrom\u001b[39;00m \u001b[38;5;21;01m.\u001b[39;00m\u001b[38;5;21;01m.\u001b[39;00m\u001b[38;5;21;01m.\u001b[39;00m\u001b[38;5;21;01mmodeling_outputs\u001b[39;00m \u001b[38;5;28;01mimport\u001b[39;00m (\n\u001b[1;32m     32\u001b[0m     BaseModelOutputWithPastAndCrossAttentions,\n\u001b[1;32m     33\u001b[0m     BaseModelOutputWithPoolingAndCrossAttentions,\n\u001b[0;32m   (...)\u001b[0m\n\u001b[1;32m     40\u001b[0m     TokenClassifierOutput,\n\u001b[1;32m     41\u001b[0m )\n\u001b[0;32m---> 42\u001b[0m \u001b[38;5;28;01mfrom\u001b[39;00m \u001b[38;5;21;01m.\u001b[39;00m\u001b[38;5;21;01m.\u001b[39;00m\u001b[38;5;21;01m.\u001b[39;00m\u001b[38;5;21;01mmodeling_utils\u001b[39;00m \u001b[38;5;28;01mimport\u001b[39;00m PreTrainedModel\n\u001b[1;32m     43\u001b[0m \u001b[38;5;28;01mfrom\u001b[39;00m \u001b[38;5;21;01m.\u001b[39;00m\u001b[38;5;21;01m.\u001b[39;00m\u001b[38;5;21;01m.\u001b[39;00m\u001b[38;5;21;01mpytorch_utils\u001b[39;00m \u001b[38;5;28;01mimport\u001b[39;00m apply_chunking_to_forward, find_pruneable_heads_and_indices, prune_linear_layer\n",
      "File \u001b[0;32m~/miniconda3/envs/ml2/lib/python3.9/site-packages/transformers/modeling_utils.py:39\u001b[0m\n\u001b[1;32m     38\u001b[0m \u001b[38;5;28;01mfrom\u001b[39;00m \u001b[38;5;21;01m.\u001b[39;00m\u001b[38;5;21;01mdynamic_module_utils\u001b[39;00m \u001b[38;5;28;01mimport\u001b[39;00m custom_object_save\n\u001b[0;32m---> 39\u001b[0m \u001b[38;5;28;01mfrom\u001b[39;00m \u001b[38;5;21;01m.\u001b[39;00m\u001b[38;5;21;01mgeneration\u001b[39;00m \u001b[38;5;28;01mimport\u001b[39;00m GenerationConfig, GenerationMixin\n\u001b[1;32m     40\u001b[0m \u001b[38;5;28;01mfrom\u001b[39;00m \u001b[38;5;21;01m.\u001b[39;00m\u001b[38;5;21;01mintegrations\u001b[39;00m \u001b[38;5;28;01mimport\u001b[39;00m PeftAdapterMixin, deepspeed_config, is_deepspeed_zero3_enabled\n",
      "File \u001b[0;32m<frozen importlib._bootstrap>:1055\u001b[0m, in \u001b[0;36m_handle_fromlist\u001b[0;34m(module, fromlist, import_, recursive)\u001b[0m\n",
      "File \u001b[0;32m~/miniconda3/envs/ml2/lib/python3.9/site-packages/transformers/utils/import_utils.py:1272\u001b[0m, in \u001b[0;36m_LazyModule.__getattr__\u001b[0;34m(self, name)\u001b[0m\n\u001b[1;32m   1271\u001b[0m \u001b[38;5;28;01melif\u001b[39;00m name \u001b[38;5;129;01min\u001b[39;00m \u001b[38;5;28mself\u001b[39m\u001b[38;5;241m.\u001b[39m_class_to_module\u001b[38;5;241m.\u001b[39mkeys():\n\u001b[0;32m-> 1272\u001b[0m     module \u001b[38;5;241m=\u001b[39m \u001b[38;5;28;43mself\u001b[39;49m\u001b[38;5;241;43m.\u001b[39;49m\u001b[43m_get_module\u001b[49m\u001b[43m(\u001b[49m\u001b[38;5;28;43mself\u001b[39;49m\u001b[38;5;241;43m.\u001b[39;49m\u001b[43m_class_to_module\u001b[49m\u001b[43m[\u001b[49m\u001b[43mname\u001b[49m\u001b[43m]\u001b[49m\u001b[43m)\u001b[49m\n\u001b[1;32m   1273\u001b[0m     value \u001b[38;5;241m=\u001b[39m \u001b[38;5;28mgetattr\u001b[39m(module, name)\n",
      "File \u001b[0;32m~/miniconda3/envs/ml2/lib/python3.9/site-packages/transformers/utils/import_utils.py:1284\u001b[0m, in \u001b[0;36m_LazyModule._get_module\u001b[0;34m(self, module_name)\u001b[0m\n\u001b[1;32m   1283\u001b[0m \u001b[38;5;28;01mexcept\u001b[39;00m \u001b[38;5;167;01mException\u001b[39;00m \u001b[38;5;28;01mas\u001b[39;00m e:\n\u001b[0;32m-> 1284\u001b[0m     \u001b[38;5;28;01mraise\u001b[39;00m \u001b[38;5;167;01mRuntimeError\u001b[39;00m(\n\u001b[1;32m   1285\u001b[0m         \u001b[38;5;124mf\u001b[39m\u001b[38;5;124m\"\u001b[39m\u001b[38;5;124mFailed to import \u001b[39m\u001b[38;5;132;01m{\u001b[39;00m\u001b[38;5;28mself\u001b[39m\u001b[38;5;241m.\u001b[39m\u001b[38;5;18m__name__\u001b[39m\u001b[38;5;132;01m}\u001b[39;00m\u001b[38;5;124m.\u001b[39m\u001b[38;5;132;01m{\u001b[39;00mmodule_name\u001b[38;5;132;01m}\u001b[39;00m\u001b[38;5;124m because of the following error (look up to see its\u001b[39m\u001b[38;5;124m\"\u001b[39m\n\u001b[1;32m   1286\u001b[0m         \u001b[38;5;124mf\u001b[39m\u001b[38;5;124m\"\u001b[39m\u001b[38;5;124m traceback):\u001b[39m\u001b[38;5;130;01m\\n\u001b[39;00m\u001b[38;5;132;01m{\u001b[39;00me\u001b[38;5;132;01m}\u001b[39;00m\u001b[38;5;124m\"\u001b[39m\n\u001b[1;32m   1287\u001b[0m     ) \u001b[38;5;28;01mfrom\u001b[39;00m \u001b[38;5;21;01me\u001b[39;00m\n",
      "\u001b[0;31mRuntimeError\u001b[0m: Failed to import transformers.generation.utils because of the following error (look up to see its traceback):\ncannot import name 'split_torch_state_dict_into_shards' from 'huggingface_hub' (/home/sangho/miniconda3/envs/ml2/lib/python3.9/site-packages/huggingface_hub/__init__.py)",
      "\nThe above exception was the direct cause of the following exception:\n",
      "\u001b[0;31mRuntimeError\u001b[0m                              Traceback (most recent call last)",
      "Cell \u001b[0;32mIn[23], line 1\u001b[0m\n\u001b[0;32m----> 1\u001b[0m \u001b[38;5;28;01mfrom\u001b[39;00m \u001b[38;5;21;01mtransformers\u001b[39;00m \u001b[38;5;28;01mimport\u001b[39;00m BertForSequenceClassification, Trainer, TrainingArguments\n\u001b[1;32m      3\u001b[0m \u001b[38;5;66;03m# Load pre-trained BERT model with a classification head\u001b[39;00m\n\u001b[1;32m      4\u001b[0m model \u001b[38;5;241m=\u001b[39m BertForSequenceClassification\u001b[38;5;241m.\u001b[39mfrom_pretrained(\u001b[38;5;124m'\u001b[39m\u001b[38;5;124mbert-base-uncased\u001b[39m\u001b[38;5;124m'\u001b[39m)\n",
      "File \u001b[0;32m<frozen importlib._bootstrap>:1055\u001b[0m, in \u001b[0;36m_handle_fromlist\u001b[0;34m(module, fromlist, import_, recursive)\u001b[0m\n",
      "File \u001b[0;32m~/miniconda3/envs/ml2/lib/python3.9/site-packages/transformers/utils/import_utils.py:1273\u001b[0m, in \u001b[0;36m_LazyModule.__getattr__\u001b[0;34m(self, name)\u001b[0m\n\u001b[1;32m   1271\u001b[0m \u001b[38;5;28;01melif\u001b[39;00m name \u001b[38;5;129;01min\u001b[39;00m \u001b[38;5;28mself\u001b[39m\u001b[38;5;241m.\u001b[39m_class_to_module\u001b[38;5;241m.\u001b[39mkeys():\n\u001b[1;32m   1272\u001b[0m     module \u001b[38;5;241m=\u001b[39m \u001b[38;5;28mself\u001b[39m\u001b[38;5;241m.\u001b[39m_get_module(\u001b[38;5;28mself\u001b[39m\u001b[38;5;241m.\u001b[39m_class_to_module[name])\n\u001b[0;32m-> 1273\u001b[0m     value \u001b[38;5;241m=\u001b[39m \u001b[38;5;28;43mgetattr\u001b[39;49m\u001b[43m(\u001b[49m\u001b[43mmodule\u001b[49m\u001b[43m,\u001b[49m\u001b[43m \u001b[49m\u001b[43mname\u001b[49m\u001b[43m)\u001b[49m\n\u001b[1;32m   1274\u001b[0m \u001b[38;5;28;01melse\u001b[39;00m:\n\u001b[1;32m   1275\u001b[0m     \u001b[38;5;28;01mraise\u001b[39;00m \u001b[38;5;167;01mAttributeError\u001b[39;00m(\u001b[38;5;124mf\u001b[39m\u001b[38;5;124m\"\u001b[39m\u001b[38;5;124mmodule \u001b[39m\u001b[38;5;132;01m{\u001b[39;00m\u001b[38;5;28mself\u001b[39m\u001b[38;5;241m.\u001b[39m\u001b[38;5;18m__name__\u001b[39m\u001b[38;5;132;01m}\u001b[39;00m\u001b[38;5;124m has no attribute \u001b[39m\u001b[38;5;132;01m{\u001b[39;00mname\u001b[38;5;132;01m}\u001b[39;00m\u001b[38;5;124m\"\u001b[39m)\n",
      "File \u001b[0;32m~/miniconda3/envs/ml2/lib/python3.9/site-packages/transformers/utils/import_utils.py:1272\u001b[0m, in \u001b[0;36m_LazyModule.__getattr__\u001b[0;34m(self, name)\u001b[0m\n\u001b[1;32m   1270\u001b[0m     value \u001b[38;5;241m=\u001b[39m \u001b[38;5;28mself\u001b[39m\u001b[38;5;241m.\u001b[39m_get_module(name)\n\u001b[1;32m   1271\u001b[0m \u001b[38;5;28;01melif\u001b[39;00m name \u001b[38;5;129;01min\u001b[39;00m \u001b[38;5;28mself\u001b[39m\u001b[38;5;241m.\u001b[39m_class_to_module\u001b[38;5;241m.\u001b[39mkeys():\n\u001b[0;32m-> 1272\u001b[0m     module \u001b[38;5;241m=\u001b[39m \u001b[38;5;28;43mself\u001b[39;49m\u001b[38;5;241;43m.\u001b[39;49m\u001b[43m_get_module\u001b[49m\u001b[43m(\u001b[49m\u001b[38;5;28;43mself\u001b[39;49m\u001b[38;5;241;43m.\u001b[39;49m\u001b[43m_class_to_module\u001b[49m\u001b[43m[\u001b[49m\u001b[43mname\u001b[49m\u001b[43m]\u001b[49m\u001b[43m)\u001b[49m\n\u001b[1;32m   1273\u001b[0m     value \u001b[38;5;241m=\u001b[39m \u001b[38;5;28mgetattr\u001b[39m(module, name)\n\u001b[1;32m   1274\u001b[0m \u001b[38;5;28;01melse\u001b[39;00m:\n",
      "File \u001b[0;32m~/miniconda3/envs/ml2/lib/python3.9/site-packages/transformers/utils/import_utils.py:1284\u001b[0m, in \u001b[0;36m_LazyModule._get_module\u001b[0;34m(self, module_name)\u001b[0m\n\u001b[1;32m   1282\u001b[0m     \u001b[38;5;28;01mreturn\u001b[39;00m importlib\u001b[38;5;241m.\u001b[39mimport_module(\u001b[38;5;124m\"\u001b[39m\u001b[38;5;124m.\u001b[39m\u001b[38;5;124m\"\u001b[39m \u001b[38;5;241m+\u001b[39m module_name, \u001b[38;5;28mself\u001b[39m\u001b[38;5;241m.\u001b[39m\u001b[38;5;18m__name__\u001b[39m)\n\u001b[1;32m   1283\u001b[0m \u001b[38;5;28;01mexcept\u001b[39;00m \u001b[38;5;167;01mException\u001b[39;00m \u001b[38;5;28;01mas\u001b[39;00m e:\n\u001b[0;32m-> 1284\u001b[0m     \u001b[38;5;28;01mraise\u001b[39;00m \u001b[38;5;167;01mRuntimeError\u001b[39;00m(\n\u001b[1;32m   1285\u001b[0m         \u001b[38;5;124mf\u001b[39m\u001b[38;5;124m\"\u001b[39m\u001b[38;5;124mFailed to import \u001b[39m\u001b[38;5;132;01m{\u001b[39;00m\u001b[38;5;28mself\u001b[39m\u001b[38;5;241m.\u001b[39m\u001b[38;5;18m__name__\u001b[39m\u001b[38;5;132;01m}\u001b[39;00m\u001b[38;5;124m.\u001b[39m\u001b[38;5;132;01m{\u001b[39;00mmodule_name\u001b[38;5;132;01m}\u001b[39;00m\u001b[38;5;124m because of the following error (look up to see its\u001b[39m\u001b[38;5;124m\"\u001b[39m\n\u001b[1;32m   1286\u001b[0m         \u001b[38;5;124mf\u001b[39m\u001b[38;5;124m\"\u001b[39m\u001b[38;5;124m traceback):\u001b[39m\u001b[38;5;130;01m\\n\u001b[39;00m\u001b[38;5;132;01m{\u001b[39;00me\u001b[38;5;132;01m}\u001b[39;00m\u001b[38;5;124m\"\u001b[39m\n\u001b[1;32m   1287\u001b[0m     ) \u001b[38;5;28;01mfrom\u001b[39;00m \u001b[38;5;21;01me\u001b[39;00m\n",
      "\u001b[0;31mRuntimeError\u001b[0m: Failed to import transformers.models.bert.modeling_bert because of the following error (look up to see its traceback):\nFailed to import transformers.generation.utils because of the following error (look up to see its traceback):\ncannot import name 'split_torch_state_dict_into_shards' from 'huggingface_hub' (/home/sangho/miniconda3/envs/ml2/lib/python3.9/site-packages/huggingface_hub/__init__.py)"
     ]
    }
   ],
   "source": [
    "from transformers import BertForSequenceClassification, Trainer, TrainingArguments\n",
    "\n",
    "# Load pre-trained BERT model with a classification head\n",
    "model = BertForSequenceClassification.from_pretrained('bert-base-uncased')\n",
    "\n",
    "# Define training arguments\n",
    "training_args = TrainingArguments(\n",
    "    output_dir='./results',\n",
    "    num_train_epochs=3,\n",
    "    per_device_train_batch_size=8,\n",
    "    per_device_eval_batch_size=8,\n",
    "    warmup_steps=500,\n",
    "    weight_decay=0.01,\n",
    "    logging_dir='./logs',\n",
    "    logging_steps=10,\n",
    "    evaluation_strategy=\"epoch\"\n",
    ")\n",
    "\n",
    "# Initialize Trainer\n",
    "trainer = Trainer(\n",
    "    model=model,\n",
    "    args=training_args,\n",
    "    train_dataset=train_dataset,\n",
    "    eval_dataset=test_dataset,\n",
    ")\n",
    "\n",
    "# Train the model\n",
    "trainer.train()"
   ]
  },
  {
   "cell_type": "code",
   "execution_count": null,
   "metadata": {},
   "outputs": [],
   "source": [
    "from sklearn.metrics import classification_report\n",
    "\n",
    "# Make predictions on the test set\n",
    "predictions = trainer.predict(test_dataset)\n",
    "\n",
    "# Convert logits to predicted class labels\n",
    "preds = torch.argmax(predictions.predictions, axis=-1)\n",
    "\n",
    "# Print classification report\n",
    "print(classification_report(y_test, preds.numpy()))"
   ]
  },
  {
   "cell_type": "code",
   "execution_count": null,
   "metadata": {},
   "outputs": [],
   "source": []
  }
 ],
 "metadata": {
  "kernelspec": {
   "display_name": "ml3",
   "language": "python",
   "name": "python3"
  },
  "language_info": {
   "codemirror_mode": {
    "name": "ipython",
    "version": 3
   },
   "file_extension": ".py",
   "mimetype": "text/x-python",
   "name": "python",
   "nbconvert_exporter": "python",
   "pygments_lexer": "ipython3",
   "version": "3.9.20"
  }
 },
 "nbformat": 4,
 "nbformat_minor": 2
}
