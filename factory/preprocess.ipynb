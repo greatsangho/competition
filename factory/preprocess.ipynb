{
 "cells": [
  {
   "cell_type": "code",
   "execution_count": 13,
   "metadata": {},
   "outputs": [
    {
     "name": "stdout",
     "output_type": "stream",
     "text": [
      "Help on class KampDataLoader in module kamp.preprocess:\n",
      "\n",
      "class KampDataLoader(builtins.object)\n",
      " |  KampDataLoader(path, nan_grid={'drop_features': ['line', 'name', 'mold_name', 'time', 'date', 'emergency_stop', 'molten_volume', 'registration_time'], 'simple_fill_dict': {'tryshot_signal': 'No', 'heating_furnace': 'C'}, 'mode_fill_features': ['upper_mold_temp3', 'lower_mold_temp3', 'molten_temp'], 'mode_criterion': 'mold_code'}, do_count_trend=True, drop_count=True, encode_grid={'working': ['정지', '가동'], 'tryshot_signal': ['No', 'D'], 'heating_furnace': ['A', 'B', 'C'], 'mold_code': [8412, 8413, 8573, 8576, 8600, 8722, 8917]}, outlier_method='iso', iso_outlier_rate=0.015, p_threshold=0.05, get_useful_p_data=False, do_resample=True, downsampled_pass_rate=0.5, upsampled_fail_rate_about_pass=1.0, upsample_method='smote', do_pca=False, variance_rate=0.95, scale_include_cat=True)\n",
      " |  \n",
      " |  Methods defined here:\n",
      " |  \n",
      " |  __init__(self, path, nan_grid={'drop_features': ['line', 'name', 'mold_name', 'time', 'date', 'emergency_stop', 'molten_volume', 'registration_time'], 'simple_fill_dict': {'tryshot_signal': 'No', 'heating_furnace': 'C'}, 'mode_fill_features': ['upper_mold_temp3', 'lower_mold_temp3', 'molten_temp'], 'mode_criterion': 'mold_code'}, do_count_trend=True, drop_count=True, encode_grid={'working': ['정지', '가동'], 'tryshot_signal': ['No', 'D'], 'heating_furnace': ['A', 'B', 'C'], 'mold_code': [8412, 8413, 8573, 8576, 8600, 8722, 8917]}, outlier_method='iso', iso_outlier_rate=0.015, p_threshold=0.05, get_useful_p_data=False, do_resample=True, downsampled_pass_rate=0.5, upsampled_fail_rate_about_pass=1.0, upsample_method='smote', do_pca=False, variance_rate=0.95, scale_include_cat=True)\n",
      " |      [Parameters]\n",
      " |      1. path \n",
      " |          - Raw data 경로\n",
      " |      2. nan_grid (default=NAN_GRID) \n",
      " |          - 결측치 처리를 위한 설정값 Dict\n",
      " |          - 재설정 필요 시 'NAN_GRID'를 Import 하여 변경 후 재설정\n",
      " |      3. encode_grid (default=NAN_GRID)\n",
      " |          - 범주형 feature encoding을 위한 설정값 Dict\n",
      " |          - 재설정 필요 시 'NAN_GRID'를 Import 하여 변경 후 재설정\n",
      " |      4. do_count_trend (defaut=True)\n",
      " |          - 'count' 변수를 구간화 하는 feature를 추가할 지 여부\n",
      " |      5. drop_count (default=True)\n",
      " |          - 'count_trend' 변수 생성 후 기존 'count' 변수를 drop할 지 여부\n",
      " |      6. outlier_method (defaul='iso')\n",
      " |          - 이상치 제거 방식 지정\n",
      " |          - 'iso' : 'isolation-forest' 방식 사용\n",
      " |          - 'lof' : 'LOF' 방식 사용\n",
      " |      7. iso_outlier_rate (default=0.015)\n",
      " |          - 'iso' 방식으로 이상치 제거 시 설정할 전체 데이터에서의 예상되는 이상치 비율\n",
      " |      8. p_threshold (default=0.05)\n",
      " |          - 의미 있는 feature를 구분할 p-value 기준 값\n",
      " |      9. get_useful_p_data (default=False)\n",
      " |          - p-value가 p_threshold의 설정값보다 높은 feature만 남길 지 여부\n",
      " |      10. do_resample\n",
      " |          - 클래스 불균형 해결을 위한 resampling을 진행할 지 여부\n",
      " |      11. downsampling_pass_rate (default=0.5)\n",
      " |          - 전체 데이터 중 pass 클래스인 데이터에 대해 남길 pass 데이터의 비율\n",
      " |          - 1.0으로 생성 시 모든 pass 데이터 생성\n",
      " |      12. upsample_fail_rate_about_pass (default='1.0')\n",
      " |          - downsampling 이후 upsampling 진행 시 pass 데이터에 대해 fail 데이터가 차지할 비율\n",
      " |          - 1.0으로 설정 시 pass 데이터와 동일한 양까지 생성\n",
      " |      13. upsample_method (default='smote')\n",
      " |          - upsampling을 진행할 방식 지정\n",
      " |      14. do_pca (defalut=False)\n",
      " |          - pca를 진행할 지 여부\n",
      " |      15. varance_rate (default=0.95)\n",
      " |          - pca 진행 시 선정된 주성분이 설명해야할 전체 분산에서의 비율\n",
      " |      16. scale_include_cat (default=True)\n",
      " |          - scaling 적용 시 '범주형 변수'도 포함하여 스케일링 할 지 여부\n",
      " |  \n",
      " |  load(self)\n",
      " |  \n",
      " |  process(self)\n",
      " |  \n",
      " |  ----------------------------------------------------------------------\n",
      " |  Data descriptors defined here:\n",
      " |  \n",
      " |  __dict__\n",
      " |      dictionary for instance variables (if defined)\n",
      " |  \n",
      " |  __weakref__\n",
      " |      list of weak references to the object (if defined)\n",
      "\n"
     ]
    }
   ],
   "source": [
    "from kamp.preprocess import KampDataLoader\n",
    "\n",
    "help(KampDataLoader)"
   ]
  },
  {
   "cell_type": "code",
   "execution_count": 14,
   "metadata": {},
   "outputs": [
    {
     "name": "stdout",
     "output_type": "stream",
     "text": [
      "==================== [Data Process Start] ==================== \n",
      "\n",
      "[Process Log] Loading Raw Data...\n",
      "[Process Log] Done\n",
      "\n",
      "[Process Log] Processing Nan Value...\n",
      "[Process Log] Done\n",
      "\n",
      "[Process Log] Encoding Categorical Features...\n",
      "[Process Log] Done\n",
      "\n",
      "[Process Log] Removing Outliers (IsoForest)...\n",
      "[Outlier-Remover Log] With Outliers Shape : (89753, 23)\n",
      "[Outlier-Remover Log] Without Outliers Shape : (89079, 23)\n",
      "[Process Log] Done\n",
      "\n",
      "[Process Log] T-Testing...\n",
      "[Process Log] Done\n",
      "\n",
      "[Process Log] Data Scaling (MinMaxScaler)...\n",
      "[Process Log] Done\n",
      "\n",
      "[Process Log] Train Test Spliting...\n",
      "[Process Log] Done\n",
      "\n",
      "======================= [Done] =======================\n"
     ]
    }
   ],
   "source": [
    "DATA_PATH = './data/경진대회용 주조 공정최적화 데이터셋.csv'\n",
    "\n",
    "\n",
    "data_loader = KampDataLoader(\n",
    "    path = DATA_PATH,\n",
    "\n",
    "    # 처리 안한게 더 좋았음\n",
    "    # 처리 안한 것 : 0.944\n",
    "    # 처리 한 것 : 최대 0.922\n",
    "    do_count_trend=False,\n",
    "    drop_count=False,\n",
    "\n",
    "    get_useful_p_data=True,\n",
    "    p_threshold=0.05,\n",
    "\n",
    "    outlier_method='iso',\n",
    "    iso_outlier_rate=0.0075,\n",
    "\n",
    "    do_resample=False,\n",
    "    # downsampled_pass_rate=1.0,\n",
    "    # upsampled_fail_rate_about_pass=1.0,\n",
    "    # upsample_method='adasyn',\n",
    "\n",
    "    scale_include_cat=False\n",
    ")\n",
    "\n",
    "data_loader.process()\n",
    "\n",
    "data = data_loader.load()\n",
    "\n",
    "x_train = data['train_data']\n",
    "y_train = data['train_label']\n",
    "x_test = data['test_data']\n",
    "y_test=  data['test_label']"
   ]
  },
  {
   "cell_type": "code",
   "execution_count": 15,
   "metadata": {},
   "outputs": [
    {
     "data": {
      "text/plain": [
       "((71263, 17), (71263,), (17816, 17), (17816,))"
      ]
     },
     "execution_count": 15,
     "metadata": {},
     "output_type": "execute_result"
    }
   ],
   "source": [
    "x_train.shape, y_train.shape, x_test.shape, y_test.shape"
   ]
  },
  {
   "cell_type": "code",
   "execution_count": 16,
   "metadata": {},
   "outputs": [
    {
     "data": {
      "text/plain": [
       "heating_furnace\n",
       "2.0    37307\n",
       "0.0    17008\n",
       "1.0    16948\n",
       "Name: count, dtype: int64"
      ]
     },
     "execution_count": 16,
     "metadata": {},
     "output_type": "execute_result"
    }
   ],
   "source": [
    "x_train['heating_furnace'].value_counts()"
   ]
  },
  {
   "cell_type": "code",
   "execution_count": 17,
   "metadata": {},
   "outputs": [
    {
     "name": "stdout",
     "output_type": "stream",
     "text": [
      "working\n",
      "1.0    71254\n",
      "0.0        9\n",
      "Name: count, dtype: int64 \n",
      "\n",
      "EMS_operation_time\n",
      "23    53848\n",
      "6      8927\n",
      "0      5514\n",
      "3      2725\n",
      "25      249\n",
      "Name: count, dtype: int64 \n",
      "\n",
      "mold_code\n",
      "6.0    24796\n",
      "5.0    15925\n",
      "0.0    15226\n",
      "2.0     7572\n",
      "1.0     4783\n",
      "4.0     2350\n",
      "3.0      611\n",
      "Name: count, dtype: int64 \n",
      "\n",
      "heating_furnace\n",
      "2.0    37307\n",
      "0.0    17008\n",
      "1.0    16948\n",
      "Name: count, dtype: int64 \n",
      "\n"
     ]
    }
   ],
   "source": [
    "for feature in ['working', 'EMS_operation_time', 'mold_code', 'heating_furnace']:\n",
    "    print(x_train[feature].value_counts(), '\\n')"
   ]
  },
  {
   "cell_type": "code",
   "execution_count": 18,
   "metadata": {},
   "outputs": [
    {
     "name": "stdout",
     "output_type": "stream",
     "text": [
      "working\n",
      "1.0    17813\n",
      "0.0        3\n",
      "Name: count, dtype: int64 \n",
      "\n",
      "EMS_operation_time\n",
      "23    13473\n",
      "6      2189\n",
      "0      1412\n",
      "3       680\n",
      "25       62\n",
      "Name: count, dtype: int64 \n",
      "\n",
      "mold_code\n",
      "6.0    6099\n",
      "5.0    3983\n",
      "0.0    3778\n",
      "2.0    1969\n",
      "1.0    1220\n",
      "4.0     600\n",
      "3.0     167\n",
      "Name: count, dtype: int64 \n",
      "\n",
      "heating_furnace\n",
      "2.0    9307\n",
      "1.0    4278\n",
      "0.0    4231\n",
      "Name: count, dtype: int64 \n",
      "\n"
     ]
    }
   ],
   "source": [
    "for feature in ['working', 'EMS_operation_time', 'mold_code', 'heating_furnace']:\n",
    "    print(x_test[feature].value_counts(), '\\n')"
   ]
  }
 ],
 "metadata": {
  "kernelspec": {
   "display_name": "ml_env",
   "language": "python",
   "name": "python3"
  },
  "language_info": {
   "codemirror_mode": {
    "name": "ipython",
    "version": 3
   },
   "file_extension": ".py",
   "mimetype": "text/x-python",
   "name": "python",
   "nbconvert_exporter": "python",
   "pygments_lexer": "ipython3",
   "version": "3.10.15"
  }
 },
 "nbformat": 4,
 "nbformat_minor": 2
}
