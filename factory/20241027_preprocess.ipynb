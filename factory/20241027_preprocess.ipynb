{
 "cells": [
  {
   "cell_type": "code",
   "execution_count": 1,
   "metadata": {},
   "outputs": [
    {
     "name": "stdout",
     "output_type": "stream",
     "text": [
      "[process Log] Loading Raw Data...\n",
      "[process Log] Done\n",
      "\n",
      "[process Log] Processing Nan Value...\n",
      "[process Log] Done\n",
      "\n",
      "[process Log] Encoding Categorical Features...\n",
      "[process Log] Done\n",
      "\n",
      "[process Log] Removing Outliers (LOF)...\n",
      "[process Log] Done\n",
      "\n"
     ]
    }
   ],
   "source": [
    "from kamp.preprocess import KampDataLoader\n",
    "\n",
    "DATA_PATH = './경진대회용 주조 공정최적화 데이터셋.csv'\n",
    "\n",
    "NAN_GRID = {\n",
    "    'drop_features' : ['line', 'name', 'mold_name', 'time', 'date', \n",
    "                       'emergency_stop', 'molten_volume', 'registration_time'],\n",
    "    'simple_fill_dict' : {'tryshot_signal' : 'No', 'heating_furnace' : 'C'},\n",
    "    'mode_fill_features' : ['upper_mold_temp3', 'lower_mold_temp3', 'molten_temp'],\n",
    "    'mode_criterion' : 'mold_code'\n",
    "}\n",
    "\n",
    "ENCODE_GRID = {\n",
    "    'working' : ['정지', '가동'],\n",
    "    'tryshot_signal' : ['No', 'D'],\n",
    "    'heating_furnace' : ['A', 'B', 'C'],\n",
    "    'mold_code' : [8412, 8413, 8573, 8576, 8600, 8722, 8917]\n",
    "}\n",
    "\n",
    "# 전처리 데이터 로더 객체 생성\n",
    "data_loader = KampDataLoader(path = DATA_PATH,\n",
    "                             nan_grid=NAN_GRID,\n",
    "                             encode_grid=ENCODE_GRID,\n",
    "                             p_threshold=0.05,\n",
    "                             get_useful_p_data=False)\n",
    "\n",
    "# 전처리 진행\n",
    "data_loader.process()\n",
    "\n",
    "# 전처리된 데이터 반환\n",
    "df = data_loader.load()\n",
    "\n",
    "# 전처리된 데이터 csv 저장\n",
    "data_loader.save(path='./data/data_processed.csv')"
   ]
  },
  {
   "cell_type": "code",
   "execution_count": null,
   "metadata": {},
   "outputs": [],
   "source": []
  }
 ],
 "metadata": {
  "kernelspec": {
   "display_name": "ag",
   "language": "python",
   "name": "python3"
  },
  "language_info": {
   "codemirror_mode": {
    "name": "ipython",
    "version": 3
   },
   "file_extension": ".py",
   "mimetype": "text/x-python",
   "name": "python",
   "nbconvert_exporter": "python",
   "pygments_lexer": "ipython3",
   "version": "3.10.14"
  }
 },
 "nbformat": 4,
 "nbformat_minor": 2
}
