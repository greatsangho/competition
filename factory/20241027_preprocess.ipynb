{
 "cells": [
  {
   "cell_type": "code",
   "execution_count": 1,
   "metadata": {},
   "outputs": [
    {
     "ename": "ModuleNotFoundError",
     "evalue": "No module named 'kamp'",
     "output_type": "error",
     "traceback": [
      "\u001b[1;31m---------------------------------------------------------------------------\u001b[0m",
      "\u001b[1;31mModuleNotFoundError\u001b[0m                       Traceback (most recent call last)",
      "Cell \u001b[1;32mIn[1], line 1\u001b[0m\n\u001b[1;32m----> 1\u001b[0m \u001b[38;5;28;01mfrom\u001b[39;00m \u001b[38;5;21;01mkamp\u001b[39;00m\u001b[38;5;21;01m.\u001b[39;00m\u001b[38;5;21;01mpreprocess\u001b[39;00m \u001b[38;5;28;01mimport\u001b[39;00m KampDataLoader\n\u001b[0;32m      3\u001b[0m DATA_PATH \u001b[38;5;241m=\u001b[39m \u001b[38;5;124m'\u001b[39m\u001b[38;5;124m./data/경진대회용 주조 공정최적화 데이터셋.csv\u001b[39m\u001b[38;5;124m'\u001b[39m\n\u001b[0;32m      5\u001b[0m NAN_GRID \u001b[38;5;241m=\u001b[39m {\n\u001b[0;32m      6\u001b[0m     \u001b[38;5;124m'\u001b[39m\u001b[38;5;124mdrop_features\u001b[39m\u001b[38;5;124m'\u001b[39m : [\u001b[38;5;124m'\u001b[39m\u001b[38;5;124mline\u001b[39m\u001b[38;5;124m'\u001b[39m, \u001b[38;5;124m'\u001b[39m\u001b[38;5;124mname\u001b[39m\u001b[38;5;124m'\u001b[39m, \u001b[38;5;124m'\u001b[39m\u001b[38;5;124mmold_name\u001b[39m\u001b[38;5;124m'\u001b[39m, \u001b[38;5;124m'\u001b[39m\u001b[38;5;124mtime\u001b[39m\u001b[38;5;124m'\u001b[39m, \u001b[38;5;124m'\u001b[39m\u001b[38;5;124mdate\u001b[39m\u001b[38;5;124m'\u001b[39m, \n\u001b[0;32m      7\u001b[0m                        \u001b[38;5;124m'\u001b[39m\u001b[38;5;124memergency_stop\u001b[39m\u001b[38;5;124m'\u001b[39m, \u001b[38;5;124m'\u001b[39m\u001b[38;5;124mmolten_volume\u001b[39m\u001b[38;5;124m'\u001b[39m, \u001b[38;5;124m'\u001b[39m\u001b[38;5;124mregistration_time\u001b[39m\u001b[38;5;124m'\u001b[39m],\n\u001b[1;32m   (...)\u001b[0m\n\u001b[0;32m     10\u001b[0m     \u001b[38;5;124m'\u001b[39m\u001b[38;5;124mmode_criterion\u001b[39m\u001b[38;5;124m'\u001b[39m : \u001b[38;5;124m'\u001b[39m\u001b[38;5;124mmold_code\u001b[39m\u001b[38;5;124m'\u001b[39m\n\u001b[0;32m     11\u001b[0m }\n",
      "\u001b[1;31mModuleNotFoundError\u001b[0m: No module named 'kamp'"
     ]
    }
   ],
   "source": [
    "from kamp.preprocess import KampDataLoader\n",
    "\n",
    "DATA_PATH = './경진대회용 주조 공정최적화 데이터셋.csv'\n",
    "\n",
    "NAN_GRID = {\n",
    "    'drop_features' : ['line', 'name', 'mold_name', 'time', 'date', \n",
    "                       'emergency_stop', 'molten_volume', 'registration_time'],\n",
    "    'simple_fill_dict' : {'tryshot_signal' : 'No', 'heating_furnace' : 'C'},\n",
    "    'mode_fill_features' : ['upper_mold_temp3', 'lower_mold_temp3', 'molten_temp'],\n",
    "    'mode_criterion' : 'mold_code'\n",
    "}\n",
    "\n",
    "ENCODE_GRID = {\n",
    "    'working' : ['정지', '가동'],\n",
    "    'tryshot_signal' : ['No', 'D'],\n",
    "    'heating_furnace' : ['A', 'B', 'C'],\n",
    "    'mold_code' : [8412, 8413, 8573, 8576, 8600, 8722, 8917]\n",
    "}\n",
    "\n",
    "# 전처리 데이터 로더 객체 생성\n",
    "data_loader = KampDataLoader(path = DATA_PATH,\n",
    "                             nan_grid=NAN_GRID,\n",
    "                             encode_grid=ENCODE_GRID,\n",
    "                             p_threshold=0.05,\n",
    "                             get_useful_p_data=False)\n",
    "\n",
    "# 전처리 진행\n",
    "data_loader.process()\n",
    "\n",
    "# 전처리된 데이터 반환\n",
    "df = data_loader.load()\n",
    "\n",
    "# 전처리된 데이터 csv 저장\n",
    "data_loader.save(path='./data/data_processed.csv')"
   ]
  },
  {
   "cell_type": "code",
   "execution_count": null,
   "metadata": {},
   "outputs": [],
   "source": [
    "# !pip install kmap"
   ]
  },
  {
   "cell_type": "code",
   "execution_count": null,
   "metadata": {},
   "outputs": [],
   "source": []
  }
 ],
 "metadata": {
  "kernelspec": {
   "display_name": "ag",
   "language": "python",
   "name": "python3"
  },
  "language_info": {
   "codemirror_mode": {
    "name": "ipython",
    "version": 3
   },
   "file_extension": ".py",
   "mimetype": "text/x-python",
   "name": "python",
   "nbconvert_exporter": "python",
   "pygments_lexer": "ipython3",
   "version": "3.10.14"
  }
 },
 "nbformat": 4,
 "nbformat_minor": 2
}
