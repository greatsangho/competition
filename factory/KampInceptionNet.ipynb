{
 "cells": [
  {
   "cell_type": "markdown",
   "metadata": {},
   "source": [
    "# KampInceptionResNet"
   ]
  },
  {
   "cell_type": "markdown",
   "metadata": {},
   "source": [
    "## Import Libarary"
   ]
  },
  {
   "cell_type": "code",
   "execution_count": null,
   "metadata": {},
   "outputs": [],
   "source": [
    "import torch\n",
    "from torch.utils.data import DataLoader\n",
    "\n",
    "from sklearn.metrics import f1_score, confusion_matrix, classification_report\n",
    "\n",
    "from kamp.preprocess import KampDataLoader\n",
    "from kamp.utils import KampDataset, evaluate_model\n",
    "from kamp.models import KampInceptionNet"
   ]
  },
  {
   "cell_type": "code",
   "execution_count": 8,
   "metadata": {},
   "outputs": [
    {
     "name": "stdout",
     "output_type": "stream",
     "text": [
      "Help on class KampDataLoader in module kamp.preprocess:\n",
      "\n",
      "class KampDataLoader(builtins.object)\n",
      " |  KampDataLoader(path, nan_grid={'drop_features': ['line', 'name', 'mold_name', 'time', 'date', 'emergency_stop', 'molten_volume', 'registration_time'], 'simple_fill_dict': {'tryshot_signal': 'No', 'heating_furnace': 'C'}, 'mode_fill_features': ['upper_mold_temp3', 'lower_mold_temp3', 'molten_temp'], 'mode_criterion': 'mold_code'}, do_count_trend=True, drop_count=True, encode_grid={'working': ['정지', '가동'], 'tryshot_signal': ['No', 'D'], 'heating_furnace': ['A', 'B', 'C'], 'mold_code': [8412, 8413, 8573, 8576, 8600, 8722, 8917]}, outlier_method='iso', iso_outlier_rate=0.015, p_threshold=0.05, get_useful_p_data=False, do_resample=True, downsampled_pass_rate=0.5, upsampled_fail_rate_about_pass=1.0, upsample_method='smote', do_pca=False, variance_rate=0.95)\n",
      " |  \n",
      " |  Methods defined here:\n",
      " |  \n",
      " |  __init__(self, path, nan_grid={'drop_features': ['line', 'name', 'mold_name', 'time', 'date', 'emergency_stop', 'molten_volume', 'registration_time'], 'simple_fill_dict': {'tryshot_signal': 'No', 'heating_furnace': 'C'}, 'mode_fill_features': ['upper_mold_temp3', 'lower_mold_temp3', 'molten_temp'], 'mode_criterion': 'mold_code'}, do_count_trend=True, drop_count=True, encode_grid={'working': ['정지', '가동'], 'tryshot_signal': ['No', 'D'], 'heating_furnace': ['A', 'B', 'C'], 'mold_code': [8412, 8413, 8573, 8576, 8600, 8722, 8917]}, outlier_method='iso', iso_outlier_rate=0.015, p_threshold=0.05, get_useful_p_data=False, do_resample=True, downsampled_pass_rate=0.5, upsampled_fail_rate_about_pass=1.0, upsample_method='smote', do_pca=False, variance_rate=0.95)\n",
      " |      [Parameters]\n",
      " |      1. path \n",
      " |          - Raw data 경로\n",
      " |      2. nan_grid (default=NAN_GRID) \n",
      " |          - 결측치 처리를 위한 설정값 Dict\n",
      " |          - 재설정 필요 시 'NAN_GRID'를 Import 하여 변경 후 재설정\n",
      " |      3. encode_grid (default=NAN_GRID)\n",
      " |          - 범주형 feature encoding을 위한 설정값 Dict\n",
      " |          - 재설정 필요 시 'NAN_GRID'를 Import 하여 변경 후 재설정\n",
      " |      4. do_count_trend (defaut=True)\n",
      " |          - 'count' 변수를 구간화 하는 feature를 추가할 지 여부\n",
      " |      5. drop_count (default=True)\n",
      " |          - 'count_trend' 변수 생성 후 기존 'count' 변수를 drop할 지 여부\n",
      " |      6. outlier_method (defaul='iso')\n",
      " |          - 이상치 제거 방식 지정\n",
      " |          - 'iso' : 'isolation-forest' 방식 사용\n",
      " |          - 'lof' : 'LOF' 방식 사용\n",
      " |      7. iso_outlier_rate (default=0.015)\n",
      " |          - 'iso' 방식으로 이상치 제거 시 설정할 전체 데이터에서의 예상되는 이상치 비율\n",
      " |      8. p_threshold (default=0.05)\n",
      " |          - 의미 있는 feature를 구분할 p-value 기준 값\n",
      " |      9. get_useful_p_data (default=False)\n",
      " |          - p-value가 p_threshold의 설정값보다 높은 feature만 남길 지 여부\n",
      " |      10. do_resample\n",
      " |          - 클래스 불균형 해결을 위한 resampling을 진행할 지 여부\n",
      " |      11. downsampling_pass_rate (default=0.5)\n",
      " |          - 전체 데이터 중 pass 클래스인 데이터에 대해 남길 pass 데이터의 비율\n",
      " |          - 1.0으로 생성 시 모든 pass 데이터 생성\n",
      " |      12. upsample_fail_rate_about_pass (default='1.0')\n",
      " |          - downsampling 이후 upsampling 진행 시 pass 데이터에 대해 fail 데이터가 차지할 비율\n",
      " |          - 1.0으로 설정 시 pass 데이터와 동일한 양까지 생성\n",
      " |      13. upsample_method (default='smote')\n",
      " |          - upsampling을 진행할 방식 지정\n",
      " |      14. do_pca (defalut=False)\n",
      " |          - pca를 진행할 지 여부\n",
      " |      15. varance_rate (default=0.95)\n",
      " |          - pca 진행 시 선정된 주성분이 설명해야할 전체 분산에서의 비율\n",
      " |  \n",
      " |  load(self)\n",
      " |  \n",
      " |  process(self)\n",
      " |  \n",
      " |  ----------------------------------------------------------------------\n",
      " |  Data descriptors defined here:\n",
      " |  \n",
      " |  __dict__\n",
      " |      dictionary for instance variables (if defined)\n",
      " |  \n",
      " |  __weakref__\n",
      " |      list of weak references to the object (if defined)\n",
      "\n"
     ]
    }
   ],
   "source": [
    "help(KampDataLoader)"
   ]
  },
  {
   "cell_type": "markdown",
   "metadata": {},
   "source": [
    "## Load Data"
   ]
  },
  {
   "cell_type": "code",
   "execution_count": 9,
   "metadata": {},
   "outputs": [
    {
     "name": "stdout",
     "output_type": "stream",
     "text": [
      "==================== [Data Process Start] ==================== \n",
      "\n",
      "[Process Log] Loading Raw Data...\n",
      "[Process Log] Done\n",
      "\n",
      "[Process Log] Processing Nan Value...\n",
      "[Process Log] Done\n",
      "\n",
      "[Process Log] Encoding Categorical Features...\n",
      "[Process Log] Done\n",
      "\n",
      "[Process Log] Removing Outliers (IsoForest)...\n",
      "[Outlier-Remover Log] With Outliers Shape : (89753, 23)\n",
      "[Outlier-Remover Log] Without Outliers Shape : (89079, 23)\n",
      "[Process Log] Done\n",
      "\n",
      "[Process Log] T-Testing...\n",
      "[Process Log] Done\n",
      "\n",
      "[Process Log] Data Scaling (MinMaxScaler)...\n",
      "[Process Log] Done\n",
      "\n",
      "[Process Log] Train Test Spliting...\n",
      "[Process Log] Done\n",
      "\n",
      "======================= [Done] =======================\n"
     ]
    }
   ],
   "source": [
    "DATA_PATH = './data/경진대회용 주조 공정최적화 데이터셋.csv'\n",
    "\n",
    "data_loader = KampDataLoader(\n",
    "    path = DATA_PATH,\n",
    "\n",
    "    # 처리 안한게 더 좋았음\n",
    "    # 처리 안한 것 : 0.944\n",
    "    # 처리 한 것 : 최대 0.922\n",
    "    do_count_trend=False,\n",
    "    drop_count=False,\n",
    "\n",
    "    get_useful_p_data=True,\n",
    "    p_threshold=0.05,\n",
    "\n",
    "    outlier_method='iso',\n",
    "    iso_outlier_rate=0.0075,\n",
    "\n",
    "    do_resample=False,\n",
    "    # downsampled_pass_rate=1.0,\n",
    "    # upsampled_fail_rate_about_pass=0.25,\n",
    "    # upsample_method='adasyn',\n",
    ")\n",
    "\n",
    "data_loader.process()\n",
    "\n",
    "data = data_loader.load()\n",
    "\n",
    "x_train = data['train_data']\n",
    "y_train = data['train_label']\n",
    "x_test = data['test_data']\n",
    "y_test=  data['test_label']"
   ]
  },
  {
   "cell_type": "markdown",
   "metadata": {},
   "source": [
    "## Modeling"
   ]
  },
  {
   "cell_type": "code",
   "execution_count": 10,
   "metadata": {},
   "outputs": [],
   "source": [
    "RANDOM_SEED = 42\n",
    "BATCH_SIZE = 32\n",
    "EPOCHS = 10\n",
    "NUM_THREADS = 6\n",
    "\n",
    "torch.manual_seed(RANDOM_SEED)\n",
    "torch.set_num_threads(NUM_THREADS)"
   ]
  },
  {
   "cell_type": "code",
   "execution_count": 11,
   "metadata": {},
   "outputs": [],
   "source": [
    "train_dataset = KampDataset(inputs=x_train, labels=y_train)\n",
    "\n",
    "train_dataloader = DataLoader(\n",
    "    dataset=train_dataset,\n",
    "    batch_size=BATCH_SIZE,\n",
    "    shuffle=True\n",
    ")"
   ]
  },
  {
   "cell_type": "code",
   "execution_count": 12,
   "metadata": {},
   "outputs": [
    {
     "name": "stderr",
     "output_type": "stream",
     "text": [
      "[Epoch 1 | Loss 0.3737] : 100%|██████████| 2227/2227 [03:01<00:00, 12.24it/s]\n",
      "[Epoch 2 | Loss 0.3734] : 100%|██████████| 2227/2227 [03:05<00:00, 12.00it/s]\n",
      "[Epoch 3 | Loss 0.3733] : 100%|██████████| 2227/2227 [03:25<00:00, 10.83it/s]\n",
      "[Epoch 4 | Loss 0.3734] : 100%|██████████| 2227/2227 [04:01<00:00,  9.23it/s]\n",
      "[Epoch 5 | Loss 0.3734] : 100%|██████████| 2227/2227 [03:08<00:00, 11.79it/s]\n",
      "[Epoch 6 | Loss 0.3734] : 100%|██████████| 2227/2227 [03:04<00:00, 12.10it/s]\n",
      "[Epoch 7 | Loss 0.3734] : 100%|██████████| 2227/2227 [03:02<00:00, 12.19it/s]\n",
      "[Epoch 8 | Loss 0.3734] : 100%|██████████| 2227/2227 [03:01<00:00, 12.26it/s]\n",
      "[Epoch 9 | Loss 0.3735] : 100%|██████████| 2227/2227 [03:05<00:00, 12.02it/s]\n",
      "[Epoch 10 | Loss 0.3734] : 100%|██████████| 2227/2227 [03:03<00:00, 12.16it/s]\n"
     ]
    }
   ],
   "source": [
    "param_grid = {\n",
    "    'lr' : 0.1,\n",
    "    'epochs' : EPOCHS\n",
    "}\n",
    "\n",
    "model, history = KampInceptionNet(**param_grid).fit(train_dataloader)"
   ]
  },
  {
   "cell_type": "markdown",
   "metadata": {},
   "source": [
    "## Evaluation"
   ]
  },
  {
   "cell_type": "code",
   "execution_count": 13,
   "metadata": {},
   "outputs": [],
   "source": [
    "test_dataset = KampDataset(inputs=x_test, labels=y_test)\n",
    "\n",
    "test_dataloader = DataLoader(\n",
    "    dataset=test_dataset,\n",
    "    batch_size=BATCH_SIZE,\n",
    "    shuffle=False\n",
    ")"
   ]
  },
  {
   "cell_type": "code",
   "execution_count": 14,
   "metadata": {},
   "outputs": [
    {
     "name": "stderr",
     "output_type": "stream",
     "text": [
      "100%|██████████| 557/557 [00:12<00:00, 43.19it/s]"
     ]
    },
    {
     "name": "stdout",
     "output_type": "stream",
     "text": [
      "\n",
      "F1 Socre : 0.9451\n",
      "\n",
      "Confusion Matrix : \n",
      "[[17160     0]\n",
      " [  656     0]] \n",
      "\n",
      "Classification Report : \n",
      "              precision    recall  f1-score   support\n",
      "\n",
      "           0       0.96      1.00      0.98     17160\n",
      "           1       0.00      0.00      0.00       656\n",
      "\n",
      "    accuracy                           0.96     17816\n",
      "   macro avg       0.48      0.50      0.49     17816\n",
      "weighted avg       0.93      0.96      0.95     17816\n",
      " \n",
      "\n"
     ]
    },
    {
     "name": "stderr",
     "output_type": "stream",
     "text": [
      "\n",
      "c:\\Users\\USER\\anaconda3\\envs\\kamp_competition\\lib\\site-packages\\sklearn\\metrics\\_classification.py:1531: UndefinedMetricWarning: Precision is ill-defined and being set to 0.0 in labels with no predicted samples. Use `zero_division` parameter to control this behavior.\n",
      "  _warn_prf(average, modifier, f\"{metric.capitalize()} is\", len(result))\n",
      "c:\\Users\\USER\\anaconda3\\envs\\kamp_competition\\lib\\site-packages\\sklearn\\metrics\\_classification.py:1531: UndefinedMetricWarning: Precision is ill-defined and being set to 0.0 in labels with no predicted samples. Use `zero_division` parameter to control this behavior.\n",
      "  _warn_prf(average, modifier, f\"{metric.capitalize()} is\", len(result))\n",
      "c:\\Users\\USER\\anaconda3\\envs\\kamp_competition\\lib\\site-packages\\sklearn\\metrics\\_classification.py:1531: UndefinedMetricWarning: Precision is ill-defined and being set to 0.0 in labels with no predicted samples. Use `zero_division` parameter to control this behavior.\n",
      "  _warn_prf(average, modifier, f\"{metric.capitalize()} is\", len(result))\n"
     ]
    }
   ],
   "source": [
    "true_labels, predicted_labels = evaluate_model(model, test_dataloader)\n",
    "\n",
    "f1 = f1_score(true_labels, predicted_labels, average='weighted', zero_division=1)\n",
    "print(f\"\\nF1 Socre : {f1:.4f}\\n\")\n",
    "\n",
    "conf_matrix = confusion_matrix(true_labels, predicted_labels)\n",
    "print(\"Confusion Matrix : \")\n",
    "print(conf_matrix, '\\n')\n",
    "\n",
    "print(\"Classification Report : \")\n",
    "print(classification_report(true_labels, predicted_labels), '\\n')"
   ]
  }
 ],
 "metadata": {
  "kernelspec": {
   "display_name": "kamp_competition",
   "language": "python",
   "name": "python3"
  },
  "language_info": {
   "codemirror_mode": {
    "name": "ipython",
    "version": 3
   },
   "file_extension": ".py",
   "mimetype": "text/x-python",
   "name": "python",
   "nbconvert_exporter": "python",
   "pygments_lexer": "ipython3",
   "version": "3.10.15"
  }
 },
 "nbformat": 4,
 "nbformat_minor": 2
}
