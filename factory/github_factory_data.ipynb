{
 "cells": [
  {
   "cell_type": "code",
   "execution_count": 1,
   "id": "25465caa-ac27-4b27-abe3-c72f3cfafc7a",
   "metadata": {},
   "outputs": [],
   "source": [
    "import pandas as pd\n",
    "import numpy as np\n",
    "import seaborn as sns\n",
    "import matplotlib.pyplot as plt\n",
    "\n",
    "from sklearn.metrics import mean_squared_error\n",
    "\n",
    "import warnings\n",
    "warnings.filterwarnings('ignore')"
   ]
  },
  {
   "cell_type": "code",
   "execution_count": 2,
   "id": "96c107b8-6a3c-49cb-a3c8-3baab9324bbc",
   "metadata": {},
   "outputs": [],
   "source": [
    "train = pd.read_csv('./데이터/casting.csv', encoding='cp949')"
   ]
  },
  {
   "cell_type": "code",
   "execution_count": 3,
   "id": "a8b81ebd-c13e-4989-9182-f14a6ee9eb3c",
   "metadata": {},
   "outputs": [
    {
     "name": "stdout",
     "output_type": "stream",
     "text": [
      "<class 'pandas.core.frame.DataFrame'>\n",
      "RangeIndex: 92015 entries, 0 to 92014\n",
      "Data columns (total 32 columns):\n",
      " #   Column                        Non-Null Count  Dtype  \n",
      "---  ------                        --------------  -----  \n",
      " 0   Unnamed: 0                    92015 non-null  int64  \n",
      " 1   line                          92015 non-null  object \n",
      " 2   name                          92015 non-null  object \n",
      " 3   mold_name                     92015 non-null  object \n",
      " 4   time                          92015 non-null  object \n",
      " 5   date                          92015 non-null  object \n",
      " 6   count                         92015 non-null  int64  \n",
      " 7   working                       92014 non-null  object \n",
      " 8   emergency_stop                92014 non-null  object \n",
      " 9   molten_temp                   89754 non-null  float64\n",
      " 10  facility_operation_cycleTime  92015 non-null  int64  \n",
      " 11  production_cycletime          92015 non-null  int64  \n",
      " 12  low_section_speed             92014 non-null  float64\n",
      " 13  high_section_speed            92014 non-null  float64\n",
      " 14  molten_volume                 46885 non-null  float64\n",
      " 15  cast_pressure                 92014 non-null  float64\n",
      " 16  biscuit_thickness             92014 non-null  float64\n",
      " 17  upper_mold_temp1              92014 non-null  float64\n",
      " 18  upper_mold_temp2              92014 non-null  float64\n",
      " 19  upper_mold_temp3              91702 non-null  float64\n",
      " 20  lower_mold_temp1              92014 non-null  float64\n",
      " 21  lower_mold_temp2              92014 non-null  float64\n",
      " 22  lower_mold_temp3              91702 non-null  float64\n",
      " 23  sleeve_temperature            92014 non-null  float64\n",
      " 24  physical_strength             92014 non-null  float64\n",
      " 25  Coolant_temperature           92014 non-null  float64\n",
      " 26  EMS_operation_time            92015 non-null  int64  \n",
      " 27  registration_time             92015 non-null  object \n",
      " 28  passorfail                    92014 non-null  float64\n",
      " 29  tryshot_signal                1919 non-null   object \n",
      " 30  mold_code                     92015 non-null  int64  \n",
      " 31  heating_furnace               42869 non-null  object \n",
      "dtypes: float64(16), int64(6), object(10)\n",
      "memory usage: 22.5+ MB\n"
     ]
    }
   ],
   "source": [
    "train.info()"
   ]
  },
  {
   "cell_type": "code",
   "execution_count": 4,
   "id": "73359cca-ac6e-4142-9abf-a491e43524ee",
   "metadata": {},
   "outputs": [
    {
     "data": {
      "text/plain": [
       "Unnamed: 0                          0\n",
       "line                                0\n",
       "name                                0\n",
       "mold_name                           0\n",
       "time                                0\n",
       "date                                0\n",
       "count                               0\n",
       "working                             1\n",
       "emergency_stop                      1\n",
       "molten_temp                      2261\n",
       "facility_operation_cycleTime        0\n",
       "production_cycletime                0\n",
       "low_section_speed                   1\n",
       "high_section_speed                  1\n",
       "molten_volume                   45130\n",
       "cast_pressure                       1\n",
       "biscuit_thickness                   1\n",
       "upper_mold_temp1                    1\n",
       "upper_mold_temp2                    1\n",
       "upper_mold_temp3                  313\n",
       "lower_mold_temp1                    1\n",
       "lower_mold_temp2                    1\n",
       "lower_mold_temp3                  313\n",
       "sleeve_temperature                  1\n",
       "physical_strength                   1\n",
       "Coolant_temperature                 1\n",
       "EMS_operation_time                  0\n",
       "registration_time                   0\n",
       "passorfail                          1\n",
       "tryshot_signal                  90096\n",
       "mold_code                           0\n",
       "heating_furnace                 49146\n",
       "dtype: int64"
      ]
     },
     "execution_count": 4,
     "metadata": {},
     "output_type": "execute_result"
    }
   ],
   "source": [
    "train.isnull().sum()"
   ]
  },
  {
   "cell_type": "code",
   "execution_count": 5,
   "id": "f905903b-95b9-4e38-b42f-9713eeab12d6",
   "metadata": {},
   "outputs": [],
   "source": [
    "# 공통행 제거\n",
    "train = train.drop(train[train['working'].isnull()].index)"
   ]
  },
  {
   "cell_type": "markdown",
   "id": "ad885f18-a384-4a2b-900a-0c79f7a8bc96",
   "metadata": {},
   "source": [
    "# 열 분석"
   ]
  },
  {
   "cell_type": "markdown",
   "id": "4f686ade-9a7e-4ea8-80e1-086457acaa2e",
   "metadata": {},
   "source": [
    "## target : passorfail(양불)\n",
    "- 불균형 데이터임"
   ]
  },
  {
   "cell_type": "code",
   "execution_count": 6,
   "id": "f2fbe372-0cdf-4e72-baa0-989a738b3ba5",
   "metadata": {},
   "outputs": [
    {
     "data": {
      "text/plain": [
       "4.364553220162149"
      ]
     },
     "execution_count": 6,
     "metadata": {},
     "output_type": "execute_result"
    }
   ],
   "source": [
    "train['passorfail'].value_counts()\n",
    "4016/(87998 + 4016)*100"
   ]
  },
  {
   "cell_type": "code",
   "execution_count": 7,
   "id": "79b8c13d-56ac-4e38-bf7a-d5500dc9491a",
   "metadata": {},
   "outputs": [
    {
     "name": "stdout",
     "output_type": "stream",
     "text": [
      "         Unnamed: 0        count  molten_temp  facility_operation_cycleTime  \\\n",
      "count   4016.000000  4016.000000  3952.000000                   4016.000000   \n",
      "mean   45733.340139    75.114791   719.303138                    121.291584   \n",
      "std    25978.361324    92.422343    56.993707                     14.315182   \n",
      "min       22.000000     1.000000     0.000000                     70.000000   \n",
      "25%    23284.000000     4.000000   714.000000                    117.000000   \n",
      "50%    43749.500000    18.000000   729.000000                    120.000000   \n",
      "75%    68452.250000   143.000000   731.000000                    122.000000   \n",
      "max    91977.000000   334.000000   735.000000                    238.000000   \n",
      "\n",
      "       production_cycletime  low_section_speed  high_section_speed  \\\n",
      "count           4016.000000        4016.000000         4016.000000   \n",
      "mean             117.668825         130.143924          117.612799   \n",
      "std               21.823597        1460.463557           32.441778   \n",
      "min                0.000000           0.000000            0.000000   \n",
      "25%              118.000000         102.000000          111.000000   \n",
      "50%              120.000000         109.000000          112.000000   \n",
      "75%              123.000000         110.000000          112.000000   \n",
      "max              462.000000       65535.000000          388.000000   \n",
      "\n",
      "       molten_volume  cast_pressure  biscuit_thickness  ...  upper_mold_temp3  \\\n",
      "count    2164.000000    4016.000000        4016.000000  ...         4016.0000   \n",
      "mean      149.136322     227.784612          66.389940  ...         1322.0249   \n",
      "std       468.774157      82.190664          82.102593  ...          394.0187   \n",
      "min         0.000000      41.000000           0.000000  ...           42.0000   \n",
      "25%        49.000000     157.000000          45.000000  ...         1449.0000   \n",
      "50%        67.000000     172.000000          49.000000  ...         1449.0000   \n",
      "75%        87.000000     329.000000          53.000000  ...         1449.0000   \n",
      "max      2767.000000     339.000000         422.000000  ...         1449.0000   \n",
      "\n",
      "       lower_mold_temp1  lower_mold_temp2  lower_mold_temp3  \\\n",
      "count       4016.000000       4016.000000       4016.000000   \n",
      "mean         145.941733        149.011703       1434.946962   \n",
      "std           57.403096         68.198108         82.980226   \n",
      "min           18.000000         20.000000        630.000000   \n",
      "25%          103.000000        113.000000       1449.000000   \n",
      "50%          144.000000        143.000000       1449.000000   \n",
      "75%          182.000000        178.000000       1449.000000   \n",
      "max          367.000000       1449.000000       1449.000000   \n",
      "\n",
      "       sleeve_temperature  physical_strength  Coolant_temperature  \\\n",
      "count         4016.000000        4016.000000          4016.000000   \n",
      "mean           368.452938         726.177042            30.874502   \n",
      "std            144.742669        1776.560402            44.958236   \n",
      "min             23.000000           0.000000            16.000000   \n",
      "25%            279.000000         694.000000            27.000000   \n",
      "50%            411.000000         703.000000            30.000000   \n",
      "75%            471.000000         708.000000            32.000000   \n",
      "max           1449.000000       65535.000000          1449.000000   \n",
      "\n",
      "       EMS_operation_time  passorfail    mold_code  \n",
      "count         4016.000000      4016.0  4016.000000  \n",
      "mean            18.746763         1.0  8691.040339  \n",
      "std              8.189892         0.0   195.143481  \n",
      "min              0.000000         1.0  8412.000000  \n",
      "25%             23.000000         1.0  8573.000000  \n",
      "50%             23.000000         1.0  8722.000000  \n",
      "75%             23.000000         1.0  8917.000000  \n",
      "max             23.000000         1.0  8917.000000  \n",
      "\n",
      "[8 rows x 22 columns]\n"
     ]
    }
   ],
   "source": [
    "fail_df = train[train['passorfail']==1]\n",
    "print(fail_df.describe())"
   ]
  },
  {
   "cell_type": "code",
   "execution_count": 8,
   "id": "f884ca24-442d-409c-9b9c-1bfa0fb6245a",
   "metadata": {},
   "outputs": [
    {
     "name": "stdout",
     "output_type": "stream",
     "text": [
      "         Unnamed: 0         count   molten_temp  facility_operation_cycleTime  \\\n",
      "count  87998.000000  87998.000000  85801.000000                  87998.000000   \n",
      "mean   46019.792313    151.858997    718.586940                    121.568411   \n",
      "std    26589.018928     86.284309     51.473626                     11.999211   \n",
      "min        0.000000      1.000000      0.000000                     69.000000   \n",
      "25%    22997.250000     77.000000    713.000000                    117.000000   \n",
      "50%    46108.500000    150.000000    728.000000                    119.000000   \n",
      "75%    69061.750000    224.000000    730.000000                    122.000000   \n",
      "max    92014.000000    334.000000    735.000000                    457.000000   \n",
      "\n",
      "       production_cycletime  low_section_speed  high_section_speed  \\\n",
      "count          87998.000000       87998.000000        87998.000000   \n",
      "mean             122.737062         109.911964          112.397327   \n",
      "std               13.047904           7.025948            8.475689   \n",
      "min                0.000000           1.000000           90.000000   \n",
      "25%              119.000000         110.000000          112.000000   \n",
      "50%              121.000000         110.000000          112.000000   \n",
      "75%              123.000000         110.000000          112.000000   \n",
      "max              485.000000         140.000000          345.000000   \n",
      "\n",
      "       molten_volume  cast_pressure  biscuit_thickness  ...  upper_mold_temp3  \\\n",
      "count   44720.000000   87998.000000       87998.000000  ...      87686.000000   \n",
      "mean      155.260487     328.970863          49.948908  ...       1319.941017   \n",
      "std       486.450886       5.078062           4.078436  ...        392.297999   \n",
      "min         0.000000     149.000000           1.000000  ...         64.000000   \n",
      "25%        49.000000     329.000000          47.000000  ...       1449.000000   \n",
      "50%        67.000000     330.000000          50.000000  ...       1449.000000   \n",
      "75%        85.000000     331.000000          53.000000  ...       1449.000000   \n",
      "max      2767.000000     348.000000          60.000000  ...       1449.000000   \n",
      "\n",
      "       lower_mold_temp1  lower_mold_temp2  lower_mold_temp3  \\\n",
      "count      87998.000000      87998.000000      87686.000000   \n",
      "mean         206.405111        202.349690       1442.273909   \n",
      "std           51.729941         42.443965        223.432314   \n",
      "min           43.000000         26.000000        299.000000   \n",
      "25%          169.000000        176.000000       1449.000000   \n",
      "50%          211.000000        200.000000       1449.000000   \n",
      "75%          251.000000        234.000000       1449.000000   \n",
      "max          369.000000        504.000000      65503.000000   \n",
      "\n",
      "       sleeve_temperature  physical_strength  Coolant_temperature  \\\n",
      "count        87998.000000       87998.000000         87998.000000   \n",
      "mean           420.902441         700.125457            32.399498   \n",
      "std            113.812958          44.040044            10.975152   \n",
      "min             40.000000           0.000000            18.000000   \n",
      "25%            385.000000         697.000000            31.000000   \n",
      "50%            463.000000         703.000000            32.000000   \n",
      "75%            485.000000         710.000000            34.000000   \n",
      "max           1449.000000         737.000000          1449.000000   \n",
      "\n",
      "       EMS_operation_time  passorfail     mold_code  \n",
      "count        87998.000000     87998.0  87998.000000  \n",
      "mean            18.402782         0.0   8673.862042  \n",
      "std              8.363077         0.0    206.044972  \n",
      "min              0.000000         0.0   8412.000000  \n",
      "25%             23.000000         0.0   8413.000000  \n",
      "50%             23.000000         0.0   8722.000000  \n",
      "75%             23.000000         0.0   8917.000000  \n",
      "max             25.000000         0.0   8917.000000  \n",
      "\n",
      "[8 rows x 22 columns]\n"
     ]
    }
   ],
   "source": [
    "pass_df = train[train['passorfail']==0]\n",
    "print(pass_df.describe())"
   ]
  },
  {
   "cell_type": "code",
   "execution_count": null,
   "id": "c87ed8ab-7f02-4dde-930a-7e77147b13e6",
   "metadata": {},
   "outputs": [],
   "source": []
  },
  {
   "cell_type": "markdown",
   "id": "978a3edf-ea8b-4876-8345-1a4319c36599",
   "metadata": {},
   "source": [
    "## line(작업라인)\n",
    "- 작업라인은 하나임(전자교반 3라인 2호기)"
   ]
  },
  {
   "cell_type": "code",
   "execution_count": 9,
   "id": "879acec7-0ac3-4fd3-820f-145b5ed9ba92",
   "metadata": {},
   "outputs": [
    {
     "data": {
      "text/plain": [
       "array(['전자교반 3라인 2호기'], dtype=object)"
      ]
     },
     "execution_count": 9,
     "metadata": {},
     "output_type": "execute_result"
    }
   ],
   "source": [
    "train['line'].unique()"
   ]
  },
  {
   "cell_type": "markdown",
   "id": "992bd7ad-442b-4b72-be80-dc03b03cb066",
   "metadata": {},
   "source": [
    "## name(제품명)\n",
    "- 제품명은 하나임(TM Carrier RH)"
   ]
  },
  {
   "cell_type": "code",
   "execution_count": 10,
   "id": "b3f43fc0-491f-43bf-b1b5-f735398e4995",
   "metadata": {},
   "outputs": [
    {
     "data": {
      "text/plain": [
       "array(['TM Carrier RH'], dtype=object)"
      ]
     },
     "execution_count": 10,
     "metadata": {},
     "output_type": "execute_result"
    }
   ],
   "source": [
    "train['name'].unique()"
   ]
  },
  {
   "cell_type": "markdown",
   "id": "01ad3184-ea42-4bed-b889-7cedb81dd4b6",
   "metadata": {},
   "source": [
    "## mold_name(금형명)\n",
    "- 금형명도 하나임(TM Carrier RH-Semi-Solid DIE-06)"
   ]
  },
  {
   "cell_type": "code",
   "execution_count": 11,
   "id": "97ab4fcb-3427-4555-80e6-fe1265bbb664",
   "metadata": {},
   "outputs": [
    {
     "data": {
      "text/plain": [
       "array(['TM Carrier RH-Semi-Solid DIE-06'], dtype=object)"
      ]
     },
     "execution_count": 11,
     "metadata": {},
     "output_type": "execute_result"
    }
   ],
   "source": [
    "train['mold_name'].unique()"
   ]
  },
  {
   "cell_type": "markdown",
   "id": "083b52c1-5d0d-4768-90a2-49bbc61021ab",
   "metadata": {},
   "source": [
    "## count (일자별 제품생산 번호)\n",
    "- count는 몰드코드별로 봤을때 몇몇 이상치를 제외하면 시간순서대로 올라간다\n",
    "- \n",
    "count가 6,7정도부터 불량률이 급격하게 줄어든다"
   ]
  },
  {
   "cell_type": "code",
   "execution_count": 12,
   "id": "7738bff0-f054-48be-ad07-c66fe138fa46",
   "metadata": {},
   "outputs": [],
   "source": [
    "a=[]\n",
    "for i in range(1, 335): \n",
    "    a.append(len(train[train['count']==i]))"
   ]
  },
  {
   "cell_type": "code",
   "execution_count": 13,
   "id": "de67b1d4-f0d4-4e7a-90e5-a46845d02ea6",
   "metadata": {},
   "outputs": [
    {
     "data": {
      "image/png": "[encoded data removed]",
      "text/plain": [
       "<Figure size 640x480 with 1 Axes>"
      ]
     },
     "metadata": {},
     "output_type": "display_data"
    }
   ],
   "source": [
    "import koreanize_matplotlib\n",
    "sns.lineplot(a)\n",
    "plt.title('count 별 행의 수')\n",
    "plt.xlabel('count')\n",
    "plt.ylabel('행의 수')\n",
    "plt.show()"
   ]
  },
  {
   "cell_type": "code",
   "execution_count": 14,
   "id": "75ca9d7f-19d9-4ac2-ba22-aff0de99be32",
   "metadata": {},
   "outputs": [],
   "source": [
    "pf=[]\n",
    "for i in range(1, 335): \n",
    "    k = train[train['count']==i]\n",
    "    per = len(k[k['passorfail']==1])/(len(k[k['passorfail']==0]) + len(k[k['passorfail']==1])) * 100\n",
    "    pf.append(per)"
   ]
  },
  {
   "cell_type": "code",
   "execution_count": 15,
   "id": "91f747c9-55aa-4b0c-b437-41506682a34d",
   "metadata": {},
   "outputs": [
    {
     "data": {
      "image/png": "[encoded data removed]",
      "text/plain": [
       "<Figure size 640x480 with 1 Axes>"
      ]
     },
     "metadata": {},
     "output_type": "display_data"
    }
   ],
   "source": [
    "sns.lineplot(pf)\n",
    "plt.title('count별 불량률')\n",
    "plt.xlabel('count')\n",
    "plt.ylabel('불량률')\n",
    "plt.show()"
   ]
  },
  {
   "cell_type": "markdown",
   "id": "2eab603e-30ec-4d93-acb7-22e779787c54",
   "metadata": {},
   "source": [
    "## working(가동여부)\n",
    "- passorfail의 유일한 NaN값이 있는 행이 working의 유일한 NaN값이 있는 행과 같음\n",
    "- 이 행은 제거해도 될 듯"
   ]
  },
  {
   "cell_type": "code",
   "execution_count": 16,
   "id": "2a6027c9-5a11-487b-aee4-be1c991e1b06",
   "metadata": {},
   "outputs": [
    {
     "data": {
      "text/plain": [
       "array(['가동', '정지'], dtype=object)"
      ]
     },
     "execution_count": 16,
     "metadata": {},
     "output_type": "execute_result"
    }
   ],
   "source": [
    "train['working'].unique()"
   ]
  },
  {
   "cell_type": "code",
   "execution_count": 17,
   "id": "4138cf5d-9042-41d8-bc21-7bc5197121ca",
   "metadata": {},
   "outputs": [
    {
     "data": {
      "text/plain": [
       "working\n",
       "가동    91963\n",
       "정지       51\n",
       "Name: count, dtype: int64"
      ]
     },
     "execution_count": 17,
     "metadata": {},
     "output_type": "execute_result"
    }
   ],
   "source": [
    "train['working'].fillna('NaN').value_counts()"
   ]
  },
  {
   "cell_type": "code",
   "execution_count": 18,
   "id": "6fd518bf-c097-4f50-ace5-a618312f27f9",
   "metadata": {},
   "outputs": [
    {
     "data": {
      "text/html": [
       "<div>\n",
       "<style scoped>\n",
       "    .dataframe tbody tr th:only-of-type {\n",
       "        vertical-align: middle;\n",
       "    }\n",
       "\n",
       "    .dataframe tbody tr th {\n",
       "        vertical-align: top;\n",
       "    }\n",
       "\n",
       "    .dataframe thead th {\n",
       "        text-align: right;\n",
       "    }\n",
       "</style>\n",
       "<table border=\"1\" class=\"dataframe\">\n",
       "  <thead>\n",
       "    <tr style=\"text-align: right;\">\n",
       "      <th></th>\n",
       "      <th>Unnamed: 0</th>\n",
       "      <th>line</th>\n",
       "      <th>name</th>\n",
       "      <th>mold_name</th>\n",
       "      <th>time</th>\n",
       "      <th>date</th>\n",
       "      <th>count</th>\n",
       "      <th>working</th>\n",
       "      <th>emergency_stop</th>\n",
       "      <th>molten_temp</th>\n",
       "      <th>...</th>\n",
       "      <th>lower_mold_temp3</th>\n",
       "      <th>sleeve_temperature</th>\n",
       "      <th>physical_strength</th>\n",
       "      <th>Coolant_temperature</th>\n",
       "      <th>EMS_operation_time</th>\n",
       "      <th>registration_time</th>\n",
       "      <th>passorfail</th>\n",
       "      <th>tryshot_signal</th>\n",
       "      <th>mold_code</th>\n",
       "      <th>heating_furnace</th>\n",
       "    </tr>\n",
       "  </thead>\n",
       "  <tbody>\n",
       "  </tbody>\n",
       "</table>\n",
       "<p>0 rows × 32 columns</p>\n",
       "</div>"
      ],
      "text/plain": [
       "Empty DataFrame\n",
       "Columns: [Unnamed: 0, line, name, mold_name, time, date, count, working, emergency_stop, molten_temp, facility_operation_cycleTime, production_cycletime, low_section_speed, high_section_speed, molten_volume, cast_pressure, biscuit_thickness, upper_mold_temp1, upper_mold_temp2, upper_mold_temp3, lower_mold_temp1, lower_mold_temp2, lower_mold_temp3, sleeve_temperature, physical_strength, Coolant_temperature, EMS_operation_time, registration_time, passorfail, tryshot_signal, mold_code, heating_furnace]\n",
       "Index: []\n",
       "\n",
       "[0 rows x 32 columns]"
      ]
     },
     "execution_count": 18,
     "metadata": {},
     "output_type": "execute_result"
    }
   ],
   "source": [
    "train[train['working'].isna()]"
   ]
  },
  {
   "cell_type": "code",
   "execution_count": 19,
   "id": "3f403165-6e2a-4382-a045-b48fdd8bc2ad",
   "metadata": {},
   "outputs": [
    {
     "data": {
      "text/html": [
       "<div>\n",
       "<style scoped>\n",
       "    .dataframe tbody tr th:only-of-type {\n",
       "        vertical-align: middle;\n",
       "    }\n",
       "\n",
       "    .dataframe tbody tr th {\n",
       "        vertical-align: top;\n",
       "    }\n",
       "\n",
       "    .dataframe thead th {\n",
       "        text-align: right;\n",
       "    }\n",
       "</style>\n",
       "<table border=\"1\" class=\"dataframe\">\n",
       "  <thead>\n",
       "    <tr style=\"text-align: right;\">\n",
       "      <th></th>\n",
       "      <th>Unnamed: 0</th>\n",
       "      <th>line</th>\n",
       "      <th>name</th>\n",
       "      <th>mold_name</th>\n",
       "      <th>time</th>\n",
       "      <th>date</th>\n",
       "      <th>count</th>\n",
       "      <th>working</th>\n",
       "      <th>emergency_stop</th>\n",
       "      <th>molten_temp</th>\n",
       "      <th>...</th>\n",
       "      <th>lower_mold_temp3</th>\n",
       "      <th>sleeve_temperature</th>\n",
       "      <th>physical_strength</th>\n",
       "      <th>Coolant_temperature</th>\n",
       "      <th>EMS_operation_time</th>\n",
       "      <th>registration_time</th>\n",
       "      <th>passorfail</th>\n",
       "      <th>tryshot_signal</th>\n",
       "      <th>mold_code</th>\n",
       "      <th>heating_furnace</th>\n",
       "    </tr>\n",
       "  </thead>\n",
       "  <tbody>\n",
       "  </tbody>\n",
       "</table>\n",
       "<p>0 rows × 32 columns</p>\n",
       "</div>"
      ],
      "text/plain": [
       "Empty DataFrame\n",
       "Columns: [Unnamed: 0, line, name, mold_name, time, date, count, working, emergency_stop, molten_temp, facility_operation_cycleTime, production_cycletime, low_section_speed, high_section_speed, molten_volume, cast_pressure, biscuit_thickness, upper_mold_temp1, upper_mold_temp2, upper_mold_temp3, lower_mold_temp1, lower_mold_temp2, lower_mold_temp3, sleeve_temperature, physical_strength, Coolant_temperature, EMS_operation_time, registration_time, passorfail, tryshot_signal, mold_code, heating_furnace]\n",
       "Index: []\n",
       "\n",
       "[0 rows x 32 columns]"
      ]
     },
     "execution_count": 19,
     "metadata": {},
     "output_type": "execute_result"
    }
   ],
   "source": [
    "train[train['passorfail'].isna()]"
   ]
  },
  {
   "cell_type": "code",
   "execution_count": 20,
   "id": "f3856dbb-ed0a-4368-9dc2-59cd4817f498",
   "metadata": {},
   "outputs": [],
   "source": [
    "workstop_df = train[train['working']=='정지']\n",
    "workstop_df['passorfail'].value_counts()\n",
    "a = 96.07843137254902\n",
    "# 불량률 : 96.07843137254902 %"
   ]
  },
  {
   "cell_type": "code",
   "execution_count": 21,
   "id": "894d3b41-770e-46ec-81b7-ac2d7c259cc9",
   "metadata": {},
   "outputs": [],
   "source": [
    "workon_df = train[train['working']=='가동']\n",
    "workon_df['passorfail'].value_counts()\n",
    "b = 4.313691375879429\n",
    "# 불량률 : 4.313691375879429 %"
   ]
  },
  {
   "cell_type": "code",
   "execution_count": 22,
   "id": "44a56ab9-680f-4912-adac-3f089086bba0",
   "metadata": {},
   "outputs": [
    {
     "data": {
      "image/png": "[encoded data removed]",
      "text/plain": [
       "<Figure size 640x480 with 1 Axes>"
      ]
     },
     "metadata": {},
     "output_type": "display_data"
    }
   ],
   "source": [
    "labels = ['정지', '가동']\n",
    "values = [a, b]\n",
    "\n",
    "# 그래프 그리기\n",
    "plt.bar(labels, values)\n",
    "\n",
    "# 그래프 제목과 축 레이블 설정\n",
    "plt.title('가동여부에 따른 불량률')\n",
    "plt.xlabel('가동 여부')\n",
    "plt.ylabel('불량률', labelpad=20, rotation=0)\n",
    "\n",
    "# 그래프 보이기\n",
    "plt.show()"
   ]
  },
  {
   "cell_type": "markdown",
   "id": "16d17ed2-4d79-40fe-8a7d-99ce3323db6d",
   "metadata": {},
   "source": [
    "## emergency_stop(비상정지)\n",
    "- ON 하나임\n",
    "- 결측치가 하나있는데 working의 유일한 NaN값이 있는 행과 같음(제거됨)"
   ]
  },
  {
   "cell_type": "code",
   "execution_count": 23,
   "id": "6057ca4a-f580-4836-bf16-f3db421b0130",
   "metadata": {},
   "outputs": [
    {
     "data": {
      "text/plain": [
       "emergency_stop\n",
       "ON    92014\n",
       "Name: count, dtype: int64"
      ]
     },
     "execution_count": 23,
     "metadata": {},
     "output_type": "execute_result"
    }
   ],
   "source": [
    "train['emergency_stop'].value_counts()"
   ]
  },
  {
   "cell_type": "code",
   "execution_count": 24,
   "id": "c870285e-ae66-4a92-8101-2bb563244713",
   "metadata": {},
   "outputs": [
    {
     "data": {
      "text/plain": [
       "92014"
      ]
     },
     "execution_count": 24,
     "metadata": {},
     "output_type": "execute_result"
    }
   ],
   "source": [
    "len(train)"
   ]
  },
  {
   "cell_type": "markdown",
   "id": "27f9cea7-4056-40a5-a2aa-6fc4bd121dc8",
   "metadata": {},
   "source": [
    "## molten_temp(용탕온도)\n",
    "-  알루미늄의 경우 687℃가 적당하고, ±5.5℃ 이내로 관리 한다.\n",
    "-  q1 - IQR로 이상치 대체"
   ]
  },
  {
   "cell_type": "markdown",
   "id": "b25220fe-2542-480d-8b28-10794e2f3e53",
   "metadata": {},
   "source": [
    "### 이상치"
   ]
  },
  {
   "cell_type": "code",
   "execution_count": 25,
   "id": "04cf7267-5f13-4ff4-b641-58ae00cf3fae",
   "metadata": {},
   "outputs": [
    {
     "data": {
      "text/plain": [
       "<Axes: >"
      ]
     },
     "execution_count": 25,
     "metadata": {},
     "output_type": "execute_result"
    },
    {
     "data": {
      "image/png": "[encoded data removed]",
      "text/plain": [
       "<Figure size 640x480 with 1 Axes>"
      ]
     },
     "metadata": {},
     "output_type": "display_data"
    }
   ],
   "source": [
    "sns.boxplot(train['molten_temp'])"
   ]
  },
  {
   "cell_type": "code",
   "execution_count": 26,
   "id": "169b2dfd-4a20-4d30-90b4-9b95ef46a1ae",
   "metadata": {},
   "outputs": [
    {
     "data": {
      "text/plain": [
       "696.0"
      ]
     },
     "execution_count": 26,
     "metadata": {},
     "output_type": "execute_result"
    }
   ],
   "source": [
    "q25 = train['molten_temp'].quantile(0.25) - (train['molten_temp'].quantile(0.75) - train['molten_temp'].quantile(0.25))\n",
    "q25"
   ]
  },
  {
   "cell_type": "code",
   "execution_count": 27,
   "id": "b2d38191-1335-4748-9a7b-871b823bafaa",
   "metadata": {},
   "outputs": [],
   "source": [
    "# 이상치 처리 25% - 알루미늄이 680도 정도에서 녹기때문\n",
    "train['molten_temp'] = np.where(train['molten_temp'] < q25, q25, train['molten_temp'])"
   ]
  },
  {
   "cell_type": "code",
   "execution_count": 28,
   "id": "679a3e37-6414-486d-8a61-d2a8f3a60ffa",
   "metadata": {},
   "outputs": [
    {
     "data": {
      "text/plain": [
       "747.0"
      ]
     },
     "execution_count": 28,
     "metadata": {},
     "output_type": "execute_result"
    }
   ],
   "source": [
    "q75 = train['molten_temp'].quantile(0.75) + (train['molten_temp'].quantile(0.75) - train['molten_temp'].quantile(0.25))\n",
    "q75"
   ]
  },
  {
   "cell_type": "markdown",
   "id": "472441b8-18c6-4c0e-8a9e-a1ae65551158",
   "metadata": {},
   "source": [
    "### 결측치"
   ]
  },
  {
   "cell_type": "code",
   "execution_count": 29,
   "id": "e299cd56-638b-4d61-a6c0-ce9e92b7032f",
   "metadata": {},
   "outputs": [
    {
     "data": {
      "text/plain": [
       "2261"
      ]
     },
     "execution_count": 29,
     "metadata": {},
     "output_type": "execute_result"
    }
   ],
   "source": [
    "train['molten_temp'].isnull().sum()"
   ]
  },
  {
   "cell_type": "code",
   "execution_count": 30,
   "id": "3ff022ad-053c-4948-84f4-01ba87d2c56c",
   "metadata": {},
   "outputs": [
    {
     "data": {
      "text/plain": [
       "passorfail\n",
       "0.0    2197\n",
       "1.0      64\n",
       "Name: count, dtype: int64"
      ]
     },
     "execution_count": 30,
     "metadata": {},
     "output_type": "execute_result"
    }
   ],
   "source": [
    "tempna_df = train[train['molten_temp'].isnull()]\n",
    "tempna_df['passorfail'].value_counts()"
   ]
  },
  {
   "cell_type": "code",
   "execution_count": 31,
   "id": "904cec1e-7e8f-409d-b87c-99baf934a6b8",
   "metadata": {},
   "outputs": [
    {
     "data": {
      "text/html": [
       "<div>\n",
       "<style scoped>\n",
       "    .dataframe tbody tr th:only-of-type {\n",
       "        vertical-align: middle;\n",
       "    }\n",
       "\n",
       "    .dataframe tbody tr th {\n",
       "        vertical-align: top;\n",
       "    }\n",
       "\n",
       "    .dataframe thead th {\n",
       "        text-align: right;\n",
       "    }\n",
       "</style>\n",
       "<table border=\"1\" class=\"dataframe\">\n",
       "  <thead>\n",
       "    <tr style=\"text-align: right;\">\n",
       "      <th></th>\n",
       "      <th>Unnamed: 0</th>\n",
       "      <th>line</th>\n",
       "      <th>name</th>\n",
       "      <th>mold_name</th>\n",
       "      <th>time</th>\n",
       "      <th>date</th>\n",
       "      <th>count</th>\n",
       "      <th>working</th>\n",
       "      <th>emergency_stop</th>\n",
       "      <th>molten_temp</th>\n",
       "      <th>...</th>\n",
       "      <th>lower_mold_temp3</th>\n",
       "      <th>sleeve_temperature</th>\n",
       "      <th>physical_strength</th>\n",
       "      <th>Coolant_temperature</th>\n",
       "      <th>EMS_operation_time</th>\n",
       "      <th>registration_time</th>\n",
       "      <th>passorfail</th>\n",
       "      <th>tryshot_signal</th>\n",
       "      <th>mold_code</th>\n",
       "      <th>heating_furnace</th>\n",
       "    </tr>\n",
       "  </thead>\n",
       "  <tbody>\n",
       "    <tr>\n",
       "      <th>11895</th>\n",
       "      <td>11895</td>\n",
       "      <td>전자교반 3라인 2호기</td>\n",
       "      <td>TM Carrier RH</td>\n",
       "      <td>TM Carrier RH-Semi-Solid DIE-06</td>\n",
       "      <td>2019-01-19</td>\n",
       "      <td>1:20:45</td>\n",
       "      <td>10</td>\n",
       "      <td>가동</td>\n",
       "      <td>ON</td>\n",
       "      <td>NaN</td>\n",
       "      <td>...</td>\n",
       "      <td>1449.0</td>\n",
       "      <td>478.0</td>\n",
       "      <td>687.0</td>\n",
       "      <td>35.0</td>\n",
       "      <td>23</td>\n",
       "      <td>2019-01-19 1:20</td>\n",
       "      <td>0.0</td>\n",
       "      <td>NaN</td>\n",
       "      <td>8412</td>\n",
       "      <td>NaN</td>\n",
       "    </tr>\n",
       "    <tr>\n",
       "      <th>11897</th>\n",
       "      <td>11897</td>\n",
       "      <td>전자교반 3라인 2호기</td>\n",
       "      <td>TM Carrier RH</td>\n",
       "      <td>TM Carrier RH-Semi-Solid DIE-06</td>\n",
       "      <td>2019-01-19</td>\n",
       "      <td>1:22:35</td>\n",
       "      <td>11</td>\n",
       "      <td>가동</td>\n",
       "      <td>ON</td>\n",
       "      <td>NaN</td>\n",
       "      <td>...</td>\n",
       "      <td>1449.0</td>\n",
       "      <td>497.0</td>\n",
       "      <td>696.0</td>\n",
       "      <td>35.0</td>\n",
       "      <td>23</td>\n",
       "      <td>2019-01-19 1:22</td>\n",
       "      <td>0.0</td>\n",
       "      <td>NaN</td>\n",
       "      <td>8412</td>\n",
       "      <td>NaN</td>\n",
       "    </tr>\n",
       "  </tbody>\n",
       "</table>\n",
       "<p>2 rows × 32 columns</p>\n",
       "</div>"
      ],
      "text/plain": [
       "       Unnamed: 0          line           name  \\\n",
       "11895       11895  전자교반 3라인 2호기  TM Carrier RH   \n",
       "11897       11897  전자교반 3라인 2호기  TM Carrier RH   \n",
       "\n",
       "                             mold_name        time     date  count working  \\\n",
       "11895  TM Carrier RH-Semi-Solid DIE-06  2019-01-19  1:20:45     10      가동   \n",
       "11897  TM Carrier RH-Semi-Solid DIE-06  2019-01-19  1:22:35     11      가동   \n",
       "\n",
       "      emergency_stop  molten_temp  ...  lower_mold_temp3  sleeve_temperature  \\\n",
       "11895             ON          NaN  ...            1449.0               478.0   \n",
       "11897             ON          NaN  ...            1449.0               497.0   \n",
       "\n",
       "       physical_strength  Coolant_temperature  EMS_operation_time  \\\n",
       "11895              687.0                 35.0                  23   \n",
       "11897              696.0                 35.0                  23   \n",
       "\n",
       "       registration_time  passorfail  tryshot_signal  mold_code  \\\n",
       "11895    2019-01-19 1:20         0.0             NaN       8412   \n",
       "11897    2019-01-19 1:22         0.0             NaN       8412   \n",
       "\n",
       "       heating_furnace  \n",
       "11895              NaN  \n",
       "11897              NaN  \n",
       "\n",
       "[2 rows x 32 columns]"
      ]
     },
     "execution_count": 31,
     "metadata": {},
     "output_type": "execute_result"
    }
   ],
   "source": [
    "tempna_df.head(2)\n",
    "# 연속적으로 결측이 발생함\n",
    "# 보간법 사용하면 될 듯"
   ]
  },
  {
   "cell_type": "code",
   "execution_count": 32,
   "id": "1b729fb3-bec1-4b13-9a88-e0b6303abcc8",
   "metadata": {},
   "outputs": [],
   "source": [
    "from scipy.interpolate import CubicSpline\n",
    "\n",
    "# 결측치가 있는 행 선택\n",
    "missing_rows = train['molten_temp'].isnull()\n",
    "\n",
    "# 결측치가 아닌 행의 인덱스와 값 추출\n",
    "known_indexes = train.index[~missing_rows]\n",
    "known_values = train.loc[~missing_rows, 'molten_temp']\n",
    "\n",
    "# 결측치가 아닌 행의 인덱스와 값을 리스트로 변환\n",
    "known_indexes_list = known_indexes.tolist()\n",
    "known_values_list = known_values.tolist()\n",
    "\n",
    "# CubicSpline 객체 생성\n",
    "cs = CubicSpline(known_indexes_list, known_values_list)\n",
    "\n",
    "# 결측치를 보간한 값으로 채워주기\n",
    "train.loc[missing_rows, 'molten_temp'] = cs(train.loc[missing_rows].index)"
   ]
  },
  {
   "cell_type": "code",
   "execution_count": 33,
   "id": "43fb4bd3-944f-40ff-8fea-c2917987c1d7",
   "metadata": {},
   "outputs": [
    {
     "data": {
      "text/plain": [
       "0"
      ]
     },
     "execution_count": 33,
     "metadata": {},
     "output_type": "execute_result"
    }
   ],
   "source": [
    "# 결측치 확인\n",
    "train['molten_temp'].isnull().sum()"
   ]
  },
  {
   "cell_type": "markdown",
   "id": "ed192722-59ab-47c8-a523-141add4b6e05",
   "metadata": {},
   "source": [
    "## 설비작동 사이클시간\n",
    "- 112초를 기준으로 불량률에 차이가 있음\n",
    "- 따라서, 범주형으로 바꾸면 될 듯"
   ]
  },
  {
   "cell_type": "code",
   "execution_count": 34,
   "id": "d25a4b4a-1335-47cf-baf1-258fc6314b72",
   "metadata": {},
   "outputs": [
    {
     "data": {
      "text/html": [
       "<div>\n",
       "<style scoped>\n",
       "    .dataframe tbody tr th:only-of-type {\n",
       "        vertical-align: middle;\n",
       "    }\n",
       "\n",
       "    .dataframe tbody tr th {\n",
       "        vertical-align: top;\n",
       "    }\n",
       "\n",
       "    .dataframe thead th {\n",
       "        text-align: right;\n",
       "    }\n",
       "</style>\n",
       "<table border=\"1\" class=\"dataframe\">\n",
       "  <thead>\n",
       "    <tr style=\"text-align: right;\">\n",
       "      <th></th>\n",
       "      <th>설비사이클시간평균</th>\n",
       "    </tr>\n",
       "    <tr>\n",
       "      <th>passorfail</th>\n",
       "      <th></th>\n",
       "    </tr>\n",
       "  </thead>\n",
       "  <tbody>\n",
       "    <tr>\n",
       "      <th>0.0</th>\n",
       "      <td>121.568411</td>\n",
       "    </tr>\n",
       "    <tr>\n",
       "      <th>1.0</th>\n",
       "      <td>121.291584</td>\n",
       "    </tr>\n",
       "  </tbody>\n",
       "</table>\n",
       "</div>"
      ],
      "text/plain": [
       "             설비사이클시간평균\n",
       "passorfail            \n",
       "0.0         121.568411\n",
       "1.0         121.291584"
      ]
     },
     "execution_count": 34,
     "metadata": {},
     "output_type": "execute_result"
    }
   ],
   "source": [
    "train.groupby(['passorfail']).agg(설비사이클시간평균=('facility_operation_cycleTime','mean'))\n",
    "# 양불과는 관련이 없음"
   ]
  },
  {
   "cell_type": "code",
   "execution_count": 35,
   "id": "3c5f9025-487a-4173-a89a-fd8f673ee7f5",
   "metadata": {},
   "outputs": [
    {
     "data": {
      "text/plain": [
       "<Axes: >"
      ]
     },
     "execution_count": 35,
     "metadata": {},
     "output_type": "execute_result"
    },
    {
     "data": {
      "image/png": "[encoded data removed]",
      "text/plain": [
       "<Figure size 640x480 with 1 Axes>"
      ]
     },
     "metadata": {},
     "output_type": "display_data"
    }
   ],
   "source": [
    "sns.boxplot(train['facility_operation_cycleTime'])"
   ]
  },
  {
   "cell_type": "code",
   "execution_count": 36,
   "id": "1799520c-b8e3-42b9-83f7-4d3a20dc679c",
   "metadata": {},
   "outputs": [
    {
     "data": {
      "text/plain": [
       "(109.5, 129.5)"
      ]
     },
     "execution_count": 36,
     "metadata": {},
     "output_type": "execute_result"
    }
   ],
   "source": [
    "q1 = train['facility_operation_cycleTime'].quantile(0.25)\n",
    "q3 = train['facility_operation_cycleTime'].quantile(0.75)\n",
    "IQR = q3 - q1\n",
    "q25 = q1 - IQR*1.5\n",
    "q75 = q3 + IQR*1.5\n",
    "q25, q75"
   ]
  },
  {
   "cell_type": "code",
   "execution_count": 37,
   "id": "88ae3fd2-2ad0-4900-8d8b-48f780ac1134",
   "metadata": {},
   "outputs": [],
   "source": [
    "a = train[train['facility_operation_cycleTime']<q25]\n",
    "a['passorfail'].value_counts()\n",
    "b = a['passorfail'].value_counts().values[1] / sum(a['passorfail'].value_counts().values)*100 \n"
   ]
  },
  {
   "cell_type": "code",
   "execution_count": 38,
   "id": "b4e1788d-9e2a-4c8f-ad5c-9605029d833b",
   "metadata": {},
   "outputs": [],
   "source": [
    "a = train[train['facility_operation_cycleTime']>=q25]\n",
    "a['passorfail'].value_counts()\n",
    "\n",
    "c = a['passorfail'].value_counts().values[1] / sum(a['passorfail'].value_counts().values)*100\n"
   ]
  },
  {
   "cell_type": "code",
   "execution_count": 39,
   "id": "15d488aa-565a-422c-b4da-32a773a5ce6e",
   "metadata": {},
   "outputs": [
    {
     "data": {
      "image/png": "[encoded data removed]",
      "text/plain": [
       "<Figure size 640x480 with 1 Axes>"
      ]
     },
     "metadata": {},
     "output_type": "display_data"
    }
   ],
   "source": [
    "labels = ['109.5초 미만', '109.5초 이상']\n",
    "values = [b, c]\n",
    "\n",
    "# 그래프 그리기\n",
    "plt.bar(labels, values)\n",
    "for i, v in enumerate(values):\n",
    "    plt.text(i, v, f\"{v:.2f}%\", ha='center', va='bottom')\n",
    "\n",
    "# 그래프 제목과 축 레이블 설정\n",
    "plt.title('설비작동 사이클시간에 따른 불량률')\n",
    "plt.xlabel('설비작동 사이클시간')\n",
    "plt.ylabel('불량률', labelpad=20, rotation=0)\n",
    "\n",
    "# 그래프 보이기\n",
    "plt.show()"
   ]
  },
  {
   "cell_type": "markdown",
   "id": "dd6cce2e-5ab7-4a33-85a6-dfe25cb65acf",
   "metadata": {},
   "source": [
    "## 제품생산 사이클시간\n",
    "- 115초 기준으로 불량률에 차이가 있음\n",
    "- 따라서, 범주형으로 바꾸면 될 듯"
   ]
  },
  {
   "cell_type": "code",
   "execution_count": 40,
   "id": "0c7ce0fe-e0b4-468b-a523-92ee00fa1071",
   "metadata": {},
   "outputs": [
    {
     "data": {
      "text/plain": [
       "array([120, 125, 122, 123, 129, 182, 124, 121, 126, 135, 127, 156, 230,\n",
       "       119, 128, 149, 151, 131, 130, 217, 154, 118,  82,  84,  87, 196,\n",
       "       140, 229, 250, 205, 143, 300, 210, 200, 195, 226, 160, 204, 147,\n",
       "       138, 209, 224, 231, 208, 163, 116, 207, 132, 215, 256, 211, 142,\n",
       "       139, 137, 157, 206, 117, 201, 172, 134, 219, 153,  79,  80, 223,\n",
       "       237, 222, 232, 170, 234, 214,  81, 202, 203, 141, 221, 240, 212,\n",
       "       144, 161, 239, 236, 227, 244, 242,   0, 148, 225, 216, 133,  78,\n",
       "       166, 136, 158, 159, 145, 253, 235, 220,  95, 246, 164, 233,  85,\n",
       "        83, 252,  86, 180, 107, 173, 174, 393, 228,  91,  99,  94, 152,\n",
       "       270, 191, 262, 265, 257, 261, 238, 241,  88, 266, 150, 361, 197,\n",
       "       243, 259, 362, 363, 485, 254, 146, 375, 248, 245, 213, 298, 482,\n",
       "       360,  77, 115, 114, 177, 198, 365, 364, 192, 199, 178, 188, 181,\n",
       "       179, 162, 169, 194, 185, 247, 168, 113, 165, 155,  90, 189, 167,\n",
       "       175, 186, 193, 176, 278, 183, 100,  92,  96, 190, 187, 184,  93,\n",
       "       171, 352, 218, 258, 110, 112,  74,  76, 101, 103,  98, 273, 462,\n",
       "        97,  89,  73,  75, 286, 249, 111], dtype=int64)"
      ]
     },
     "execution_count": 40,
     "metadata": {},
     "output_type": "execute_result"
    }
   ],
   "source": [
    "train['production_cycletime'].unique()"
   ]
  },
  {
   "cell_type": "code",
   "execution_count": 41,
   "id": "6eb1b908-8b8b-4935-8a04-0d2450be9691",
   "metadata": {},
   "outputs": [
    {
     "data": {
      "text/html": [
       "<div>\n",
       "<style scoped>\n",
       "    .dataframe tbody tr th:only-of-type {\n",
       "        vertical-align: middle;\n",
       "    }\n",
       "\n",
       "    .dataframe tbody tr th {\n",
       "        vertical-align: top;\n",
       "    }\n",
       "\n",
       "    .dataframe thead th {\n",
       "        text-align: right;\n",
       "    }\n",
       "</style>\n",
       "<table border=\"1\" class=\"dataframe\">\n",
       "  <thead>\n",
       "    <tr style=\"text-align: right;\">\n",
       "      <th></th>\n",
       "      <th>설비사이클시간평균</th>\n",
       "    </tr>\n",
       "    <tr>\n",
       "      <th>passorfail</th>\n",
       "      <th></th>\n",
       "    </tr>\n",
       "  </thead>\n",
       "  <tbody>\n",
       "    <tr>\n",
       "      <th>0.0</th>\n",
       "      <td>122.737062</td>\n",
       "    </tr>\n",
       "    <tr>\n",
       "      <th>1.0</th>\n",
       "      <td>117.668825</td>\n",
       "    </tr>\n",
       "  </tbody>\n",
       "</table>\n",
       "</div>"
      ],
      "text/plain": [
       "             설비사이클시간평균\n",
       "passorfail            \n",
       "0.0         122.737062\n",
       "1.0         117.668825"
      ]
     },
     "execution_count": 41,
     "metadata": {},
     "output_type": "execute_result"
    }
   ],
   "source": [
    "train.groupby(['passorfail']).agg(설비사이클시간평균=('production_cycletime','mean'))\n",
    "# 양불과는 관련이 없음"
   ]
  },
  {
   "cell_type": "code",
   "execution_count": 42,
   "id": "d0e711a3-553d-4b3f-b6d4-97c82adecbb4",
   "metadata": {},
   "outputs": [
    {
     "data": {
      "text/plain": [
       "<Axes: >"
      ]
     },
     "execution_count": 42,
     "metadata": {},
     "output_type": "execute_result"
    },
    {
     "data": {
      "image/png": "[encoded data removed]",
      "text/plain": [
       "<Figure size 640x480 with 1 Axes>"
      ]
     },
     "metadata": {},
     "output_type": "display_data"
    }
   ],
   "source": [
    "sns.boxplot(train['production_cycletime'])"
   ]
  },
  {
   "cell_type": "code",
   "execution_count": 43,
   "id": "4a64cb78-f625-4f15-a76b-12519336ce66",
   "metadata": {},
   "outputs": [
    {
     "data": {
      "text/plain": [
       "(113.0, 129.0)"
      ]
     },
     "execution_count": 43,
     "metadata": {},
     "output_type": "execute_result"
    }
   ],
   "source": [
    "q1 = train['production_cycletime'].quantile(0.25)\n",
    "q3 = train['production_cycletime'].quantile(0.75)\n",
    "IQR = q3 - q1\n",
    "q25 = q1 - IQR*1.5\n",
    "q75 = q3 + IQR*1.5\n",
    "q25, q75"
   ]
  },
  {
   "cell_type": "code",
   "execution_count": 44,
   "id": "a94ab92a-f1b1-4a7c-9c03-92ced71aab87",
   "metadata": {},
   "outputs": [],
   "source": [
    "a = train[train['production_cycletime']>=q25]\n",
    "a['passorfail'].value_counts()\n",
    "c = a['passorfail'].value_counts().values[1] / sum(a['passorfail'].value_counts().values)*100\n",
    "# 불량률 5% "
   ]
  },
  {
   "cell_type": "code",
   "execution_count": 45,
   "id": "bfd26e6a-a962-4a78-8f81-e10021739de0",
   "metadata": {},
   "outputs": [],
   "source": [
    "a = train[train['production_cycletime']<q25]\n",
    "d = a['passorfail'].value_counts().values[1] / sum(a['passorfail'].value_counts().values)*100\n",
    "# 불량률 45% "
   ]
  },
  {
   "cell_type": "code",
   "execution_count": 46,
   "id": "fc2e3f56-97e0-409f-868a-dd28145e1eea",
   "metadata": {},
   "outputs": [
    {
     "data": {
      "image/png": "[encoded data removed]",
      "text/plain": [
       "<Figure size 640x480 with 1 Axes>"
      ]
     },
     "metadata": {},
     "output_type": "display_data"
    }
   ],
   "source": [
    "labels = ['113초(25%) 이하', '113초 이상']\n",
    "values = [d, c]\n",
    "\n",
    "# 그래프 그리기\n",
    "plt.bar(labels, values)\n",
    "for i, v in enumerate(values):\n",
    "    plt.text(i, v, f\"{v:.2f}%\", ha='center', va='bottom')\n",
    "\n",
    "# 그래프 제목과 축 레이블 설정\n",
    "plt.title('생산 사이클시간에 따른 불량률')\n",
    "plt.xlabel('생산 사이클시간')\n",
    "plt.ylabel('불량률', labelpad=20, rotation=0)\n",
    "\n",
    "# 그래프 보이기\n",
    "plt.show()"
   ]
  },
  {
   "cell_type": "markdown",
   "id": "341701b1-7ff4-4b48-b835-b5d6f5672b46",
   "metadata": {},
   "source": [
    "### 이상치\n",
    "- 제품생산 사이클시간이 0인 것의 불량률이 68% 이기 때문에 115초 이하인 데이터의 대표값으로 대체"
   ]
  },
  {
   "cell_type": "code",
   "execution_count": 47,
   "id": "9ca584a9-c9f1-455a-948b-ca6233a89ee3",
   "metadata": {},
   "outputs": [
    {
     "name": "stdout",
     "output_type": "stream",
     "text": [
      "제품생산 사이클시간이 0인 데이터의 불량률 :  68.0\n"
     ]
    }
   ],
   "source": [
    "train[train['production_cycletime']==0]['passorfail'].value_counts()\n",
    "print('제품생산 사이클시간이 0인 데이터의 불량률 : ', train[train['production_cycletime']==0]['passorfail'].value_counts().values[0]/sum(train[train['production_cycletime']==0]['passorfail'].value_counts())*100)"
   ]
  },
  {
   "cell_type": "code",
   "execution_count": 48,
   "id": "4ef0aa41-ad61-4d9e-983c-8a8102deafe0",
   "metadata": {},
   "outputs": [
    {
     "data": {
      "text/plain": [
       "95.87079831932773"
      ]
     },
     "execution_count": 48,
     "metadata": {},
     "output_type": "execute_result"
    }
   ],
   "source": [
    "train[train['production_cycletime']<=115]['production_cycletime'].mean()"
   ]
  },
  {
   "cell_type": "code",
   "execution_count": 49,
   "id": "99275745-9294-474c-8576-471b14d1de5d",
   "metadata": {},
   "outputs": [],
   "source": [
    "train['production_cycletime'] = np.where(train['production_cycletime']==0, train[train['production_cycletime']<=115]['production_cycletime'].mean(), train['production_cycletime'])"
   ]
  },
  {
   "cell_type": "markdown",
   "id": "ea4232e1-64dd-4ada-bf3b-72d11bc56bb6",
   "metadata": {},
   "source": [
    "## low_section_speed(저속구간속도)\n",
    "- 설정한 범위에 따라 불량률이 다름\n",
    "- 이것 또한 범주화 하기"
   ]
  },
  {
   "cell_type": "code",
   "execution_count": 50,
   "id": "b3a0ca61-5869-450a-a438-3ade57e46e87",
   "metadata": {},
   "outputs": [
    {
     "data": {
      "text/plain": [
       "count    92014.000000\n",
       "mean       110.794999\n",
       "std        305.181962\n",
       "min          0.000000\n",
       "25%        110.000000\n",
       "50%        110.000000\n",
       "75%        110.000000\n",
       "max      65535.000000\n",
       "Name: low_section_speed, dtype: float64"
      ]
     },
     "execution_count": 50,
     "metadata": {},
     "output_type": "execute_result"
    }
   ],
   "source": [
    "train['low_section_speed'].describe()\n",
    "# 저속구간속도가 110인 것이 67485개 1, 2, 3 분위수 모두 같음"
   ]
  },
  {
   "cell_type": "code",
   "execution_count": 51,
   "id": "2b1110fd-e1cd-4e15-a36e-a79fc0fd4d39",
   "metadata": {},
   "outputs": [
    {
     "name": "stdout",
     "output_type": "stream",
     "text": [
      "저속구간속도 10미만일 때 불량률 : 5.6426332288401255\n"
     ]
    }
   ],
   "source": [
    "# 100미만일 때 불랼률 : 38.803263825929285\n",
    "# 10이하일 때 불량률 : 5.6426332288401255 이기 때문에 범위를 아래 칸처럼 정함\n",
    "ax110 = train[train['low_section_speed']<10]\n",
    "ax110['passorfail'].value_counts()\n",
    "\n",
    "print('저속구간속도 10미만일 때 불량률 :',  ax110['passorfail'].value_counts().values[1] / sum(ax110['passorfail'].value_counts().values)*100)\n",
    "a = ax110['passorfail'].value_counts().values[1] / sum(ax110['passorfail'].value_counts().values)*100"
   ]
  },
  {
   "cell_type": "code",
   "execution_count": 52,
   "id": "018a9bab-3876-46c0-adc4-33ff1f895a21",
   "metadata": {},
   "outputs": [
    {
     "name": "stdout",
     "output_type": "stream",
     "text": [
      "저속구간속도 10이상, 100미만일 때 불량률 : 47.704081632653065\n"
     ]
    }
   ],
   "source": [
    "ax110 = train[(train['low_section_speed']<100) & (train['low_section_speed']>=10)]\n",
    "ax110['passorfail'].value_counts()\n",
    "\n",
    "print('저속구간속도 10이상, 100미만일 때 불량률 :',  ax110['passorfail'].value_counts().values[1] / sum(ax110['passorfail'].value_counts().values)*100)\n",
    "b = ax110['passorfail'].value_counts().values[1] / sum(ax110['passorfail'].value_counts().values)*100"
   ]
  },
  {
   "cell_type": "code",
   "execution_count": 53,
   "id": "c99c8299-1908-4bf9-9794-d99cbe5317d8",
   "metadata": {},
   "outputs": [
    {
     "name": "stdout",
     "output_type": "stream",
     "text": [
      "저속구간속도 100이상, 150이하일 때 불량률 : 3.669724770642202\n"
     ]
    }
   ],
   "source": [
    "ax110 = train[(train['low_section_speed']>=100) & (train['low_section_speed']<=150)]\n",
    "ax110['passorfail'].value_counts()\n",
    "print('저속구간속도 100이상, 150이하일 때 불량률 :',  ax110['passorfail'].value_counts().values[1] / sum(ax110['passorfail'].value_counts().values)*100)\n",
    "c = ax110['passorfail'].value_counts().values[1] / sum(ax110['passorfail'].value_counts().values)*100"
   ]
  },
  {
   "cell_type": "code",
   "execution_count": 54,
   "id": "b68b29cd-588d-44dc-b90d-b8c09d504adb",
   "metadata": {},
   "outputs": [
    {
     "name": "stdout",
     "output_type": "stream",
     "text": [
      "저속구간속도 150이상일 때 불량률 : 100.0\n"
     ]
    }
   ],
   "source": [
    "ax110 = train[train['low_section_speed']>150]\n",
    "ax110['passorfail'].value_counts()\n",
    "print('저속구간속도 150이상일 때 불량률 :',  ax110['passorfail'].value_counts().values[0] / sum(ax110['passorfail'].value_counts().values)*100)\n",
    "d = ax110['passorfail'].value_counts().values[0] / sum(ax110['passorfail'].value_counts().values)*100"
   ]
  },
  {
   "cell_type": "code",
   "execution_count": 55,
   "id": "d47daf83-0b21-448b-ba67-734344ae70a2",
   "metadata": {},
   "outputs": [
    {
     "data": {
      "image/png": "[encoded data removed]",
      "text/plain": [
       "<Figure size 800x400 with 1 Axes>"
      ]
     },
     "metadata": {},
     "output_type": "display_data"
    }
   ],
   "source": [
    "labels = ['~10(미만)', '10(이상)~100(미만)', '100(이상)~150(이하)', '150(이상)~']\n",
    "values = [a, b, c, d]\n",
    "\n",
    "fig = plt.figure(figsize=(8,4))\n",
    "\n",
    "# 그래프 그리기\n",
    "plt.bar(labels, values)\n",
    "for i, v in enumerate(values):\n",
    "    plt.text(i, v, f\"{v:.2f}%\", ha='center', va='bottom')\n",
    "\n",
    "# 그래프 제목과 축 레이블 설정\n",
    "plt.title('저속구간속도에 따른 불량률')\n",
    "plt.xlabel('저속구간속도',labelpad=10)\n",
    "plt.ylabel('불량률', labelpad=20, rotation=0)\n",
    "\n",
    "# 그래프 보이기\n",
    "plt.show()"
   ]
  },
  {
   "cell_type": "markdown",
   "id": "e3990214-67d7-42ae-9c23-493ee105ebc5",
   "metadata": {},
   "source": [
    "### 이상치\n",
    "- 60000이상일 때 모두 불량임\n",
    "- 150 이상일 때 모두 불량이므로 150으로 대체"
   ]
  },
  {
   "cell_type": "code",
   "execution_count": 56,
   "id": "2eca56ed-7561-452d-87a0-b6cea748ff87",
   "metadata": {},
   "outputs": [],
   "source": [
    "train['low_section_speed'] = np.where(train['low_section_speed']>=60000, 150, train['low_section_speed'])"
   ]
  },
  {
   "cell_type": "markdown",
   "id": "caca35eb-0429-4706-8b41-a3401dc90f11",
   "metadata": {},
   "source": [
    "## high_section_speed(고속구간속도)\n",
    "- 90을 기준으로 불량률이 다름\n",
    "- 이것도 범주화하면 됨"
   ]
  },
  {
   "cell_type": "code",
   "execution_count": 57,
   "id": "5cd74dd6-5137-48a6-a7f5-2016b5de3ed8",
   "metadata": {},
   "outputs": [
    {
     "data": {
      "text/plain": [
       "count    92014.000000\n",
       "mean       112.624959\n",
       "std         10.759272\n",
       "min          0.000000\n",
       "25%        112.000000\n",
       "50%        112.000000\n",
       "75%        112.000000\n",
       "max        388.000000\n",
       "Name: high_section_speed, dtype: float64"
      ]
     },
     "execution_count": 57,
     "metadata": {},
     "output_type": "execute_result"
    }
   ],
   "source": [
    "train['high_section_speed'].describe()\n",
    "\n",
    "# 1, 2, 3분위수가 모두 같음"
   ]
  },
  {
   "cell_type": "code",
   "execution_count": 58,
   "id": "d4758fc2-1a76-427b-9e26-4fe820f1e59c",
   "metadata": {},
   "outputs": [
    {
     "data": {
      "text/plain": [
       "<Axes: xlabel='high_section_speed', ylabel='Count'>"
      ]
     },
     "execution_count": 58,
     "metadata": {},
     "output_type": "execute_result"
    },
    {
     "data": {
      "image/png": "[encoded data removed]",
      "text/plain": [
       "<Figure size 640x480 with 1 Axes>"
      ]
     },
     "metadata": {},
     "output_type": "display_data"
    }
   ],
   "source": [
    "sns.histplot(train['high_section_speed'])"
   ]
  },
  {
   "cell_type": "code",
   "execution_count": 59,
   "id": "900a3b09-9d33-4f3f-8fa5-dd07610c55c9",
   "metadata": {},
   "outputs": [
    {
     "name": "stdout",
     "output_type": "stream",
     "text": [
      "저속구간속도 90미만일 때 불량률 : 100.0\n"
     ]
    }
   ],
   "source": [
    "ax110 = train[(train['high_section_speed']<90)]\n",
    "ax110['passorfail'].value_counts()\n",
    "\n",
    "print('저속구간속도 90미만일 때 불량률 :',  ax110['passorfail'].value_counts().values[0] / sum(ax110['passorfail'].value_counts().values)*100)\n",
    "a = ax110['passorfail'].value_counts().values[0] / sum(ax110['passorfail'].value_counts().values)*100"
   ]
  },
  {
   "cell_type": "code",
   "execution_count": 60,
   "id": "c2a8ee28-4aea-4ba0-b473-9c8711df3ca7",
   "metadata": {},
   "outputs": [
    {
     "name": "stdout",
     "output_type": "stream",
     "text": [
      "저속구간속도 90미만일 때 불량률 : 4.337522285515502\n"
     ]
    }
   ],
   "source": [
    "ax110 = train[(train['high_section_speed']>=90)]\n",
    "ax110['passorfail'].value_counts()\n",
    "\n",
    "print('저속구간속도 90미만일 때 불량률 :',  ax110['passorfail'].value_counts().values[1] / sum(ax110['passorfail'].value_counts().values)*100)\n",
    "b = ax110['passorfail'].value_counts().values[1] / sum(ax110['passorfail'].value_counts().values)*100"
   ]
  },
  {
   "cell_type": "code",
   "execution_count": 61,
   "id": "034f8a91-045c-4c99-acb7-eac7f9705603",
   "metadata": {},
   "outputs": [
    {
     "data": {
      "image/png": "[encoded data removed]",
      "text/plain": [
       "<Figure size 800x400 with 1 Axes>"
      ]
     },
     "metadata": {},
     "output_type": "display_data"
    }
   ],
   "source": [
    "labels = ['~90(미만)', '90(이상)~']\n",
    "values = [a, b]\n",
    "\n",
    "fig = plt.figure(figsize=(8,4))\n",
    "\n",
    "# 그래프 그리기\n",
    "plt.bar(labels, values)\n",
    "for i, v in enumerate(values):\n",
    "    plt.text(i, v, f\"{v:.2f}%\", ha='center', va='bottom')\n",
    "\n",
    "# 그래프 제목과 축 레이블 설정\n",
    "plt.title('고속구간속도에 따른 불량률')\n",
    "plt.xlabel('고속구간속도',labelpad=10)\n",
    "plt.ylabel('불량률', labelpad=20, rotation=0)\n",
    "\n",
    "# 그래프 보이기\n",
    "plt.show()"
   ]
  },
  {
   "cell_type": "markdown",
   "id": "48c048bd-41da-4746-8ff7-d1879db6e12f",
   "metadata": {},
   "source": [
    "## molten_volume(용탕량)\n",
    "- 이상치는 양불과 관련이 없음\n",
    "- 또한, 결측치 45130개이므로 해당 열 제거"
   ]
  },
  {
   "cell_type": "code",
   "execution_count": 62,
   "id": "18bee87f-89f1-4b4c-8740-dcd239297b70",
   "metadata": {},
   "outputs": [
    {
     "data": {
      "text/plain": [
       "count    46884.000000\n",
       "mean       154.977818\n",
       "std        485.646011\n",
       "min          0.000000\n",
       "25%         49.000000\n",
       "50%         67.000000\n",
       "75%         85.000000\n",
       "max       2767.000000\n",
       "Name: molten_volume, dtype: float64"
      ]
     },
     "execution_count": 62,
     "metadata": {},
     "output_type": "execute_result"
    }
   ],
   "source": [
    "train['molten_volume'].describe()"
   ]
  },
  {
   "cell_type": "code",
   "execution_count": 63,
   "id": "792bc05d-fd8f-4497-8029-777a3e30d1b6",
   "metadata": {},
   "outputs": [
    {
     "data": {
      "text/plain": [
       "<Axes: >"
      ]
     },
     "execution_count": 63,
     "metadata": {},
     "output_type": "execute_result"
    },
    {
     "data": {
      "image/png": "[encoded data removed]",
      "text/plain": [
       "<Figure size 640x480 with 1 Axes>"
      ]
     },
     "metadata": {},
     "output_type": "display_data"
    }
   ],
   "source": [
    "sns.boxplot(train['molten_volume'])"
   ]
  },
  {
   "cell_type": "code",
   "execution_count": 64,
   "id": "2675e417-67ff-4503-96ce-03ae346c01a7",
   "metadata": {},
   "outputs": [
    {
     "data": {
      "text/plain": [
       "passorfail\n",
       "0.0    1505\n",
       "1.0      68\n",
       "Name: count, dtype: int64"
      ]
     },
     "execution_count": 64,
     "metadata": {},
     "output_type": "execute_result"
    }
   ],
   "source": [
    "a500 = train[train['molten_volume']>=500]\n",
    "a500['passorfail'].value_counts()"
   ]
  },
  {
   "cell_type": "code",
   "execution_count": 65,
   "id": "9bb4b49b-2fcf-4202-af99-76d9e8379fc4",
   "metadata": {},
   "outputs": [
    {
     "data": {
      "text/plain": [
       "passorfail\n",
       "0.0    43215\n",
       "1.0     2096\n",
       "Name: count, dtype: int64"
      ]
     },
     "execution_count": 65,
     "metadata": {},
     "output_type": "execute_result"
    }
   ],
   "source": [
    "a500 = train[train['molten_volume']<500]\n",
    "a500['passorfail'].value_counts()"
   ]
  },
  {
   "cell_type": "markdown",
   "id": "a661b776-704b-4a76-b2f5-fd26e4f07e5d",
   "metadata": {},
   "source": [
    "## cast pressure(주조압력)\n",
    "- 300을 기준으로 불량률이 다름\n",
    "- 굉장히 관련성이 높음"
   ]
  },
  {
   "cell_type": "code",
   "execution_count": 66,
   "id": "99571c60-370c-4099-9b27-ee63c129a07a",
   "metadata": {},
   "outputs": [
    {
     "data": {
      "text/plain": [
       "<Axes: >"
      ]
     },
     "execution_count": 66,
     "metadata": {},
     "output_type": "execute_result"
    },
    {
     "data": {
      "image/png": "[encoded data removed]",
      "text/plain": [
       "<Figure size 640x480 with 1 Axes>"
      ]
     },
     "metadata": {},
     "output_type": "display_data"
    }
   ],
   "source": [
    "sns.boxplot(train['cast_pressure'])"
   ]
  },
  {
   "cell_type": "code",
   "execution_count": 67,
   "id": "ac02fdf4-af08-4cf2-b2b3-31b35014203c",
   "metadata": {},
   "outputs": [
    {
     "data": {
      "text/plain": [
       "323.0"
      ]
     },
     "execution_count": 67,
     "metadata": {},
     "output_type": "execute_result"
    }
   ],
   "source": [
    "q1 = train['cast_pressure'].quantile(0.25)\n",
    "q3 = train['cast_pressure'].quantile(0.75)\n",
    "q25 = q1 - IQR*1.5\n",
    "q75 = q3 + IQR*1.5\n",
    "q25"
   ]
  },
  {
   "cell_type": "code",
   "execution_count": 68,
   "id": "1f71f3e4-afe7-4d19-aa44-7a9dc7f5947f",
   "metadata": {},
   "outputs": [
    {
     "name": "stdout",
     "output_type": "stream",
     "text": [
      "주조압력 300이하일 때 불량률 : 98.93573475235367\n"
     ]
    }
   ],
   "source": [
    "a300 = train[train['cast_pressure']<300]\n",
    "a300['passorfail'].value_counts()\n",
    "\n",
    "print('주조압력 300이하일 때 불량률 :',  a300['passorfail'].value_counts().values[0] / sum(a300['passorfail'].value_counts().values)*100)\n",
    "a = a300['passorfail'].value_counts().values[0] / sum(a300['passorfail'].value_counts().values)*100"
   ]
  },
  {
   "cell_type": "code",
   "execution_count": 69,
   "id": "716644a4-d311-408d-8940-685205f7a1a6",
   "metadata": {},
   "outputs": [
    {
     "name": "stdout",
     "output_type": "stream",
     "text": [
      "주조압력 300이상일 때 불량률 : 1.785176005626821\n"
     ]
    }
   ],
   "source": [
    "a300 = train[train['cast_pressure']>=300]\n",
    "a300['passorfail'].value_counts()\n",
    "\n",
    "print('주조압력 300이상일 때 불량률 :',  a300['passorfail'].value_counts().values[1] / sum(a300['passorfail'].value_counts().values)*100)\n",
    "b = a300['passorfail'].value_counts().values[1] / sum(a300['passorfail'].value_counts().values)*100"
   ]
  },
  {
   "cell_type": "code",
   "execution_count": 70,
   "id": "015c328e-2c44-4f98-b58a-cf8d907a52e0",
   "metadata": {},
   "outputs": [
    {
     "data": {
      "image/png": "[encoded data removed]",
      "text/plain": [
       "<Figure size 800x400 with 1 Axes>"
      ]
     },
     "metadata": {},
     "output_type": "display_data"
    }
   ],
   "source": [
    "labels = ['~300(미만)', '300(이상)~']\n",
    "values = [a, b]\n",
    "\n",
    "fig = plt.figure(figsize=(8,4))\n",
    "\n",
    "# 그래프 그리기\n",
    "plt.bar(labels, values)\n",
    "for i, v in enumerate(values):\n",
    "    plt.text(i, v, f\"{v:.2f}%\", ha='center', va='bottom')\n",
    "\n",
    "# 그래프 제목과 축 레이블 설정\n",
    "plt.title('주조압력에 따른 불량률')\n",
    "plt.xlabel('주조압력',labelpad=10)\n",
    "plt.ylabel('불량률', labelpad=20, rotation=0)\n",
    "\n",
    "# 그래프 보이기\n",
    "plt.show()"
   ]
  },
  {
   "cell_type": "markdown",
   "id": "81816c60-3d62-4a0a-8458-1680c6d94c4c",
   "metadata": {},
   "source": [
    "## 비스켓 두께"
   ]
  },
  {
   "cell_type": "code",
   "execution_count": 71,
   "id": "c75d71cd-a3ca-4777-a488-ebef5c4c93cf",
   "metadata": {},
   "outputs": [
    {
     "data": {
      "text/plain": [
       "<Axes: >"
      ]
     },
     "execution_count": 71,
     "metadata": {},
     "output_type": "execute_result"
    },
    {
     "data": {
      "image/png": "[encoded data removed]",
      "text/plain": [
       "<Figure size 640x480 with 1 Axes>"
      ]
     },
     "metadata": {},
     "output_type": "display_data"
    }
   ],
   "source": [
    "sns.boxplot(train['biscuit_thickness'])"
   ]
  },
  {
   "cell_type": "code",
   "execution_count": 72,
   "id": "2713058f-9ebd-491f-bdc1-641729bde094",
   "metadata": {},
   "outputs": [
    {
     "data": {
      "text/plain": [
       "62.0"
      ]
     },
     "execution_count": 72,
     "metadata": {},
     "output_type": "execute_result"
    }
   ],
   "source": [
    "q1 = train['biscuit_thickness'].quantile(0.25)\n",
    "q3 = train['biscuit_thickness'].quantile(0.75)\n",
    "IQR = q3 - q1\n",
    "q25 = q1 - IQR*1.5\n",
    "q75 = q3 + IQR*1.5\n",
    "q75"
   ]
  },
  {
   "cell_type": "code",
   "execution_count": 73,
   "id": "2e697fd4-2d1c-4612-815d-236b9cf0ed45",
   "metadata": {},
   "outputs": [
    {
     "name": "stdout",
     "output_type": "stream",
     "text": [
      "비스켓 두께 59초과일 때 불량률 : 100.0\n"
     ]
    }
   ],
   "source": [
    "a100 = train[(train['biscuit_thickness']>q75)]\n",
    "a100['passorfail'].value_counts()\n",
    "\n",
    "print('비스켓 두께 59초과일 때 불량률 :',  a100['passorfail'].value_counts().values[0] / sum(a100['passorfail'].value_counts().values)*100)\n",
    "a = a100['passorfail'].value_counts().values[0] / sum(a100['passorfail'].value_counts().values)*100\n"
   ]
  },
  {
   "cell_type": "code",
   "execution_count": 74,
   "id": "02392aa7-80ec-4c49-8412-747d7e968374",
   "metadata": {},
   "outputs": [
    {
     "name": "stdout",
     "output_type": "stream",
     "text": [
      "비스켓 두께 59이하일 때 불량률 : 4.145788854516143\n"
     ]
    }
   ],
   "source": [
    "a100 = train[train['biscuit_thickness']<=q75]\n",
    "a100['passorfail'].value_counts()\n",
    "\n",
    "print('비스켓 두께 59이하일 때 불량률 :',  a100['passorfail'].value_counts().values[1] / sum(a100['passorfail'].value_counts().values)*100)\n",
    "b = a100['passorfail'].value_counts().values[1] / sum(a100['passorfail'].value_counts().values)*100"
   ]
  },
  {
   "cell_type": "code",
   "execution_count": 75,
   "id": "5609ca36-3ac7-4136-ada3-c6767fd3859f",
   "metadata": {},
   "outputs": [
    {
     "data": {
      "image/png": "[encoded data removed]",
      "text/plain": [
       "<Figure size 800x400 with 1 Axes>"
      ]
     },
     "metadata": {},
     "output_type": "display_data"
    }
   ],
   "source": [
    "labels = ['~62(이하)', '62(초과)~']\n",
    "values = [a, b]\n",
    "\n",
    "fig = plt.figure(figsize=(8,4))\n",
    "\n",
    "# 그래프 그리기\n",
    "plt.bar(labels, values)\n",
    "for i, v in enumerate(values):\n",
    "    plt.text(i, v, f\"{v:.2f}%\", ha='center', va='bottom')\n",
    "\n",
    "# 그래프 제목과 축 레이블 설정\n",
    "plt.title('비스캣 두께에 따른 불량률')\n",
    "plt.xlabel('비스캣 두께',labelpad=10)\n",
    "plt.ylabel('불량률', labelpad=20, rotation=0)\n",
    "\n",
    "# 그래프 보이기\n",
    "plt.show()"
   ]
  },
  {
   "cell_type": "markdown",
   "id": "fa4268bd-2d0a-4eb5-82ca-d424b4fa9918",
   "metadata": {},
   "source": [
    "## upper mold temp(상금형온도)\n",
    "-  count가 새로 reset 되면 같이 reset 됨"
   ]
  },
  {
   "cell_type": "markdown",
   "id": "a91e07b4-cdcd-41b7-909c-27a759f3d17b",
   "metadata": {},
   "source": [
    "### upper 1\n",
    "- 100보다 낮을수록 불량률이 낮아짐\n",
    "- 또한, 1400도 넘는 것이 한 개이므로 제거"
   ]
  },
  {
   "cell_type": "code",
   "execution_count": 76,
   "id": "ddb4b2fa-ca13-4e4c-a277-c578bf7f8950",
   "metadata": {},
   "outputs": [
    {
     "data": {
      "text/plain": [
       "<Axes: >"
      ]
     },
     "execution_count": 76,
     "metadata": {},
     "output_type": "execute_result"
    },
    {
     "data": {
      "image/png": "[encoded data removed]",
      "text/plain": [
       "<Figure size 640x480 with 1 Axes>"
      ]
     },
     "metadata": {},
     "output_type": "display_data"
    }
   ],
   "source": [
    "sns.boxplot(train['upper_mold_temp1'])"
   ]
  },
  {
   "cell_type": "code",
   "execution_count": 77,
   "id": "10fab96b-96c0-462e-8e45-a9f718288b4a",
   "metadata": {},
   "outputs": [
    {
     "data": {
      "text/plain": [
       "74.5"
      ]
     },
     "execution_count": 77,
     "metadata": {},
     "output_type": "execute_result"
    }
   ],
   "source": [
    "q1 = train['upper_mold_temp1'].quantile(0.25)\n",
    "q3 = train['upper_mold_temp1'].quantile(0.75)\n",
    "IQR = q3 - q1\n",
    "q25 = q1 - IQR*1.5\n",
    "q75 = q3 + IQR*1.5\n",
    "q25"
   ]
  },
  {
   "cell_type": "code",
   "execution_count": 78,
   "id": "046f3065-4f1a-430e-bf8b-4a1bfc28782d",
   "metadata": {},
   "outputs": [],
   "source": [
    "a = train[train['upper_mold_temp1']<100]\n",
    "a['passorfail'].value_counts()\n",
    "\n",
    "b = a['passorfail'].value_counts().values[0] / sum(a['passorfail'].value_counts().values)*100"
   ]
  },
  {
   "cell_type": "code",
   "execution_count": 79,
   "id": "a90bec92-25af-44d3-b729-096eb0c14705",
   "metadata": {},
   "outputs": [],
   "source": [
    "a = train[train['upper_mold_temp1']>=100]\n",
    "a['passorfail'].value_counts()\n",
    "\n",
    "c = a['passorfail'].value_counts().values[1] / sum(a['passorfail'].value_counts().values)*100"
   ]
  },
  {
   "cell_type": "code",
   "execution_count": 80,
   "id": "fb8466a8-b09b-4462-a9ef-a7b7d99cfdba",
   "metadata": {},
   "outputs": [],
   "source": [
    "a = train[train['upper_mold_temp1']<80]\n",
    "d = a['passorfail'].value_counts().values[0] / sum(a['passorfail'].value_counts().values)*100"
   ]
  },
  {
   "cell_type": "code",
   "execution_count": 81,
   "id": "b92adb05-5688-4711-b74e-46cdfb615d8d",
   "metadata": {},
   "outputs": [],
   "source": [
    "a = train[train['upper_mold_temp1']<60]\n",
    "e = a['passorfail'].value_counts().values[0] / sum(a['passorfail'].value_counts().values)*100"
   ]
  },
  {
   "cell_type": "code",
   "execution_count": 82,
   "id": "41af589f-8d3f-4cf6-8062-2e0ebad0f338",
   "metadata": {},
   "outputs": [],
   "source": [
    "a = train[train['upper_mold_temp1']<40]\n",
    "f = a['passorfail'].value_counts().values[0] / sum(a['passorfail'].value_counts().values)*100"
   ]
  },
  {
   "cell_type": "code",
   "execution_count": 83,
   "id": "d990fb7c-aa53-4f44-bf43-d58e4e1b61fe",
   "metadata": {},
   "outputs": [],
   "source": [
    "a = train[train['upper_mold_temp1']<20]\n",
    "g = a['passorfail'].value_counts().values[0] / sum(a['passorfail'].value_counts().values)*100"
   ]
  },
  {
   "cell_type": "code",
   "execution_count": 84,
   "id": "e987f4ec-1be4-40f0-bd39-8a1ac2220cb9",
   "metadata": {},
   "outputs": [
    {
     "data": {
      "image/png": "[encoded data removed]",
      "text/plain": [
       "<Figure size 800x400 with 1 Axes>"
      ]
     },
     "metadata": {},
     "output_type": "display_data"
    }
   ],
   "source": [
    "labels = ['~20','~40', '~60', '~80','~100(미만)', '100(이상)~']\n",
    "values = [g, f, e, d, b, c]\n",
    "\n",
    "fig = plt.figure(figsize=(8,4))\n",
    "\n",
    "# 그래프 그리기\n",
    "plt.bar(labels, values)\n",
    "for i, v in enumerate(values):\n",
    "    plt.text(i, v, f\"{v:.2f}%\", ha='center', va='bottom')\n",
    "\n",
    "# 그래프 제목과 축 레이블 설정\n",
    "plt.title('상금형온도1에 따른 불량률')\n",
    "plt.xlabel('상금형온도1',labelpad=10)\n",
    "plt.ylabel('불량률', labelpad=20, rotation=0)\n",
    "\n",
    "# 그래프 보이기\n",
    "plt.show()"
   ]
  },
  {
   "cell_type": "code",
   "execution_count": 85,
   "id": "b8938c8d-bd7a-436e-a9c8-5cf497a302e1",
   "metadata": {},
   "outputs": [],
   "source": [
    "# 한 행 제거\n",
    "train = train.drop(train[train['upper_mold_temp1']>1400].index, axis=0)"
   ]
  },
  {
   "cell_type": "markdown",
   "id": "fefaa36a-35e3-493a-92a1-f5da9127129c",
   "metadata": {},
   "source": [
    "### upper 2\n",
    "- 4000이 넘는 이상치 1개의 행 제거\n",
    "- 80을 기준으로 양품이 더 많아짐\n",
    "- 또한, 80보다 작아질수록 불량률이 증가함"
   ]
  },
  {
   "cell_type": "code",
   "execution_count": 86,
   "id": "0b9d7dcc-b460-46fa-ab67-355ed6bd2033",
   "metadata": {},
   "outputs": [],
   "source": [
    "train = train.drop(train[train['upper_mold_temp2']>4000].index, axis=0)"
   ]
  },
  {
   "cell_type": "code",
   "execution_count": 87,
   "id": "a90d5ec5-1181-4f8e-b13f-8ae56104d4ef",
   "metadata": {},
   "outputs": [
    {
     "data": {
      "text/plain": [
       "<Axes: >"
      ]
     },
     "execution_count": 87,
     "metadata": {},
     "output_type": "execute_result"
    },
    {
     "data": {
      "image/png": "[encoded data removed]",
      "text/plain": [
       "<Figure size 640x480 with 1 Axes>"
      ]
     },
     "metadata": {},
     "output_type": "display_data"
    }
   ],
   "source": [
    "sns.boxplot(train['upper_mold_temp2'])"
   ]
  },
  {
   "cell_type": "code",
   "execution_count": 88,
   "id": "a3202d22-2c0c-451e-8f35-815ef113cb48",
   "metadata": {},
   "outputs": [
    {
     "data": {
      "text/plain": [
       "239.5"
      ]
     },
     "execution_count": 88,
     "metadata": {},
     "output_type": "execute_result"
    }
   ],
   "source": [
    "q1 = train['upper_mold_temp2'].quantile(0.25)\n",
    "q3 = train['upper_mold_temp2'].quantile(0.75)\n",
    "IQR = q3 - q1\n",
    "q25 = q1 - IQR*1.5\n",
    "q75 = q3 + IQR*1.5\n",
    "q75"
   ]
  },
  {
   "cell_type": "code",
   "execution_count": 89,
   "id": "8fe61428-d4b3-42bb-82f8-8c9d328518c0",
   "metadata": {},
   "outputs": [],
   "source": [
    "a = train[train['upper_mold_temp2']>=q75]\n",
    "a['passorfail'].value_counts()\n",
    "b = a['passorfail'].value_counts().values[0] / sum(a['passorfail'].value_counts().values)*100"
   ]
  },
  {
   "cell_type": "code",
   "execution_count": 90,
   "id": "b7d4e39b-179e-4ddb-8730-a754b2d10d13",
   "metadata": {},
   "outputs": [],
   "source": [
    "a = train[(train['upper_mold_temp2']>=80) & (train['upper_mold_temp2']<q75)]\n",
    "a['passorfail'].value_counts()\n",
    "c = a['passorfail'].value_counts().values[1] / sum(a['passorfail'].value_counts().values)*100"
   ]
  },
  {
   "cell_type": "code",
   "execution_count": 91,
   "id": "2a5c645c-4c79-4a7d-b2cb-0e95b0ea5b12",
   "metadata": {},
   "outputs": [
    {
     "data": {
      "text/plain": [
       "46.80534918276374"
      ]
     },
     "execution_count": 91,
     "metadata": {},
     "output_type": "execute_result"
    }
   ],
   "source": [
    "a = train[train['upper_mold_temp2']<80]\n",
    "a['passorfail'].value_counts()\n",
    "d = a['passorfail'].value_counts().values[1] / sum(a['passorfail'].value_counts().values)*100\n",
    "d"
   ]
  },
  {
   "cell_type": "code",
   "execution_count": 92,
   "id": "e8842746-e255-4afe-bd5d-a234689ab64f",
   "metadata": {},
   "outputs": [
    {
     "data": {
      "image/png": "[encoded data removed]",
      "text/plain": [
       "<Figure size 800x400 with 1 Axes>"
      ]
     },
     "metadata": {},
     "output_type": "display_data"
    }
   ],
   "source": [
    "labels = ['~80', '80~239', '239~']\n",
    "values = [b, c, d]\n",
    "\n",
    "fig = plt.figure(figsize=(8,4))\n",
    "\n",
    "# 그래프 그리기\n",
    "plt.bar(labels, values)\n",
    "for i, v in enumerate(values):\n",
    "    plt.text(i, v, f\"{v:.2f}%\", ha='center', va='bottom')\n",
    "\n",
    "# 그래프 제목과 축 레이블 설정\n",
    "plt.title('상금형온도2에 따른 불량률')\n",
    "plt.xlabel('상금형온도2',labelpad=10)\n",
    "plt.ylabel('불량률', labelpad=20, rotation=0)\n",
    "\n",
    "# 그래프 보이기\n",
    "plt.show()"
   ]
  },
  {
   "cell_type": "markdown",
   "id": "1aa8460c-ab3b-4a84-8740-ac396cabc820",
   "metadata": {},
   "source": [
    "### upper 3 (결측치 처리)\n",
    "- 1, 2와는 다르게 양불과 관련없음"
   ]
  },
  {
   "cell_type": "code",
   "execution_count": 93,
   "id": "6c3ac3e1-25ec-45b9-a53d-61dd9c11e172",
   "metadata": {},
   "outputs": [],
   "source": [
    "from scipy.interpolate import CubicSpline \n",
    "\n",
    "# 결측치가 있는 행 선택\n",
    "missing_rows = train['upper_mold_temp3'].isnull()\n",
    "\n",
    "# 결측치가 아닌 행의 인덱스와 값 추출\n",
    "known_indexes = train.index[~missing_rows]\n",
    "known_values = train.loc[~missing_rows, 'upper_mold_temp3']\n",
    "\n",
    "# 결측치가 아닌 행의 인덱스와 값을 리스트로 변환\n",
    "known_indexes_list = known_indexes.tolist()\n",
    "known_values_list = known_values.tolist()\n",
    "\n",
    "# CubicSpline 객체 생성\n",
    "cs = CubicSpline(known_indexes_list, known_values_list)\n",
    "\n",
    "# 결측치를 보간한 값으로 채워주기\n",
    "train.loc[missing_rows, 'upper_mold_temp3'] = cs(train.loc[missing_rows].index)"
   ]
  },
  {
   "cell_type": "markdown",
   "id": "de925f36-d173-48ea-94d5-f8832c9178bb",
   "metadata": {},
   "source": [
    "## lower mold temp (하금형온도)"
   ]
  },
  {
   "cell_type": "markdown",
   "id": "24d6a36d-5e53-4cde-baf9-608c9808e860",
   "metadata": {},
   "source": [
    "### lower 1\n",
    "- 온도가 내려갈수록 불량률이 증가함"
   ]
  },
  {
   "cell_type": "code",
   "execution_count": 94,
   "id": "a149b500-cdbc-4d0b-bcd0-7d0faf339f33",
   "metadata": {},
   "outputs": [
    {
     "data": {
      "text/plain": [
       "<Axes: >"
      ]
     },
     "execution_count": 94,
     "metadata": {},
     "output_type": "execute_result"
    },
    {
     "data": {
      "image/png": "[encoded data removed]",
      "text/plain": [
       "<Figure size 640x480 with 1 Axes>"
      ]
     },
     "metadata": {},
     "output_type": "display_data"
    }
   ],
   "source": [
    "sns.boxplot(train['lower_mold_temp1'])"
   ]
  },
  {
   "cell_type": "code",
   "execution_count": 95,
   "id": "e5c3a5a4-a482-4a0e-be71-df1ba1175303",
   "metadata": {},
   "outputs": [
    {
     "data": {
      "text/plain": [
       "37.5"
      ]
     },
     "execution_count": 95,
     "metadata": {},
     "output_type": "execute_result"
    }
   ],
   "source": [
    "q1 = train['lower_mold_temp1'].quantile(0.25)\n",
    "q3 = train['lower_mold_temp1'].quantile(0.75)\n",
    "IQR = q3 - q1\n",
    "q25 = q1 - IQR*1.5\n",
    "q75 = q3 + IQR*1.5\n",
    "q25"
   ]
  },
  {
   "cell_type": "code",
   "execution_count": 96,
   "id": "e22391b4-f278-41a6-a64a-fffa671ee292",
   "metadata": {},
   "outputs": [
    {
     "data": {
      "text/plain": [
       "98.30508474576271"
      ]
     },
     "execution_count": 96,
     "metadata": {},
     "output_type": "execute_result"
    }
   ],
   "source": [
    "a = train[train['lower_mold_temp1']<50]\n",
    "b = a['passorfail'].value_counts().values[0] / sum(a['passorfail'].value_counts().values)*100\n",
    "b"
   ]
  },
  {
   "cell_type": "code",
   "execution_count": 97,
   "id": "77c96683-038a-4311-8802-3c79709cff05",
   "metadata": {},
   "outputs": [
    {
     "data": {
      "text/plain": [
       "90.25270758122743"
      ]
     },
     "execution_count": 97,
     "metadata": {},
     "output_type": "execute_result"
    }
   ],
   "source": [
    "a = train[train['lower_mold_temp1']<80]\n",
    "c = a['passorfail'].value_counts().values[0] / sum(a['passorfail'].value_counts().values)*100\n",
    "c"
   ]
  },
  {
   "cell_type": "code",
   "execution_count": 98,
   "id": "0e3cebea-053d-4643-9121-57a13ef7b888",
   "metadata": {},
   "outputs": [
    {
     "data": {
      "text/plain": [
       "33.85059545290508"
      ]
     },
     "execution_count": 98,
     "metadata": {},
     "output_type": "execute_result"
    }
   ],
   "source": [
    "a = train[train['lower_mold_temp1']<100]\n",
    "a['passorfail'].value_counts()\n",
    "\n",
    "d = a['passorfail'].value_counts().values[1] / sum(a['passorfail'].value_counts().values)*100\n",
    "d"
   ]
  },
  {
   "cell_type": "code",
   "execution_count": 99,
   "id": "3e29825f-4f40-48e1-bebc-bfd891cff1d5",
   "metadata": {},
   "outputs": [
    {
     "data": {
      "text/plain": [
       "13.290163428923835"
      ]
     },
     "execution_count": 99,
     "metadata": {},
     "output_type": "execute_result"
    }
   ],
   "source": [
    "a = train[train['lower_mold_temp1']<150]\n",
    "a['passorfail'].value_counts()\n",
    "\n",
    "e = a['passorfail'].value_counts().values[1] / sum(a['passorfail'].value_counts().values)*100\n",
    "e"
   ]
  },
  {
   "cell_type": "code",
   "execution_count": 100,
   "id": "a55b8cfa-eb8a-4936-b01d-48a3cd655688",
   "metadata": {},
   "outputs": [
    {
     "data": {
      "text/plain": [
       "5.489204661029262"
      ]
     },
     "execution_count": 100,
     "metadata": {},
     "output_type": "execute_result"
    }
   ],
   "source": [
    "a = train[train['lower_mold_temp1']<250]\n",
    "a['passorfail'].value_counts()\n",
    "\n",
    "f = a['passorfail'].value_counts().values[1] / sum(a['passorfail'].value_counts().values)*100\n",
    "f"
   ]
  },
  {
   "cell_type": "code",
   "execution_count": 101,
   "id": "b902c2fe-b105-4a14-99b6-8731cbc217a4",
   "metadata": {},
   "outputs": [
    {
     "data": {
      "text/plain": [
       "1.0178556025187613"
      ]
     },
     "execution_count": 101,
     "metadata": {},
     "output_type": "execute_result"
    }
   ],
   "source": [
    "a = train[train['lower_mold_temp1']>=250]\n",
    "a['passorfail'].value_counts()\n",
    "\n",
    "g = a['passorfail'].value_counts().values[1] / sum(a['passorfail'].value_counts().values)*100\n",
    "g"
   ]
  },
  {
   "cell_type": "code",
   "execution_count": 102,
   "id": "4c5936fc-1482-4bad-a8f5-2209ce558763",
   "metadata": {},
   "outputs": [
    {
     "data": {
      "image/png": "[encoded data removed]",
      "text/plain": [
       "<Figure size 800x400 with 1 Axes>"
      ]
     },
     "metadata": {},
     "output_type": "display_data"
    }
   ],
   "source": [
    "labels = ['~50','~80', '~100', '~150','~250', '250(이상)~']\n",
    "values = [b,c,d,e,f,g]\n",
    "\n",
    "fig = plt.figure(figsize=(8,4))\n",
    "\n",
    "# 그래프 그리기\n",
    "plt.bar(labels, values)\n",
    "for i, v in enumerate(values):\n",
    "    plt.text(i, v, f\"{v:.2f}%\", ha='center', va='bottom')\n",
    "\n",
    "# 그래프 제목과 축 레이블 설정\n",
    "plt.title('하금형온도1에 따른 불량률')\n",
    "plt.xlabel('하금형온도1',labelpad=10)\n",
    "plt.ylabel('불량률', labelpad=20, rotation=0)\n",
    "\n",
    "# 그래프 보이기\n",
    "plt.show()"
   ]
  },
  {
   "cell_type": "markdown",
   "id": "9a0c8946-8cce-4f16-aef1-22e40226bd25",
   "metadata": {},
   "source": [
    "### lower 2"
   ]
  },
  {
   "cell_type": "code",
   "execution_count": 103,
   "id": "0477831f-42a6-4434-a482-4692bffdda71",
   "metadata": {},
   "outputs": [
    {
     "data": {
      "text/plain": [
       "<Axes: >"
      ]
     },
     "execution_count": 103,
     "metadata": {},
     "output_type": "execute_result"
    },
    {
     "data": {
      "image/png": "[encoded data removed]",
      "text/plain": [
       "<Figure size 640x480 with 1 Axes>"
      ]
     },
     "metadata": {},
     "output_type": "display_data"
    }
   ],
   "source": [
    "sns.boxplot(train['lower_mold_temp2'])"
   ]
  },
  {
   "cell_type": "code",
   "execution_count": 104,
   "id": "ab268bca-929c-4d86-8be9-83717ea686fb",
   "metadata": {},
   "outputs": [
    {
     "data": {
      "text/plain": [
       "(86.5, 314.5)"
      ]
     },
     "execution_count": 104,
     "metadata": {},
     "output_type": "execute_result"
    }
   ],
   "source": [
    "q1 = train['lower_mold_temp2'].quantile(0.25)\n",
    "q3 = train['lower_mold_temp2'].quantile(0.75)\n",
    "IQR = q3 - q1\n",
    "q25 = q1 - IQR*1.5\n",
    "q75 = q3 + IQR*1.5\n",
    "q25, q75"
   ]
  },
  {
   "cell_type": "code",
   "execution_count": 105,
   "id": "3ac9f4e1-4739-4ae5-8eda-94222f965ed5",
   "metadata": {},
   "outputs": [
    {
     "data": {
      "text/plain": [
       "passorfail\n",
       "1.0    20\n",
       "0.0    17\n",
       "Name: count, dtype: int64"
      ]
     },
     "execution_count": 105,
     "metadata": {},
     "output_type": "execute_result"
    }
   ],
   "source": [
    "train[train['lower_mold_temp2']>q75]['passorfail'].value_counts()"
   ]
  },
  {
   "cell_type": "code",
   "execution_count": 106,
   "id": "4a427718-101e-49c8-85c9-285c8757d44d",
   "metadata": {},
   "outputs": [
    {
     "data": {
      "text/plain": [
       "54.054054054054056"
      ]
     },
     "execution_count": 106,
     "metadata": {},
     "output_type": "execute_result"
    }
   ],
   "source": [
    "a = train[train['lower_mold_temp2']>q75]\n",
    "a['passorfail'].value_counts()\n",
    "b = a['passorfail'].value_counts().values[0] / sum(a['passorfail'].value_counts().values)*100\n",
    "b"
   ]
  },
  {
   "cell_type": "code",
   "execution_count": 107,
   "id": "12386422-05ad-4518-a466-b48ddac3c3fb",
   "metadata": {},
   "outputs": [
    {
     "data": {
      "text/plain": [
       "53.92809587217043"
      ]
     },
     "execution_count": 107,
     "metadata": {},
     "output_type": "execute_result"
    }
   ],
   "source": [
    "a = train[train['lower_mold_temp2']<q25]\n",
    "a['passorfail'].value_counts()\n",
    "c = a['passorfail'].value_counts().values[0] / sum(a['passorfail'].value_counts().values)*100\n",
    "c"
   ]
  },
  {
   "cell_type": "code",
   "execution_count": 108,
   "id": "bdc12384-5400-4c79-865b-6e1a1aff3e74",
   "metadata": {},
   "outputs": [
    {
     "data": {
      "text/plain": [
       "3.9342716828904676"
      ]
     },
     "execution_count": 108,
     "metadata": {},
     "output_type": "execute_result"
    }
   ],
   "source": [
    "a = train[(train['lower_mold_temp2']>=q25) & (train['lower_mold_temp2']<=q75)]\n",
    "a['passorfail'].value_counts()\n",
    "d = a['passorfail'].value_counts().values[1] / sum(a['passorfail'].value_counts().values)*100\n",
    "d"
   ]
  },
  {
   "cell_type": "code",
   "execution_count": 109,
   "id": "b7f6ecdb-a9d0-4b06-9685-269d696c1a41",
   "metadata": {},
   "outputs": [
    {
     "data": {
      "image/png": "[encoded data removed]",
      "text/plain": [
       "<Figure size 800x400 with 1 Axes>"
      ]
     },
     "metadata": {},
     "output_type": "display_data"
    }
   ],
   "source": [
    "labels = ['~86.5','86.5~314.5', '314.5~']\n",
    "values = [b,d,c]\n",
    "\n",
    "fig = plt.figure(figsize=(8,4))\n",
    "\n",
    "# 그래프 그리기\n",
    "plt.bar(labels, values)\n",
    "for i, v in enumerate(values):\n",
    "    plt.text(i, v, f\"{v:.2f}%\", ha='center', va='bottom')\n",
    "\n",
    "# 그래프 제목과 축 레이블 설정\n",
    "plt.title('하금형온도2에 따른 불량률')\n",
    "plt.xlabel('하금형온도2',labelpad=10)\n",
    "plt.ylabel('불량률', labelpad=20, rotation=0)\n",
    "\n",
    "# 그래프 보이기\n",
    "plt.show()"
   ]
  },
  {
   "cell_type": "markdown",
   "id": "6679dbec-cfdc-4043-bf60-43da1e697eb7",
   "metadata": {},
   "source": [
    "### lower 3 (이상치, 결측치 처리)\n",
    "- 60000넘는 이상치를 최빈값으로 대체\n",
    "- 결측치 보간법 대체"
   ]
  },
  {
   "cell_type": "code",
   "execution_count": 110,
   "id": "c9a56ceb-5830-4c94-bf71-cae00023923d",
   "metadata": {},
   "outputs": [
    {
     "data": {
      "text/plain": [
       "<Axes: >"
      ]
     },
     "execution_count": 110,
     "metadata": {},
     "output_type": "execute_result"
    },
    {
     "data": {
      "image/png": "[encoded data removed]",
      "text/plain": [
       "<Figure size 640x480 with 1 Axes>"
      ]
     },
     "metadata": {},
     "output_type": "display_data"
    }
   ],
   "source": [
    "sns.boxplot( train['lower_mold_temp3'])"
   ]
  },
  {
   "cell_type": "code",
   "execution_count": 111,
   "id": "50cab66e-62ae-4c06-b69f-5d73dc19217b",
   "metadata": {},
   "outputs": [],
   "source": [
    "# 60000넘는 이상치를 최빈값으로 대체\n",
    "train.loc[train[train['lower_mold_temp3']>2000].index,'lower_mold_temp3'] = train['lower_mold_temp3'].mode()"
   ]
  },
  {
   "cell_type": "code",
   "execution_count": 112,
   "id": "b54eb7db-5220-489c-8bd7-73482a673f7c",
   "metadata": {},
   "outputs": [],
   "source": [
    "from scipy.interpolate import CubicSpline \n",
    "\n",
    "# 결측치가 있는 행 선택\n",
    "missing_rows = train['lower_mold_temp3'].isnull()\n",
    "\n",
    "# 결측치가 아닌 행의 인덱스와 값 추출\n",
    "known_indexes = train.index[~missing_rows]\n",
    "known_values = train.loc[~missing_rows, 'lower_mold_temp3']\n",
    "\n",
    "# 결측치가 아닌 행의 인덱스와 값을 리스트로 변환\n",
    "known_indexes_list = known_indexes.tolist()\n",
    "known_values_list = known_values.tolist()\n",
    "\n",
    "# CubicSpline 객체 생성\n",
    "cs = CubicSpline(known_indexes_list, known_values_list)\n",
    "\n",
    "# 결측치를 보간한 값으로 채워주기\n",
    "train.loc[missing_rows, 'lower_mold_temp3'] = cs(train.loc[missing_rows].index)"
   ]
  },
  {
   "cell_type": "markdown",
   "id": "16191872-896e-4009-8fa2-55b7490c2441",
   "metadata": {},
   "source": [
    "## physical_strength(형체력)"
   ]
  },
  {
   "cell_type": "code",
   "execution_count": 113,
   "id": "531c4b8a-8e43-46b5-84c2-c4762b33f0d1",
   "metadata": {},
   "outputs": [
    {
     "data": {
      "text/plain": [
       "<Axes: >"
      ]
     },
     "execution_count": 113,
     "metadata": {},
     "output_type": "execute_result"
    },
    {
     "data": {
      "image/png": "[encoded data removed]",
      "text/plain": [
       "<Figure size 640x480 with 1 Axes>"
      ]
     },
     "metadata": {},
     "output_type": "display_data"
    }
   ],
   "source": [
    "sns.boxplot(train['physical_strength'])"
   ]
  },
  {
   "cell_type": "code",
   "execution_count": 114,
   "id": "0ef9a9f9-fc5f-4612-84f4-918f18dea333",
   "metadata": {},
   "outputs": [
    {
     "data": {
      "text/html": [
       "<div>\n",
       "<style scoped>\n",
       "    .dataframe tbody tr th:only-of-type {\n",
       "        vertical-align: middle;\n",
       "    }\n",
       "\n",
       "    .dataframe tbody tr th {\n",
       "        vertical-align: top;\n",
       "    }\n",
       "\n",
       "    .dataframe thead th {\n",
       "        text-align: right;\n",
       "    }\n",
       "</style>\n",
       "<table border=\"1\" class=\"dataframe\">\n",
       "  <thead>\n",
       "    <tr style=\"text-align: right;\">\n",
       "      <th></th>\n",
       "      <th>Unnamed: 0</th>\n",
       "      <th>line</th>\n",
       "      <th>name</th>\n",
       "      <th>mold_name</th>\n",
       "      <th>time</th>\n",
       "      <th>date</th>\n",
       "      <th>count</th>\n",
       "      <th>working</th>\n",
       "      <th>emergency_stop</th>\n",
       "      <th>molten_temp</th>\n",
       "      <th>...</th>\n",
       "      <th>lower_mold_temp3</th>\n",
       "      <th>sleeve_temperature</th>\n",
       "      <th>physical_strength</th>\n",
       "      <th>Coolant_temperature</th>\n",
       "      <th>EMS_operation_time</th>\n",
       "      <th>registration_time</th>\n",
       "      <th>passorfail</th>\n",
       "      <th>tryshot_signal</th>\n",
       "      <th>mold_code</th>\n",
       "      <th>heating_furnace</th>\n",
       "    </tr>\n",
       "  </thead>\n",
       "  <tbody>\n",
       "    <tr>\n",
       "      <th>6000</th>\n",
       "      <td>6000</td>\n",
       "      <td>전자교반 3라인 2호기</td>\n",
       "      <td>TM Carrier RH</td>\n",
       "      <td>TM Carrier RH-Semi-Solid DIE-06</td>\n",
       "      <td>2019-01-11</td>\n",
       "      <td>22:55:42</td>\n",
       "      <td>74</td>\n",
       "      <td>가동</td>\n",
       "      <td>ON</td>\n",
       "      <td>696.000000</td>\n",
       "      <td>...</td>\n",
       "      <td>1449.0</td>\n",
       "      <td>456.0</td>\n",
       "      <td>65535.0</td>\n",
       "      <td>29.0</td>\n",
       "      <td>23</td>\n",
       "      <td>2019-01-11 22:55</td>\n",
       "      <td>1.0</td>\n",
       "      <td>NaN</td>\n",
       "      <td>8412</td>\n",
       "      <td>NaN</td>\n",
       "    </tr>\n",
       "    <tr>\n",
       "      <th>11811</th>\n",
       "      <td>11811</td>\n",
       "      <td>전자교반 3라인 2호기</td>\n",
       "      <td>TM Carrier RH</td>\n",
       "      <td>TM Carrier RH-Semi-Solid DIE-06</td>\n",
       "      <td>2019-01-18</td>\n",
       "      <td>23:19:22</td>\n",
       "      <td>5</td>\n",
       "      <td>가동</td>\n",
       "      <td>ON</td>\n",
       "      <td>709.000000</td>\n",
       "      <td>...</td>\n",
       "      <td>1449.0</td>\n",
       "      <td>437.0</td>\n",
       "      <td>65535.0</td>\n",
       "      <td>31.0</td>\n",
       "      <td>23</td>\n",
       "      <td>2019-01-18 23:19</td>\n",
       "      <td>1.0</td>\n",
       "      <td>NaN</td>\n",
       "      <td>8412</td>\n",
       "      <td>NaN</td>\n",
       "    </tr>\n",
       "    <tr>\n",
       "      <th>17598</th>\n",
       "      <td>17598</td>\n",
       "      <td>전자교반 3라인 2호기</td>\n",
       "      <td>TM Carrier RH</td>\n",
       "      <td>TM Carrier RH-Semi-Solid DIE-06</td>\n",
       "      <td>2019-01-24</td>\n",
       "      <td>7:59:34</td>\n",
       "      <td>1</td>\n",
       "      <td>가동</td>\n",
       "      <td>ON</td>\n",
       "      <td>717.029109</td>\n",
       "      <td>...</td>\n",
       "      <td>1449.0</td>\n",
       "      <td>496.0</td>\n",
       "      <td>65535.0</td>\n",
       "      <td>40.0</td>\n",
       "      <td>23</td>\n",
       "      <td>2019-01-24 7:59</td>\n",
       "      <td>1.0</td>\n",
       "      <td>NaN</td>\n",
       "      <td>8412</td>\n",
       "      <td>NaN</td>\n",
       "    </tr>\n",
       "  </tbody>\n",
       "</table>\n",
       "<p>3 rows × 32 columns</p>\n",
       "</div>"
      ],
      "text/plain": [
       "       Unnamed: 0          line           name  \\\n",
       "6000         6000  전자교반 3라인 2호기  TM Carrier RH   \n",
       "11811       11811  전자교반 3라인 2호기  TM Carrier RH   \n",
       "17598       17598  전자교반 3라인 2호기  TM Carrier RH   \n",
       "\n",
       "                             mold_name        time      date  count working  \\\n",
       "6000   TM Carrier RH-Semi-Solid DIE-06  2019-01-11  22:55:42     74      가동   \n",
       "11811  TM Carrier RH-Semi-Solid DIE-06  2019-01-18  23:19:22      5      가동   \n",
       "17598  TM Carrier RH-Semi-Solid DIE-06  2019-01-24   7:59:34      1      가동   \n",
       "\n",
       "      emergency_stop  molten_temp  ...  lower_mold_temp3  sleeve_temperature  \\\n",
       "6000              ON   696.000000  ...            1449.0               456.0   \n",
       "11811             ON   709.000000  ...            1449.0               437.0   \n",
       "17598             ON   717.029109  ...            1449.0               496.0   \n",
       "\n",
       "       physical_strength  Coolant_temperature  EMS_operation_time  \\\n",
       "6000             65535.0                 29.0                  23   \n",
       "11811            65535.0                 31.0                  23   \n",
       "17598            65535.0                 40.0                  23   \n",
       "\n",
       "       registration_time  passorfail  tryshot_signal  mold_code  \\\n",
       "6000    2019-01-11 22:55         1.0             NaN       8412   \n",
       "11811   2019-01-18 23:19         1.0             NaN       8412   \n",
       "17598    2019-01-24 7:59         1.0             NaN       8412   \n",
       "\n",
       "       heating_furnace  \n",
       "6000               NaN  \n",
       "11811              NaN  \n",
       "17598              NaN  \n",
       "\n",
       "[3 rows x 32 columns]"
      ]
     },
     "execution_count": 114,
     "metadata": {},
     "output_type": "execute_result"
    }
   ],
   "source": [
    "train[train['physical_strength']>=60000]"
   ]
  },
  {
   "cell_type": "code",
   "execution_count": 115,
   "id": "2f9e1038-f412-4f51-a30d-b070a788a3d2",
   "metadata": {},
   "outputs": [],
   "source": [
    "train['physical_strength'] = np.where(train['physical_strength']>=60000, \n",
    "                                      train[(train['passorfail']==1) & (train['mold_code']==8412)]['physical_strength'].median(), train['physical_strength'])"
   ]
  },
  {
   "cell_type": "markdown",
   "id": "8d20976e-9df9-44aa-be54-79f68a378d63",
   "metadata": {},
   "source": [
    "## 냉각수 온도"
   ]
  },
  {
   "cell_type": "code",
   "execution_count": 116,
   "id": "6d235c99-a7bd-4588-802a-0fb52ccf726c",
   "metadata": {},
   "outputs": [
    {
     "data": {
      "text/plain": [
       "<Axes: >"
      ]
     },
     "execution_count": 116,
     "metadata": {},
     "output_type": "execute_result"
    },
    {
     "data": {
      "image/png": "[encoded data removed]",
      "text/plain": [
       "<Figure size 640x480 with 1 Axes>"
      ]
     },
     "metadata": {},
     "output_type": "display_data"
    }
   ],
   "source": [
    "sns.boxplot(train['Coolant_temperature'])"
   ]
  },
  {
   "cell_type": "code",
   "execution_count": 117,
   "id": "40fa2a33-819f-488d-8b72-fbca09acb8cf",
   "metadata": {},
   "outputs": [
    {
     "data": {
      "text/html": [
       "<div>\n",
       "<style scoped>\n",
       "    .dataframe tbody tr th:only-of-type {\n",
       "        vertical-align: middle;\n",
       "    }\n",
       "\n",
       "    .dataframe tbody tr th {\n",
       "        vertical-align: top;\n",
       "    }\n",
       "\n",
       "    .dataframe thead th {\n",
       "        text-align: right;\n",
       "    }\n",
       "</style>\n",
       "<table border=\"1\" class=\"dataframe\">\n",
       "  <thead>\n",
       "    <tr style=\"text-align: right;\">\n",
       "      <th></th>\n",
       "      <th>Unnamed: 0</th>\n",
       "      <th>line</th>\n",
       "      <th>name</th>\n",
       "      <th>mold_name</th>\n",
       "      <th>time</th>\n",
       "      <th>date</th>\n",
       "      <th>count</th>\n",
       "      <th>working</th>\n",
       "      <th>emergency_stop</th>\n",
       "      <th>molten_temp</th>\n",
       "      <th>...</th>\n",
       "      <th>lower_mold_temp3</th>\n",
       "      <th>sleeve_temperature</th>\n",
       "      <th>physical_strength</th>\n",
       "      <th>Coolant_temperature</th>\n",
       "      <th>EMS_operation_time</th>\n",
       "      <th>registration_time</th>\n",
       "      <th>passorfail</th>\n",
       "      <th>tryshot_signal</th>\n",
       "      <th>mold_code</th>\n",
       "      <th>heating_furnace</th>\n",
       "    </tr>\n",
       "  </thead>\n",
       "  <tbody>\n",
       "    <tr>\n",
       "      <th>11853</th>\n",
       "      <td>11853</td>\n",
       "      <td>전자교반 3라인 2호기</td>\n",
       "      <td>TM Carrier RH</td>\n",
       "      <td>TM Carrier RH-Semi-Solid DIE-06</td>\n",
       "      <td>2019-01-19</td>\n",
       "      <td>0:07:38</td>\n",
       "      <td>1</td>\n",
       "      <td>가동</td>\n",
       "      <td>ON</td>\n",
       "      <td>709.0</td>\n",
       "      <td>...</td>\n",
       "      <td>1449.0</td>\n",
       "      <td>445.0</td>\n",
       "      <td>668.0</td>\n",
       "      <td>1449.0</td>\n",
       "      <td>23</td>\n",
       "      <td>2019-01-19 0:07</td>\n",
       "      <td>1.0</td>\n",
       "      <td>NaN</td>\n",
       "      <td>8412</td>\n",
       "      <td>NaN</td>\n",
       "    </tr>\n",
       "    <tr>\n",
       "      <th>11855</th>\n",
       "      <td>11855</td>\n",
       "      <td>전자교반 3라인 2호기</td>\n",
       "      <td>TM Carrier RH</td>\n",
       "      <td>TM Carrier RH-Semi-Solid DIE-06</td>\n",
       "      <td>2019-01-19</td>\n",
       "      <td>0:09:45</td>\n",
       "      <td>2</td>\n",
       "      <td>가동</td>\n",
       "      <td>ON</td>\n",
       "      <td>709.0</td>\n",
       "      <td>...</td>\n",
       "      <td>1449.0</td>\n",
       "      <td>473.0</td>\n",
       "      <td>695.0</td>\n",
       "      <td>1449.0</td>\n",
       "      <td>23</td>\n",
       "      <td>2019-01-19 0:09</td>\n",
       "      <td>1.0</td>\n",
       "      <td>NaN</td>\n",
       "      <td>8412</td>\n",
       "      <td>NaN</td>\n",
       "    </tr>\n",
       "    <tr>\n",
       "      <th>11857</th>\n",
       "      <td>11857</td>\n",
       "      <td>전자교반 3라인 2호기</td>\n",
       "      <td>TM Carrier RH</td>\n",
       "      <td>TM Carrier RH-Semi-Solid DIE-06</td>\n",
       "      <td>2019-01-19</td>\n",
       "      <td>0:11:44</td>\n",
       "      <td>3</td>\n",
       "      <td>가동</td>\n",
       "      <td>ON</td>\n",
       "      <td>709.0</td>\n",
       "      <td>...</td>\n",
       "      <td>1449.0</td>\n",
       "      <td>487.0</td>\n",
       "      <td>693.0</td>\n",
       "      <td>1449.0</td>\n",
       "      <td>23</td>\n",
       "      <td>2019-01-19 0:11</td>\n",
       "      <td>1.0</td>\n",
       "      <td>NaN</td>\n",
       "      <td>8412</td>\n",
       "      <td>NaN</td>\n",
       "    </tr>\n",
       "    <tr>\n",
       "      <th>11861</th>\n",
       "      <td>11861</td>\n",
       "      <td>전자교반 3라인 2호기</td>\n",
       "      <td>TM Carrier RH</td>\n",
       "      <td>TM Carrier RH-Semi-Solid DIE-06</td>\n",
       "      <td>2019-01-19</td>\n",
       "      <td>0:18:45</td>\n",
       "      <td>4</td>\n",
       "      <td>가동</td>\n",
       "      <td>ON</td>\n",
       "      <td>709.0</td>\n",
       "      <td>...</td>\n",
       "      <td>1449.0</td>\n",
       "      <td>469.0</td>\n",
       "      <td>678.0</td>\n",
       "      <td>1449.0</td>\n",
       "      <td>23</td>\n",
       "      <td>2019-01-19 0:18</td>\n",
       "      <td>1.0</td>\n",
       "      <td>NaN</td>\n",
       "      <td>8412</td>\n",
       "      <td>NaN</td>\n",
       "    </tr>\n",
       "    <tr>\n",
       "      <th>11862</th>\n",
       "      <td>11862</td>\n",
       "      <td>전자교반 3라인 2호기</td>\n",
       "      <td>TM Carrier RH</td>\n",
       "      <td>TM Carrier RH-Semi-Solid DIE-06</td>\n",
       "      <td>2019-01-19</td>\n",
       "      <td>0:20:48</td>\n",
       "      <td>5</td>\n",
       "      <td>가동</td>\n",
       "      <td>ON</td>\n",
       "      <td>709.0</td>\n",
       "      <td>...</td>\n",
       "      <td>1449.0</td>\n",
       "      <td>479.0</td>\n",
       "      <td>698.0</td>\n",
       "      <td>1449.0</td>\n",
       "      <td>23</td>\n",
       "      <td>2019-01-19 0:20</td>\n",
       "      <td>0.0</td>\n",
       "      <td>NaN</td>\n",
       "      <td>8412</td>\n",
       "      <td>NaN</td>\n",
       "    </tr>\n",
       "    <tr>\n",
       "      <th>11864</th>\n",
       "      <td>11864</td>\n",
       "      <td>전자교반 3라인 2호기</td>\n",
       "      <td>TM Carrier RH</td>\n",
       "      <td>TM Carrier RH-Semi-Solid DIE-06</td>\n",
       "      <td>2019-01-19</td>\n",
       "      <td>0:22:49</td>\n",
       "      <td>6</td>\n",
       "      <td>가동</td>\n",
       "      <td>ON</td>\n",
       "      <td>709.0</td>\n",
       "      <td>...</td>\n",
       "      <td>1449.0</td>\n",
       "      <td>486.0</td>\n",
       "      <td>710.0</td>\n",
       "      <td>1449.0</td>\n",
       "      <td>23</td>\n",
       "      <td>2019-01-19 0:22</td>\n",
       "      <td>0.0</td>\n",
       "      <td>NaN</td>\n",
       "      <td>8412</td>\n",
       "      <td>NaN</td>\n",
       "    </tr>\n",
       "    <tr>\n",
       "      <th>11866</th>\n",
       "      <td>11866</td>\n",
       "      <td>전자교반 3라인 2호기</td>\n",
       "      <td>TM Carrier RH</td>\n",
       "      <td>TM Carrier RH-Semi-Solid DIE-06</td>\n",
       "      <td>2019-01-19</td>\n",
       "      <td>0:24:58</td>\n",
       "      <td>7</td>\n",
       "      <td>가동</td>\n",
       "      <td>ON</td>\n",
       "      <td>709.0</td>\n",
       "      <td>...</td>\n",
       "      <td>1449.0</td>\n",
       "      <td>489.0</td>\n",
       "      <td>685.0</td>\n",
       "      <td>1449.0</td>\n",
       "      <td>23</td>\n",
       "      <td>2019-01-19 0:24</td>\n",
       "      <td>0.0</td>\n",
       "      <td>NaN</td>\n",
       "      <td>8412</td>\n",
       "      <td>NaN</td>\n",
       "    </tr>\n",
       "    <tr>\n",
       "      <th>11868</th>\n",
       "      <td>11868</td>\n",
       "      <td>전자교반 3라인 2호기</td>\n",
       "      <td>TM Carrier RH</td>\n",
       "      <td>TM Carrier RH-Semi-Solid DIE-06</td>\n",
       "      <td>2019-01-19</td>\n",
       "      <td>0:26:49</td>\n",
       "      <td>8</td>\n",
       "      <td>가동</td>\n",
       "      <td>ON</td>\n",
       "      <td>709.0</td>\n",
       "      <td>...</td>\n",
       "      <td>1449.0</td>\n",
       "      <td>490.0</td>\n",
       "      <td>708.0</td>\n",
       "      <td>1449.0</td>\n",
       "      <td>23</td>\n",
       "      <td>2019-01-19 0:26</td>\n",
       "      <td>0.0</td>\n",
       "      <td>NaN</td>\n",
       "      <td>8412</td>\n",
       "      <td>NaN</td>\n",
       "    </tr>\n",
       "    <tr>\n",
       "      <th>11870</th>\n",
       "      <td>11870</td>\n",
       "      <td>전자교반 3라인 2호기</td>\n",
       "      <td>TM Carrier RH</td>\n",
       "      <td>TM Carrier RH-Semi-Solid DIE-06</td>\n",
       "      <td>2019-01-19</td>\n",
       "      <td>0:29:02</td>\n",
       "      <td>9</td>\n",
       "      <td>가동</td>\n",
       "      <td>ON</td>\n",
       "      <td>709.0</td>\n",
       "      <td>...</td>\n",
       "      <td>1449.0</td>\n",
       "      <td>489.0</td>\n",
       "      <td>698.0</td>\n",
       "      <td>1449.0</td>\n",
       "      <td>23</td>\n",
       "      <td>2019-01-19 0:29</td>\n",
       "      <td>0.0</td>\n",
       "      <td>NaN</td>\n",
       "      <td>8412</td>\n",
       "      <td>NaN</td>\n",
       "    </tr>\n",
       "  </tbody>\n",
       "</table>\n",
       "<p>9 rows × 32 columns</p>\n",
       "</div>"
      ],
      "text/plain": [
       "       Unnamed: 0          line           name  \\\n",
       "11853       11853  전자교반 3라인 2호기  TM Carrier RH   \n",
       "11855       11855  전자교반 3라인 2호기  TM Carrier RH   \n",
       "11857       11857  전자교반 3라인 2호기  TM Carrier RH   \n",
       "11861       11861  전자교반 3라인 2호기  TM Carrier RH   \n",
       "11862       11862  전자교반 3라인 2호기  TM Carrier RH   \n",
       "11864       11864  전자교반 3라인 2호기  TM Carrier RH   \n",
       "11866       11866  전자교반 3라인 2호기  TM Carrier RH   \n",
       "11868       11868  전자교반 3라인 2호기  TM Carrier RH   \n",
       "11870       11870  전자교반 3라인 2호기  TM Carrier RH   \n",
       "\n",
       "                             mold_name        time     date  count working  \\\n",
       "11853  TM Carrier RH-Semi-Solid DIE-06  2019-01-19  0:07:38      1      가동   \n",
       "11855  TM Carrier RH-Semi-Solid DIE-06  2019-01-19  0:09:45      2      가동   \n",
       "11857  TM Carrier RH-Semi-Solid DIE-06  2019-01-19  0:11:44      3      가동   \n",
       "11861  TM Carrier RH-Semi-Solid DIE-06  2019-01-19  0:18:45      4      가동   \n",
       "11862  TM Carrier RH-Semi-Solid DIE-06  2019-01-19  0:20:48      5      가동   \n",
       "11864  TM Carrier RH-Semi-Solid DIE-06  2019-01-19  0:22:49      6      가동   \n",
       "11866  TM Carrier RH-Semi-Solid DIE-06  2019-01-19  0:24:58      7      가동   \n",
       "11868  TM Carrier RH-Semi-Solid DIE-06  2019-01-19  0:26:49      8      가동   \n",
       "11870  TM Carrier RH-Semi-Solid DIE-06  2019-01-19  0:29:02      9      가동   \n",
       "\n",
       "      emergency_stop  molten_temp  ...  lower_mold_temp3  sleeve_temperature  \\\n",
       "11853             ON        709.0  ...            1449.0               445.0   \n",
       "11855             ON        709.0  ...            1449.0               473.0   \n",
       "11857             ON        709.0  ...            1449.0               487.0   \n",
       "11861             ON        709.0  ...            1449.0               469.0   \n",
       "11862             ON        709.0  ...            1449.0               479.0   \n",
       "11864             ON        709.0  ...            1449.0               486.0   \n",
       "11866             ON        709.0  ...            1449.0               489.0   \n",
       "11868             ON        709.0  ...            1449.0               490.0   \n",
       "11870             ON        709.0  ...            1449.0               489.0   \n",
       "\n",
       "       physical_strength  Coolant_temperature  EMS_operation_time  \\\n",
       "11853              668.0               1449.0                  23   \n",
       "11855              695.0               1449.0                  23   \n",
       "11857              693.0               1449.0                  23   \n",
       "11861              678.0               1449.0                  23   \n",
       "11862              698.0               1449.0                  23   \n",
       "11864              710.0               1449.0                  23   \n",
       "11866              685.0               1449.0                  23   \n",
       "11868              708.0               1449.0                  23   \n",
       "11870              698.0               1449.0                  23   \n",
       "\n",
       "       registration_time  passorfail  tryshot_signal  mold_code  \\\n",
       "11853    2019-01-19 0:07         1.0             NaN       8412   \n",
       "11855    2019-01-19 0:09         1.0             NaN       8412   \n",
       "11857    2019-01-19 0:11         1.0             NaN       8412   \n",
       "11861    2019-01-19 0:18         1.0             NaN       8412   \n",
       "11862    2019-01-19 0:20         0.0             NaN       8412   \n",
       "11864    2019-01-19 0:22         0.0             NaN       8412   \n",
       "11866    2019-01-19 0:24         0.0             NaN       8412   \n",
       "11868    2019-01-19 0:26         0.0             NaN       8412   \n",
       "11870    2019-01-19 0:29         0.0             NaN       8412   \n",
       "\n",
       "       heating_furnace  \n",
       "11853              NaN  \n",
       "11855              NaN  \n",
       "11857              NaN  \n",
       "11861              NaN  \n",
       "11862              NaN  \n",
       "11864              NaN  \n",
       "11866              NaN  \n",
       "11868              NaN  \n",
       "11870              NaN  \n",
       "\n",
       "[9 rows x 32 columns]"
      ]
     },
     "execution_count": 117,
     "metadata": {},
     "output_type": "execute_result"
    }
   ],
   "source": [
    "train[train['Coolant_temperature']>1400]\n",
    "# 금형코드가 모두 8412이고 count가 1부터 9까지 있으며 5부터 양임\n",
    "# 상금형온도는 count가 커질수록 증가함\n",
    "# 상금형온도 1은 100부터, 2는 70부터, 3은 모두 1449\n",
    "# 하금형온도 1은 136부터, 2는 123부터 3은 모두 1449\n",
    "# 냉각수 온도는 모두 같은데 금형온도가 커질수록 양이다"
   ]
  },
  {
   "cell_type": "code",
   "execution_count": 118,
   "id": "aa9e8ae8-ee2e-4054-8101-4a0f31f7e842",
   "metadata": {},
   "outputs": [
    {
     "data": {
      "text/html": [
       "<div>\n",
       "<style scoped>\n",
       "    .dataframe tbody tr th:only-of-type {\n",
       "        vertical-align: middle;\n",
       "    }\n",
       "\n",
       "    .dataframe tbody tr th {\n",
       "        vertical-align: top;\n",
       "    }\n",
       "\n",
       "    .dataframe thead th {\n",
       "        text-align: right;\n",
       "    }\n",
       "</style>\n",
       "<table border=\"1\" class=\"dataframe\">\n",
       "  <thead>\n",
       "    <tr style=\"text-align: right;\">\n",
       "      <th></th>\n",
       "      <th>Unnamed: 0</th>\n",
       "      <th>line</th>\n",
       "      <th>name</th>\n",
       "      <th>mold_name</th>\n",
       "      <th>time</th>\n",
       "      <th>date</th>\n",
       "      <th>count</th>\n",
       "      <th>working</th>\n",
       "      <th>emergency_stop</th>\n",
       "      <th>molten_temp</th>\n",
       "      <th>...</th>\n",
       "      <th>lower_mold_temp3</th>\n",
       "      <th>sleeve_temperature</th>\n",
       "      <th>physical_strength</th>\n",
       "      <th>Coolant_temperature</th>\n",
       "      <th>EMS_operation_time</th>\n",
       "      <th>registration_time</th>\n",
       "      <th>passorfail</th>\n",
       "      <th>tryshot_signal</th>\n",
       "      <th>mold_code</th>\n",
       "      <th>heating_furnace</th>\n",
       "    </tr>\n",
       "  </thead>\n",
       "  <tbody>\n",
       "    <tr>\n",
       "      <th>11870</th>\n",
       "      <td>11870</td>\n",
       "      <td>전자교반 3라인 2호기</td>\n",
       "      <td>TM Carrier RH</td>\n",
       "      <td>TM Carrier RH-Semi-Solid DIE-06</td>\n",
       "      <td>2019-01-19</td>\n",
       "      <td>0:29:02</td>\n",
       "      <td>9</td>\n",
       "      <td>가동</td>\n",
       "      <td>ON</td>\n",
       "      <td>709.000000</td>\n",
       "      <td>...</td>\n",
       "      <td>1449.0</td>\n",
       "      <td>489.0</td>\n",
       "      <td>698.0</td>\n",
       "      <td>1449.0</td>\n",
       "      <td>23</td>\n",
       "      <td>2019-01-19 0:29</td>\n",
       "      <td>0.0</td>\n",
       "      <td>NaN</td>\n",
       "      <td>8412</td>\n",
       "      <td>NaN</td>\n",
       "    </tr>\n",
       "    <tr>\n",
       "      <th>11871</th>\n",
       "      <td>11871</td>\n",
       "      <td>전자교반 3라인 2호기</td>\n",
       "      <td>TM Carrier RH</td>\n",
       "      <td>TM Carrier RH-Semi-Solid DIE-06</td>\n",
       "      <td>2019-01-19</td>\n",
       "      <td>0:31:39</td>\n",
       "      <td>124</td>\n",
       "      <td>가동</td>\n",
       "      <td>ON</td>\n",
       "      <td>715.000000</td>\n",
       "      <td>...</td>\n",
       "      <td>1449.0</td>\n",
       "      <td>472.0</td>\n",
       "      <td>709.0</td>\n",
       "      <td>33.0</td>\n",
       "      <td>23</td>\n",
       "      <td>2019-01-19 0:31</td>\n",
       "      <td>0.0</td>\n",
       "      <td>NaN</td>\n",
       "      <td>8573</td>\n",
       "      <td>B</td>\n",
       "    </tr>\n",
       "    <tr>\n",
       "      <th>11872</th>\n",
       "      <td>11872</td>\n",
       "      <td>전자교반 3라인 2호기</td>\n",
       "      <td>TM Carrier RH</td>\n",
       "      <td>TM Carrier RH-Semi-Solid DIE-06</td>\n",
       "      <td>2019-01-19</td>\n",
       "      <td>0:32:11</td>\n",
       "      <td>125</td>\n",
       "      <td>가동</td>\n",
       "      <td>ON</td>\n",
       "      <td>715.000000</td>\n",
       "      <td>...</td>\n",
       "      <td>1449.0</td>\n",
       "      <td>478.0</td>\n",
       "      <td>709.0</td>\n",
       "      <td>33.0</td>\n",
       "      <td>23</td>\n",
       "      <td>2019-01-19 0:32</td>\n",
       "      <td>0.0</td>\n",
       "      <td>NaN</td>\n",
       "      <td>8573</td>\n",
       "      <td>B</td>\n",
       "    </tr>\n",
       "    <tr>\n",
       "      <th>11873</th>\n",
       "      <td>11873</td>\n",
       "      <td>전자교반 3라인 2호기</td>\n",
       "      <td>TM Carrier RH</td>\n",
       "      <td>TM Carrier RH-Semi-Solid DIE-06</td>\n",
       "      <td>2019-01-19</td>\n",
       "      <td>0:34:12</td>\n",
       "      <td>126</td>\n",
       "      <td>가동</td>\n",
       "      <td>ON</td>\n",
       "      <td>714.000000</td>\n",
       "      <td>...</td>\n",
       "      <td>1449.0</td>\n",
       "      <td>479.0</td>\n",
       "      <td>712.0</td>\n",
       "      <td>33.0</td>\n",
       "      <td>23</td>\n",
       "      <td>2019-01-19 0:34</td>\n",
       "      <td>0.0</td>\n",
       "      <td>NaN</td>\n",
       "      <td>8573</td>\n",
       "      <td>B</td>\n",
       "    </tr>\n",
       "    <tr>\n",
       "      <th>11874</th>\n",
       "      <td>11874</td>\n",
       "      <td>전자교반 3라인 2호기</td>\n",
       "      <td>TM Carrier RH</td>\n",
       "      <td>TM Carrier RH-Semi-Solid DIE-06</td>\n",
       "      <td>2019-01-19</td>\n",
       "      <td>0:38:12</td>\n",
       "      <td>127</td>\n",
       "      <td>가동</td>\n",
       "      <td>ON</td>\n",
       "      <td>713.000000</td>\n",
       "      <td>...</td>\n",
       "      <td>1449.0</td>\n",
       "      <td>445.0</td>\n",
       "      <td>701.0</td>\n",
       "      <td>33.0</td>\n",
       "      <td>23</td>\n",
       "      <td>2019-01-19 0:38</td>\n",
       "      <td>0.0</td>\n",
       "      <td>NaN</td>\n",
       "      <td>8573</td>\n",
       "      <td>B</td>\n",
       "    </tr>\n",
       "    <tr>\n",
       "      <th>11875</th>\n",
       "      <td>11875</td>\n",
       "      <td>전자교반 3라인 2호기</td>\n",
       "      <td>TM Carrier RH</td>\n",
       "      <td>TM Carrier RH-Semi-Solid DIE-06</td>\n",
       "      <td>2019-01-19</td>\n",
       "      <td>0:40:19</td>\n",
       "      <td>128</td>\n",
       "      <td>가동</td>\n",
       "      <td>ON</td>\n",
       "      <td>713.000000</td>\n",
       "      <td>...</td>\n",
       "      <td>1449.0</td>\n",
       "      <td>461.0</td>\n",
       "      <td>712.0</td>\n",
       "      <td>33.0</td>\n",
       "      <td>23</td>\n",
       "      <td>2019-01-19 0:40</td>\n",
       "      <td>0.0</td>\n",
       "      <td>NaN</td>\n",
       "      <td>8573</td>\n",
       "      <td>B</td>\n",
       "    </tr>\n",
       "    <tr>\n",
       "      <th>11876</th>\n",
       "      <td>11876</td>\n",
       "      <td>전자교반 3라인 2호기</td>\n",
       "      <td>TM Carrier RH</td>\n",
       "      <td>TM Carrier RH-Semi-Solid DIE-06</td>\n",
       "      <td>2019-01-19</td>\n",
       "      <td>0:42:20</td>\n",
       "      <td>129</td>\n",
       "      <td>가동</td>\n",
       "      <td>ON</td>\n",
       "      <td>712.000000</td>\n",
       "      <td>...</td>\n",
       "      <td>1449.0</td>\n",
       "      <td>469.0</td>\n",
       "      <td>708.0</td>\n",
       "      <td>34.0</td>\n",
       "      <td>23</td>\n",
       "      <td>2019-01-19 0:42</td>\n",
       "      <td>0.0</td>\n",
       "      <td>NaN</td>\n",
       "      <td>8573</td>\n",
       "      <td>B</td>\n",
       "    </tr>\n",
       "    <tr>\n",
       "      <th>11877</th>\n",
       "      <td>11877</td>\n",
       "      <td>전자교반 3라인 2호기</td>\n",
       "      <td>TM Carrier RH</td>\n",
       "      <td>TM Carrier RH-Semi-Solid DIE-06</td>\n",
       "      <td>2019-01-19</td>\n",
       "      <td>0:44:28</td>\n",
       "      <td>130</td>\n",
       "      <td>가동</td>\n",
       "      <td>ON</td>\n",
       "      <td>710.000000</td>\n",
       "      <td>...</td>\n",
       "      <td>1449.0</td>\n",
       "      <td>474.0</td>\n",
       "      <td>713.0</td>\n",
       "      <td>33.0</td>\n",
       "      <td>23</td>\n",
       "      <td>2019-01-19 0:44</td>\n",
       "      <td>0.0</td>\n",
       "      <td>NaN</td>\n",
       "      <td>8573</td>\n",
       "      <td>B</td>\n",
       "    </tr>\n",
       "    <tr>\n",
       "      <th>11878</th>\n",
       "      <td>11878</td>\n",
       "      <td>전자교반 3라인 2호기</td>\n",
       "      <td>TM Carrier RH</td>\n",
       "      <td>TM Carrier RH-Semi-Solid DIE-06</td>\n",
       "      <td>2019-01-19</td>\n",
       "      <td>0:46:28</td>\n",
       "      <td>131</td>\n",
       "      <td>가동</td>\n",
       "      <td>ON</td>\n",
       "      <td>709.000000</td>\n",
       "      <td>...</td>\n",
       "      <td>1449.0</td>\n",
       "      <td>474.0</td>\n",
       "      <td>715.0</td>\n",
       "      <td>34.0</td>\n",
       "      <td>23</td>\n",
       "      <td>2019-01-19 0:46</td>\n",
       "      <td>0.0</td>\n",
       "      <td>NaN</td>\n",
       "      <td>8573</td>\n",
       "      <td>B</td>\n",
       "    </tr>\n",
       "    <tr>\n",
       "      <th>11879</th>\n",
       "      <td>11879</td>\n",
       "      <td>전자교반 3라인 2호기</td>\n",
       "      <td>TM Carrier RH</td>\n",
       "      <td>TM Carrier RH-Semi-Solid DIE-06</td>\n",
       "      <td>2019-01-19</td>\n",
       "      <td>0:48:26</td>\n",
       "      <td>132</td>\n",
       "      <td>가동</td>\n",
       "      <td>ON</td>\n",
       "      <td>709.000000</td>\n",
       "      <td>...</td>\n",
       "      <td>1449.0</td>\n",
       "      <td>476.0</td>\n",
       "      <td>704.0</td>\n",
       "      <td>33.0</td>\n",
       "      <td>23</td>\n",
       "      <td>2019-01-19 0:48</td>\n",
       "      <td>0.0</td>\n",
       "      <td>NaN</td>\n",
       "      <td>8573</td>\n",
       "      <td>B</td>\n",
       "    </tr>\n",
       "    <tr>\n",
       "      <th>11880</th>\n",
       "      <td>11880</td>\n",
       "      <td>전자교반 3라인 2호기</td>\n",
       "      <td>TM Carrier RH</td>\n",
       "      <td>TM Carrier RH-Semi-Solid DIE-06</td>\n",
       "      <td>2019-01-19</td>\n",
       "      <td>0:50:20</td>\n",
       "      <td>133</td>\n",
       "      <td>가동</td>\n",
       "      <td>ON</td>\n",
       "      <td>709.000000</td>\n",
       "      <td>...</td>\n",
       "      <td>1449.0</td>\n",
       "      <td>475.0</td>\n",
       "      <td>712.0</td>\n",
       "      <td>32.0</td>\n",
       "      <td>23</td>\n",
       "      <td>2019-01-19 0:50</td>\n",
       "      <td>0.0</td>\n",
       "      <td>NaN</td>\n",
       "      <td>8573</td>\n",
       "      <td>B</td>\n",
       "    </tr>\n",
       "    <tr>\n",
       "      <th>11881</th>\n",
       "      <td>11881</td>\n",
       "      <td>전자교반 3라인 2호기</td>\n",
       "      <td>TM Carrier RH</td>\n",
       "      <td>TM Carrier RH-Semi-Solid DIE-06</td>\n",
       "      <td>2019-01-19</td>\n",
       "      <td>0:52:21</td>\n",
       "      <td>134</td>\n",
       "      <td>가동</td>\n",
       "      <td>ON</td>\n",
       "      <td>710.000000</td>\n",
       "      <td>...</td>\n",
       "      <td>1449.0</td>\n",
       "      <td>477.0</td>\n",
       "      <td>691.0</td>\n",
       "      <td>32.0</td>\n",
       "      <td>23</td>\n",
       "      <td>2019-01-19 0:52</td>\n",
       "      <td>0.0</td>\n",
       "      <td>NaN</td>\n",
       "      <td>8573</td>\n",
       "      <td>B</td>\n",
       "    </tr>\n",
       "    <tr>\n",
       "      <th>11882</th>\n",
       "      <td>11882</td>\n",
       "      <td>전자교반 3라인 2호기</td>\n",
       "      <td>TM Carrier RH</td>\n",
       "      <td>TM Carrier RH-Semi-Solid DIE-06</td>\n",
       "      <td>2019-01-19</td>\n",
       "      <td>0:54:28</td>\n",
       "      <td>135</td>\n",
       "      <td>가동</td>\n",
       "      <td>ON</td>\n",
       "      <td>712.000000</td>\n",
       "      <td>...</td>\n",
       "      <td>1449.0</td>\n",
       "      <td>478.0</td>\n",
       "      <td>706.0</td>\n",
       "      <td>32.0</td>\n",
       "      <td>23</td>\n",
       "      <td>2019-01-19 0:54</td>\n",
       "      <td>0.0</td>\n",
       "      <td>NaN</td>\n",
       "      <td>8573</td>\n",
       "      <td>B</td>\n",
       "    </tr>\n",
       "    <tr>\n",
       "      <th>11883</th>\n",
       "      <td>11883</td>\n",
       "      <td>전자교반 3라인 2호기</td>\n",
       "      <td>TM Carrier RH</td>\n",
       "      <td>TM Carrier RH-Semi-Solid DIE-06</td>\n",
       "      <td>2019-01-19</td>\n",
       "      <td>0:56:33</td>\n",
       "      <td>136</td>\n",
       "      <td>가동</td>\n",
       "      <td>ON</td>\n",
       "      <td>713.000000</td>\n",
       "      <td>...</td>\n",
       "      <td>1449.0</td>\n",
       "      <td>476.0</td>\n",
       "      <td>698.0</td>\n",
       "      <td>33.0</td>\n",
       "      <td>23</td>\n",
       "      <td>2019-01-19 0:56</td>\n",
       "      <td>0.0</td>\n",
       "      <td>NaN</td>\n",
       "      <td>8573</td>\n",
       "      <td>B</td>\n",
       "    </tr>\n",
       "    <tr>\n",
       "      <th>11884</th>\n",
       "      <td>11884</td>\n",
       "      <td>전자교반 3라인 2호기</td>\n",
       "      <td>TM Carrier RH</td>\n",
       "      <td>TM Carrier RH-Semi-Solid DIE-06</td>\n",
       "      <td>2019-01-19</td>\n",
       "      <td>0:58:27</td>\n",
       "      <td>137</td>\n",
       "      <td>가동</td>\n",
       "      <td>ON</td>\n",
       "      <td>714.000000</td>\n",
       "      <td>...</td>\n",
       "      <td>1449.0</td>\n",
       "      <td>476.0</td>\n",
       "      <td>710.0</td>\n",
       "      <td>33.0</td>\n",
       "      <td>23</td>\n",
       "      <td>2019-01-19 0:58</td>\n",
       "      <td>0.0</td>\n",
       "      <td>NaN</td>\n",
       "      <td>8573</td>\n",
       "      <td>B</td>\n",
       "    </tr>\n",
       "    <tr>\n",
       "      <th>11885</th>\n",
       "      <td>11885</td>\n",
       "      <td>전자교반 3라인 2호기</td>\n",
       "      <td>TM Carrier RH</td>\n",
       "      <td>TM Carrier RH-Semi-Solid DIE-06</td>\n",
       "      <td>2019-01-19</td>\n",
       "      <td>1:00:34</td>\n",
       "      <td>138</td>\n",
       "      <td>가동</td>\n",
       "      <td>ON</td>\n",
       "      <td>714.000000</td>\n",
       "      <td>...</td>\n",
       "      <td>1449.0</td>\n",
       "      <td>475.0</td>\n",
       "      <td>703.0</td>\n",
       "      <td>33.0</td>\n",
       "      <td>23</td>\n",
       "      <td>2019-01-19 1:00</td>\n",
       "      <td>0.0</td>\n",
       "      <td>NaN</td>\n",
       "      <td>8573</td>\n",
       "      <td>B</td>\n",
       "    </tr>\n",
       "    <tr>\n",
       "      <th>11886</th>\n",
       "      <td>11886</td>\n",
       "      <td>전자교반 3라인 2호기</td>\n",
       "      <td>TM Carrier RH</td>\n",
       "      <td>TM Carrier RH-Semi-Solid DIE-06</td>\n",
       "      <td>2019-01-19</td>\n",
       "      <td>1:02:37</td>\n",
       "      <td>139</td>\n",
       "      <td>가동</td>\n",
       "      <td>ON</td>\n",
       "      <td>714.000000</td>\n",
       "      <td>...</td>\n",
       "      <td>1449.0</td>\n",
       "      <td>476.0</td>\n",
       "      <td>707.0</td>\n",
       "      <td>33.0</td>\n",
       "      <td>23</td>\n",
       "      <td>2019-01-19 1:02</td>\n",
       "      <td>0.0</td>\n",
       "      <td>NaN</td>\n",
       "      <td>8573</td>\n",
       "      <td>B</td>\n",
       "    </tr>\n",
       "    <tr>\n",
       "      <th>11887</th>\n",
       "      <td>11887</td>\n",
       "      <td>전자교반 3라인 2호기</td>\n",
       "      <td>TM Carrier RH</td>\n",
       "      <td>TM Carrier RH-Semi-Solid DIE-06</td>\n",
       "      <td>2019-01-19</td>\n",
       "      <td>1:04:38</td>\n",
       "      <td>140</td>\n",
       "      <td>가동</td>\n",
       "      <td>ON</td>\n",
       "      <td>714.000000</td>\n",
       "      <td>...</td>\n",
       "      <td>1449.0</td>\n",
       "      <td>475.0</td>\n",
       "      <td>709.0</td>\n",
       "      <td>33.0</td>\n",
       "      <td>23</td>\n",
       "      <td>2019-01-19 1:04</td>\n",
       "      <td>0.0</td>\n",
       "      <td>NaN</td>\n",
       "      <td>8573</td>\n",
       "      <td>B</td>\n",
       "    </tr>\n",
       "    <tr>\n",
       "      <th>11888</th>\n",
       "      <td>11888</td>\n",
       "      <td>전자교반 3라인 2호기</td>\n",
       "      <td>TM Carrier RH</td>\n",
       "      <td>TM Carrier RH-Semi-Solid DIE-06</td>\n",
       "      <td>2019-01-19</td>\n",
       "      <td>1:06:28</td>\n",
       "      <td>141</td>\n",
       "      <td>가동</td>\n",
       "      <td>ON</td>\n",
       "      <td>713.000000</td>\n",
       "      <td>...</td>\n",
       "      <td>1449.0</td>\n",
       "      <td>475.0</td>\n",
       "      <td>707.0</td>\n",
       "      <td>33.0</td>\n",
       "      <td>23</td>\n",
       "      <td>2019-01-19 1:06</td>\n",
       "      <td>0.0</td>\n",
       "      <td>NaN</td>\n",
       "      <td>8573</td>\n",
       "      <td>B</td>\n",
       "    </tr>\n",
       "    <tr>\n",
       "      <th>11889</th>\n",
       "      <td>11889</td>\n",
       "      <td>전자교반 3라인 2호기</td>\n",
       "      <td>TM Carrier RH</td>\n",
       "      <td>TM Carrier RH-Semi-Solid DIE-06</td>\n",
       "      <td>2019-01-19</td>\n",
       "      <td>1:08:37</td>\n",
       "      <td>142</td>\n",
       "      <td>가동</td>\n",
       "      <td>ON</td>\n",
       "      <td>712.000000</td>\n",
       "      <td>...</td>\n",
       "      <td>1449.0</td>\n",
       "      <td>477.0</td>\n",
       "      <td>712.0</td>\n",
       "      <td>33.0</td>\n",
       "      <td>23</td>\n",
       "      <td>2019-01-19 1:08</td>\n",
       "      <td>0.0</td>\n",
       "      <td>NaN</td>\n",
       "      <td>8573</td>\n",
       "      <td>B</td>\n",
       "    </tr>\n",
       "    <tr>\n",
       "      <th>11890</th>\n",
       "      <td>11890</td>\n",
       "      <td>전자교반 3라인 2호기</td>\n",
       "      <td>TM Carrier RH</td>\n",
       "      <td>TM Carrier RH-Semi-Solid DIE-06</td>\n",
       "      <td>2019-01-19</td>\n",
       "      <td>1:10:30</td>\n",
       "      <td>143</td>\n",
       "      <td>가동</td>\n",
       "      <td>ON</td>\n",
       "      <td>712.000000</td>\n",
       "      <td>...</td>\n",
       "      <td>1449.0</td>\n",
       "      <td>477.0</td>\n",
       "      <td>692.0</td>\n",
       "      <td>33.0</td>\n",
       "      <td>23</td>\n",
       "      <td>2019-01-19 1:10</td>\n",
       "      <td>0.0</td>\n",
       "      <td>NaN</td>\n",
       "      <td>8573</td>\n",
       "      <td>B</td>\n",
       "    </tr>\n",
       "    <tr>\n",
       "      <th>11891</th>\n",
       "      <td>11891</td>\n",
       "      <td>전자교반 3라인 2호기</td>\n",
       "      <td>TM Carrier RH</td>\n",
       "      <td>TM Carrier RH-Semi-Solid DIE-06</td>\n",
       "      <td>2019-01-19</td>\n",
       "      <td>1:12:34</td>\n",
       "      <td>144</td>\n",
       "      <td>가동</td>\n",
       "      <td>ON</td>\n",
       "      <td>711.000000</td>\n",
       "      <td>...</td>\n",
       "      <td>1449.0</td>\n",
       "      <td>475.0</td>\n",
       "      <td>707.0</td>\n",
       "      <td>33.0</td>\n",
       "      <td>23</td>\n",
       "      <td>2019-01-19 1:12</td>\n",
       "      <td>0.0</td>\n",
       "      <td>NaN</td>\n",
       "      <td>8573</td>\n",
       "      <td>B</td>\n",
       "    </tr>\n",
       "    <tr>\n",
       "      <th>11892</th>\n",
       "      <td>11892</td>\n",
       "      <td>전자교반 3라인 2호기</td>\n",
       "      <td>TM Carrier RH</td>\n",
       "      <td>TM Carrier RH-Semi-Solid DIE-06</td>\n",
       "      <td>2019-01-19</td>\n",
       "      <td>1:14:36</td>\n",
       "      <td>145</td>\n",
       "      <td>가동</td>\n",
       "      <td>ON</td>\n",
       "      <td>711.000000</td>\n",
       "      <td>...</td>\n",
       "      <td>1449.0</td>\n",
       "      <td>475.0</td>\n",
       "      <td>702.0</td>\n",
       "      <td>33.0</td>\n",
       "      <td>23</td>\n",
       "      <td>2019-01-19 1:14</td>\n",
       "      <td>0.0</td>\n",
       "      <td>NaN</td>\n",
       "      <td>8573</td>\n",
       "      <td>B</td>\n",
       "    </tr>\n",
       "    <tr>\n",
       "      <th>11893</th>\n",
       "      <td>11893</td>\n",
       "      <td>전자교반 3라인 2호기</td>\n",
       "      <td>TM Carrier RH</td>\n",
       "      <td>TM Carrier RH-Semi-Solid DIE-06</td>\n",
       "      <td>2019-01-19</td>\n",
       "      <td>1:17:40</td>\n",
       "      <td>146</td>\n",
       "      <td>가동</td>\n",
       "      <td>ON</td>\n",
       "      <td>709.000000</td>\n",
       "      <td>...</td>\n",
       "      <td>1449.0</td>\n",
       "      <td>466.0</td>\n",
       "      <td>707.0</td>\n",
       "      <td>34.0</td>\n",
       "      <td>23</td>\n",
       "      <td>2019-01-19 1:17</td>\n",
       "      <td>0.0</td>\n",
       "      <td>NaN</td>\n",
       "      <td>8573</td>\n",
       "      <td>B</td>\n",
       "    </tr>\n",
       "    <tr>\n",
       "      <th>11894</th>\n",
       "      <td>11894</td>\n",
       "      <td>전자교반 3라인 2호기</td>\n",
       "      <td>TM Carrier RH</td>\n",
       "      <td>TM Carrier RH-Semi-Solid DIE-06</td>\n",
       "      <td>2019-01-19</td>\n",
       "      <td>1:19:39</td>\n",
       "      <td>147</td>\n",
       "      <td>가동</td>\n",
       "      <td>ON</td>\n",
       "      <td>709.000000</td>\n",
       "      <td>...</td>\n",
       "      <td>1449.0</td>\n",
       "      <td>471.0</td>\n",
       "      <td>704.0</td>\n",
       "      <td>34.0</td>\n",
       "      <td>23</td>\n",
       "      <td>2019-01-19 1:19</td>\n",
       "      <td>0.0</td>\n",
       "      <td>NaN</td>\n",
       "      <td>8573</td>\n",
       "      <td>B</td>\n",
       "    </tr>\n",
       "    <tr>\n",
       "      <th>11895</th>\n",
       "      <td>11895</td>\n",
       "      <td>전자교반 3라인 2호기</td>\n",
       "      <td>TM Carrier RH</td>\n",
       "      <td>TM Carrier RH-Semi-Solid DIE-06</td>\n",
       "      <td>2019-01-19</td>\n",
       "      <td>1:20:45</td>\n",
       "      <td>10</td>\n",
       "      <td>가동</td>\n",
       "      <td>ON</td>\n",
       "      <td>708.629944</td>\n",
       "      <td>...</td>\n",
       "      <td>1449.0</td>\n",
       "      <td>478.0</td>\n",
       "      <td>687.0</td>\n",
       "      <td>35.0</td>\n",
       "      <td>23</td>\n",
       "      <td>2019-01-19 1:20</td>\n",
       "      <td>0.0</td>\n",
       "      <td>NaN</td>\n",
       "      <td>8412</td>\n",
       "      <td>NaN</td>\n",
       "    </tr>\n",
       "    <tr>\n",
       "      <th>11896</th>\n",
       "      <td>11896</td>\n",
       "      <td>전자교반 3라인 2호기</td>\n",
       "      <td>TM Carrier RH</td>\n",
       "      <td>TM Carrier RH-Semi-Solid DIE-06</td>\n",
       "      <td>2019-01-19</td>\n",
       "      <td>1:21:45</td>\n",
       "      <td>148</td>\n",
       "      <td>가동</td>\n",
       "      <td>ON</td>\n",
       "      <td>708.000000</td>\n",
       "      <td>...</td>\n",
       "      <td>1449.0</td>\n",
       "      <td>474.0</td>\n",
       "      <td>708.0</td>\n",
       "      <td>34.0</td>\n",
       "      <td>23</td>\n",
       "      <td>2019-01-19 1:21</td>\n",
       "      <td>0.0</td>\n",
       "      <td>NaN</td>\n",
       "      <td>8573</td>\n",
       "      <td>B</td>\n",
       "    </tr>\n",
       "    <tr>\n",
       "      <th>11897</th>\n",
       "      <td>11897</td>\n",
       "      <td>전자교반 3라인 2호기</td>\n",
       "      <td>TM Carrier RH</td>\n",
       "      <td>TM Carrier RH-Semi-Solid DIE-06</td>\n",
       "      <td>2019-01-19</td>\n",
       "      <td>1:22:35</td>\n",
       "      <td>11</td>\n",
       "      <td>가동</td>\n",
       "      <td>ON</td>\n",
       "      <td>708.189667</td>\n",
       "      <td>...</td>\n",
       "      <td>1449.0</td>\n",
       "      <td>497.0</td>\n",
       "      <td>696.0</td>\n",
       "      <td>35.0</td>\n",
       "      <td>23</td>\n",
       "      <td>2019-01-19 1:22</td>\n",
       "      <td>0.0</td>\n",
       "      <td>NaN</td>\n",
       "      <td>8412</td>\n",
       "      <td>NaN</td>\n",
       "    </tr>\n",
       "    <tr>\n",
       "      <th>11898</th>\n",
       "      <td>11898</td>\n",
       "      <td>전자교반 3라인 2호기</td>\n",
       "      <td>TM Carrier RH</td>\n",
       "      <td>TM Carrier RH-Semi-Solid DIE-06</td>\n",
       "      <td>2019-01-19</td>\n",
       "      <td>1:24:06</td>\n",
       "      <td>149</td>\n",
       "      <td>가동</td>\n",
       "      <td>ON</td>\n",
       "      <td>709.000000</td>\n",
       "      <td>...</td>\n",
       "      <td>1449.0</td>\n",
       "      <td>470.0</td>\n",
       "      <td>707.0</td>\n",
       "      <td>34.0</td>\n",
       "      <td>23</td>\n",
       "      <td>2019-01-19 1:24</td>\n",
       "      <td>0.0</td>\n",
       "      <td>NaN</td>\n",
       "      <td>8573</td>\n",
       "      <td>B</td>\n",
       "    </tr>\n",
       "  </tbody>\n",
       "</table>\n",
       "<p>29 rows × 32 columns</p>\n",
       "</div>"
      ],
      "text/plain": [
       "       Unnamed: 0          line           name  \\\n",
       "11870       11870  전자교반 3라인 2호기  TM Carrier RH   \n",
       "11871       11871  전자교반 3라인 2호기  TM Carrier RH   \n",
       "11872       11872  전자교반 3라인 2호기  TM Carrier RH   \n",
       "11873       11873  전자교반 3라인 2호기  TM Carrier RH   \n",
       "11874       11874  전자교반 3라인 2호기  TM Carrier RH   \n",
       "11875       11875  전자교반 3라인 2호기  TM Carrier RH   \n",
       "11876       11876  전자교반 3라인 2호기  TM Carrier RH   \n",
       "11877       11877  전자교반 3라인 2호기  TM Carrier RH   \n",
       "11878       11878  전자교반 3라인 2호기  TM Carrier RH   \n",
       "11879       11879  전자교반 3라인 2호기  TM Carrier RH   \n",
       "11880       11880  전자교반 3라인 2호기  TM Carrier RH   \n",
       "11881       11881  전자교반 3라인 2호기  TM Carrier RH   \n",
       "11882       11882  전자교반 3라인 2호기  TM Carrier RH   \n",
       "11883       11883  전자교반 3라인 2호기  TM Carrier RH   \n",
       "11884       11884  전자교반 3라인 2호기  TM Carrier RH   \n",
       "11885       11885  전자교반 3라인 2호기  TM Carrier RH   \n",
       "11886       11886  전자교반 3라인 2호기  TM Carrier RH   \n",
       "11887       11887  전자교반 3라인 2호기  TM Carrier RH   \n",
       "11888       11888  전자교반 3라인 2호기  TM Carrier RH   \n",
       "11889       11889  전자교반 3라인 2호기  TM Carrier RH   \n",
       "11890       11890  전자교반 3라인 2호기  TM Carrier RH   \n",
       "11891       11891  전자교반 3라인 2호기  TM Carrier RH   \n",
       "11892       11892  전자교반 3라인 2호기  TM Carrier RH   \n",
       "11893       11893  전자교반 3라인 2호기  TM Carrier RH   \n",
       "11894       11894  전자교반 3라인 2호기  TM Carrier RH   \n",
       "11895       11895  전자교반 3라인 2호기  TM Carrier RH   \n",
       "11896       11896  전자교반 3라인 2호기  TM Carrier RH   \n",
       "11897       11897  전자교반 3라인 2호기  TM Carrier RH   \n",
       "11898       11898  전자교반 3라인 2호기  TM Carrier RH   \n",
       "\n",
       "                             mold_name        time     date  count working  \\\n",
       "11870  TM Carrier RH-Semi-Solid DIE-06  2019-01-19  0:29:02      9      가동   \n",
       "11871  TM Carrier RH-Semi-Solid DIE-06  2019-01-19  0:31:39    124      가동   \n",
       "11872  TM Carrier RH-Semi-Solid DIE-06  2019-01-19  0:32:11    125      가동   \n",
       "11873  TM Carrier RH-Semi-Solid DIE-06  2019-01-19  0:34:12    126      가동   \n",
       "11874  TM Carrier RH-Semi-Solid DIE-06  2019-01-19  0:38:12    127      가동   \n",
       "11875  TM Carrier RH-Semi-Solid DIE-06  2019-01-19  0:40:19    128      가동   \n",
       "11876  TM Carrier RH-Semi-Solid DIE-06  2019-01-19  0:42:20    129      가동   \n",
       "11877  TM Carrier RH-Semi-Solid DIE-06  2019-01-19  0:44:28    130      가동   \n",
       "11878  TM Carrier RH-Semi-Solid DIE-06  2019-01-19  0:46:28    131      가동   \n",
       "11879  TM Carrier RH-Semi-Solid DIE-06  2019-01-19  0:48:26    132      가동   \n",
       "11880  TM Carrier RH-Semi-Solid DIE-06  2019-01-19  0:50:20    133      가동   \n",
       "11881  TM Carrier RH-Semi-Solid DIE-06  2019-01-19  0:52:21    134      가동   \n",
       "11882  TM Carrier RH-Semi-Solid DIE-06  2019-01-19  0:54:28    135      가동   \n",
       "11883  TM Carrier RH-Semi-Solid DIE-06  2019-01-19  0:56:33    136      가동   \n",
       "11884  TM Carrier RH-Semi-Solid DIE-06  2019-01-19  0:58:27    137      가동   \n",
       "11885  TM Carrier RH-Semi-Solid DIE-06  2019-01-19  1:00:34    138      가동   \n",
       "11886  TM Carrier RH-Semi-Solid DIE-06  2019-01-19  1:02:37    139      가동   \n",
       "11887  TM Carrier RH-Semi-Solid DIE-06  2019-01-19  1:04:38    140      가동   \n",
       "11888  TM Carrier RH-Semi-Solid DIE-06  2019-01-19  1:06:28    141      가동   \n",
       "11889  TM Carrier RH-Semi-Solid DIE-06  2019-01-19  1:08:37    142      가동   \n",
       "11890  TM Carrier RH-Semi-Solid DIE-06  2019-01-19  1:10:30    143      가동   \n",
       "11891  TM Carrier RH-Semi-Solid DIE-06  2019-01-19  1:12:34    144      가동   \n",
       "11892  TM Carrier RH-Semi-Solid DIE-06  2019-01-19  1:14:36    145      가동   \n",
       "11893  TM Carrier RH-Semi-Solid DIE-06  2019-01-19  1:17:40    146      가동   \n",
       "11894  TM Carrier RH-Semi-Solid DIE-06  2019-01-19  1:19:39    147      가동   \n",
       "11895  TM Carrier RH-Semi-Solid DIE-06  2019-01-19  1:20:45     10      가동   \n",
       "11896  TM Carrier RH-Semi-Solid DIE-06  2019-01-19  1:21:45    148      가동   \n",
       "11897  TM Carrier RH-Semi-Solid DIE-06  2019-01-19  1:22:35     11      가동   \n",
       "11898  TM Carrier RH-Semi-Solid DIE-06  2019-01-19  1:24:06    149      가동   \n",
       "\n",
       "      emergency_stop  molten_temp  ...  lower_mold_temp3  sleeve_temperature  \\\n",
       "11870             ON   709.000000  ...            1449.0               489.0   \n",
       "11871             ON   715.000000  ...            1449.0               472.0   \n",
       "11872             ON   715.000000  ...            1449.0               478.0   \n",
       "11873             ON   714.000000  ...            1449.0               479.0   \n",
       "11874             ON   713.000000  ...            1449.0               445.0   \n",
       "11875             ON   713.000000  ...            1449.0               461.0   \n",
       "11876             ON   712.000000  ...            1449.0               469.0   \n",
       "11877             ON   710.000000  ...            1449.0               474.0   \n",
       "11878             ON   709.000000  ...            1449.0               474.0   \n",
       "11879             ON   709.000000  ...            1449.0               476.0   \n",
       "11880             ON   709.000000  ...            1449.0               475.0   \n",
       "11881             ON   710.000000  ...            1449.0               477.0   \n",
       "11882             ON   712.000000  ...            1449.0               478.0   \n",
       "11883             ON   713.000000  ...            1449.0               476.0   \n",
       "11884             ON   714.000000  ...            1449.0               476.0   \n",
       "11885             ON   714.000000  ...            1449.0               475.0   \n",
       "11886             ON   714.000000  ...            1449.0               476.0   \n",
       "11887             ON   714.000000  ...            1449.0               475.0   \n",
       "11888             ON   713.000000  ...            1449.0               475.0   \n",
       "11889             ON   712.000000  ...            1449.0               477.0   \n",
       "11890             ON   712.000000  ...            1449.0               477.0   \n",
       "11891             ON   711.000000  ...            1449.0               475.0   \n",
       "11892             ON   711.000000  ...            1449.0               475.0   \n",
       "11893             ON   709.000000  ...            1449.0               466.0   \n",
       "11894             ON   709.000000  ...            1449.0               471.0   \n",
       "11895             ON   708.629944  ...            1449.0               478.0   \n",
       "11896             ON   708.000000  ...            1449.0               474.0   \n",
       "11897             ON   708.189667  ...            1449.0               497.0   \n",
       "11898             ON   709.000000  ...            1449.0               470.0   \n",
       "\n",
       "       physical_strength  Coolant_temperature  EMS_operation_time  \\\n",
       "11870              698.0               1449.0                  23   \n",
       "11871              709.0                 33.0                  23   \n",
       "11872              709.0                 33.0                  23   \n",
       "11873              712.0                 33.0                  23   \n",
       "11874              701.0                 33.0                  23   \n",
       "11875              712.0                 33.0                  23   \n",
       "11876              708.0                 34.0                  23   \n",
       "11877              713.0                 33.0                  23   \n",
       "11878              715.0                 34.0                  23   \n",
       "11879              704.0                 33.0                  23   \n",
       "11880              712.0                 32.0                  23   \n",
       "11881              691.0                 32.0                  23   \n",
       "11882              706.0                 32.0                  23   \n",
       "11883              698.0                 33.0                  23   \n",
       "11884              710.0                 33.0                  23   \n",
       "11885              703.0                 33.0                  23   \n",
       "11886              707.0                 33.0                  23   \n",
       "11887              709.0                 33.0                  23   \n",
       "11888              707.0                 33.0                  23   \n",
       "11889              712.0                 33.0                  23   \n",
       "11890              692.0                 33.0                  23   \n",
       "11891              707.0                 33.0                  23   \n",
       "11892              702.0                 33.0                  23   \n",
       "11893              707.0                 34.0                  23   \n",
       "11894              704.0                 34.0                  23   \n",
       "11895              687.0                 35.0                  23   \n",
       "11896              708.0                 34.0                  23   \n",
       "11897              696.0                 35.0                  23   \n",
       "11898              707.0                 34.0                  23   \n",
       "\n",
       "       registration_time  passorfail  tryshot_signal  mold_code  \\\n",
       "11870    2019-01-19 0:29         0.0             NaN       8412   \n",
       "11871    2019-01-19 0:31         0.0             NaN       8573   \n",
       "11872    2019-01-19 0:32         0.0             NaN       8573   \n",
       "11873    2019-01-19 0:34         0.0             NaN       8573   \n",
       "11874    2019-01-19 0:38         0.0             NaN       8573   \n",
       "11875    2019-01-19 0:40         0.0             NaN       8573   \n",
       "11876    2019-01-19 0:42         0.0             NaN       8573   \n",
       "11877    2019-01-19 0:44         0.0             NaN       8573   \n",
       "11878    2019-01-19 0:46         0.0             NaN       8573   \n",
       "11879    2019-01-19 0:48         0.0             NaN       8573   \n",
       "11880    2019-01-19 0:50         0.0             NaN       8573   \n",
       "11881    2019-01-19 0:52         0.0             NaN       8573   \n",
       "11882    2019-01-19 0:54         0.0             NaN       8573   \n",
       "11883    2019-01-19 0:56         0.0             NaN       8573   \n",
       "11884    2019-01-19 0:58         0.0             NaN       8573   \n",
       "11885    2019-01-19 1:00         0.0             NaN       8573   \n",
       "11886    2019-01-19 1:02         0.0             NaN       8573   \n",
       "11887    2019-01-19 1:04         0.0             NaN       8573   \n",
       "11888    2019-01-19 1:06         0.0             NaN       8573   \n",
       "11889    2019-01-19 1:08         0.0             NaN       8573   \n",
       "11890    2019-01-19 1:10         0.0             NaN       8573   \n",
       "11891    2019-01-19 1:12         0.0             NaN       8573   \n",
       "11892    2019-01-19 1:14         0.0             NaN       8573   \n",
       "11893    2019-01-19 1:17         0.0             NaN       8573   \n",
       "11894    2019-01-19 1:19         0.0             NaN       8573   \n",
       "11895    2019-01-19 1:20         0.0             NaN       8412   \n",
       "11896    2019-01-19 1:21         0.0             NaN       8573   \n",
       "11897    2019-01-19 1:22         0.0             NaN       8412   \n",
       "11898    2019-01-19 1:24         0.0             NaN       8573   \n",
       "\n",
       "       heating_furnace  \n",
       "11870              NaN  \n",
       "11871                B  \n",
       "11872                B  \n",
       "11873                B  \n",
       "11874                B  \n",
       "11875                B  \n",
       "11876                B  \n",
       "11877                B  \n",
       "11878                B  \n",
       "11879                B  \n",
       "11880                B  \n",
       "11881                B  \n",
       "11882                B  \n",
       "11883                B  \n",
       "11884                B  \n",
       "11885                B  \n",
       "11886                B  \n",
       "11887                B  \n",
       "11888                B  \n",
       "11889                B  \n",
       "11890                B  \n",
       "11891                B  \n",
       "11892                B  \n",
       "11893                B  \n",
       "11894                B  \n",
       "11895              NaN  \n",
       "11896                B  \n",
       "11897              NaN  \n",
       "11898                B  \n",
       "\n",
       "[29 rows x 32 columns]"
      ]
     },
     "execution_count": 118,
     "metadata": {},
     "output_type": "execute_result"
    }
   ],
   "source": [
    "train.iloc[11870:11899,:]"
   ]
  },
  {
   "cell_type": "code",
   "execution_count": null,
   "id": "fab4dac5-df5e-4e6b-a2c9-4f6432127fca",
   "metadata": {},
   "outputs": [],
   "source": []
  },
  {
   "cell_type": "code",
   "execution_count": null,
   "id": "50fb82c8-3c5c-47b6-8465-661cbb9959dd",
   "metadata": {},
   "outputs": [],
   "source": []
  },
  {
   "cell_type": "code",
   "execution_count": null,
   "id": "8a6aa497-fe2c-4cde-8996-82fe645474db",
   "metadata": {},
   "outputs": [],
   "source": []
  },
  {
   "cell_type": "code",
   "execution_count": null,
   "id": "7311e7fb-ffcf-42a4-a384-b6151a25285d",
   "metadata": {},
   "outputs": [],
   "source": []
  },
  {
   "cell_type": "markdown",
   "id": "6d1e5f0f-4d4b-4fc7-b039-699fcf2edee5",
   "metadata": {},
   "source": [
    "## mold_code(금형코드)\n",
    "- count가 7 미만이면 공정 조건이 비슷하지만\n",
    "- 7 초과이면 공정 조건이 금형 코드마다 다름\n",
    "---\n",
    "- 금형마다 불량률이 비슷함\n",
    "- 따라서, 불량의 원인은 금형이 아님\n",
    "---\n",
    "-  평균이 비슷한 거 : molten_temp(700초반), facility_operation_cycleTime(120초반), production_cycletime(120초반), low_section_speed(100초반), high_section_speed(100초반),  \n",
    "        cast_pressure(320초반), biscuit_thickness(40후반~50초반), upper_mold_temp1, 2, lower_mold_temp1, 2, 3, physical_strength(700언저리), Coolant_temperature(30초)\n",
    "- 평균이 다른 거 : upper_mold_temp3(8573금형 : 200도, 나머지 1400 이상), sleeve_temperature(100~500 다양함), EMS_operation_time(8576 : 3초)"
   ]
  },
  {
   "cell_type": "code",
   "execution_count": 119,
   "id": "d33f3ece-22c5-4886-9b76-bf4be663a3d7",
   "metadata": {},
   "outputs": [
    {
     "data": {
      "text/plain": [
       "Index(['Unnamed: 0', 'line', 'name', 'mold_name', 'time', 'date', 'count',\n",
       "       'working', 'emergency_stop', 'molten_temp',\n",
       "       'facility_operation_cycleTime', 'production_cycletime',\n",
       "       'low_section_speed', 'high_section_speed', 'molten_volume',\n",
       "       'cast_pressure', 'biscuit_thickness', 'upper_mold_temp1',\n",
       "       'upper_mold_temp2', 'upper_mold_temp3', 'lower_mold_temp1',\n",
       "       'lower_mold_temp2', 'lower_mold_temp3', 'sleeve_temperature',\n",
       "       'physical_strength', 'Coolant_temperature', 'EMS_operation_time',\n",
       "       'registration_time', 'passorfail', 'tryshot_signal', 'mold_code',\n",
       "       'heating_furnace'],\n",
       "      dtype='object')"
      ]
     },
     "execution_count": 119,
     "metadata": {},
     "output_type": "execute_result"
    }
   ],
   "source": [
    "train.columns"
   ]
  },
  {
   "cell_type": "code",
   "execution_count": 120,
   "id": "0922d12e-0531-4ca2-be04-b8101682dc4b",
   "metadata": {},
   "outputs": [
    {
     "name": "stdout",
     "output_type": "stream",
     "text": [
      "8722금형의 슬리브 온도 요약통계\n",
      "count    20048.000000\n",
      "mean       461.150888\n",
      "std         79.877798\n",
      "min         27.000000\n",
      "25%        450.000000\n",
      "50%        472.000000\n",
      "75%        489.000000\n",
      "max       1276.000000\n",
      "Name: sleeve_temperature, dtype: float64\n",
      "============================================================\n",
      "8412금형의 슬리브 온도 요약통계\n",
      "count    21471.000000\n",
      "mean       379.860789\n",
      "std        136.385145\n",
      "min         24.000000\n",
      "25%        201.000000\n",
      "50%        428.000000\n",
      "75%        492.000000\n",
      "max        583.000000\n",
      "Name: sleeve_temperature, dtype: float64\n",
      "============================================================\n",
      "8573금형의 슬리브 온도 요약통계\n",
      "count    9596.000000\n",
      "mean      495.017299\n",
      "std        56.285146\n",
      "min       131.000000\n",
      "25%       476.000000\n",
      "50%       479.000000\n",
      "75%       535.000000\n",
      "max       605.000000\n",
      "Name: sleeve_temperature, dtype: float64\n",
      "============================================================\n",
      "8917금형의 슬리브 온도 요약통계\n",
      "count    31110.000000\n",
      "mean       401.042044\n",
      "std        118.875637\n",
      "min         23.000000\n",
      "25%        361.000000\n",
      "50%        435.000000\n",
      "75%        479.000000\n",
      "max       1449.000000\n",
      "Name: sleeve_temperature, dtype: float64\n",
      "============================================================\n",
      "8600금형의 슬리브 온도 요약통계\n",
      "count    2960.000000\n",
      "mean      499.495946\n",
      "std        13.665140\n",
      "min       321.000000\n",
      "25%       497.000000\n",
      "50%       502.000000\n",
      "75%       506.000000\n",
      "max       520.000000\n",
      "Name: sleeve_temperature, dtype: float64\n",
      "============================================================\n",
      "8413금형의 슬리브 온도 요약통계\n",
      "count    6034.000000\n",
      "mean      381.739642\n",
      "std        30.452883\n",
      "min        27.000000\n",
      "25%       376.000000\n",
      "50%       390.500000\n",
      "75%       397.000000\n",
      "max       409.000000\n",
      "Name: sleeve_temperature, dtype: float64\n",
      "============================================================\n",
      "8576금형의 슬리브 온도 요약통계\n",
      "count    793.000000\n",
      "mean     135.838588\n",
      "std       86.957491\n",
      "min       33.000000\n",
      "25%       97.000000\n",
      "50%      103.000000\n",
      "75%      115.000000\n",
      "max      379.000000\n",
      "Name: sleeve_temperature, dtype: float64\n",
      "============================================================\n"
     ]
    }
   ],
   "source": [
    "for i in train['mold_code'].unique():\n",
    "    print(f'{i}금형의 슬리브 온도 요약통계')\n",
    "    print(train[train['mold_code'] == i]['sleeve_temperature'].describe())\n",
    "    print('='*60)"
   ]
  },
  {
   "cell_type": "code",
   "execution_count": 121,
   "id": "451348d7-5233-4496-885f-6b8cfaa9abc4",
   "metadata": {},
   "outputs": [
    {
     "name": "stdout",
     "output_type": "stream",
     "text": [
      "8722금형의 불량률 : 5.426975259377494\n",
      "8412금형의 불량률 : 3.465139024731032\n",
      "8573금형의 불량률 : 4.376823676531888\n",
      "8917금형의 불량률 : 4.326583092253295\n",
      "8600금형의 불량률 : 5.0675675675675675\n",
      "8413금형의 불량률 : 3.7454424925422605\n",
      "8576금형의 불량률 : 5.044136191677175\n"
     ]
    }
   ],
   "source": [
    "for i in train['mold_code'].unique():\n",
    "    print(f'{i}금형의 불량률 :', train[train['mold_code'] == i]['passorfail'].value_counts().values[1] / sum(train[train['mold_code'] == i]['passorfail'].value_counts().values)*100)\n",
    "\n",
    "# 금형마다 불량률이 비슷함\n",
    "# 따라서, 불량의 원인은 금형이 아님"
   ]
  },
  {
   "cell_type": "code",
   "execution_count": 122,
   "id": "451da6b7-687b-40e1-bda5-ff087939355a",
   "metadata": {},
   "outputs": [
    {
     "name": "stdout",
     "output_type": "stream",
     "text": [
      "8722금형 갯수 : 20048\n",
      "8412금형 갯수 : 21471\n",
      "8573금형 갯수 : 9596\n",
      "8917금형 갯수 : 31110\n",
      "8600금형 갯수 : 2960\n",
      "8413금형 갯수 : 6034\n",
      "8576금형 갯수 : 793\n"
     ]
    }
   ],
   "source": [
    "for i in train['mold_code'].unique():\n",
    "    print(f'{i}금형 갯수 :', sum(train[train['mold_code'] == i]['passorfail'].value_counts()))"
   ]
  },
  {
   "cell_type": "code",
   "execution_count": 123,
   "id": "028b4d26-1aff-48b9-a2af-ea3bbf66b00e",
   "metadata": {},
   "outputs": [
    {
     "name": "stdout",
     "output_type": "stream",
     "text": [
      "<class 'pandas.core.frame.DataFrame'>\n",
      "Index: 92012 entries, 0 to 92014\n",
      "Data columns (total 32 columns):\n",
      " #   Column                        Non-Null Count  Dtype  \n",
      "---  ------                        --------------  -----  \n",
      " 0   Unnamed: 0                    92012 non-null  int64  \n",
      " 1   line                          92012 non-null  object \n",
      " 2   name                          92012 non-null  object \n",
      " 3   mold_name                     92012 non-null  object \n",
      " 4   time                          92012 non-null  object \n",
      " 5   date                          92012 non-null  object \n",
      " 6   count                         92012 non-null  int64  \n",
      " 7   working                       92012 non-null  object \n",
      " 8   emergency_stop                92012 non-null  object \n",
      " 9   molten_temp                   92012 non-null  float64\n",
      " 10  facility_operation_cycleTime  92012 non-null  int64  \n",
      " 11  production_cycletime          92012 non-null  float64\n",
      " 12  low_section_speed             92012 non-null  float64\n",
      " 13  high_section_speed            92012 non-null  float64\n",
      " 14  molten_volume                 46883 non-null  float64\n",
      " 15  cast_pressure                 92012 non-null  float64\n",
      " 16  biscuit_thickness             92012 non-null  float64\n",
      " 17  upper_mold_temp1              92012 non-null  float64\n",
      " 18  upper_mold_temp2              92012 non-null  float64\n",
      " 19  upper_mold_temp3              92012 non-null  float64\n",
      " 20  lower_mold_temp1              92012 non-null  float64\n",
      " 21  lower_mold_temp2              92012 non-null  float64\n",
      " 22  lower_mold_temp3              92012 non-null  float64\n",
      " 23  sleeve_temperature            92012 non-null  float64\n",
      " 24  physical_strength             92012 non-null  float64\n",
      " 25  Coolant_temperature           92012 non-null  float64\n",
      " 26  EMS_operation_time            92012 non-null  int64  \n",
      " 27  registration_time             92012 non-null  object \n",
      " 28  passorfail                    92012 non-null  float64\n",
      " 29  tryshot_signal                1919 non-null   object \n",
      " 30  mold_code                     92012 non-null  int64  \n",
      " 31  heating_furnace               42868 non-null  object \n",
      "dtypes: float64(17), int64(5), object(10)\n",
      "memory usage: 25.2+ MB\n"
     ]
    }
   ],
   "source": [
    "train.info()"
   ]
  },
  {
   "cell_type": "code",
   "execution_count": null,
   "id": "113f1d95-48ce-48ef-b714-24e2da0d14bb",
   "metadata": {},
   "outputs": [],
   "source": []
  },
  {
   "cell_type": "code",
   "execution_count": null,
   "id": "8f708f17-83ba-415e-86f4-1302d428d132",
   "metadata": {},
   "outputs": [],
   "source": []
  },
  {
   "cell_type": "code",
   "execution_count": null,
   "id": "2d6bc749-7523-4bf9-ae0e-0ee3df75c34f",
   "metadata": {},
   "outputs": [],
   "source": []
  },
  {
   "cell_type": "markdown",
   "id": "648f2e1d-87bc-4d1f-8ff4-4550fd1be8aa",
   "metadata": {},
   "source": [
    "# 열 삭제"
   ]
  },
  {
   "cell_type": "code",
   "execution_count": 124,
   "id": "919bac53-7f61-4e0a-918e-fa622e0aefd6",
   "metadata": {},
   "outputs": [],
   "source": [
    "\n",
    "remove_col = ['Unnamed: 0', 'line', 'name', 'mold_name', 'time', 'date', 'emergency_stop',\n",
    "              'molten_volume', 'tryshot_signal', 'heating_furnace', 'registration_time']\n",
    "train.drop(remove_col, axis=1 , inplace=True)"
   ]
  },
  {
   "cell_type": "code",
   "execution_count": null,
   "id": "9dab29bb",
   "metadata": {},
   "outputs": [],
   "source": []
  },
  {
   "cell_type": "markdown",
   "id": "34485368",
   "metadata": {},
   "source": [
    "# 범주화"
   ]
  },
  {
   "cell_type": "code",
   "execution_count": 125,
   "id": "2aa3b4ac",
   "metadata": {},
   "outputs": [],
   "source": [
    "train_notcat = train.copy()\n",
    "train_cat = train.copy()"
   ]
  },
  {
   "cell_type": "markdown",
   "id": "243a18c1",
   "metadata": {},
   "source": [
    "## 범주화 안 한거"
   ]
  },
  {
   "cell_type": "code",
   "execution_count": 126,
   "id": "2c011f00",
   "metadata": {},
   "outputs": [],
   "source": [
    "from sklearn.preprocessing import LabelEncoder\n",
    "le = LabelEncoder()\n",
    "train_notcat['working'] = le.fit_transform(train_notcat['working'])"
   ]
  },
  {
   "cell_type": "markdown",
   "id": "a69d9d53",
   "metadata": {},
   "source": [
    "## 범주화 한거"
   ]
  },
  {
   "cell_type": "code",
   "execution_count": 127,
   "id": "b78c4288",
   "metadata": {},
   "outputs": [],
   "source": [
    "from sklearn.preprocessing import LabelEncoder\n",
    "le = LabelEncoder()\n",
    "train_cat['working'] = le.fit_transform(train_cat['working'])"
   ]
  },
  {
   "cell_type": "code",
   "execution_count": 128,
   "id": "79b56263",
   "metadata": {},
   "outputs": [],
   "source": [
    "cat_cols = ['facility_operation_cycleTime', 'production_cycletime', 'high_section_speed',\n",
    "           'cast_pressure', 'biscuit_thickness', 'upper_mold_temp1', 'lower_mold_temp1',]\n",
    "\n",
    "threshold = [109.5, 113, 90, 300, 62,  80, 80]\n",
    "\n",
    "def categorize_col(df, cat_cols, threshold):\n",
    "    for i in range(len(cat_cols)):\n",
    "        df[cat_cols[i]] = np.where(df[cat_cols[i]] < threshold[i], 0, 1)\n",
    "        \n",
    "    df['low_section_speed'] = np.where(df['low_section_speed']<10, 0, \n",
    "                                      np.where(df['low_section_speed']<100, 1,\n",
    "                                              np.where(df['low_section_speed']<150, 2, 3)))\n",
    "    df['upper_mold_temp2'] = np.where(df['upper_mold_temp2']<80, 0,\n",
    "                                     np.where(df['upper_mold_temp2']<239, 1, 2))\n",
    "    df['lower_mold_temp2'] = np.where(df['lower_mold_temp2']<86.5, 0,\n",
    "                                     np.where(df['lower_mold_temp2']<314.5, 1, 2))\n",
    "    \n",
    "                                       \n",
    "    return df\n",
    "train_cat = categorize_col(train_cat, cat_cols=cat_cols, threshold=threshold)"
   ]
  },
  {
   "cell_type": "code",
   "execution_count": 129,
   "id": "74a4ca37",
   "metadata": {},
   "outputs": [
    {
     "data": {
      "text/html": [
       "<div>\n",
       "<style scoped>\n",
       "    .dataframe tbody tr th:only-of-type {\n",
       "        vertical-align: middle;\n",
       "    }\n",
       "\n",
       "    .dataframe tbody tr th {\n",
       "        vertical-align: top;\n",
       "    }\n",
       "\n",
       "    .dataframe thead th {\n",
       "        text-align: right;\n",
       "    }\n",
       "</style>\n",
       "<table border=\"1\" class=\"dataframe\">\n",
       "  <thead>\n",
       "    <tr style=\"text-align: right;\">\n",
       "      <th></th>\n",
       "      <th>count</th>\n",
       "      <th>working</th>\n",
       "      <th>molten_temp</th>\n",
       "      <th>facility_operation_cycleTime</th>\n",
       "      <th>production_cycletime</th>\n",
       "      <th>low_section_speed</th>\n",
       "      <th>high_section_speed</th>\n",
       "      <th>cast_pressure</th>\n",
       "      <th>biscuit_thickness</th>\n",
       "      <th>upper_mold_temp1</th>\n",
       "      <th>...</th>\n",
       "      <th>upper_mold_temp3</th>\n",
       "      <th>lower_mold_temp1</th>\n",
       "      <th>lower_mold_temp2</th>\n",
       "      <th>lower_mold_temp3</th>\n",
       "      <th>sleeve_temperature</th>\n",
       "      <th>physical_strength</th>\n",
       "      <th>Coolant_temperature</th>\n",
       "      <th>EMS_operation_time</th>\n",
       "      <th>passorfail</th>\n",
       "      <th>mold_code</th>\n",
       "    </tr>\n",
       "  </thead>\n",
       "  <tbody>\n",
       "    <tr>\n",
       "      <th>0</th>\n",
       "      <td>258</td>\n",
       "      <td>0</td>\n",
       "      <td>731.0</td>\n",
       "      <td>1</td>\n",
       "      <td>1</td>\n",
       "      <td>2</td>\n",
       "      <td>1</td>\n",
       "      <td>1</td>\n",
       "      <td>0</td>\n",
       "      <td>1</td>\n",
       "      <td>...</td>\n",
       "      <td>1449.0</td>\n",
       "      <td>1</td>\n",
       "      <td>2</td>\n",
       "      <td>1449.0</td>\n",
       "      <td>550.0</td>\n",
       "      <td>700.0</td>\n",
       "      <td>34.0</td>\n",
       "      <td>23</td>\n",
       "      <td>0.0</td>\n",
       "      <td>8722</td>\n",
       "    </tr>\n",
       "    <tr>\n",
       "      <th>1</th>\n",
       "      <td>243</td>\n",
       "      <td>0</td>\n",
       "      <td>720.0</td>\n",
       "      <td>0</td>\n",
       "      <td>1</td>\n",
       "      <td>2</td>\n",
       "      <td>1</td>\n",
       "      <td>1</td>\n",
       "      <td>0</td>\n",
       "      <td>1</td>\n",
       "      <td>...</td>\n",
       "      <td>1449.0</td>\n",
       "      <td>1</td>\n",
       "      <td>1</td>\n",
       "      <td>1449.0</td>\n",
       "      <td>481.0</td>\n",
       "      <td>0.0</td>\n",
       "      <td>30.0</td>\n",
       "      <td>25</td>\n",
       "      <td>0.0</td>\n",
       "      <td>8412</td>\n",
       "    </tr>\n",
       "    <tr>\n",
       "      <th>2</th>\n",
       "      <td>244</td>\n",
       "      <td>0</td>\n",
       "      <td>721.0</td>\n",
       "      <td>0</td>\n",
       "      <td>1</td>\n",
       "      <td>2</td>\n",
       "      <td>1</td>\n",
       "      <td>1</td>\n",
       "      <td>0</td>\n",
       "      <td>1</td>\n",
       "      <td>...</td>\n",
       "      <td>1449.0</td>\n",
       "      <td>1</td>\n",
       "      <td>1</td>\n",
       "      <td>1449.0</td>\n",
       "      <td>481.0</td>\n",
       "      <td>0.0</td>\n",
       "      <td>30.0</td>\n",
       "      <td>25</td>\n",
       "      <td>0.0</td>\n",
       "      <td>8412</td>\n",
       "    </tr>\n",
       "    <tr>\n",
       "      <th>3</th>\n",
       "      <td>245</td>\n",
       "      <td>0</td>\n",
       "      <td>721.0</td>\n",
       "      <td>0</td>\n",
       "      <td>1</td>\n",
       "      <td>2</td>\n",
       "      <td>1</td>\n",
       "      <td>1</td>\n",
       "      <td>0</td>\n",
       "      <td>1</td>\n",
       "      <td>...</td>\n",
       "      <td>1449.0</td>\n",
       "      <td>1</td>\n",
       "      <td>1</td>\n",
       "      <td>1449.0</td>\n",
       "      <td>483.0</td>\n",
       "      <td>0.0</td>\n",
       "      <td>30.0</td>\n",
       "      <td>25</td>\n",
       "      <td>0.0</td>\n",
       "      <td>8412</td>\n",
       "    </tr>\n",
       "    <tr>\n",
       "      <th>4</th>\n",
       "      <td>246</td>\n",
       "      <td>0</td>\n",
       "      <td>721.0</td>\n",
       "      <td>0</td>\n",
       "      <td>1</td>\n",
       "      <td>2</td>\n",
       "      <td>1</td>\n",
       "      <td>1</td>\n",
       "      <td>0</td>\n",
       "      <td>1</td>\n",
       "      <td>...</td>\n",
       "      <td>1449.0</td>\n",
       "      <td>1</td>\n",
       "      <td>1</td>\n",
       "      <td>1449.0</td>\n",
       "      <td>486.0</td>\n",
       "      <td>0.0</td>\n",
       "      <td>30.0</td>\n",
       "      <td>25</td>\n",
       "      <td>0.0</td>\n",
       "      <td>8412</td>\n",
       "    </tr>\n",
       "  </tbody>\n",
       "</table>\n",
       "<p>5 rows × 21 columns</p>\n",
       "</div>"
      ],
      "text/plain": [
       "   count  working  molten_temp  facility_operation_cycleTime  \\\n",
       "0    258        0        731.0                             1   \n",
       "1    243        0        720.0                             0   \n",
       "2    244        0        721.0                             0   \n",
       "3    245        0        721.0                             0   \n",
       "4    246        0        721.0                             0   \n",
       "\n",
       "   production_cycletime  low_section_speed  high_section_speed  cast_pressure  \\\n",
       "0                     1                  2                   1              1   \n",
       "1                     1                  2                   1              1   \n",
       "2                     1                  2                   1              1   \n",
       "3                     1                  2                   1              1   \n",
       "4                     1                  2                   1              1   \n",
       "\n",
       "   biscuit_thickness  upper_mold_temp1  ...  upper_mold_temp3  \\\n",
       "0                  0                 1  ...            1449.0   \n",
       "1                  0                 1  ...            1449.0   \n",
       "2                  0                 1  ...            1449.0   \n",
       "3                  0                 1  ...            1449.0   \n",
       "4                  0                 1  ...            1449.0   \n",
       "\n",
       "   lower_mold_temp1  lower_mold_temp2  lower_mold_temp3  sleeve_temperature  \\\n",
       "0                 1                 2            1449.0               550.0   \n",
       "1                 1                 1            1449.0               481.0   \n",
       "2                 1                 1            1449.0               481.0   \n",
       "3                 1                 1            1449.0               483.0   \n",
       "4                 1                 1            1449.0               486.0   \n",
       "\n",
       "   physical_strength  Coolant_temperature  EMS_operation_time  passorfail  \\\n",
       "0              700.0                 34.0                  23         0.0   \n",
       "1                0.0                 30.0                  25         0.0   \n",
       "2                0.0                 30.0                  25         0.0   \n",
       "3                0.0                 30.0                  25         0.0   \n",
       "4                0.0                 30.0                  25         0.0   \n",
       "\n",
       "   mold_code  \n",
       "0       8722  \n",
       "1       8412  \n",
       "2       8412  \n",
       "3       8412  \n",
       "4       8412  \n",
       "\n",
       "[5 rows x 21 columns]"
      ]
     },
     "execution_count": 129,
     "metadata": {},
     "output_type": "execute_result"
    }
   ],
   "source": [
    "train_cat.head()"
   ]
  },
  {
   "cell_type": "markdown",
   "id": "3150b1eb-e8d7-4069-a6ba-9d3920295dc7",
   "metadata": {},
   "source": [
    "# 불균형 데이터 해결 (smote)"
   ]
  },
  {
   "cell_type": "code",
   "execution_count": 130,
   "id": "8fc86d73",
   "metadata": {},
   "outputs": [],
   "source": [
    "from imblearn.over_sampling import SMOTE\n",
    "\n",
    "X_notcat = train_notcat.drop('passorfail',axis=1)\n",
    "y_notcat = train_notcat['passorfail']\n",
    "\n",
    "sm = SMOTE(random_state=42)\n",
    "X_res_notcat, y_res_notcat = sm.fit_resample(X_notcat, y_notcat)"
   ]
  },
  {
   "cell_type": "code",
   "execution_count": 131,
   "id": "f3080095",
   "metadata": {},
   "outputs": [],
   "source": [
    "X_cat = train_cat.drop('passorfail',axis=1)\n",
    "y_cat = train_cat['passorfail']\n",
    "\n",
    "sm = SMOTE(random_state=42)\n",
    "X_res_cat, y_res_cat = sm.fit_resample(X_cat, y_cat)"
   ]
  },
  {
   "cell_type": "markdown",
   "id": "fda56071-cfea-42bc-ae07-86d2ad2d6fef",
   "metadata": {},
   "source": [
    "# 모델링\n",
    "- 금형 코드마다 하는 모델과 전체 데이터 모델"
   ]
  },
  {
   "cell_type": "code",
   "execution_count": 144,
   "id": "d071f2e0",
   "metadata": {},
   "outputs": [],
   "source": [
    "from sklearn.ensemble import RandomForestClassifier\n",
    "from sklearn.model_selection import train_test_split\n",
    "from sklearn.metrics import classification_report, accuracy_score, confusion_matrix, roc_auc_score, roc_curve, f1_score"
   ]
  },
  {
   "cell_type": "markdown",
   "id": "acb9107b",
   "metadata": {},
   "source": [
    "## 전체 데이터에 대해서\n",
    "- 범주화 안 한 것이 한 것보다 정확도가 더 높음"
   ]
  },
  {
   "cell_type": "markdown",
   "id": "5823c05b",
   "metadata": {},
   "source": [
    "### 범주화 안 한 거"
   ]
  },
  {
   "cell_type": "code",
   "execution_count": 133,
   "id": "41c834f7-be4c-4dac-86ce-c1c6c5e90e48",
   "metadata": {},
   "outputs": [
    {
     "name": "stdout",
     "output_type": "stream",
     "text": [
      "train 정확도 :  0.9581451177590272\n",
      "test 정확도 :  0.9570738636363636\n"
     ]
    }
   ],
   "source": [
    "x_train, x_val, y_train, y_val = train_test_split(X_res_notcat, y_res_notcat, random_state=42, \n",
    "                                                  test_size=0.2, stratify=y_res_notcat)\n",
    "\n",
    "rf = RandomForestClassifier(n_estimators=500, random_state=42, max_depth=7)\n",
    "rf.fit(x_train, y_train)\n",
    "\n",
    "pred_train = rf.predict(x_train)\n",
    "pred_val = rf.predict(x_val)\n",
    "\n",
    "print('train 정확도 : ',accuracy_score(y_train, pred_train))\n",
    "print('test 정확도 : ', accuracy_score(y_val, pred_val))"
   ]
  },
  {
   "cell_type": "code",
   "execution_count": 146,
   "id": "6235a097",
   "metadata": {},
   "outputs": [
    {
     "data": {
      "image/png": "[encoded data removed]",
      "text/plain": [
       "<Figure size 640x480 with 1 Axes>"
      ]
     },
     "metadata": {},
     "output_type": "display_data"
    }
   ],
   "source": [
    "y_val_score = rf.predict_proba(x_val)[:, 1]\n",
    "\n",
    "# ROC 커브 계산\n",
    "fpr, tpr, thresholds = roc_curve(y_val, y_val_score)\n",
    "auc = roc_auc_score(y_val, y_val_score)\n",
    "\n",
    "# ROC 커브 시각화\n",
    "plt.plot(fpr, tpr, label='ROC curve (AUC = {:0.2f})'.format(auc))\n",
    "plt.plot([0, 1], [0, 1], 'k--')  # 대각선 직선\n",
    "plt.xlim([0.0, 1.0])\n",
    "plt.ylim([0.0, 1.05])\n",
    "plt.xlabel('False Positive Rate')\n",
    "plt.ylabel('True Positive Rate')\n",
    "plt.title('Receiver Operating Characteristic')\n",
    "plt.legend(loc='lower right')\n",
    "plt.show()"
   ]
  },
  {
   "cell_type": "code",
   "execution_count": 143,
   "id": "e31d137b",
   "metadata": {},
   "outputs": [
    {
     "data": {
      "text/plain": [
       "Text(0.5, 1.0, 'Validation Confusion Matrix')"
      ]
     },
     "execution_count": 143,
     "metadata": {},
     "output_type": "execute_result"
    },
    {
     "data": {
      "image/png": "[encoded data removed]",
      "text/plain": [
       "<Figure size 1000x400 with 2 Axes>"
      ]
     },
     "metadata": {},
     "output_type": "display_data"
    }
   ],
   "source": [
    "# 혼동 행렬 계산\n",
    "train_cm = confusion_matrix(y_train, pred_train)\n",
    "val_cm = confusion_matrix(y_val, pred_val)\n",
    "\n",
    "# 서브플롯 생성\n",
    "fig, axes = plt.subplots(1, 2, figsize=(10, 4))\n",
    "\n",
    "# 훈련 세트 혼동 행렬 시각화\n",
    "sns.heatmap(train_cm, annot=True, fmt='2.0f', cmap='Blues', cbar=False, ax=axes[0])\n",
    "axes[0].set_xlabel('Predicted label')\n",
    "axes[0].set_ylabel('True label')\n",
    "axes[0].set_title('Train Confusion Matrix')\n",
    "\n",
    "# 검증 세트 혼동 행렬 시각화\n",
    "sns.heatmap(val_cm, annot=True, fmt='2.0f', cmap='Blues', cbar=False, ax=axes[1])\n",
    "axes[1].set_xlabel('Predicted label')\n",
    "axes[1].set_ylabel('True label')\n",
    "axes[1].set_title('Validation Confusion Matrix')"
   ]
  },
  {
   "cell_type": "markdown",
   "id": "d9ede390",
   "metadata": {},
   "source": [
    "### 범주화 한 거"
   ]
  },
  {
   "cell_type": "code",
   "execution_count": 150,
   "id": "08d2ddc6",
   "metadata": {},
   "outputs": [
    {
     "name": "stdout",
     "output_type": "stream",
     "text": [
      "train 정확도 :  0.9298521879591224\n",
      "test 정확도 :  0.9283509157370404\n"
     ]
    }
   ],
   "source": [
    "from sklearn.ensemble import RandomForestClassifier\n",
    "from sklearn.model_selection import train_test_split\n",
    "from sklearn.metrics import classification_report, accuracy_score, confusion_matrix\n",
    "\n",
    "x_train, x_val, y_train, y_val = train_test_split(X_res_cat, y_res_cat, random_state=42, \n",
    "                                                  test_size=0.3, stratify=y_res_cat)\n",
    "\n",
    "rf = RandomForestClassifier(n_estimators=500, random_state=42, max_depth=7)\n",
    "rf.fit(x_train, y_train)\n",
    "\n",
    "pred_train = rf.predict(x_train)\n",
    "pred_val = rf.predict(x_val)\n",
    "\n",
    "print('train 정확도 : ',accuracy_score(y_train, pred_train))\n",
    "print('test 정확도 : ', accuracy_score(y_val, pred_val))"
   ]
  },
  {
   "cell_type": "code",
   "execution_count": 151,
   "id": "d9b7fad7",
   "metadata": {},
   "outputs": [
    {
     "data": {
      "image/png": "[encoded data removed]",
      "text/plain": [
       "<Figure size 640x480 with 1 Axes>"
      ]
     },
     "metadata": {},
     "output_type": "display_data"
    }
   ],
   "source": [
    "y_val_score = rf.predict_proba(x_val)[:, 1]\n",
    "\n",
    "# ROC 커브 계산\n",
    "fpr, tpr, thresholds = roc_curve(y_val, y_val_score)\n",
    "auc = roc_auc_score(y_val, y_val_score)\n",
    "\n",
    "# ROC 커브 시각화\n",
    "plt.plot(fpr, tpr, label='ROC curve (AUC = {:0.2f})'.format(auc))\n",
    "plt.plot([0, 1], [0, 1], 'k--')  # 대각선 직선\n",
    "plt.xlim([0.0, 1.0])\n",
    "plt.ylim([0.0, 1.05])\n",
    "plt.xlabel('False Positive Rate')\n",
    "plt.ylabel('True Positive Rate')\n",
    "plt.title('Receiver Operating Characteristic')\n",
    "plt.legend(loc='lower right')\n",
    "plt.show()"
   ]
  },
  {
   "cell_type": "code",
   "execution_count": 152,
   "id": "0557cd53",
   "metadata": {},
   "outputs": [
    {
     "data": {
      "text/plain": [
       "Text(0.5, 1.0, 'Validation Confusion Matrix')"
      ]
     },
     "execution_count": 152,
     "metadata": {},
     "output_type": "execute_result"
    },
    {
     "data": {
      "image/png": "[encoded data removed]",
      "text/plain": [
       "<Figure size 1000x400 with 2 Axes>"
      ]
     },
     "metadata": {},
     "output_type": "display_data"
    }
   ],
   "source": [
    "# 혼동 행렬 계산\n",
    "train_cm = confusion_matrix(y_train, pred_train)\n",
    "val_cm = confusion_matrix(y_val, pred_val)\n",
    "\n",
    "# 서브플롯 생성\n",
    "fig, axes = plt.subplots(1, 2, figsize=(10, 4))\n",
    "\n",
    "# 훈련 세트 혼동 행렬 시각화\n",
    "sns.heatmap(train_cm, annot=True, fmt='2.0f', cmap='Blues', cbar=False, ax=axes[0])\n",
    "axes[0].set_xlabel('Predicted label')\n",
    "axes[0].set_ylabel('True label')\n",
    "axes[0].set_title('Train Confusion Matrix')\n",
    "\n",
    "# 검증 세트 혼동 행렬 시각화\n",
    "sns.heatmap(val_cm, annot=True, fmt='2.0f', cmap='Blues', cbar=False, ax=axes[1])\n",
    "axes[1].set_xlabel('Predicted label')\n",
    "axes[1].set_ylabel('True label')\n",
    "axes[1].set_title('Validation Confusion Matrix')"
   ]
  },
  {
   "cell_type": "code",
   "execution_count": null,
   "id": "82f65ce4",
   "metadata": {},
   "outputs": [],
   "source": [
    "# # 스케일링 안한 것\n",
    "# train 정확도 :  0.9201522764353028\n",
    "# test 정확도 :  0.9189757381768594\n",
    "    \n",
    "    \n",
    "# # 스케일링 한 것\n",
    "# train 정확도 :  0.9201522764353028\n",
    "# test 정확도 :  0.9189567984242126\n",
    "    \n",
    "# # 따라서, 트리기반 모델은 스케일링이 의미가 없음"
   ]
  },
  {
   "cell_type": "code",
   "execution_count": null,
   "id": "8308d087",
   "metadata": {},
   "outputs": [],
   "source": []
  },
  {
   "cell_type": "code",
   "execution_count": null,
   "id": "98c4f2b0",
   "metadata": {},
   "outputs": [],
   "source": []
  },
  {
   "cell_type": "code",
   "execution_count": null,
   "id": "754b3db5",
   "metadata": {},
   "outputs": [],
   "source": []
  },
  {
   "cell_type": "code",
   "execution_count": null,
   "id": "65f31736",
   "metadata": {},
   "outputs": [],
   "source": []
  },
  {
   "cell_type": "code",
   "execution_count": null,
   "id": "6b05cd8b",
   "metadata": {},
   "outputs": [],
   "source": []
  }
 ],
 "metadata": {
  "kernelspec": {
   "display_name": "Python 3 (ipykernel)",
   "language": "python",
   "name": "python3"
  },
  "language_info": {
   "codemirror_mode": {
    "name": "ipython",
    "version": 3
   },
   "file_extension": ".py",
   "mimetype": "text/x-python",
   "name": "python",
   "nbconvert_exporter": "python",
   "pygments_lexer": "ipython3",
   "version": "3.11.3"
  }
 },
 "nbformat": 4,
 "nbformat_minor": 5
}
